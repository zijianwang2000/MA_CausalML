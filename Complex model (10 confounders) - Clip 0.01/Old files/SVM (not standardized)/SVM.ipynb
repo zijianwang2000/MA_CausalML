{
 "cells": [
  {
   "cell_type": "code",
   "execution_count": 1,
   "id": "1cd9387f-c220-44d3-addb-cef628676048",
   "metadata": {},
   "outputs": [],
   "source": [
    "import numpy as np\n",
    "import pickle\n",
    "from sklearn.svm import SVR, SVC, LinearSVR, LinearSVC\n",
    "from sklearn.model_selection import GridSearchCV, train_test_split\n",
    "from sklearn.calibration import CalibratedClassifierCV\n",
    "from sklearn.preprocessing import StandardScaler\n",
    "from data_generation import get_data, g_0, m_0\n",
    "from dml_algorithm import dml_ate"
   ]
  },
  {
   "cell_type": "code",
   "execution_count": 16,
   "id": "d212cd61-4bd8-4769-b90b-991730506588",
   "metadata": {},
   "outputs": [],
   "source": [
    "with open('opt_params_svm.pkl', 'rb') as pickle_file:\n",
    "    svm_params_dict_dict = pickle.load(pickle_file)"
   ]
  },
  {
   "cell_type": "code",
   "execution_count": 17,
   "id": "b318bf0b-5a30-40af-96d2-16d3c88d4d41",
   "metadata": {},
   "outputs": [
    {
     "name": "stdout",
     "output_type": "stream",
     "text": [
      "g0 {'C': 100, 'epsilon': 1, 'kernel': 'linear'}\n",
      "g1 {'C': 3, 'epsilon': 0.3, 'kernel': 'linear'}\n",
      "m {'C': 10, 'kernel': 'linear'}\n",
      "g0 {'C': 30, 'epsilon': 0.1, 'kernel': 'rbf'}\n",
      "g1 {'C': 10, 'epsilon': 0.1, 'kernel': 'rbf'}\n",
      "m {'C': 100, 'kernel': 'linear'}\n",
      "g0 {'C': 10, 'epsilon': 0.1, 'kernel': 'rbf'}\n",
      "g1 {'C': 10, 'epsilon': 0.3, 'kernel': 'rbf'}\n",
      "m {'C': 0.3, 'kernel': 'linear'}\n",
      "g0 {'C': 10, 'epsilon': 0.1, 'kernel': 'rbf'}\n",
      "g1 {'C': 10, 'epsilon': 0.3, 'kernel': 'rbf'}\n",
      "m {'C': 1, 'kernel': 'linear'}\n",
      "g0 {'C': 10, 'epsilon': 0.3, 'kernel': 'rbf'}\n",
      "g1 {'C': 10, 'epsilon': 1, 'kernel': 'rbf'}\n",
      "m {'C': 0.3, 'kernel': 'rbf'}\n",
      "g0 {'C': 10, 'epsilon': 0.3, 'kernel': 'rbf'}\n",
      "g1 {'C': 10, 'epsilon': 0.3, 'kernel': 'rbf'}\n",
      "m {'C': 0.3, 'kernel': 'rbf'}\n",
      "g0 {'C': 10, 'epsilon': 0.3, 'kernel': 'rbf'}\n",
      "g1 {'C': 10, 'epsilon': 0.3, 'kernel': 'rbf'}\n",
      "m {'C': 0.3, 'kernel': 'rbf'}\n"
     ]
    }
   ],
   "source": [
    "for svm_params_dict in svm_params_dict_dict.values():\n",
    "    for name, params in svm_params_dict[0].items():\n",
    "        print(name, params)"
   ]
  },
  {
   "cell_type": "code",
   "execution_count": 2,
   "id": "c6ae2418-42d2-4d6b-bc3c-b2d649ef0f25",
   "metadata": {},
   "outputs": [],
   "source": [
    "rng = np.random.default_rng(seed=42)"
   ]
  },
  {
   "cell_type": "code",
   "execution_count": 39,
   "id": "8b1d26c2-9d4c-4c18-9130-aacb3fd36c05",
   "metadata": {},
   "outputs": [],
   "source": [
    "N = 250\n",
    "y_data, d_data, x_data = get_data(N, rng)\n",
    "scaler = StandardScaler()\n",
    "x_data_stand = scaler.fit_transform(x_data)\n",
    "y_train, y_test, d_train, d_test, x_train, x_test, x_stand_train, x_stand_test = train_test_split(y_data, d_data, x_data, x_data_stand, test_size=0.2, random_state=42)"
   ]
  },
  {
   "cell_type": "code",
   "execution_count": 4,
   "id": "ec8deba8-3f15-48f9-9e98-99053dd451e0",
   "metadata": {},
   "outputs": [],
   "source": [
    "svm_model_g = SVR(kernel='rbf', C=10, gamma=0.1, epsilon=0.3)\n",
    "svm_model_m = SVC(kernel='rbf', C=0.3, gamma=0.1, probability=True, random_state=42)\n",
    "model_g = SVR(C=5)\n",
    "model_m = CalibratedClassifierCV(estimator=LinearSVC(dual='auto', C=5))"
   ]
  },
  {
   "cell_type": "code",
   "execution_count": 12,
   "id": "ff674926-f6cc-4cdc-8d65-1876b715bdd8",
   "metadata": {},
   "outputs": [
    {
     "name": "stdout",
     "output_type": "stream",
     "text": [
      "[0.38456937 0.29668811 0.71552264 0.58918336 0.2747158  0.20923637\n",
      " 0.25377555 0.11184498 0.76773187 0.37096323 0.63940539 0.03259064\n",
      " 0.38925722 0.36313623 0.85867783 0.81157203 0.79418176 0.06324784\n",
      " 0.07803774 0.16877786]\n",
      "[0.48227487 0.16788704 0.620533   0.5        0.22759594 0.14922451\n",
      " 0.36659123 0.08847357 0.78503171 0.42193401 0.52085989 0.02789599\n",
      " 0.21407548 0.28668994 0.93631161 0.9015542  0.85700693 0.05276546\n",
      " 0.12375482 0.12635343]\n",
      "[0.47555146 0.16416537 0.65085444 0.52831439 0.24569667 0.13432872\n",
      " 0.30985467 0.06133524 0.80124488 0.39327475 0.5        0.02732711\n",
      " 0.24550819 0.23166104 0.94143587 0.90450627 0.8491508  0.03672477\n",
      " 0.10135619 0.11854056]\n",
      "[0.41432494 0.20125831 0.67247884 0.54437789 0.25330398 0.13504793\n",
      " 0.49047732 0.06063403 0.72030511 0.41878014 0.5894452  0.01221842\n",
      " 0.26911311 0.21678317 0.89742277 0.92414323 0.77226792 0.04850843\n",
      " 0.07460196 0.07069339]\n",
      "CPU times: total: 25.3 s\n",
      "Wall time: 25.7 s\n"
     ]
    }
   ],
   "source": [
    "%%time\n",
    "model_m.fit(x_train, d_train)\n",
    "print(model_m.predict_proba(x_test)[:20,1])\n",
    "svm_model_m.fit(x_train, d_train)\n",
    "print(svm_model_m.predict_proba(x_test)[:20,1])\n",
    "svm_model_m.fit(x_stand_train, d_train)\n",
    "print(svm_model_m.predict_proba(x_stand_test)[:20,1])\n",
    "print(m_0(x_test[:20]))"
   ]
  },
  {
   "cell_type": "code",
   "execution_count": 11,
   "id": "a79f1fb5-8bf7-4488-bf86-5377d30ffd13",
   "metadata": {},
   "outputs": [],
   "source": [
    "from sklearn.metrics import mean_squared_error"
   ]
  },
  {
   "cell_type": "code",
   "execution_count": 40,
   "id": "58556d4d-2e6c-42e7-b532-59deb1b41461",
   "metadata": {},
   "outputs": [
    {
     "name": "stdout",
     "output_type": "stream",
     "text": [
      "0.026702033623244567\n",
      "0.037738635375602556\n",
      "0.045538710681002785\n",
      "CPU times: total: 141 ms\n",
      "Wall time: 136 ms\n"
     ]
    }
   ],
   "source": [
    "%%time\n",
    "model_m.fit(x_train, d_train)\n",
    "print(mean_squared_error(model_m.predict_proba(x_test)[:,1], m_0(x_test)))\n",
    "svm_model_m.fit(x_train, d_train)\n",
    "print(mean_squared_error(svm_model_m.predict_proba(x_test)[:,1], m_0(x_test)))\n",
    "svm_model_m.fit(x_stand_train, d_train)\n",
    "print(mean_squared_error(svm_model_m.predict_proba(x_stand_test)[:,1], m_0(x_test)))"
   ]
  },
  {
   "cell_type": "code",
   "execution_count": 35,
   "id": "1a6fe150-a11b-4874-81e8-45a86f075519",
   "metadata": {},
   "outputs": [
    {
     "name": "stdout",
     "output_type": "stream",
     "text": [
      "1.0763928763707538\n",
      "0.845974705252724\n",
      "0.9726778061261214\n",
      "CPU times: total: 15.6 ms\n",
      "Wall time: 23.8 ms\n"
     ]
    }
   ],
   "source": [
    "%%time\n",
    "model_g.fit(x_train[d_train==0], y_train[d_train==0])\n",
    "print(mean_squared_error(model_g.predict(x_test), g_0(0, x_test)))\n",
    "svm_model_g.fit(x_train[d_train==0], y_train[d_train==0])\n",
    "print(mean_squared_error(svm_model_g.predict(x_test), g_0(0, x_test)))\n",
    "svm_model_g.fit(x_stand_train[d_train==0], y_train[d_train==0])\n",
    "print(mean_squared_error(svm_model_g.predict(x_stand_test), g_0(0, x_test)))"
   ]
  },
  {
   "cell_type": "code",
   "execution_count": 36,
   "id": "79f8b2ba-f472-4fdd-819a-b532757f8d32",
   "metadata": {},
   "outputs": [
    {
     "name": "stdout",
     "output_type": "stream",
     "text": [
      "2.091994726884207\n",
      "1.9550870294240825\n",
      "2.1874437665098676\n",
      "CPU times: total: 31.2 ms\n",
      "Wall time: 18 ms\n"
     ]
    }
   ],
   "source": [
    "%%time\n",
    "model_g.fit(x_train[d_train==1], y_train[d_train==1])\n",
    "print(mean_squared_error(model_g.predict(x_test), g_0(1, x_test)))\n",
    "svm_model_g.fit(x_train[d_train==1], y_train[d_train==1])\n",
    "print(mean_squared_error(svm_model_g.predict(x_test), g_0(1, x_test)))\n",
    "svm_model_g.fit(x_stand_train[d_train==1], y_train[d_train==1])\n",
    "print(mean_squared_error(svm_model_g.predict(x_stand_test), g_0(1, x_test)))"
   ]
  },
  {
   "cell_type": "code",
   "execution_count": null,
   "id": "476c03e6-a61c-4fc9-b1ed-c8a43c9b62a6",
   "metadata": {},
   "outputs": [],
   "source": []
  },
  {
   "cell_type": "code",
   "execution_count": null,
   "id": "3e698cc0-3927-4560-8483-3c63dcef5bb7",
   "metadata": {},
   "outputs": [],
   "source": []
  },
  {
   "cell_type": "code",
   "execution_count": null,
   "id": "4906b402-3292-4d89-b170-8303f9f50c15",
   "metadata": {},
   "outputs": [],
   "source": []
  },
  {
   "cell_type": "code",
   "execution_count": 5,
   "id": "4f4737b0-32bf-4f85-aa04-bdf71ace0470",
   "metadata": {},
   "outputs": [],
   "source": [
    "def svm_cv(y_data, d_data, x_data, cv=5):\n",
    "    model_g = SVR()\n",
    "    #model_m = CalibratedClassifierCV(estimator=LinearSVC(dual='auto', max_iter=5000, random_state=42))\n",
    "    model_m = SVC(probability=True, random_state=42)\n",
    "    \n",
    "    param_grid = {\n",
    "        'C': [0.1, 1, 10],\n",
    "        'kernel': ['linear', 'poly', 'rbf', 'sigmoid']\n",
    "    }\n",
    "\n",
    "    grid_search_g = GridSearchCV(estimator=model_g, param_grid=param_grid, cv=cv, n_jobs=-1,\n",
    "                                 scoring='neg_mean_squared_error')\n",
    "    grid_search_m = GridSearchCV(estimator=model_m, param_grid=param_grid, cv=cv, n_jobs=-1,\n",
    "                                 scoring='neg_brier_score')\n",
    "\n",
    "    svm_params_dict = {}\n",
    "    for d in [0, 1]:\n",
    "        grid_search_g.fit(X=x_data[d_data == d], y=y_data[d_data == d])\n",
    "        svm_params_dict[f'g{d}'] = grid_search_g.best_params_\n",
    "    grid_search_m.fit(X=x_data, y=d_data)\n",
    "    svm_params_dict['m'] = grid_search_m.best_params_\n",
    "\n",
    "    return svm_params_dict"
   ]
  },
  {
   "cell_type": "code",
   "execution_count": 12,
   "id": "69734b80-6aca-4f75-a9af-65ec4964bf54",
   "metadata": {},
   "outputs": [
    {
     "ename": "KeyboardInterrupt",
     "evalue": "",
     "output_type": "error",
     "traceback": [
      "\u001b[1;31m---------------------------------------------------------------------------\u001b[0m",
      "\u001b[1;31mKeyboardInterrupt\u001b[0m                         Traceback (most recent call last)",
      "File \u001b[1;32m<timed exec>:1\u001b[0m\n",
      "Cell \u001b[1;32mIn[10], line 20\u001b[0m, in \u001b[0;36msvm_cv\u001b[1;34m(y_data, d_data, x_data, cv)\u001b[0m\n\u001b[0;32m     18\u001b[0m     grid_search_g\u001b[38;5;241m.\u001b[39mfit(X\u001b[38;5;241m=\u001b[39mx_data[d_data \u001b[38;5;241m==\u001b[39m d], y\u001b[38;5;241m=\u001b[39my_data[d_data \u001b[38;5;241m==\u001b[39m d])\n\u001b[0;32m     19\u001b[0m     svm_params_dict[\u001b[38;5;124mf\u001b[39m\u001b[38;5;124m'\u001b[39m\u001b[38;5;124mg\u001b[39m\u001b[38;5;132;01m{\u001b[39;00md\u001b[38;5;132;01m}\u001b[39;00m\u001b[38;5;124m'\u001b[39m] \u001b[38;5;241m=\u001b[39m grid_search_g\u001b[38;5;241m.\u001b[39mbest_params_\n\u001b[1;32m---> 20\u001b[0m \u001b[43mgrid_search_m\u001b[49m\u001b[38;5;241;43m.\u001b[39;49m\u001b[43mfit\u001b[49m\u001b[43m(\u001b[49m\u001b[43mX\u001b[49m\u001b[38;5;241;43m=\u001b[39;49m\u001b[43mx_data\u001b[49m\u001b[43m,\u001b[49m\u001b[43m \u001b[49m\u001b[43my\u001b[49m\u001b[38;5;241;43m=\u001b[39;49m\u001b[43md_data\u001b[49m\u001b[43m)\u001b[49m\n\u001b[0;32m     21\u001b[0m svm_params_dict[\u001b[38;5;124m'\u001b[39m\u001b[38;5;124mm\u001b[39m\u001b[38;5;124m'\u001b[39m] \u001b[38;5;241m=\u001b[39m grid_search_m\u001b[38;5;241m.\u001b[39mbest_params_\n\u001b[0;32m     23\u001b[0m \u001b[38;5;28;01mreturn\u001b[39;00m svm_params_dict\n",
      "File \u001b[1;32m~\\MA_CausalML\\dml\\Lib\\site-packages\\sklearn\\base.py:1474\u001b[0m, in \u001b[0;36m_fit_context.<locals>.decorator.<locals>.wrapper\u001b[1;34m(estimator, *args, **kwargs)\u001b[0m\n\u001b[0;32m   1467\u001b[0m     estimator\u001b[38;5;241m.\u001b[39m_validate_params()\n\u001b[0;32m   1469\u001b[0m \u001b[38;5;28;01mwith\u001b[39;00m config_context(\n\u001b[0;32m   1470\u001b[0m     skip_parameter_validation\u001b[38;5;241m=\u001b[39m(\n\u001b[0;32m   1471\u001b[0m         prefer_skip_nested_validation \u001b[38;5;129;01mor\u001b[39;00m global_skip_validation\n\u001b[0;32m   1472\u001b[0m     )\n\u001b[0;32m   1473\u001b[0m ):\n\u001b[1;32m-> 1474\u001b[0m     \u001b[38;5;28;01mreturn\u001b[39;00m \u001b[43mfit_method\u001b[49m\u001b[43m(\u001b[49m\u001b[43mestimator\u001b[49m\u001b[43m,\u001b[49m\u001b[43m \u001b[49m\u001b[38;5;241;43m*\u001b[39;49m\u001b[43margs\u001b[49m\u001b[43m,\u001b[49m\u001b[43m \u001b[49m\u001b[38;5;241;43m*\u001b[39;49m\u001b[38;5;241;43m*\u001b[39;49m\u001b[43mkwargs\u001b[49m\u001b[43m)\u001b[49m\n",
      "File \u001b[1;32m~\\MA_CausalML\\dml\\Lib\\site-packages\\sklearn\\model_selection\\_search.py:970\u001b[0m, in \u001b[0;36mBaseSearchCV.fit\u001b[1;34m(self, X, y, **params)\u001b[0m\n\u001b[0;32m    964\u001b[0m     results \u001b[38;5;241m=\u001b[39m \u001b[38;5;28mself\u001b[39m\u001b[38;5;241m.\u001b[39m_format_results(\n\u001b[0;32m    965\u001b[0m         all_candidate_params, n_splits, all_out, all_more_results\n\u001b[0;32m    966\u001b[0m     )\n\u001b[0;32m    968\u001b[0m     \u001b[38;5;28;01mreturn\u001b[39;00m results\n\u001b[1;32m--> 970\u001b[0m \u001b[38;5;28;43mself\u001b[39;49m\u001b[38;5;241;43m.\u001b[39;49m\u001b[43m_run_search\u001b[49m\u001b[43m(\u001b[49m\u001b[43mevaluate_candidates\u001b[49m\u001b[43m)\u001b[49m\n\u001b[0;32m    972\u001b[0m \u001b[38;5;66;03m# multimetric is determined here because in the case of a callable\u001b[39;00m\n\u001b[0;32m    973\u001b[0m \u001b[38;5;66;03m# self.scoring the return type is only known after calling\u001b[39;00m\n\u001b[0;32m    974\u001b[0m first_test_score \u001b[38;5;241m=\u001b[39m all_out[\u001b[38;5;241m0\u001b[39m][\u001b[38;5;124m\"\u001b[39m\u001b[38;5;124mtest_scores\u001b[39m\u001b[38;5;124m\"\u001b[39m]\n",
      "File \u001b[1;32m~\\MA_CausalML\\dml\\Lib\\site-packages\\sklearn\\model_selection\\_search.py:1527\u001b[0m, in \u001b[0;36mGridSearchCV._run_search\u001b[1;34m(self, evaluate_candidates)\u001b[0m\n\u001b[0;32m   1525\u001b[0m \u001b[38;5;28;01mdef\u001b[39;00m \u001b[38;5;21m_run_search\u001b[39m(\u001b[38;5;28mself\u001b[39m, evaluate_candidates):\n\u001b[0;32m   1526\u001b[0m \u001b[38;5;250m    \u001b[39m\u001b[38;5;124;03m\"\"\"Search all candidates in param_grid\"\"\"\u001b[39;00m\n\u001b[1;32m-> 1527\u001b[0m     \u001b[43mevaluate_candidates\u001b[49m\u001b[43m(\u001b[49m\u001b[43mParameterGrid\u001b[49m\u001b[43m(\u001b[49m\u001b[38;5;28;43mself\u001b[39;49m\u001b[38;5;241;43m.\u001b[39;49m\u001b[43mparam_grid\u001b[49m\u001b[43m)\u001b[49m\u001b[43m)\u001b[49m\n",
      "File \u001b[1;32m~\\MA_CausalML\\dml\\Lib\\site-packages\\sklearn\\model_selection\\_search.py:916\u001b[0m, in \u001b[0;36mBaseSearchCV.fit.<locals>.evaluate_candidates\u001b[1;34m(candidate_params, cv, more_results)\u001b[0m\n\u001b[0;32m    908\u001b[0m \u001b[38;5;28;01mif\u001b[39;00m \u001b[38;5;28mself\u001b[39m\u001b[38;5;241m.\u001b[39mverbose \u001b[38;5;241m>\u001b[39m \u001b[38;5;241m0\u001b[39m:\n\u001b[0;32m    909\u001b[0m     \u001b[38;5;28mprint\u001b[39m(\n\u001b[0;32m    910\u001b[0m         \u001b[38;5;124m\"\u001b[39m\u001b[38;5;124mFitting \u001b[39m\u001b[38;5;132;01m{0}\u001b[39;00m\u001b[38;5;124m folds for each of \u001b[39m\u001b[38;5;132;01m{1}\u001b[39;00m\u001b[38;5;124m candidates,\u001b[39m\u001b[38;5;124m\"\u001b[39m\n\u001b[0;32m    911\u001b[0m         \u001b[38;5;124m\"\u001b[39m\u001b[38;5;124m totalling \u001b[39m\u001b[38;5;132;01m{2}\u001b[39;00m\u001b[38;5;124m fits\u001b[39m\u001b[38;5;124m\"\u001b[39m\u001b[38;5;241m.\u001b[39mformat(\n\u001b[0;32m    912\u001b[0m             n_splits, n_candidates, n_candidates \u001b[38;5;241m*\u001b[39m n_splits\n\u001b[0;32m    913\u001b[0m         )\n\u001b[0;32m    914\u001b[0m     )\n\u001b[1;32m--> 916\u001b[0m out \u001b[38;5;241m=\u001b[39m \u001b[43mparallel\u001b[49m\u001b[43m(\u001b[49m\n\u001b[0;32m    917\u001b[0m \u001b[43m    \u001b[49m\u001b[43mdelayed\u001b[49m\u001b[43m(\u001b[49m\u001b[43m_fit_and_score\u001b[49m\u001b[43m)\u001b[49m\u001b[43m(\u001b[49m\n\u001b[0;32m    918\u001b[0m \u001b[43m        \u001b[49m\u001b[43mclone\u001b[49m\u001b[43m(\u001b[49m\u001b[43mbase_estimator\u001b[49m\u001b[43m)\u001b[49m\u001b[43m,\u001b[49m\n\u001b[0;32m    919\u001b[0m \u001b[43m        \u001b[49m\u001b[43mX\u001b[49m\u001b[43m,\u001b[49m\n\u001b[0;32m    920\u001b[0m \u001b[43m        \u001b[49m\u001b[43my\u001b[49m\u001b[43m,\u001b[49m\n\u001b[0;32m    921\u001b[0m \u001b[43m        \u001b[49m\u001b[43mtrain\u001b[49m\u001b[38;5;241;43m=\u001b[39;49m\u001b[43mtrain\u001b[49m\u001b[43m,\u001b[49m\n\u001b[0;32m    922\u001b[0m \u001b[43m        \u001b[49m\u001b[43mtest\u001b[49m\u001b[38;5;241;43m=\u001b[39;49m\u001b[43mtest\u001b[49m\u001b[43m,\u001b[49m\n\u001b[0;32m    923\u001b[0m \u001b[43m        \u001b[49m\u001b[43mparameters\u001b[49m\u001b[38;5;241;43m=\u001b[39;49m\u001b[43mparameters\u001b[49m\u001b[43m,\u001b[49m\n\u001b[0;32m    924\u001b[0m \u001b[43m        \u001b[49m\u001b[43msplit_progress\u001b[49m\u001b[38;5;241;43m=\u001b[39;49m\u001b[43m(\u001b[49m\u001b[43msplit_idx\u001b[49m\u001b[43m,\u001b[49m\u001b[43m \u001b[49m\u001b[43mn_splits\u001b[49m\u001b[43m)\u001b[49m\u001b[43m,\u001b[49m\n\u001b[0;32m    925\u001b[0m \u001b[43m        \u001b[49m\u001b[43mcandidate_progress\u001b[49m\u001b[38;5;241;43m=\u001b[39;49m\u001b[43m(\u001b[49m\u001b[43mcand_idx\u001b[49m\u001b[43m,\u001b[49m\u001b[43m \u001b[49m\u001b[43mn_candidates\u001b[49m\u001b[43m)\u001b[49m\u001b[43m,\u001b[49m\n\u001b[0;32m    926\u001b[0m \u001b[43m        \u001b[49m\u001b[38;5;241;43m*\u001b[39;49m\u001b[38;5;241;43m*\u001b[39;49m\u001b[43mfit_and_score_kwargs\u001b[49m\u001b[43m,\u001b[49m\n\u001b[0;32m    927\u001b[0m \u001b[43m    \u001b[49m\u001b[43m)\u001b[49m\n\u001b[0;32m    928\u001b[0m \u001b[43m    \u001b[49m\u001b[38;5;28;43;01mfor\u001b[39;49;00m\u001b[43m \u001b[49m\u001b[43m(\u001b[49m\u001b[43mcand_idx\u001b[49m\u001b[43m,\u001b[49m\u001b[43m \u001b[49m\u001b[43mparameters\u001b[49m\u001b[43m)\u001b[49m\u001b[43m,\u001b[49m\u001b[43m \u001b[49m\u001b[43m(\u001b[49m\u001b[43msplit_idx\u001b[49m\u001b[43m,\u001b[49m\u001b[43m \u001b[49m\u001b[43m(\u001b[49m\u001b[43mtrain\u001b[49m\u001b[43m,\u001b[49m\u001b[43m \u001b[49m\u001b[43mtest\u001b[49m\u001b[43m)\u001b[49m\u001b[43m)\u001b[49m\u001b[43m \u001b[49m\u001b[38;5;129;43;01min\u001b[39;49;00m\u001b[43m \u001b[49m\u001b[43mproduct\u001b[49m\u001b[43m(\u001b[49m\n\u001b[0;32m    929\u001b[0m \u001b[43m        \u001b[49m\u001b[38;5;28;43menumerate\u001b[39;49m\u001b[43m(\u001b[49m\u001b[43mcandidate_params\u001b[49m\u001b[43m)\u001b[49m\u001b[43m,\u001b[49m\n\u001b[0;32m    930\u001b[0m \u001b[43m        \u001b[49m\u001b[38;5;28;43menumerate\u001b[39;49m\u001b[43m(\u001b[49m\u001b[43mcv\u001b[49m\u001b[38;5;241;43m.\u001b[39;49m\u001b[43msplit\u001b[49m\u001b[43m(\u001b[49m\u001b[43mX\u001b[49m\u001b[43m,\u001b[49m\u001b[43m \u001b[49m\u001b[43my\u001b[49m\u001b[43m,\u001b[49m\u001b[43m \u001b[49m\u001b[38;5;241;43m*\u001b[39;49m\u001b[38;5;241;43m*\u001b[39;49m\u001b[43mrouted_params\u001b[49m\u001b[38;5;241;43m.\u001b[39;49m\u001b[43msplitter\u001b[49m\u001b[38;5;241;43m.\u001b[39;49m\u001b[43msplit\u001b[49m\u001b[43m)\u001b[49m\u001b[43m)\u001b[49m\u001b[43m,\u001b[49m\n\u001b[0;32m    931\u001b[0m \u001b[43m    \u001b[49m\u001b[43m)\u001b[49m\n\u001b[0;32m    932\u001b[0m \u001b[43m\u001b[49m\u001b[43m)\u001b[49m\n\u001b[0;32m    934\u001b[0m \u001b[38;5;28;01mif\u001b[39;00m \u001b[38;5;28mlen\u001b[39m(out) \u001b[38;5;241m<\u001b[39m \u001b[38;5;241m1\u001b[39m:\n\u001b[0;32m    935\u001b[0m     \u001b[38;5;28;01mraise\u001b[39;00m \u001b[38;5;167;01mValueError\u001b[39;00m(\n\u001b[0;32m    936\u001b[0m         \u001b[38;5;124m\"\u001b[39m\u001b[38;5;124mNo fits were performed. \u001b[39m\u001b[38;5;124m\"\u001b[39m\n\u001b[0;32m    937\u001b[0m         \u001b[38;5;124m\"\u001b[39m\u001b[38;5;124mWas the CV iterator empty? \u001b[39m\u001b[38;5;124m\"\u001b[39m\n\u001b[0;32m    938\u001b[0m         \u001b[38;5;124m\"\u001b[39m\u001b[38;5;124mWere there no candidates?\u001b[39m\u001b[38;5;124m\"\u001b[39m\n\u001b[0;32m    939\u001b[0m     )\n",
      "File \u001b[1;32m~\\MA_CausalML\\dml\\Lib\\site-packages\\sklearn\\utils\\parallel.py:67\u001b[0m, in \u001b[0;36mParallel.__call__\u001b[1;34m(self, iterable)\u001b[0m\n\u001b[0;32m     62\u001b[0m config \u001b[38;5;241m=\u001b[39m get_config()\n\u001b[0;32m     63\u001b[0m iterable_with_config \u001b[38;5;241m=\u001b[39m (\n\u001b[0;32m     64\u001b[0m     (_with_config(delayed_func, config), args, kwargs)\n\u001b[0;32m     65\u001b[0m     \u001b[38;5;28;01mfor\u001b[39;00m delayed_func, args, kwargs \u001b[38;5;129;01min\u001b[39;00m iterable\n\u001b[0;32m     66\u001b[0m )\n\u001b[1;32m---> 67\u001b[0m \u001b[38;5;28;01mreturn\u001b[39;00m \u001b[38;5;28;43msuper\u001b[39;49m\u001b[43m(\u001b[49m\u001b[43m)\u001b[49m\u001b[38;5;241;43m.\u001b[39;49m\u001b[38;5;21;43m__call__\u001b[39;49m\u001b[43m(\u001b[49m\u001b[43miterable_with_config\u001b[49m\u001b[43m)\u001b[49m\n",
      "File \u001b[1;32m~\\MA_CausalML\\dml\\Lib\\site-packages\\joblib\\parallel.py:1952\u001b[0m, in \u001b[0;36mParallel.__call__\u001b[1;34m(self, iterable)\u001b[0m\n\u001b[0;32m   1946\u001b[0m \u001b[38;5;66;03m# The first item from the output is blank, but it makes the interpreter\u001b[39;00m\n\u001b[0;32m   1947\u001b[0m \u001b[38;5;66;03m# progress until it enters the Try/Except block of the generator and\u001b[39;00m\n\u001b[0;32m   1948\u001b[0m \u001b[38;5;66;03m# reach the first `yield` statement. This starts the aynchronous\u001b[39;00m\n\u001b[0;32m   1949\u001b[0m \u001b[38;5;66;03m# dispatch of the tasks to the workers.\u001b[39;00m\n\u001b[0;32m   1950\u001b[0m \u001b[38;5;28mnext\u001b[39m(output)\n\u001b[1;32m-> 1952\u001b[0m \u001b[38;5;28;01mreturn\u001b[39;00m output \u001b[38;5;28;01mif\u001b[39;00m \u001b[38;5;28mself\u001b[39m\u001b[38;5;241m.\u001b[39mreturn_generator \u001b[38;5;28;01melse\u001b[39;00m \u001b[38;5;28mlist\u001b[39m(output)\n",
      "File \u001b[1;32m~\\MA_CausalML\\dml\\Lib\\site-packages\\joblib\\parallel.py:1595\u001b[0m, in \u001b[0;36mParallel._get_outputs\u001b[1;34m(self, iterator, pre_dispatch)\u001b[0m\n\u001b[0;32m   1592\u001b[0m     \u001b[38;5;28;01myield\u001b[39;00m\n\u001b[0;32m   1594\u001b[0m     \u001b[38;5;28;01mwith\u001b[39;00m \u001b[38;5;28mself\u001b[39m\u001b[38;5;241m.\u001b[39m_backend\u001b[38;5;241m.\u001b[39mretrieval_context():\n\u001b[1;32m-> 1595\u001b[0m         \u001b[38;5;28;01myield from\u001b[39;00m \u001b[38;5;28mself\u001b[39m\u001b[38;5;241m.\u001b[39m_retrieve()\n\u001b[0;32m   1597\u001b[0m \u001b[38;5;28;01mexcept\u001b[39;00m \u001b[38;5;167;01mGeneratorExit\u001b[39;00m:\n\u001b[0;32m   1598\u001b[0m     \u001b[38;5;66;03m# The generator has been garbage collected before being fully\u001b[39;00m\n\u001b[0;32m   1599\u001b[0m     \u001b[38;5;66;03m# consumed. This aborts the remaining tasks if possible and warn\u001b[39;00m\n\u001b[0;32m   1600\u001b[0m     \u001b[38;5;66;03m# the user if necessary.\u001b[39;00m\n\u001b[0;32m   1601\u001b[0m     \u001b[38;5;28mself\u001b[39m\u001b[38;5;241m.\u001b[39m_exception \u001b[38;5;241m=\u001b[39m \u001b[38;5;28;01mTrue\u001b[39;00m\n",
      "File \u001b[1;32m~\\MA_CausalML\\dml\\Lib\\site-packages\\joblib\\parallel.py:1707\u001b[0m, in \u001b[0;36mParallel._retrieve\u001b[1;34m(self)\u001b[0m\n\u001b[0;32m   1702\u001b[0m \u001b[38;5;66;03m# If the next job is not ready for retrieval yet, we just wait for\u001b[39;00m\n\u001b[0;32m   1703\u001b[0m \u001b[38;5;66;03m# async callbacks to progress.\u001b[39;00m\n\u001b[0;32m   1704\u001b[0m \u001b[38;5;28;01mif\u001b[39;00m ((\u001b[38;5;28mlen\u001b[39m(\u001b[38;5;28mself\u001b[39m\u001b[38;5;241m.\u001b[39m_jobs) \u001b[38;5;241m==\u001b[39m \u001b[38;5;241m0\u001b[39m) \u001b[38;5;129;01mor\u001b[39;00m\n\u001b[0;32m   1705\u001b[0m     (\u001b[38;5;28mself\u001b[39m\u001b[38;5;241m.\u001b[39m_jobs[\u001b[38;5;241m0\u001b[39m]\u001b[38;5;241m.\u001b[39mget_status(\n\u001b[0;32m   1706\u001b[0m         timeout\u001b[38;5;241m=\u001b[39m\u001b[38;5;28mself\u001b[39m\u001b[38;5;241m.\u001b[39mtimeout) \u001b[38;5;241m==\u001b[39m TASK_PENDING)):\n\u001b[1;32m-> 1707\u001b[0m     time\u001b[38;5;241m.\u001b[39msleep(\u001b[38;5;241m0.01\u001b[39m)\n\u001b[0;32m   1708\u001b[0m     \u001b[38;5;28;01mcontinue\u001b[39;00m\n\u001b[0;32m   1710\u001b[0m \u001b[38;5;66;03m# We need to be careful: the job list can be filling up as\u001b[39;00m\n\u001b[0;32m   1711\u001b[0m \u001b[38;5;66;03m# we empty it and Python list are not thread-safe by\u001b[39;00m\n\u001b[0;32m   1712\u001b[0m \u001b[38;5;66;03m# default hence the use of the lock\u001b[39;00m\n",
      "\u001b[1;31mKeyboardInterrupt\u001b[0m: "
     ]
    }
   ],
   "source": [
    "%%time\n",
    "svm_params_dict = svm_cv(y_data, d_data, x_data)\n",
    "svm_params_dict"
   ]
  },
  {
   "cell_type": "code",
   "execution_count": null,
   "id": "e82b7a33-aebd-463d-a11d-3c747012e9d0",
   "metadata": {},
   "outputs": [],
   "source": []
  },
  {
   "cell_type": "code",
   "execution_count": null,
   "id": "a80c50b5-b003-49da-8698-7ec3ea13fc5e",
   "metadata": {},
   "outputs": [],
   "source": []
  },
  {
   "cell_type": "code",
   "execution_count": null,
   "id": "2a38b968-4ff5-4993-8af7-7e2169cd2700",
   "metadata": {},
   "outputs": [],
   "source": []
  },
  {
   "cell_type": "code",
   "execution_count": 28,
   "id": "dffd0366-48fa-49b2-9eb8-e0d6c8b960ae",
   "metadata": {},
   "outputs": [],
   "source": [
    "model_g0, model_g1 = LinearSVR(dual='auto'), LinearSVR(dual='auto')\n",
    "model_g0_nl, model_g1_nl = SVR(), SVR()\n",
    "model_m = CalibratedClassifierCV(estimator=LinearSVC(dual='auto')) #, n_jobs=-1\n",
    "model_m_nl = SVC(probability=True, random_state=42)"
   ]
  },
  {
   "cell_type": "code",
   "execution_count": null,
   "id": "16e17f36-4741-4d23-8207-02a8d26a40b4",
   "metadata": {},
   "outputs": [],
   "source": []
  },
  {
   "cell_type": "code",
   "execution_count": null,
   "id": "1ae45777-fa22-492c-aea6-c01b577bfeb9",
   "metadata": {},
   "outputs": [],
   "source": []
  },
  {
   "cell_type": "code",
   "execution_count": null,
   "id": "75440933-b93d-40c7-9ad5-d09c1f074a4f",
   "metadata": {},
   "outputs": [],
   "source": []
  },
  {
   "cell_type": "code",
   "execution_count": null,
   "id": "a90f16fa-4200-42f1-bbec-8566f89a5108",
   "metadata": {},
   "outputs": [],
   "source": []
  },
  {
   "cell_type": "code",
   "execution_count": null,
   "id": "9ad9d218-b471-4165-86f0-72645bff8e41",
   "metadata": {},
   "outputs": [],
   "source": []
  },
  {
   "cell_type": "code",
   "execution_count": 52,
   "id": "934f4f9a-67c1-45b3-8386-8e1d6ff2ee1f",
   "metadata": {},
   "outputs": [],
   "source": [
    "N = 250\n",
    "y_data, d_data, x_data = get_data(N, rng)\n",
    "y_train, y_test, d_train, d_test, x_train, x_test = train_test_split(y_data, d_data, x_data, test_size=0.2, random_state=42)\n",
    "model_m = CalibratedClassifierCV(estimator=LinearSVC(dual='auto', max_iter=2500))\n",
    "model_m_2 = CalibratedClassifierCV(estimator=LinearSVC(dual='auto', max_iter=2500), method='isotonic')"
   ]
  },
  {
   "cell_type": "code",
   "execution_count": 53,
   "id": "a631107e-aac6-4357-af94-1de8c6847108",
   "metadata": {},
   "outputs": [
    {
     "name": "stdout",
     "output_type": "stream",
     "text": [
      "[0.75782366 0.1081392  0.4380588  0.13226565 0.22477492 0.32252746\n",
      " 0.52142833 0.55220563 0.3364116  0.61823012 0.76432348 0.29846205\n",
      " 0.46542094 0.15033277 0.65025305 0.4393908  0.85164284 0.57002081\n",
      " 0.63447986 0.04004093]\n",
      "[0.93333333 0.         0.4512605  0.         0.09203475 0.30238095\n",
      " 0.4512605  0.4912605  0.33952381 0.67239993 0.93333333 0.27507003\n",
      " 0.4912605  0.05714286 0.72466527 0.4512605  0.96012949 0.54226408\n",
      " 0.62380952 0.        ]\n",
      "[0.8485524  0.09058125 0.30348166 0.02835181 0.13868599 0.39836533\n",
      " 0.46815584 0.49492956 0.23402002 0.82336364 0.70270092 0.35112246\n",
      " 0.48414538 0.03198229 0.78706381 0.32661086 0.83445733 0.65141855\n",
      " 0.6412689  0.00732812]\n",
      "CPU times: total: 109 ms\n",
      "Wall time: 115 ms\n"
     ]
    }
   ],
   "source": [
    "%%time\n",
    "model_m.fit(x_train, d_train)\n",
    "print(model_m.predict_proba(x_test)[:20,1])\n",
    "model_m_2.fit(x_train, d_train)\n",
    "print(model_m_2.predict_proba(x_test)[:20,1])\n",
    "print(m_0(x_test[:20]))"
   ]
  },
  {
   "cell_type": "code",
   "execution_count": null,
   "id": "bac72398-487d-4bec-9bc2-aa9bcd0d663d",
   "metadata": {},
   "outputs": [],
   "source": [
    "C, max_iter"
   ]
  },
  {
   "cell_type": "code",
   "execution_count": null,
   "id": "bdcbc626-62f6-4018-95e5-26ce6aaf00ec",
   "metadata": {},
   "outputs": [],
   "source": [
    "param_grid = {\n",
    "    'C': [0.1, 1, 10, 100]\n",
    "}"
   ]
  },
  {
   "cell_type": "code",
   "execution_count": 255,
   "id": "2ab65ea6-94c7-415f-8cd3-52fc12d6c1c0",
   "metadata": {},
   "outputs": [
    {
     "name": "stdout",
     "output_type": "stream",
     "text": [
      "CPU times: total: 3.02 s\n",
      "Wall time: 3 s\n"
     ]
    },
    {
     "data": {
      "text/plain": [
       "(array([0.51908536, 0.55552273, 0.45258778]),\n",
       " 5.451014995427961,\n",
       " array([0.43462256, 0.60354816]))"
      ]
     },
     "execution_count": 255,
     "metadata": {},
     "output_type": "execute_result"
    }
   ],
   "source": [
    "%%time\n",
    "N = 16000\n",
    "y_data, d_data, x_data = get_data(N, rng)\n",
    "model_g0, model_g1 = LinearSVR(C=5, dual='auto', max_iter=5000, random_state=42), LinearSVR(C=5, dual='auto', max_iter=5000, random_state=42)\n",
    "model_g = [model_g0, model_g1]\n",
    "model_m = CalibratedClassifierCV(estimator=LinearSVC(C=5, dual='auto', max_iter=5000, random_state=42)) #, n_jobs=-1\n",
    "dml_ate(y_data, d_data, x_data, model_g, model_m, K=5, classical=True, inference=True, alpha=0.05)"
   ]
  },
  {
   "cell_type": "code",
   "execution_count": 46,
   "id": "e12a5a18-2800-4a07-a994-a1ecddcf631d",
   "metadata": {},
   "outputs": [
    {
     "name": "stdout",
     "output_type": "stream",
     "text": [
      "CPU times: total: 984 ms\n",
      "Wall time: 986 ms\n"
     ]
    },
    {
     "data": {
      "text/plain": [
       "(array([0.5423967 , 0.64183653, 0.10269771]),\n",
       " 4.224612415082437,\n",
       " array([0.28055733, 0.80423608]))"
      ]
     },
     "execution_count": 46,
     "metadata": {},
     "output_type": "execute_result"
    }
   ],
   "source": [
    "%%time\n",
    "model_g0, model_g1 = LinearSVR(dual='auto', max_iter=2500, random_state=42), LinearSVR(dual='auto', max_iter=2500, random_state=42)\n",
    "model_g = [model_g0, model_g1]\n",
    "model_m = SVC(probability=True, random_state=42)\n",
    "dml_ate(y_data, d_data, x_data, model_g, model_m, K=5, classical=True, inference=True, alpha=0.05)"
   ]
  },
  {
   "cell_type": "code",
   "execution_count": null,
   "id": "728c6bee-0e30-4237-92cc-3b3ec94c429b",
   "metadata": {},
   "outputs": [],
   "source": []
  },
  {
   "cell_type": "code",
   "execution_count": null,
   "id": "d1886ad1-9209-4c83-b625-14d90f399580",
   "metadata": {},
   "outputs": [],
   "source": []
  },
  {
   "cell_type": "code",
   "execution_count": null,
   "id": "e6e59ebe-6fa5-403d-8201-e8b0dcaaaab5",
   "metadata": {},
   "outputs": [],
   "source": []
  },
  {
   "cell_type": "code",
   "execution_count": 198,
   "id": "fe1cdf8d-b771-44a3-83da-13b5beb5e510",
   "metadata": {},
   "outputs": [
    {
     "name": "stdout",
     "output_type": "stream",
     "text": [
      "{'g0': {'C': 10}, 'g1': {'C': 5}, 'm': {'C': 10}}\n",
      "{'g0': {'C': 5}, 'g1': {'C': 3}, 'm': {'C': 10}}\n"
     ]
    },
    {
     "name": "stderr",
     "output_type": "stream",
     "text": [
      "C:\\Users\\henry\\MA_CausalML\\dml\\Lib\\site-packages\\sklearn\\svm\\_base.py:1237: ConvergenceWarning: Liblinear failed to converge, increase the number of iterations.\n",
      "  warnings.warn(\n"
     ]
    },
    {
     "name": "stdout",
     "output_type": "stream",
     "text": [
      "{'g0': {'C': 10}, 'g1': {'C': 10}, 'm': {'C': 1}}\n"
     ]
    }
   ],
   "source": [
    "for N in [250, 500, 1000]:#, 2000, 4000, 8000, 16000]:\n",
    "    y_data, d_data, x_data = get_data(N, rng)\n",
    "    svm_params_dict = svm_cv(y_data, d_data, x_data)\n",
    "    print(svm_params_dict)"
   ]
  },
  {
   "cell_type": "code",
   "execution_count": null,
   "id": "8e284fdf-be10-4ef1-9469-7f6f73bc8891",
   "metadata": {},
   "outputs": [],
   "source": [
    "choose C=5!"
   ]
  }
 ],
 "metadata": {
  "kernelspec": {
   "display_name": "Python 3 (ipykernel)",
   "language": "python",
   "name": "python3"
  },
  "language_info": {
   "codemirror_mode": {
    "name": "ipython",
    "version": 3
   },
   "file_extension": ".py",
   "mimetype": "text/x-python",
   "name": "python",
   "nbconvert_exporter": "python",
   "pygments_lexer": "ipython3",
   "version": "3.11.5"
  }
 },
 "nbformat": 4,
 "nbformat_minor": 5
}
