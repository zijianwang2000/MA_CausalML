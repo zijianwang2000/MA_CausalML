{
 "cells": [
  {
   "cell_type": "code",
   "execution_count": 1,
   "id": "1cd9387f-c220-44d3-addb-cef628676048",
   "metadata": {},
   "outputs": [],
   "source": [
    "import numpy as np\n",
    "from sklearn.svm import SVR, SVC, LinearSVR, LinearSVC\n",
    "from sklearn.model_selection import GridSearchCV, train_test_split\n",
    "from sklearn.calibration import CalibratedClassifierCV\n",
    "from data_generation import get_data, g_0, m_0\n",
    "from dml_algorithm import dml_ate"
   ]
  },
  {
   "cell_type": "code",
   "execution_count": 2,
   "id": "c6ae2418-42d2-4d6b-bc3c-b2d649ef0f25",
   "metadata": {},
   "outputs": [],
   "source": [
    "rng = np.random.default_rng(seed=123)"
   ]
  },
  {
   "cell_type": "code",
   "execution_count": 3,
   "id": "8b1d26c2-9d4c-4c18-9130-aacb3fd36c05",
   "metadata": {},
   "outputs": [],
   "source": [
    "N = 250\n",
    "y_data, d_data, x_data = get_data(N, rng)\n",
    "y_train, y_test, d_train, d_test, x_train, x_test = train_test_split(y_data, d_data, x_data, test_size=0.2, random_state=42)"
   ]
  },
  {
   "cell_type": "code",
   "execution_count": 4,
   "id": "dffd0366-48fa-49b2-9eb8-e0d6c8b960ae",
   "metadata": {},
   "outputs": [],
   "source": [
    "model_g0, model_g1 = LinearSVR(dual='auto', max_iter=2500), LinearSVR(dual='auto', max_iter=2500)\n",
    "model_m = CalibratedClassifierCV(estimator=LinearSVC(dual='auto', max_iter=2500)) #, n_jobs=-1\n",
    "model_m_nonlinear = SVC(probability=True, random_state=42)"
   ]
  },
  {
   "cell_type": "code",
   "execution_count": 52,
   "id": "934f4f9a-67c1-45b3-8386-8e1d6ff2ee1f",
   "metadata": {},
   "outputs": [],
   "source": [
    "N = 250\n",
    "y_data, d_data, x_data = get_data(N, rng)\n",
    "y_train, y_test, d_train, d_test, x_train, x_test = train_test_split(y_data, d_data, x_data, test_size=0.2, random_state=42)\n",
    "model_m = CalibratedClassifierCV(estimator=LinearSVC(dual='auto', max_iter=2500))\n",
    "model_m_2 = CalibratedClassifierCV(estimator=LinearSVC(dual='auto', max_iter=2500), method='isotonic')"
   ]
  },
  {
   "cell_type": "code",
   "execution_count": 53,
   "id": "a631107e-aac6-4357-af94-1de8c6847108",
   "metadata": {},
   "outputs": [
    {
     "name": "stdout",
     "output_type": "stream",
     "text": [
      "[0.75782366 0.1081392  0.4380588  0.13226565 0.22477492 0.32252746\n",
      " 0.52142833 0.55220563 0.3364116  0.61823012 0.76432348 0.29846205\n",
      " 0.46542094 0.15033277 0.65025305 0.4393908  0.85164284 0.57002081\n",
      " 0.63447986 0.04004093]\n",
      "[0.93333333 0.         0.4512605  0.         0.09203475 0.30238095\n",
      " 0.4512605  0.4912605  0.33952381 0.67239993 0.93333333 0.27507003\n",
      " 0.4912605  0.05714286 0.72466527 0.4512605  0.96012949 0.54226408\n",
      " 0.62380952 0.        ]\n",
      "[0.8485524  0.09058125 0.30348166 0.02835181 0.13868599 0.39836533\n",
      " 0.46815584 0.49492956 0.23402002 0.82336364 0.70270092 0.35112246\n",
      " 0.48414538 0.03198229 0.78706381 0.32661086 0.83445733 0.65141855\n",
      " 0.6412689  0.00732812]\n",
      "CPU times: total: 109 ms\n",
      "Wall time: 115 ms\n"
     ]
    }
   ],
   "source": [
    "%%time\n",
    "model_m.fit(x_train, d_train)\n",
    "print(model_m.predict_proba(x_test)[:20,1])\n",
    "model_m_2.fit(x_train, d_train)\n",
    "print(model_m_2.predict_proba(x_test)[:20,1])\n",
    "print(m_0(x_test[:20]))"
   ]
  },
  {
   "cell_type": "code",
   "execution_count": null,
   "id": "4722b875-64a5-40e8-a84a-45afb3c891f0",
   "metadata": {},
   "outputs": [],
   "source": []
  },
  {
   "cell_type": "code",
   "execution_count": 5,
   "id": "2e9fb0a9-2010-4a04-95c5-a1dafaf9bcc9",
   "metadata": {},
   "outputs": [
    {
     "name": "stdout",
     "output_type": "stream",
     "text": [
      "[0.44371969 0.67003451 0.3927008  0.62105408 0.25309031 0.22098014\n",
      " 0.42097072 0.5480654  0.23256244 0.11458508 0.42682796 0.42137584\n",
      " 0.14298561 0.24871073 0.16245899 0.51344718 0.42198521 0.16191044\n",
      " 0.1420196  0.53662077]\n",
      "CPU times: total: 31.2 ms\n",
      "Wall time: 25.7 ms\n"
     ]
    }
   ],
   "source": [
    "%%time\n",
    "model_m_nonlinear.fit(x_train, d_train)\n",
    "print(model_m_nonlinear.predict_proba(x_test)[:20,1])"
   ]
  },
  {
   "cell_type": "code",
   "execution_count": 6,
   "id": "90e7efc4-f568-4255-811a-c6c09ec8650b",
   "metadata": {},
   "outputs": [
    {
     "name": "stdout",
     "output_type": "stream",
     "text": [
      "[0.50008592 0.49906333 0.4489987  0.47957785 0.24452864 0.18567368\n",
      " 0.34367941 0.39485999 0.3320541  0.17202806 0.23358895 0.39394827\n",
      " 0.27414551 0.38721704 0.22964554 0.68243942 0.2004714  0.28398448\n",
      " 0.13241459 0.7445053 ]\n",
      "[0.46757368 0.68835753 0.51556744 0.45580508 0.34717051 0.22212825\n",
      " 0.61745043 0.53851286 0.54897398 0.21779908 0.36124516 0.27468535\n",
      " 0.29395314 0.36922943 0.18776022 0.73825664 0.19868991 0.2104203\n",
      " 0.06405023 0.77528901]\n",
      "CPU times: total: 78.1 ms\n",
      "Wall time: 59.6 ms\n"
     ]
    }
   ],
   "source": [
    "%%time\n",
    "model_m.fit(x_train, d_train)\n",
    "print(model_m.predict_proba(x_test)[:20,1])\n",
    "print(m_0(x_test[:20]))"
   ]
  },
  {
   "cell_type": "code",
   "execution_count": 25,
   "id": "f9a1ed32-393c-4ba8-8153-d8837a55798c",
   "metadata": {},
   "outputs": [
    {
     "name": "stdout",
     "output_type": "stream",
     "text": [
      "[11.4632455   5.30767494  3.35901166  6.40824449  5.46382513  3.40826872\n",
      "  7.42189094  6.91662485  8.43741067  4.88340824  3.86547717  3.4284026\n",
      "  5.39286796  7.38124728  6.09363294  6.78061771 11.3155003   4.42899936\n",
      "  5.14482901  6.03170065]\n",
      "[11.10481305  4.81084654  3.49232755  7.68548576  5.37828441  4.39214381\n",
      "  6.87728761  6.59457888  7.76416267  4.57344038  3.44898456  2.45140035\n",
      "  4.70245763  7.06843659  4.86556282  5.81951578 10.55989342  4.63861388\n",
      "  4.80569948  7.77599696]\n",
      "CPU times: total: 0 ns\n",
      "Wall time: 4.99 ms\n"
     ]
    }
   ],
   "source": [
    "%%time\n",
    "model_g0.fit(x_train[d_train==0], y_train[d_train==0])\n",
    "print(model_g0.predict(x_test[:20]))\n",
    "print(g_0(0, x_test[:20]))"
   ]
  },
  {
   "cell_type": "code",
   "execution_count": 26,
   "id": "0784959e-5a3a-4420-984d-47e3245fa48c",
   "metadata": {},
   "outputs": [
    {
     "name": "stdout",
     "output_type": "stream",
     "text": [
      "[11.49032373  6.71187503  3.90991898  5.02139657  4.89251377  4.6772443\n",
      "  9.05294072  3.85371319  7.90499873  4.31640967  4.86871415  5.05437074\n",
      "  7.0288738   6.87693955  5.68459337  7.11061007  9.66761433  3.79062485\n",
      "  4.11061796  8.58651597]\n",
      "[12.12457538  7.6064959   5.14624058  6.14682521  5.44233397  4.80327703\n",
      "  9.12791178  4.72869834  7.67342315  3.76316409  5.19723771  3.38574428\n",
      "  6.52481393  6.87520649  6.42372262  6.52067982 10.32296312  4.56048883\n",
      "  3.78389008  9.39637862]\n",
      "CPU times: total: 0 ns\n",
      "Wall time: 7.9 ms\n"
     ]
    }
   ],
   "source": [
    "%%time\n",
    "model_g1.fit(x_train[d_train==1], y_train[d_train==1])\n",
    "print(model_g1.predict(x_test[:20]))\n",
    "print(g_0(1, x_test[:20]))"
   ]
  },
  {
   "cell_type": "code",
   "execution_count": null,
   "id": "bac72398-487d-4bec-9bc2-aa9bcd0d663d",
   "metadata": {},
   "outputs": [],
   "source": [
    "C, max_iter"
   ]
  },
  {
   "cell_type": "code",
   "execution_count": null,
   "id": "bdcbc626-62f6-4018-95e5-26ce6aaf00ec",
   "metadata": {},
   "outputs": [],
   "source": [
    "param_grid = {\n",
    "    'C': [0.1, 1, 10, 100]\n",
    "}"
   ]
  },
  {
   "cell_type": "code",
   "execution_count": 255,
   "id": "2ab65ea6-94c7-415f-8cd3-52fc12d6c1c0",
   "metadata": {},
   "outputs": [
    {
     "name": "stdout",
     "output_type": "stream",
     "text": [
      "CPU times: total: 3.02 s\n",
      "Wall time: 3 s\n"
     ]
    },
    {
     "data": {
      "text/plain": [
       "(array([0.51908536, 0.55552273, 0.45258778]),\n",
       " 5.451014995427961,\n",
       " array([0.43462256, 0.60354816]))"
      ]
     },
     "execution_count": 255,
     "metadata": {},
     "output_type": "execute_result"
    }
   ],
   "source": [
    "%%time\n",
    "N = 16000\n",
    "y_data, d_data, x_data = get_data(N, rng)\n",
    "model_g0, model_g1 = LinearSVR(C=5, dual='auto', max_iter=5000, random_state=42), LinearSVR(C=5, dual='auto', max_iter=5000, random_state=42)\n",
    "model_g = [model_g0, model_g1]\n",
    "model_m = CalibratedClassifierCV(estimator=LinearSVC(C=5, dual='auto', max_iter=5000, random_state=42)) #, n_jobs=-1\n",
    "dml_ate(y_data, d_data, x_data, model_g, model_m, K=5, classical=True, inference=True, alpha=0.05)"
   ]
  },
  {
   "cell_type": "code",
   "execution_count": 46,
   "id": "e12a5a18-2800-4a07-a994-a1ecddcf631d",
   "metadata": {},
   "outputs": [
    {
     "name": "stdout",
     "output_type": "stream",
     "text": [
      "CPU times: total: 984 ms\n",
      "Wall time: 986 ms\n"
     ]
    },
    {
     "data": {
      "text/plain": [
       "(array([0.5423967 , 0.64183653, 0.10269771]),\n",
       " 4.224612415082437,\n",
       " array([0.28055733, 0.80423608]))"
      ]
     },
     "execution_count": 46,
     "metadata": {},
     "output_type": "execute_result"
    }
   ],
   "source": [
    "%%time\n",
    "model_g0, model_g1 = LinearSVR(dual='auto', max_iter=2500, random_state=42), LinearSVR(dual='auto', max_iter=2500, random_state=42)\n",
    "model_g = [model_g0, model_g1]\n",
    "model_m = SVC(probability=True, random_state=42)\n",
    "dml_ate(y_data, d_data, x_data, model_g, model_m, K=5, classical=True, inference=True, alpha=0.05)"
   ]
  },
  {
   "cell_type": "code",
   "execution_count": null,
   "id": "728c6bee-0e30-4237-92cc-3b3ec94c429b",
   "metadata": {},
   "outputs": [],
   "source": []
  },
  {
   "cell_type": "code",
   "execution_count": null,
   "id": "d1886ad1-9209-4c83-b625-14d90f399580",
   "metadata": {},
   "outputs": [],
   "source": []
  },
  {
   "cell_type": "code",
   "execution_count": null,
   "id": "e6e59ebe-6fa5-403d-8201-e8b0dcaaaab5",
   "metadata": {},
   "outputs": [],
   "source": []
  },
  {
   "cell_type": "code",
   "execution_count": 193,
   "id": "4f4737b0-32bf-4f85-aa04-bdf71ace0470",
   "metadata": {},
   "outputs": [],
   "source": [
    "def svm_cv(y_data, d_data, x_data, cv=5):\n",
    "    model_g = LinearSVR(dual='auto', max_iter=5000, random_state=42)\n",
    "    #model_m = CalibratedClassifierCV(estimator=LinearSVC(dual='auto', max_iter=5000, random_state=42))\n",
    "    model_m = SVC(kernel='linear', probability=True, random_state=42)\n",
    "    \n",
    "    param_grid = {\n",
    "        'C': [0.1, 1, 3, 10, 5]\n",
    "    }\n",
    "\n",
    "    grid_search_g = GridSearchCV(estimator=model_g, param_grid=param_grid, cv=cv, n_jobs=-1,\n",
    "                                 scoring='neg_mean_squared_error')\n",
    "    grid_search_m = GridSearchCV(estimator=model_m, param_grid=param_grid, cv=cv, n_jobs=-1,\n",
    "                                 scoring='neg_brier_score')\n",
    "\n",
    "    svm_params_dict = {}\n",
    "    for d in [0, 1]:\n",
    "        grid_search_g.fit(X=x_data[d_data == d], y=y_data[d_data == d])\n",
    "        svm_params_dict[f'g{d}'] = grid_search_g.best_params_\n",
    "    grid_search_m.fit(X=x_data, y=d_data)\n",
    "    svm_params_dict['m'] = grid_search_m.best_params_\n",
    "\n",
    "    return svm_params_dict"
   ]
  },
  {
   "cell_type": "code",
   "execution_count": 198,
   "id": "fe1cdf8d-b771-44a3-83da-13b5beb5e510",
   "metadata": {},
   "outputs": [
    {
     "name": "stdout",
     "output_type": "stream",
     "text": [
      "{'g0': {'C': 10}, 'g1': {'C': 5}, 'm': {'C': 10}}\n",
      "{'g0': {'C': 5}, 'g1': {'C': 3}, 'm': {'C': 10}}\n"
     ]
    },
    {
     "name": "stderr",
     "output_type": "stream",
     "text": [
      "C:\\Users\\henry\\MA_CausalML\\dml\\Lib\\site-packages\\sklearn\\svm\\_base.py:1237: ConvergenceWarning: Liblinear failed to converge, increase the number of iterations.\n",
      "  warnings.warn(\n"
     ]
    },
    {
     "name": "stdout",
     "output_type": "stream",
     "text": [
      "{'g0': {'C': 10}, 'g1': {'C': 10}, 'm': {'C': 1}}\n"
     ]
    }
   ],
   "source": [
    "for N in [250, 500, 1000]:#, 2000, 4000, 8000, 16000]:\n",
    "    y_data, d_data, x_data = get_data(N, rng)\n",
    "    svm_params_dict = svm_cv(y_data, d_data, x_data)\n",
    "    print(svm_params_dict)"
   ]
  },
  {
   "cell_type": "code",
   "execution_count": null,
   "id": "8e284fdf-be10-4ef1-9469-7f6f73bc8891",
   "metadata": {},
   "outputs": [],
   "source": [
    "choose C=5!"
   ]
  }
 ],
 "metadata": {
  "kernelspec": {
   "display_name": "Python 3 (ipykernel)",
   "language": "python",
   "name": "python3"
  },
  "language_info": {
   "codemirror_mode": {
    "name": "ipython",
    "version": 3
   },
   "file_extension": ".py",
   "mimetype": "text/x-python",
   "name": "python",
   "nbconvert_exporter": "python",
   "pygments_lexer": "ipython3",
   "version": "3.11.5"
  }
 },
 "nbformat": 4,
 "nbformat_minor": 5
}
