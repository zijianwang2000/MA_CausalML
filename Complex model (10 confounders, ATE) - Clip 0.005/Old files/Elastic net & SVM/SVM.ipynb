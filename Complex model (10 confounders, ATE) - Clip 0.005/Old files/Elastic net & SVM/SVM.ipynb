{
 "cells": [
  {
   "cell_type": "code",
   "execution_count": 1,
   "id": "1cd9387f-c220-44d3-addb-cef628676048",
   "metadata": {},
   "outputs": [],
   "source": [
    "import numpy as np\n",
    "from sklearn.svm import SVR, SVC, LinearSVR, LinearSVC\n",
    "from sklearn.model_selection import GridSearchCV, train_test_split\n",
    "from sklearn.calibration import CalibratedClassifierCV\n",
    "from data_generation import get_data, g_0, m_0\n",
    "from dml_algorithm import dml_ate"
   ]
  },
  {
   "cell_type": "code",
   "execution_count": 5,
   "id": "c6ae2418-42d2-4d6b-bc3c-b2d649ef0f25",
   "metadata": {},
   "outputs": [],
   "source": [
    "rng = np.random.default_rng(seed=42)"
   ]
  },
  {
   "cell_type": "code",
   "execution_count": 32,
   "id": "8b1d26c2-9d4c-4c18-9130-aacb3fd36c05",
   "metadata": {},
   "outputs": [],
   "source": [
    "N = 500\n",
    "y_data, d_data, x_data = get_data(N, rng)\n",
    "y_train, y_test, d_train, d_test, x_train, x_test = train_test_split(y_data, d_data, x_data, test_size=0.2, random_state=42)"
   ]
  },
  {
   "cell_type": "code",
   "execution_count": 28,
   "id": "dffd0366-48fa-49b2-9eb8-e0d6c8b960ae",
   "metadata": {},
   "outputs": [],
   "source": [
    "model_g0, model_g1 = LinearSVR(dual='auto', max_iter=2500), LinearSVR(dual='auto', max_iter=2500)\n",
    "model_g0_nl, model_g1_nl = SVR(), SVR()\n",
    "model_m = CalibratedClassifierCV(estimator=LinearSVC(dual='auto', max_iter=2500)) #, n_jobs=-1\n",
    "model_m_nl = SVC(probability=True, random_state=42)"
   ]
  },
  {
   "cell_type": "code",
   "execution_count": 33,
   "id": "ff674926-f6cc-4cdc-8d65-1876b715bdd8",
   "metadata": {},
   "outputs": [
    {
     "name": "stdout",
     "output_type": "stream",
     "text": [
      "[0.20616222 0.48191053 0.80500452 0.14827234 0.35374326 0.15227984\n",
      " 0.45363401 0.75366221 0.20784173 0.07876629 0.07526102 0.82241337\n",
      " 0.18787036 0.82666651 0.46930685 0.10085445 0.5968767  0.61820791\n",
      " 0.08937497 0.6272459 ]\n",
      "[0.26064935 0.52283606 0.8706997  0.26024082 0.22946942 0.13067742\n",
      " 0.41072264 0.61396534 0.15104785 0.13644403 0.07639933 0.6142506\n",
      " 0.33894458 0.73694633 0.42284718 0.08460405 0.82201806 0.40374624\n",
      " 0.07297841 0.34627699]\n",
      "[0.16465136 0.29591761 0.99321981 0.22196489 0.25091268 0.09449871\n",
      " 0.52666606 0.8384573  0.11335196 0.08531746 0.0487229  0.67460123\n",
      " 0.21047555 0.52894896 0.39774866 0.05527185 0.93581175 0.5346337\n",
      " 0.0431292  0.93009875]\n",
      "CPU times: total: 109 ms\n",
      "Wall time: 128 ms\n"
     ]
    }
   ],
   "source": [
    "%%time\n",
    "model_m_nl.fit(x_train, d_train)\n",
    "print(model_m_nl.predict_proba(x_test)[:20,1])\n",
    "model_m.fit(x_train, d_train)\n",
    "print(model_m.predict_proba(x_test)[:20,1])\n",
    "print(m_0(x_test[:20]))"
   ]
  },
  {
   "cell_type": "code",
   "execution_count": 30,
   "id": "1a6fe150-a11b-4874-81e8-45a86f075519",
   "metadata": {},
   "outputs": [
    {
     "name": "stdout",
     "output_type": "stream",
     "text": [
      "[10.47716628  7.73409231  6.46016792  5.95428982  8.8291173   7.1627878\n",
      "  3.40736756  0.24695816  6.50644919  5.80975088  4.52308587  3.75535651\n",
      "  7.72381709  1.73496596  2.5745025   6.07583292  3.07167522  6.46187477\n",
      "  3.09845883  5.15547289]\n",
      "[10.2159737   5.37702912  6.25284053  6.12665864  8.7665275   7.61665537\n",
      "  4.1994701  -0.20306386  4.23214008  6.35352659  4.94887086  3.61963059\n",
      "  5.72675918  2.066882    2.99060531  5.75120088  3.33227346  6.91585736\n",
      "  4.26560899  5.35120698]\n",
      "[10.20339689  7.44669562  5.49039872  5.832386    8.70385726  7.07663241\n",
      "  3.43980833 -0.40490245  6.93449924  5.79251758  4.5309165   3.60693093\n",
      "  7.69295896  1.76317445  2.65161581  6.20005277  3.08596869  6.38886038\n",
      "  3.27747993  5.03170534]\n",
      "CPU times: total: 3.56 s\n",
      "Wall time: 3.68 s\n"
     ]
    }
   ],
   "source": [
    "%%time\n",
    "model_g0_nl.fit(x_train[d_train==0], y_train[d_train==0])\n",
    "print(model_g0_nl.predict(x_test[:20]))\n",
    "model_g0.fit(x_train[d_train==0], y_train[d_train==0])\n",
    "print(model_g0.predict(x_test[:20]))\n",
    "print(g_0(0, x_test[:20]))"
   ]
  },
  {
   "cell_type": "code",
   "execution_count": 31,
   "id": "79f8b2ba-f472-4fdd-819a-b532757f8d32",
   "metadata": {},
   "outputs": [
    {
     "name": "stdout",
     "output_type": "stream",
     "text": [
      "[10.89607559  6.73233185  5.05222714  7.11811649  6.54557223  7.47402865\n",
      "  1.67399861  0.17162879  5.46133247  5.8237022   5.97104698  2.98411551\n",
      "  7.88774833  2.71552733  1.3120564   6.42046094  4.81142543  6.17313181\n",
      "  3.0982366   4.3211792 ]\n",
      "[10.91822266  4.91519779  6.21893339  7.28624021  7.45619255  8.07313221\n",
      "  2.37523483  0.05689454  2.93245697  6.32390484  6.56635289  3.21225859\n",
      "  5.95278023  2.95750777  1.79578565  5.93824639  5.25682568  6.31390585\n",
      "  3.90603817  3.86599109]\n",
      "[10.70538616  6.78424164  4.5524114   7.22046549  6.87038265  7.30067778\n",
      "  1.6432539   0.22121259  6.16873487  5.43925362  5.94519746  3.1095561\n",
      "  7.49192411  2.57835408  1.30874581  6.49050901  4.87694642  5.9446495\n",
      "  2.94501352  4.05768644]\n",
      "CPU times: total: 2.23 s\n",
      "Wall time: 2.33 s\n"
     ]
    }
   ],
   "source": [
    "%%time\n",
    "model_g1_nl.fit(x_train[d_train==1], y_train[d_train==1])\n",
    "print(model_g1_nl.predict(x_test[:20]))\n",
    "model_g1.fit(x_train[d_train==1], y_train[d_train==1])\n",
    "print(model_g1.predict(x_test[:20]))\n",
    "print(g_0(1, x_test[:20]))"
   ]
  },
  {
   "cell_type": "code",
   "execution_count": null,
   "id": "16e17f36-4741-4d23-8207-02a8d26a40b4",
   "metadata": {},
   "outputs": [],
   "source": []
  },
  {
   "cell_type": "code",
   "execution_count": null,
   "id": "1ae45777-fa22-492c-aea6-c01b577bfeb9",
   "metadata": {},
   "outputs": [],
   "source": []
  },
  {
   "cell_type": "code",
   "execution_count": null,
   "id": "75440933-b93d-40c7-9ad5-d09c1f074a4f",
   "metadata": {},
   "outputs": [],
   "source": []
  },
  {
   "cell_type": "code",
   "execution_count": null,
   "id": "a90f16fa-4200-42f1-bbec-8566f89a5108",
   "metadata": {},
   "outputs": [],
   "source": []
  },
  {
   "cell_type": "code",
   "execution_count": null,
   "id": "9ad9d218-b471-4165-86f0-72645bff8e41",
   "metadata": {},
   "outputs": [],
   "source": []
  },
  {
   "cell_type": "code",
   "execution_count": 52,
   "id": "934f4f9a-67c1-45b3-8386-8e1d6ff2ee1f",
   "metadata": {},
   "outputs": [],
   "source": [
    "N = 250\n",
    "y_data, d_data, x_data = get_data(N, rng)\n",
    "y_train, y_test, d_train, d_test, x_train, x_test = train_test_split(y_data, d_data, x_data, test_size=0.2, random_state=42)\n",
    "model_m = CalibratedClassifierCV(estimator=LinearSVC(dual='auto', max_iter=2500))\n",
    "model_m_2 = CalibratedClassifierCV(estimator=LinearSVC(dual='auto', max_iter=2500), method='isotonic')"
   ]
  },
  {
   "cell_type": "code",
   "execution_count": 53,
   "id": "a631107e-aac6-4357-af94-1de8c6847108",
   "metadata": {},
   "outputs": [
    {
     "name": "stdout",
     "output_type": "stream",
     "text": [
      "[0.75782366 0.1081392  0.4380588  0.13226565 0.22477492 0.32252746\n",
      " 0.52142833 0.55220563 0.3364116  0.61823012 0.76432348 0.29846205\n",
      " 0.46542094 0.15033277 0.65025305 0.4393908  0.85164284 0.57002081\n",
      " 0.63447986 0.04004093]\n",
      "[0.93333333 0.         0.4512605  0.         0.09203475 0.30238095\n",
      " 0.4512605  0.4912605  0.33952381 0.67239993 0.93333333 0.27507003\n",
      " 0.4912605  0.05714286 0.72466527 0.4512605  0.96012949 0.54226408\n",
      " 0.62380952 0.        ]\n",
      "[0.8485524  0.09058125 0.30348166 0.02835181 0.13868599 0.39836533\n",
      " 0.46815584 0.49492956 0.23402002 0.82336364 0.70270092 0.35112246\n",
      " 0.48414538 0.03198229 0.78706381 0.32661086 0.83445733 0.65141855\n",
      " 0.6412689  0.00732812]\n",
      "CPU times: total: 109 ms\n",
      "Wall time: 115 ms\n"
     ]
    }
   ],
   "source": [
    "%%time\n",
    "model_m.fit(x_train, d_train)\n",
    "print(model_m.predict_proba(x_test)[:20,1])\n",
    "model_m_2.fit(x_train, d_train)\n",
    "print(model_m_2.predict_proba(x_test)[:20,1])\n",
    "print(m_0(x_test[:20]))"
   ]
  },
  {
   "cell_type": "code",
   "execution_count": null,
   "id": "bac72398-487d-4bec-9bc2-aa9bcd0d663d",
   "metadata": {},
   "outputs": [],
   "source": [
    "C, max_iter"
   ]
  },
  {
   "cell_type": "code",
   "execution_count": null,
   "id": "bdcbc626-62f6-4018-95e5-26ce6aaf00ec",
   "metadata": {},
   "outputs": [],
   "source": [
    "param_grid = {\n",
    "    'C': [0.1, 1, 10, 100]\n",
    "}"
   ]
  },
  {
   "cell_type": "code",
   "execution_count": 255,
   "id": "2ab65ea6-94c7-415f-8cd3-52fc12d6c1c0",
   "metadata": {},
   "outputs": [
    {
     "name": "stdout",
     "output_type": "stream",
     "text": [
      "CPU times: total: 3.02 s\n",
      "Wall time: 3 s\n"
     ]
    },
    {
     "data": {
      "text/plain": [
       "(array([0.51908536, 0.55552273, 0.45258778]),\n",
       " 5.451014995427961,\n",
       " array([0.43462256, 0.60354816]))"
      ]
     },
     "execution_count": 255,
     "metadata": {},
     "output_type": "execute_result"
    }
   ],
   "source": [
    "%%time\n",
    "N = 16000\n",
    "y_data, d_data, x_data = get_data(N, rng)\n",
    "model_g0, model_g1 = LinearSVR(C=5, dual='auto', max_iter=5000, random_state=42), LinearSVR(C=5, dual='auto', max_iter=5000, random_state=42)\n",
    "model_g = [model_g0, model_g1]\n",
    "model_m = CalibratedClassifierCV(estimator=LinearSVC(C=5, dual='auto', max_iter=5000, random_state=42)) #, n_jobs=-1\n",
    "dml_ate(y_data, d_data, x_data, model_g, model_m, K=5, classical=True, inference=True, alpha=0.05)"
   ]
  },
  {
   "cell_type": "code",
   "execution_count": 46,
   "id": "e12a5a18-2800-4a07-a994-a1ecddcf631d",
   "metadata": {},
   "outputs": [
    {
     "name": "stdout",
     "output_type": "stream",
     "text": [
      "CPU times: total: 984 ms\n",
      "Wall time: 986 ms\n"
     ]
    },
    {
     "data": {
      "text/plain": [
       "(array([0.5423967 , 0.64183653, 0.10269771]),\n",
       " 4.224612415082437,\n",
       " array([0.28055733, 0.80423608]))"
      ]
     },
     "execution_count": 46,
     "metadata": {},
     "output_type": "execute_result"
    }
   ],
   "source": [
    "%%time\n",
    "model_g0, model_g1 = LinearSVR(dual='auto', max_iter=2500, random_state=42), LinearSVR(dual='auto', max_iter=2500, random_state=42)\n",
    "model_g = [model_g0, model_g1]\n",
    "model_m = SVC(probability=True, random_state=42)\n",
    "dml_ate(y_data, d_data, x_data, model_g, model_m, K=5, classical=True, inference=True, alpha=0.05)"
   ]
  },
  {
   "cell_type": "code",
   "execution_count": null,
   "id": "728c6bee-0e30-4237-92cc-3b3ec94c429b",
   "metadata": {},
   "outputs": [],
   "source": []
  },
  {
   "cell_type": "code",
   "execution_count": null,
   "id": "d1886ad1-9209-4c83-b625-14d90f399580",
   "metadata": {},
   "outputs": [],
   "source": []
  },
  {
   "cell_type": "code",
   "execution_count": null,
   "id": "e6e59ebe-6fa5-403d-8201-e8b0dcaaaab5",
   "metadata": {},
   "outputs": [],
   "source": []
  },
  {
   "cell_type": "code",
   "execution_count": 193,
   "id": "4f4737b0-32bf-4f85-aa04-bdf71ace0470",
   "metadata": {},
   "outputs": [],
   "source": [
    "def svm_cv(y_data, d_data, x_data, cv=5):\n",
    "    model_g = LinearSVR(dual='auto', max_iter=5000, random_state=42)\n",
    "    #model_m = CalibratedClassifierCV(estimator=LinearSVC(dual='auto', max_iter=5000, random_state=42))\n",
    "    model_m = SVC(kernel='linear', probability=True, random_state=42)\n",
    "    \n",
    "    param_grid = {\n",
    "        'C': [0.1, 1, 3, 10, 5]\n",
    "    }\n",
    "\n",
    "    grid_search_g = GridSearchCV(estimator=model_g, param_grid=param_grid, cv=cv, n_jobs=-1,\n",
    "                                 scoring='neg_mean_squared_error')\n",
    "    grid_search_m = GridSearchCV(estimator=model_m, param_grid=param_grid, cv=cv, n_jobs=-1,\n",
    "                                 scoring='neg_brier_score')\n",
    "\n",
    "    svm_params_dict = {}\n",
    "    for d in [0, 1]:\n",
    "        grid_search_g.fit(X=x_data[d_data == d], y=y_data[d_data == d])\n",
    "        svm_params_dict[f'g{d}'] = grid_search_g.best_params_\n",
    "    grid_search_m.fit(X=x_data, y=d_data)\n",
    "    svm_params_dict['m'] = grid_search_m.best_params_\n",
    "\n",
    "    return svm_params_dict"
   ]
  },
  {
   "cell_type": "code",
   "execution_count": 198,
   "id": "fe1cdf8d-b771-44a3-83da-13b5beb5e510",
   "metadata": {},
   "outputs": [
    {
     "name": "stdout",
     "output_type": "stream",
     "text": [
      "{'g0': {'C': 10}, 'g1': {'C': 5}, 'm': {'C': 10}}\n",
      "{'g0': {'C': 5}, 'g1': {'C': 3}, 'm': {'C': 10}}\n"
     ]
    },
    {
     "name": "stderr",
     "output_type": "stream",
     "text": [
      "C:\\Users\\henry\\MA_CausalML\\dml\\Lib\\site-packages\\sklearn\\svm\\_base.py:1237: ConvergenceWarning: Liblinear failed to converge, increase the number of iterations.\n",
      "  warnings.warn(\n"
     ]
    },
    {
     "name": "stdout",
     "output_type": "stream",
     "text": [
      "{'g0': {'C': 10}, 'g1': {'C': 10}, 'm': {'C': 1}}\n"
     ]
    }
   ],
   "source": [
    "for N in [250, 500, 1000]:#, 2000, 4000, 8000, 16000]:\n",
    "    y_data, d_data, x_data = get_data(N, rng)\n",
    "    svm_params_dict = svm_cv(y_data, d_data, x_data)\n",
    "    print(svm_params_dict)"
   ]
  },
  {
   "cell_type": "code",
   "execution_count": null,
   "id": "8e284fdf-be10-4ef1-9469-7f6f73bc8891",
   "metadata": {},
   "outputs": [],
   "source": [
    "choose C=5!"
   ]
  }
 ],
 "metadata": {
  "kernelspec": {
   "display_name": "Python 3 (ipykernel)",
   "language": "python",
   "name": "python3"
  },
  "language_info": {
   "codemirror_mode": {
    "name": "ipython",
    "version": 3
   },
   "file_extension": ".py",
   "mimetype": "text/x-python",
   "name": "python",
   "nbconvert_exporter": "python",
   "pygments_lexer": "ipython3",
   "version": "3.11.5"
  }
 },
 "nbformat": 4,
 "nbformat_minor": 5
}
