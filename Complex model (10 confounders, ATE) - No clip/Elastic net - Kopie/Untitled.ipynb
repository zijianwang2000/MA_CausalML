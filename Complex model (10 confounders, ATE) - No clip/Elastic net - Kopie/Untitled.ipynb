{
 "cells": [
  {
   "cell_type": "code",
   "execution_count": 7,
   "id": "966a5626-5f85-42a9-bd52-0c52a84a4d74",
   "metadata": {},
   "outputs": [],
   "source": [
    "import numpy as np\n",
    "import pickle\n",
    "from sklearn.linear_model import ElasticNet, LogisticRegression\n",
    "from sklearn.preprocessing import PolynomialFeatures, StandardScaler\n",
    "from data_generation import get_data\n",
    "from dml_algorithm import mm_ate, dml_ate\n",
    "\n",
    "\n",
    "# Load tuned hyperparameters of ElasticNet\n",
    "with open('opt_params_eln.pkl', 'rb') as pickle_file:\n",
    "    opt_params_eln = pickle.load(pickle_file)"
   ]
  },
  {
   "cell_type": "code",
   "execution_count": 8,
   "id": "576d59a9-e6fa-42b5-ae6b-2b20544e226c",
   "metadata": {},
   "outputs": [],
   "source": [
    "# Get ElasticNet models from hyperparameters\n",
    "def get_models(eln_params_dict):\n",
    "    model_g = []\n",
    "    for d in [0, 1]:\n",
    "        model = ElasticNet(max_iter=10000)\n",
    "        model.set_params(**eln_params_dict[f'g{d}'])\n",
    "        model_g.append(model)\n",
    "    model_m = LogisticRegression(penalty='elasticnet', solver='saga', max_iter=50000, random_state=42)\n",
    "    model_m.set_params(**eln_params_dict['m'])\n",
    "    return model_g, model_m"
   ]
  },
  {
   "cell_type": "code",
   "execution_count": 15,
   "id": "bd3eb446-05c1-4941-8093-239b12dc1d13",
   "metadata": {},
   "outputs": [
    {
     "name": "stdout",
     "output_type": "stream",
     "text": [
      "0.5102734718726487\n",
      "(array([2.78610765e+01, 1.77168079e-01, 2.39246404e+02]), 437.2282979421288, array([-26.33730886,  82.05946195]), array([0.60239927, 1.07621023, 0.15736382]))\n"
     ]
    }
   ],
   "source": [
    "N = 250\n",
    "if True:\n",
    "    rng = np.random.default_rng(seed=123)\n",
    "\n",
    "    for j in range(1376):\n",
    "        \n",
    "        y_data, d_data, x_data = get_data(N, rng)\n",
    "        if j == 1375:\n",
    "            poly_features = PolynomialFeatures(degree=2, include_bias=False)\n",
    "            x_data_quad = poly_features.fit_transform(x_data)\n",
    "            scaler = StandardScaler()\n",
    "            x_data_quad_stand = scaler.fit_transform(x_data_quad)\n",
    "\n",
    "            print(mm_ate(y_data, d_data, x_data))\n",
    "            model_g, model_m = get_models(opt_params_eln[N][j])\n",
    "            print(dml_ate(y_data, d_data, [x_data, x_data_quad_stand], model_g, model_m))"
   ]
  },
  {
   "cell_type": "code",
   "execution_count": 16,
   "id": "a514d275-e3ef-462a-a890-814f56c3a797",
   "metadata": {},
   "outputs": [],
   "source": [
    "from data_generation import m_0"
   ]
  },
  {
   "cell_type": "code",
   "execution_count": 20,
   "id": "a1b07f02-5d99-4efc-bb6f-729f1ad9de45",
   "metadata": {},
   "outputs": [
    {
     "data": {
      "text/plain": [
       "0.008039349330890478"
      ]
     },
     "execution_count": 20,
     "metadata": {},
     "output_type": "execute_result"
    }
   ],
   "source": [
    "m_0(x_data).min()"
   ]
  },
  {
   "cell_type": "code",
   "execution_count": 51,
   "id": "20002030-728e-4f77-8ff5-649074e1a9d4",
   "metadata": {},
   "outputs": [
    {
     "data": {
      "text/plain": [
       "0.9989017547763444"
      ]
     },
     "execution_count": 51,
     "metadata": {},
     "output_type": "execute_result"
    }
   ],
   "source": [
    "model_m.predict_proba(x_data_quad_stand)[:,1].max()"
   ]
  },
  {
   "cell_type": "code",
   "execution_count": 24,
   "id": "908a1f9c-6507-47f6-b3b8-c41d86340e28",
   "metadata": {},
   "outputs": [],
   "source": [
    "x_data_all=[x_data, x_data_quad_stand]\n",
    "K=5\n",
    "model_g, model_m = get_models(opt_params_eln[250][1375])\n",
    "alpha=0.05\n",
    "classical=True\n",
    "errors=True"
   ]
  },
  {
   "cell_type": "code",
   "execution_count": 48,
   "id": "43a61632-5318-4d3e-ab14-adafd68402a9",
   "metadata": {},
   "outputs": [],
   "source": [
    "if True:\n",
    "    if isinstance(x_data_all, list):\n",
    "        x_data_orig, x_data = x_data_all[0], x_data_all[1]\n",
    "    else:\n",
    "        x_data_orig, x_data = x_data_all, x_data_all\n",
    "\n",
    "    # Partition the data for cross-fitting\n",
    "    skf = StratifiedKFold(n_splits=K, shuffle=False)\n",
    "\n",
    "    # Compute respective ML estimators and thereupon auxiliary estimators\n",
    "    theta_0_check_list = []\n",
    "    scores_list = []\n",
    "    if classical:\n",
    "        reg_check_list, ipw_check_list = [], []\n",
    "    if errors:\n",
    "        rmse_list = []\n",
    "    \n",
    "    for i, (train_indices, eval_indices) in enumerate(skf.split(X=x_data, y=d_data)):\n",
    "        y_train, d_train, x_train = y_data[train_indices], d_data[train_indices], x_data[train_indices]\n",
    "        y_eval, d_eval, x_eval, x_eval_orig = y_data[eval_indices], d_data[eval_indices], x_data[eval_indices], x_data_orig[eval_indices]\n",
    "\n",
    "        # Estimate outcome regression functions g_0(d)\n",
    "        g_0_hat = []\n",
    "        for d in [0, 1]:\n",
    "            model_g[d].fit(X=x_train[d_train==d], y=y_train[d_train==d])\n",
    "            g_0_hat.append(model_g[d].predict(x_eval))\n",
    "\n",
    "        # Estimate propensity score m_0\n",
    "        model_m.fit(X=x_train, y=d_train)\n",
    "        m_0_hat = model_m.predict_proba(x_eval)[:,1]\n",
    "        if i==2:\n",
    "            m_0_hat_stored = m_0_hat\n",
    "            d_eval_stored = d_eval\n",
    "            x_eval_stored = x_eval_orig\n",
    "            \n",
    "        # Compute auxiliary estimator\n",
    "        scores = g_0_hat[1] - g_0_hat[0] + d_eval*(y_eval-g_0_hat[1])/np.clip(m_0_hat,0.01,0.99) - (1-d_eval)*(y_eval-g_0_hat[0])/np.clip(1-m_0_hat,0.01,0.99)\n",
    "        theta_0_check_list.append(np.mean(scores))\n",
    "        if i==2:\n",
    "            score_stored = scores\n",
    "\n",
    "        # For variance estimation\n",
    "        scores_list.append(scores)\n",
    "\n",
    "        # For regression & IPW estimators\n",
    "        if classical:\n",
    "            reg_check_list.append(np.mean(g_0_hat[1] - g_0_hat[0])) \n",
    "            ipw_check_list.append(np.mean(d_eval*y_eval/m_0_hat - (1-d_eval)*y_eval/(1-m_0_hat)))\n",
    "\n",
    "        # Assess RMSE of ML models on evaluation set\n",
    "        if errors:\n",
    "            rmse_g0 = root_mean_squared_error(g_0(0, x_eval_orig), g_0_hat[0])\n",
    "            rmse_g1 = root_mean_squared_error(g_0(1, x_eval_orig), g_0_hat[1])\n",
    "            rmse_m = root_mean_squared_error(m_0(x_eval_orig), m_0_hat)\n",
    "            rmse_list.append([rmse_g0, rmse_g1, rmse_m])\n",
    "\n",
    "    # Compute final estimator\n",
    "    theta_0_hat = np.mean(theta_0_check_list)\n",
    "    if classical:\n",
    "        reg_hat, ipw_hat = np.mean(reg_check_list), np.mean(ipw_check_list)\n",
    "\n",
    "    # Inference: estimate standard deviation and construct confidence interval\n",
    "    sigma_hat = np.sqrt(np.mean((np.array(scores_list)-theta_0_hat)**2))\n",
    "    N = len(y_data)\n",
    "    quantile = norm.ppf(1-alpha/2)\n",
    "    CI = np.array([theta_0_hat-quantile*sigma_hat/np.sqrt(N), theta_0_hat+quantile*sigma_hat/np.sqrt(N)])\n",
    "\n",
    "    # Average RMSEs across folds\n",
    "    if errors:\n",
    "        rmse = np.mean(rmse_list, axis=0)"
   ]
  },
  {
   "cell_type": "code",
   "execution_count": 39,
   "id": "1c91f302-271f-4a06-9c64-6764c476adf3",
   "metadata": {},
   "outputs": [
    {
     "data": {
      "text/plain": [
       "6927.042516163822"
      ]
     },
     "execution_count": 39,
     "metadata": {},
     "output_type": "execute_result"
    }
   ],
   "source": [
    "score_stored[23]"
   ]
  },
  {
   "cell_type": "code",
   "execution_count": 42,
   "id": "fbe2d376-983f-4264-925f-c9ad28306a35",
   "metadata": {},
   "outputs": [
    {
     "data": {
      "text/plain": [
       "1.0"
      ]
     },
     "execution_count": 42,
     "metadata": {},
     "output_type": "execute_result"
    }
   ],
   "source": [
    "d_eval_stored[23]"
   ]
  },
  {
   "cell_type": "code",
   "execution_count": 47,
   "id": "70d81b43-dfc7-499d-880f-1568c5f515f5",
   "metadata": {},
   "outputs": [
    {
     "data": {
      "text/plain": [
       "array([0.12315923])"
      ]
     },
     "execution_count": 47,
     "metadata": {},
     "output_type": "execute_result"
    }
   ],
   "source": [
    "m_0(x_eval_stored[23])"
   ]
  },
  {
   "cell_type": "code",
   "execution_count": 40,
   "id": "b5d21cbb-99a5-49b7-98b8-cfd729f8eb34",
   "metadata": {},
   "outputs": [
    {
     "data": {
      "text/plain": [
       "0.00011932991457565601"
      ]
     },
     "execution_count": 40,
     "metadata": {},
     "output_type": "execute_result"
    }
   ],
   "source": [
    "m_0_hat_stored[23]"
   ]
  },
  {
   "cell_type": "code",
   "execution_count": 49,
   "id": "00f0ec92-5560-403b-9149-16406fc4c714",
   "metadata": {},
   "outputs": [
    {
     "data": {
      "text/plain": [
       "[-0.09754162961176263,\n",
       " -0.0026415639213525567,\n",
       " 1.5078662928177138,\n",
       " 0.888006076261521,\n",
       " 0.19667944063999301]"
      ]
     },
     "execution_count": 49,
     "metadata": {},
     "output_type": "execute_result"
    }
   ],
   "source": [
    "theta_0_check_list"
   ]
  },
  {
   "cell_type": "code",
   "execution_count": 50,
   "id": "575bd06f-554c-4a7f-ab79-4327fe264e05",
   "metadata": {},
   "outputs": [
    {
     "data": {
      "text/plain": [
       "0.49847372323722244"
      ]
     },
     "execution_count": 50,
     "metadata": {},
     "output_type": "execute_result"
    }
   ],
   "source": [
    "np.mean(theta_0_check_list)"
   ]
  },
  {
   "cell_type": "code",
   "execution_count": 26,
   "id": "04f6bf4a-6c90-4233-8439-648adb8df503",
   "metadata": {},
   "outputs": [],
   "source": [
    "import numpy as np\n",
    "from joblib import Parallel, delayed\n",
    "from sklearn.model_selection import StratifiedKFold\n",
    "from sklearn.metrics import root_mean_squared_error\n",
    "from sklearn.base import is_regressor\n",
    "from scipy.stats import norm\n",
    "from data_generation import g_0, m_0"
   ]
  },
  {
   "cell_type": "code",
   "execution_count": null,
   "id": "813ac8d1-8ce0-47e3-ae80-14faae993209",
   "metadata": {},
   "outputs": [],
   "source": []
  },
  {
   "cell_type": "code",
   "execution_count": null,
   "id": "9241dcab-7b55-4062-891e-6d27ff94efc0",
   "metadata": {},
   "outputs": [],
   "source": []
  },
  {
   "cell_type": "code",
   "execution_count": null,
   "id": "e73dd0ae-5717-4e5a-8735-222bdc89cc08",
   "metadata": {},
   "outputs": [],
   "source": []
  }
 ],
 "metadata": {
  "kernelspec": {
   "display_name": "Python 3 (ipykernel)",
   "language": "python",
   "name": "python3"
  },
  "language_info": {
   "codemirror_mode": {
    "name": "ipython",
    "version": 3
   },
   "file_extension": ".py",
   "mimetype": "text/x-python",
   "name": "python",
   "nbconvert_exporter": "python",
   "pygments_lexer": "ipython3",
   "version": "3.11.5"
  }
 },
 "nbformat": 4,
 "nbformat_minor": 5
}
