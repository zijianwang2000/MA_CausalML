{
 "cells": [
  {
   "cell_type": "code",
   "execution_count": 1,
   "id": "ae5e87c1-8b0a-419a-8403-369b71d86585",
   "metadata": {},
   "outputs": [],
   "source": [
    "import numpy as np\n",
    "import matplotlib.pyplot as plt\n",
    "import xgboost as xgb\n",
    "import sklearn\n",
    "from sklearn.model_selection import GridSearchCV, KFold "
   ]
  },
  {
   "cell_type": "markdown",
   "id": "cb393e66-9c1c-426c-8765-9c8e5c23738e",
   "metadata": {},
   "source": [
    "## Data-generating process"
   ]
  },
  {
   "cell_type": "code",
   "execution_count": 2,
   "id": "66837164-d3d2-4bfa-b0f7-8e30dad07f36",
   "metadata": {},
   "outputs": [],
   "source": [
    "theta_0 = 1   # true ATE\n",
    "mean = np.array([1, 0])\n",
    "cov = np.array([[1, -0.2], [-0.2, 0.5]])\n",
    "beta = np.array([1, 2, -1])\n",
    "F = lambda z: 1 / (1 + np.exp(-z))   # standard logistic function\n",
    "\n",
    "# Propensity score\n",
    "m_0 = lambda x: F(x @ beta)\n",
    "\n",
    "# Outcome regression function\n",
    "def g_0(d, x):\n",
    "    if x.ndim == 1:\n",
    "        x = x.reshape(1,-1)\n",
    "    return d*x[:,0] + x[:,1] - x[:,2]"
   ]
  },
  {
   "cell_type": "code",
   "execution_count": 3,
   "id": "e194b46c-f775-45b7-91c1-d8de4d91f44f",
   "metadata": {},
   "outputs": [],
   "source": [
    "# Generate a dataset of size N in a vectorized fashion\n",
    "def get_data(N):\n",
    "    x_12 = np.random.multivariate_normal(mean=mean, cov=cov, size=N)\n",
    "    x_3 = np.random.uniform(size=N)\n",
    "    x_data = np.concatenate((x_12, x_3.reshape(N,1)), axis=1)\n",
    "\n",
    "    xi = np.random.logistic(size=N)\n",
    "    d_data = (x_data @ beta + xi >= 0)\n",
    "        \n",
    "    u = np.random.normal(scale=x_3)\n",
    "    y_data = g_0(d_data, x_data) + u \n",
    "\n",
    "    return y_data, d_data, x_data"
   ]
  },
  {
   "cell_type": "markdown",
   "id": "c7b5ef23-0555-4d32-a5d6-085595a7154a",
   "metadata": {},
   "source": [
    "## MC simulation of infeasible method-of-moments estimator"
   ]
  },
  {
   "cell_type": "code",
   "execution_count": 4,
   "id": "4362c4fd-1974-4d2b-bd5f-7374b48d52f2",
   "metadata": {},
   "outputs": [
    {
     "data": {
      "image/png": "[encoded data removed]",
      "text/plain": [
       "<Figure size 640x480 with 1 Axes>"
      ]
     },
     "metadata": {},
     "output_type": "display_data"
    },
    {
     "name": "stdout",
     "output_type": "stream",
     "text": [
      "CPU times: total: 3.47 s\n",
      "Wall time: 3.52 s\n"
     ]
    }
   ],
   "source": [
    "%%time\n",
    "n_MC = 5000\n",
    "N = 1000\n",
    "estimates_list = []\n",
    "\n",
    "for j in range(n_MC):\n",
    "    y_data, d_data, x_data = get_data(N)\n",
    "    estimate = np.mean(g_0(1, x_data) - g_0(0, x_data) + d_data*(y_data-g_0(1, x_data))/m_0(x_data)\n",
    "                       - (1-d_data)*(y_data-g_0(0, x_data))/(1-m_0(x_data)))\n",
    "    estimates_list.append(estimate)\n",
    "    \n",
    "plt.hist(estimates_list, bins=25)\n",
    "plt.show()"
   ]
  },
  {
   "cell_type": "code",
   "execution_count": 5,
   "id": "d00105ec-7439-428a-a5bb-6bc9d0f54ed1",
   "metadata": {},
   "outputs": [
    {
     "data": {
      "text/plain": [
       "1.0008811587943873"
      ]
     },
     "execution_count": 5,
     "metadata": {},
     "output_type": "execute_result"
    }
   ],
   "source": [
    "np.mean(estimates_list)"
   ]
  },
  {
   "cell_type": "markdown",
   "id": "10b60b16-a7e2-4b7c-b80f-46047a1c5755",
   "metadata": {},
   "source": [
    "## Fix one dataset for DML investigation"
   ]
  },
  {
   "cell_type": "code",
   "execution_count": 6,
   "id": "c52825e0-1e41-451e-8b95-b8c7d44c278b",
   "metadata": {},
   "outputs": [
    {
     "name": "stdout",
     "output_type": "stream",
     "text": [
      "Percentage of treated units: 0.586\n"
     ]
    }
   ],
   "source": [
    "#np.random.seed(seed=123)\n",
    "N = 1000\n",
    "y_data, d_data, x_data = get_data(N)\n",
    "print(f'Percentage of treated units: {np.mean(d_data)}')"
   ]
  },
  {
   "cell_type": "code",
   "execution_count": 7,
   "id": "77f816b4-cb5c-49b1-b1a4-f692fd376869",
   "metadata": {},
   "outputs": [
    {
     "data": {
      "text/plain": [
       "0.40209560830598723"
      ]
     },
     "execution_count": 7,
     "metadata": {},
     "output_type": "execute_result"
    }
   ],
   "source": [
    "np.mean(np.abs(g_0(d_data, x_data) - y_data))"
   ]
  },
  {
   "cell_type": "code",
   "execution_count": 8,
   "id": "31699576-0e37-420a-97c5-70db159b418d",
   "metadata": {},
   "outputs": [],
   "source": [
    "N_train = int(0.8 * N)\n",
    "y_train, d_train, x_train = y_data[:N_train], d_data[:N_train], x_data[:N_train]\n",
    "y_eval, d_eval, x_eval = y_data[N_train:], d_data[N_train:], x_data[N_train:]"
   ]
  },
  {
   "cell_type": "markdown",
   "id": "e3bcf71b-4c6f-4927-a604-a04257b5cfa9",
   "metadata": {},
   "source": [
    "How well does xgboost perform?"
   ]
  },
  {
   "cell_type": "markdown",
   "id": "8e8f09a3-f131-4b9c-b8c3-14804ed4577d",
   "metadata": {},
   "source": [
    "For $g_0(1,\\cdot)=E[Y|D=1,X]$:"
   ]
  },
  {
   "cell_type": "code",
   "execution_count": 9,
   "id": "e6ef03aa-1856-4cdc-aaab-fbfd5d13a195",
   "metadata": {},
   "outputs": [
    {
     "name": "stdout",
     "output_type": "stream",
     "text": [
      "Best Hyperparameters: {'max_depth': 2, 'n_estimators': 30}\n",
      "Best Score (neg_mean_squared_error): -0.38155146411847934\n"
     ]
    }
   ],
   "source": [
    "model_1 = xgb.XGBRegressor()\n",
    "\n",
    "# Define the hyperparameter grid to search\n",
    "param_grid = {\n",
    "    'n_estimators': [3, 5, 10, 15, 20, 25, 30, 40, 50, 100],\n",
    "    'max_depth': [2, 3, 4, 5, 6]\n",
    "}\n",
    "\n",
    "# Create GridSearchCV\n",
    "grid_search = GridSearchCV(estimator=model_1, param_grid=param_grid, cv=5, scoring='neg_mean_squared_error')\n",
    "\n",
    "# Fit the model to the training data\n",
    "grid_search.fit(x_data[d_data==1], y_data[d_data==1])\n",
    "\n",
    "# Print the best hyperparameters\n",
    "print(\"Best Hyperparameters:\", grid_search.best_params_)\n",
    "\n",
    "# Evaluate the best model on the test set\n",
    "best_model = grid_search.best_estimator_\n",
    "#test_predictions = best_model.predict(X_test)\n",
    "\n",
    "# You can also access other information, such as the best score\n",
    "print(\"Best Score (neg_mean_squared_error):\", grid_search.best_score_)"
   ]
  },
  {
   "cell_type": "code",
   "execution_count": 11,
   "id": "5ac5b7be-a2b2-443a-a9aa-8ee21b4fff21",
   "metadata": {},
   "outputs": [
    {
     "name": "stdout",
     "output_type": "stream",
     "text": [
      "Training error: 0.1975437121094898\n",
      "Evaluation error: 0.24601998351384202\n"
     ]
    }
   ],
   "source": [
    "model_1 = xgb.XGBRegressor(n_estimators=30, max_depth=2)\n",
    "model_1.fit(X=x_train[d_train==1], y=y_train[d_train==1])\n",
    "print(f'Training error: {np.mean(np.abs(model_1.predict(x_train) - g_0(1, x_train)))}')\n",
    "print(f'Evaluation error: {np.mean(np.abs(model_1.predict(x_eval) - g_0(1, x_eval)))}')"
   ]
  },
  {
   "cell_type": "markdown",
   "id": "5fc4ad48-a7bd-4bb9-8fa5-aebbcc406810",
   "metadata": {},
   "source": [
    "For $g_0(0,\\cdot)=E[Y|D=0,X]$:"
   ]
  },
  {
   "cell_type": "code",
   "execution_count": 10,
   "id": "f9258adb-fae1-4536-b04c-abbc2c2f8542",
   "metadata": {},
   "outputs": [
    {
     "name": "stdout",
     "output_type": "stream",
     "text": [
      "Best Hyperparameters: {'max_depth': 2, 'n_estimators': 10}\n",
      "Best Score (neg_mean_squared_error): -0.4710312644976419\n"
     ]
    }
   ],
   "source": [
    "model_0 = xgb.XGBRegressor()\n",
    "\n",
    "# Define the hyperparameter grid to search\n",
    "param_grid = {\n",
    "    'n_estimators': [3, 5, 10, 15, 20, 25, 30, 40, 50, 100],\n",
    "    'max_depth': [2, 3, 4, 5, 6]\n",
    "}\n",
    "\n",
    "# Create GridSearchCV\n",
    "grid_search = GridSearchCV(estimator=model_0, param_grid=param_grid, cv=5, scoring='neg_mean_squared_error')\n",
    "\n",
    "# Fit the model to the training data\n",
    "grid_search.fit(x_data[d_data==0], y_data[d_data==0])\n",
    "\n",
    "# Print the best hyperparameters\n",
    "print(\"Best Hyperparameters:\", grid_search.best_params_)\n",
    "\n",
    "# Evaluate the best model on the test set\n",
    "best_model = grid_search.best_estimator_\n",
    "#test_predictions = best_model.predict(X_test)\n",
    "\n",
    "# You can also access other information, such as the best score\n",
    "print(\"Best Score (neg_mean_squared_error):\", grid_search.best_score_)"
   ]
  },
  {
   "cell_type": "code",
   "execution_count": 12,
   "id": "92f012c4-cca5-4f60-983e-2399d88b00f1",
   "metadata": {},
   "outputs": [
    {
     "name": "stdout",
     "output_type": "stream",
     "text": [
      "Training error: 0.16683957571952596\n",
      "Evaluation error: 0.18885368916250603\n"
     ]
    }
   ],
   "source": [
    "model_0 = xgb.XGBRegressor(n_estimators=10, max_depth=2)\n",
    "model_0.fit(X=x_train[d_train==0], y=y_train[d_train==0])\n",
    "print(f'Training error: {np.mean(np.abs(model_0.predict(x_train) - g_0(0, x_train)))}')\n",
    "print(f'Evaluation error: {np.mean(np.abs(model_0.predict(x_eval) - g_0(0, x_eval)))}')"
   ]
  },
  {
   "cell_type": "markdown",
   "id": "2c526add-1fed-4e48-9e2a-896d2eea1f58",
   "metadata": {},
   "source": [
    "For $m_0=E[D|X]$:"
   ]
  },
  {
   "cell_type": "code",
   "execution_count": 13,
   "id": "773b45f9-d447-4b7e-b5ba-1263c13dc115",
   "metadata": {},
   "outputs": [
    {
     "name": "stdout",
     "output_type": "stream",
     "text": [
      "Best Hyperparameters: {'max_depth': 2, 'n_estimators': 15}\n",
      "Best Score (neg_mean_squared_error): -0.1805219203233719\n"
     ]
    }
   ],
   "source": [
    "model_m = xgb.XGBRegressor()\n",
    "\n",
    "# Define the hyperparameter grid to search\n",
    "param_grid = {\n",
    "    'n_estimators': [3, 5, 10, 15, 20, 25, 30, 40, 50, 100],\n",
    "    'max_depth': [2, 3, 4, 5, 6]\n",
    "}\n",
    "\n",
    "# Create GridSearchCV\n",
    "grid_search = GridSearchCV(estimator=model_m, param_grid=param_grid, cv=5, scoring='neg_mean_squared_error')\n",
    "\n",
    "# Fit the model to the training data\n",
    "grid_search.fit(x_data, d_data)\n",
    "\n",
    "# Print the best hyperparameters\n",
    "print(\"Best Hyperparameters:\", grid_search.best_params_)\n",
    "\n",
    "# Evaluate the best model on the test set\n",
    "best_model = grid_search.best_estimator_\n",
    "#test_predictions = best_model.predict(X_test)\n",
    "\n",
    "# You can also access other information, such as the best score\n",
    "print(\"Best Score (neg_mean_squared_error):\", grid_search.best_score_)"
   ]
  },
  {
   "cell_type": "code",
   "execution_count": 14,
   "id": "05b4a6b3-bd2e-4666-9410-05b943830be5",
   "metadata": {},
   "outputs": [
    {
     "name": "stdout",
     "output_type": "stream",
     "text": [
      "Training error: 0.07277646602258346\n",
      "Evaluation error: 0.0689038133493082\n"
     ]
    }
   ],
   "source": [
    "model_m = xgb.XGBRegressor(n_estimators=15, max_depth=2)\n",
    "model_m.fit(X=x_train, y=d_train)\n",
    "print(f'Training error: {np.mean(np.abs(model_m.predict(x_train) - m_0(x_train)))}')\n",
    "print(f'Evaluation error: {np.mean(np.abs(model_m.predict(x_eval) - m_0(x_eval)))}')"
   ]
  },
  {
   "cell_type": "markdown",
   "id": "750421b0-808a-4610-a16f-ee02c37dc11f",
   "metadata": {},
   "source": [
    "## DML algorithm"
   ]
  },
  {
   "cell_type": "code",
   "execution_count": 37,
   "id": "e9f2bfcc-bc3c-47c3-800b-fb3fb10eb4b5",
   "metadata": {},
   "outputs": [],
   "source": [
    "# Neyman orthogonal score\n",
    "def psi_ate(h_0, h_1, h_2, y, d, x, theta):\n",
    "    return h_1(x) - h_0(x) + d*(y-h_1(x))/h_2(x) - (1-d)*(y-h_0(x))/(1-h_2(x)) - theta"
   ]
  },
  {
   "cell_type": "code",
   "execution_count": 15,
   "id": "83f05438-66a6-40ee-9a97-848550ef83df",
   "metadata": {},
   "outputs": [],
   "source": [
    "def dml_ate(K, y_data, d_data, x_data):\n",
    "    # Generate random partition of data for cross-fitting\n",
    "    indices = np.arange(N)\n",
    "    kf = KFold(n_splits=K, shuffle=True)#, random_state=42)\n",
    "\n",
    "    # Compute respective ML estimators and thereupon auxiliary estimators\n",
    "    theta_0_check = []\n",
    "    for (train_indices, eval_indices) in kf.split(x_data):\n",
    "        y_train, d_train, x_train = y_data[train_indices], d_data[train_indices], x_data[train_indices]\n",
    "        y_eval, d_eval, x_eval = y_data[eval_indices], d_data[eval_indices], x_data[eval_indices]\n",
    "\n",
    "        # Estimate outcome regression functions g_0(d)\n",
    "        g_0_hat = []\n",
    "        hyperparam = [[10, 2], [30, 2]]\n",
    "        for d in [0,1]:\n",
    "            model = xgb.XGBRegressor(n_estimators=hyperparam[d][0], max_depth=hyperparam[d][1])\n",
    "            model.fit(X=x_train[d_train==d], y=y_train[d_train==d])\n",
    "            g_0_hat.append(model.predict(x_eval))\n",
    "\n",
    "        # Estimate propensity score m_0\n",
    "        model = xgb.XGBRegressor(n_estimators=15, max_depth=2)\n",
    "        model.fit(X=x_train, y=d_train)\n",
    "        m_0_hat = model.predict(x_eval)\n",
    "            \n",
    "        # Compute auxiliary estimator\n",
    "        theta_0_check.append(np.mean(g_0_hat[1] - g_0_hat[0] + d_eval*(y_eval-g_0_hat[1])/m_0_hat\n",
    "                                     - (1-d_eval)*(y_eval-g_0_hat[0])/(1-m_0_hat)))\n",
    "\n",
    "    # Compute final estimator\n",
    "    theta_0_hat = np.mean(theta_0_check)\n",
    "\n",
    "    return theta_0_hat"
   ]
  },
  {
   "cell_type": "code",
   "execution_count": 32,
   "id": "38177b28-6644-4083-84b4-76994bf2ce32",
   "metadata": {},
   "outputs": [
    {
     "name": "stdout",
     "output_type": "stream",
     "text": [
      "CPU times: total: 984 ms\n",
      "Wall time: 297 ms\n"
     ]
    },
    {
     "data": {
      "text/plain": [
       "0.9471989353452092"
      ]
     },
     "execution_count": 32,
     "metadata": {},
     "output_type": "execute_result"
    }
   ],
   "source": [
    "%%time\n",
    "K = 5\n",
    "dml_ate(K, y_data, d_data, x_data)"
   ]
  },
  {
   "cell_type": "markdown",
   "id": "f50d4c6d-71aa-4038-8b7d-29304b4c30b8",
   "metadata": {},
   "source": [
    "## MC simulation of DML"
   ]
  },
  {
   "cell_type": "code",
   "execution_count": 34,
   "id": "34b71c75-63b6-4e9b-9bf8-2bec53b10289",
   "metadata": {},
   "outputs": [
    {
     "data": {
      "image/png": "[encoded data removed]",
      "text/plain": [
       "<Figure size 640x480 with 1 Axes>"
      ]
     },
     "metadata": {},
     "output_type": "display_data"
    },
    {
     "name": "stdout",
     "output_type": "stream",
     "text": [
      "CPU times: total: 53.1 s\n",
      "Wall time: 15.4 s\n"
     ]
    }
   ],
   "source": [
    "%%time\n",
    "N = 1000\n",
    "n_MC = 50\n",
    "K = 5\n",
    "estimates_list = []\n",
    "\n",
    "for j in range(n_MC):\n",
    "    y_data, d_data, x_data = get_data(N)\n",
    "    estimate = dml_ate(K, y_data, d_data, x_data)\n",
    "    estimates_list.append(estimate)\n",
    "    \n",
    "plt.hist(estimates_list, bins = 25)\n",
    "plt.show()"
   ]
  },
  {
   "cell_type": "code",
   "execution_count": 385,
   "id": "8028e89b-4abf-42e7-b8cd-332d9e337539",
   "metadata": {},
   "outputs": [
    {
     "data": {
      "text/plain": [
       "0.5131633955414944"
      ]
     },
     "execution_count": 385,
     "metadata": {},
     "output_type": "execute_result"
    }
   ],
   "source": [
    "estimates_list.sort()\n",
    "np.mean(estimates_list[100:4900])"
   ]
  },
  {
   "cell_type": "code",
   "execution_count": 386,
   "id": "a5231859-43b8-4d50-9b6b-46b3b465b484",
   "metadata": {},
   "outputs": [
    {
     "data": {
      "image/png": "[encoded data removed]",
      "text/plain": [
       "<Figure size 640x480 with 1 Axes>"
      ]
     },
     "metadata": {},
     "output_type": "display_data"
    }
   ],
   "source": [
    "plt.hist(estimates_list[125:4850], bins=30)\n",
    "plt.show()"
   ]
  }
 ],
 "metadata": {
  "kernelspec": {
   "display_name": "Python 3 (ipykernel)",
   "language": "python",
   "name": "python3"
  },
  "language_info": {
   "codemirror_mode": {
    "name": "ipython",
    "version": 3
   },
   "file_extension": ".py",
   "mimetype": "text/x-python",
   "name": "python",
   "nbconvert_exporter": "python",
   "pygments_lexer": "ipython3",
   "version": "3.11.7"
  }
 },
 "nbformat": 4,
 "nbformat_minor": 5
}
