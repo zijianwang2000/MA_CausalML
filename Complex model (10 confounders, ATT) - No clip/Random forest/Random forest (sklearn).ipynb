{
 "cells": [
  {
   "cell_type": "code",
   "execution_count": 1,
   "id": "9d8b9520-76fe-4a6a-8d04-820193c1e154",
   "metadata": {},
   "outputs": [],
   "source": [
    "import numpy as np\n",
    "import pickle\n",
    "from sklearn.ensemble import RandomForestRegressor, RandomForestClassifier\n",
    "from sklearn.preprocessing import PolynomialFeatures\n",
    "from sklearn.model_selection import train_test_split, StratifiedKFold\n",
    "from sklearn.calibration import CalibratedClassifierCV\n",
    "from scipy.stats import norm\n",
    "from data_generation import m_0, g_0, get_data\n",
    "from dml_algorithm import mm_ate, dml_ate"
   ]
  },
  {
   "cell_type": "code",
   "execution_count": 71,
   "id": "2873daf8-5eb6-4bdd-9c03-1f456da24fba",
   "metadata": {},
   "outputs": [],
   "source": [
    "rng = np.random.default_rng(seed=52)"
   ]
  },
  {
   "cell_type": "code",
   "execution_count": null,
   "id": "c58a6e48-ee1e-4263-a68e-c16b35dc98d5",
   "metadata": {},
   "outputs": [],
   "source": [
    "param_grid = {\n",
    "    'n_estimators': [50, 100, 250, 500, 750, 1000, 1500],\n",
    "    'max_features': ['sqrt', None],\n",
    "    'max_depth': [2, 3, 5, 10, 25, 50, 75, 100, None],\n",
    "    'min_samples_split': [2, 5, 10],\n",
    "    'min_samples_leaf': [1, 2, 4],\n",
    "    'bootstrap': [True, False]\n",
    "}"
   ]
  },
  {
   "cell_type": "code",
   "execution_count": 72,
   "id": "f033f58a-d97a-42a4-bb13-8c09a11dea00",
   "metadata": {},
   "outputs": [],
   "source": [
    "N = 1000\n",
    "y_data, d_data, x_data = get_data(N, rng)\n",
    "poly_features = PolynomialFeatures(degree=2, include_bias=False)\n",
    "x_quad_data = poly_features.fit_transform(x_data)\n",
    "y_train, y_test, d_train, d_test, x_train, x_test, x_quad_train, x_quad_test = train_test_split(y_data, d_data, x_data, x_quad_data, test_size=0.2, random_state=42)"
   ]
  },
  {
   "cell_type": "code",
   "execution_count": 78,
   "id": "8f42da65-d9d7-487e-a11b-fa144758ddb9",
   "metadata": {},
   "outputs": [],
   "source": [
    "model_g0 = RandomForestRegressor(random_state=42, n_estimators=1000, max_features=7, max_depth=None, min_samples_split=5, min_samples_leaf=1, bootstrap=True, n_jobs=-1)\n",
    "model_g1 = RandomForestRegressor(random_state=42, n_estimators=3000, max_features=None, max_depth=None, min_samples_split=2, min_samples_leaf=2, bootstrap=True, n_jobs=-1)\n",
    "model_m = RandomForestClassifier(random_state=42, n_estimators=500, max_features=None, max_depth=None, min_samples_split=10, min_samples_leaf=2, bootstrap=True, n_jobs=-1, criterion='log_loss')\n",
    "model_m_cal = CalibratedClassifierCV(estimator=model_m)"
   ]
  },
  {
   "cell_type": "code",
   "execution_count": 79,
   "id": "94b3c714-dd31-47c8-9411-0771a1e51e4c",
   "metadata": {},
   "outputs": [
    {
     "name": "stdout",
     "output_type": "stream",
     "text": [
      "[0.79725611 0.19794241 0.72364294 0.10786439 0.19233962 0.06937673\n",
      " 0.37745344 0.34720019 0.35534233 0.55712368 0.38523661 0.65564241\n",
      " 0.44207671 0.8740306  0.59157068 0.23672224 0.27446384 0.29161449\n",
      " 0.17923891 0.95982061]\n",
      "[0.80183283 0.31578077 0.93521705 0.11438564 0.11887484 0.02775527\n",
      " 0.70874655 0.3218635  0.22443098 0.53061413 0.29491439 0.6279986\n",
      " 0.72483571 0.92664436 0.65926708 0.09909001 0.18709786 0.11430445\n",
      " 0.26947625 0.92591083]\n",
      "CPU times: total: 9.66 s\n",
      "Wall time: 3.42 s\n"
     ]
    }
   ],
   "source": [
    "%%time\n",
    "model_m.fit(x_train, d_train)\n",
    "print(model_m.predict_proba(x_test)[:20,1])\n",
    "#model_m_cal.fit(x_train, d_train)\n",
    "#print(model_m_cal.predict_proba(x_test)[:20,1])\n",
    "#model_m.fit(x_quad_train, d_train)\n",
    "#print(model_m.predict_proba(x_quad_test)[:20,1])\n",
    "print(m_0(x_test[:20]))"
   ]
  },
  {
   "cell_type": "code",
   "execution_count": 80,
   "id": "148a22d3-691c-429e-b6c3-59f30b8ae2e2",
   "metadata": {},
   "outputs": [
    {
     "name": "stdout",
     "output_type": "stream",
     "text": [
      "[4.14186313 0.16686231 1.15574408 4.06131284 4.54840574 2.7854677\n",
      " 1.42812493 4.43484332 4.09689307 5.13020626 7.20812882 9.07780883\n",
      " 1.08751528 4.64984098 4.02795264 4.33150031 5.96622452 6.19479607\n",
      " 3.1980504  7.06568572]\n",
      "[ 3.84506293 -1.24326249 -0.45863705  3.61281905  4.80426886  4.27924561\n",
      " -0.07285784  4.01833526  5.09961717  3.24182035  8.473771    9.84352192\n",
      " -1.65098076  3.47460378  1.81637801  2.88803741  6.24923843  7.01017636\n",
      "  4.98867164  9.07313702]\n",
      "CPU times: total: 6.09 s\n",
      "Wall time: 2.62 s\n"
     ]
    }
   ],
   "source": [
    "%%time\n",
    "model_g0.fit(x_train[d_train==0], y_train[d_train==0])\n",
    "print(model_g0.predict(x_test[:20]))\n",
    "#model_g0.fit(x_quad_train[d_train==0], y_train[d_train==0])\n",
    "#print(model_g0.predict(x_quad_test[:20]))\n",
    "print(g_0(0, x_test[:20]))"
   ]
  },
  {
   "cell_type": "code",
   "execution_count": 81,
   "id": "770a8b8d-f9c2-4abb-8cd7-e69007ac4136",
   "metadata": {},
   "outputs": [
    {
     "name": "stdout",
     "output_type": "stream",
     "text": [
      "[4.28121007 2.68105406 3.43556799 2.27687406 3.42003553 3.15311604\n",
      " 3.22819238 6.02844515 4.049979   2.19190771 5.80536054 6.47352303\n",
      " 2.00865454 3.52678276 2.51892547 4.39021861 5.12010114 4.75760288\n",
      " 4.09620485 8.50525225]\n",
      "[ 3.07326319 -0.16413246  1.94438713  3.83527339  5.66194741  5.64682301\n",
      "  2.76119456  4.96268592  3.99945626  3.35898226  7.32967574  8.78848658\n",
      " -2.00690975  3.14170146  2.39733893  4.21944944  5.95996794  6.9728264\n",
      "  6.03134291  9.37462294]\n",
      "CPU times: total: 19.2 s\n",
      "Wall time: 7.53 s\n"
     ]
    }
   ],
   "source": [
    "%%time\n",
    "model_g1.fit(x_train[d_train==1], y_train[d_train==1])\n",
    "print(model_g1.predict(x_test[:20]))\n",
    "#model_g1.fit(x_quad_train[d_train==1], y_train[d_train==1])\n",
    "#print(model_g1.predict(x_quad_test[:20]))\n",
    "print(g_0(1, x_test[:20]))"
   ]
  },
  {
   "cell_type": "code",
   "execution_count": 82,
   "id": "d3eaaa8a-d795-4cc7-bca3-0e6b698b9e72",
   "metadata": {},
   "outputs": [
    {
     "name": "stdout",
     "output_type": "stream",
     "text": [
      "CPU times: total: 3min 2s\n",
      "Wall time: 1min 21s\n"
     ]
    },
    {
     "data": {
      "text/plain": [
       "(array([ 0.17023191, -0.31031668,  0.20763143]),\n",
       " 7.451553299279383,\n",
       " array([-0.29161167,  0.63207548]))"
      ]
     },
     "execution_count": 82,
     "metadata": {},
     "output_type": "execute_result"
    }
   ],
   "source": [
    "%%time\n",
    "model_g = [model_g0, model_g1]\n",
    "dml_ate(y_data, d_data, x_data, model_g, model_m)"
   ]
  },
  {
   "cell_type": "markdown",
   "id": "8ea0af34-4672-49cc-af23-4b1b131feefb",
   "metadata": {},
   "source": [
    "Hyperparameters"
   ]
  },
  {
   "cell_type": "code",
   "execution_count": 50,
   "id": "68327efc-5554-4a55-9e6c-62e40f217ee1",
   "metadata": {},
   "outputs": [],
   "source": [
    "with open('opt_params_rf.pkl', 'rb') as pickle_file:\n",
    "    rf_params_dict_dict = pickle.load(pickle_file)"
   ]
  },
  {
   "cell_type": "code",
   "execution_count": 51,
   "id": "7416191f-f79f-42f1-9a42-f55c379b6ffb",
   "metadata": {},
   "outputs": [
    {
     "data": {
      "text/plain": [
       "dict_keys(['n_estimators', 'min_samples_split', 'min_samples_leaf', 'max_features', 'max_depth', 'bootstrap'])"
      ]
     },
     "execution_count": 51,
     "metadata": {},
     "output_type": "execute_result"
    }
   ],
   "source": [
    "rf_params_dict_dict[250][0]['m'].keys()"
   ]
  },
  {
   "cell_type": "code",
   "execution_count": 76,
   "id": "6f9804f7-bf20-419f-b111-5658c4e97cb0",
   "metadata": {},
   "outputs": [
    {
     "name": "stdout",
     "output_type": "stream",
     "text": [
      "g0 2\n",
      "g1 2\n",
      "m 2\n",
      "g0 1\n",
      "g1 2\n",
      "m 2\n",
      "g0 1\n",
      "g1 2\n",
      "m 2\n",
      "g0 1\n",
      "g1 2\n",
      "m 8\n",
      "g0 2\n",
      "g1 2\n",
      "m 6\n",
      "g0 2\n",
      "g1 2\n",
      "m 8\n",
      "g0 2\n",
      "g1 1\n",
      "m 8\n"
     ]
    }
   ],
   "source": [
    "for rf_params_dict in rf_params_dict_dict.values():\n",
    "    for name, params in rf_params_dict[0].items():\n",
    "        print(name, params['min_samples_leaf'])"
   ]
  }
 ],
 "metadata": {
  "kernelspec": {
   "display_name": "Python 3 (ipykernel)",
   "language": "python",
   "name": "python3"
  },
  "language_info": {
   "codemirror_mode": {
    "name": "ipython",
    "version": 3
   },
   "file_extension": ".py",
   "mimetype": "text/x-python",
   "name": "python",
   "nbconvert_exporter": "python",
   "pygments_lexer": "ipython3",
   "version": "3.11.5"
  }
 },
 "nbformat": 4,
 "nbformat_minor": 5
}
