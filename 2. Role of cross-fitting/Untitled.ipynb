{
 "cells": [
  {
   "cell_type": "code",
   "execution_count": 1,
   "id": "eeaef8fd-0e82-4f91-901e-3c89f25646e3",
   "metadata": {},
   "outputs": [],
   "source": [
    "import numpy as np"
   ]
  },
  {
   "cell_type": "code",
   "execution_count": 12,
   "id": "e0988e94-09ff-48cf-9c12-366728124966",
   "metadata": {},
   "outputs": [
    {
     "data": {
      "text/plain": [
       "{155, 310, 625, 1250, 2500, 5000, 10000, 20000}"
      ]
     },
     "execution_count": 12,
     "metadata": {},
     "output_type": "execute_result"
    }
   ],
   "source": [
    "sample_sizes = np.array([250, 500, 1000, 2000, 4000, 8000, 16000])\n",
    "sample_sizes_cf = set(list(sample_sizes//8*5) + list(sample_sizes//4*5))\n",
    "sample_sizes_cf"
   ]
  },
  {
   "cell_type": "code",
   "execution_count": 15,
   "id": "814ec5e0-908e-4b7b-92c9-f4ce29ae9ca4",
   "metadata": {},
   "outputs": [
    {
     "data": {
      "text/plain": [
       "array([  124.,   248.,   500.,  1000.,  2000.,  4000.,  8000., 16000.])"
      ]
     },
     "execution_count": 15,
     "metadata": {},
     "output_type": "execute_result"
    }
   ],
   "source": [
    "np.array([155, 310, 625, 1250, 2500, 5000, 10000, 20000]) * 4/5"
   ]
  }
 ],
 "metadata": {
  "kernelspec": {
   "display_name": "Python 3 (ipykernel)",
   "language": "python",
   "name": "python3"
  },
  "language_info": {
   "codemirror_mode": {
    "name": "ipython",
    "version": 3
   },
   "file_extension": ".py",
   "mimetype": "text/x-python",
   "name": "python",
   "nbconvert_exporter": "python",
   "pygments_lexer": "ipython3",
   "version": "3.11.5"
  }
 },
 "nbformat": 4,
 "nbformat_minor": 5
}
