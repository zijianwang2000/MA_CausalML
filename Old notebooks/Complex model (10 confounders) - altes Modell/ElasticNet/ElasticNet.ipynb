{
 "cells": [
  {
   "cell_type": "code",
   "execution_count": 1,
   "id": "9d8b9520-76fe-4a6a-8d04-820193c1e154",
   "metadata": {},
   "outputs": [],
   "source": [
    "import numpy as np\n",
    "import pickle\n",
    "from sklearn.linear_model import ElasticNetCV, LogisticRegressionCV\n",
    "from sklearn.preprocessing import PolynomialFeatures\n",
    "from sklearn.model_selection import train_test_split, StratifiedKFold\n",
    "from scipy.stats import norm\n",
    "from data_generation import m_0, g_0, get_data\n",
    "from dml_algorithm import mm_ate, dml_ate"
   ]
  },
  {
   "cell_type": "code",
   "execution_count": 2,
   "id": "2873daf8-5eb6-4bdd-9c03-1f456da24fba",
   "metadata": {},
   "outputs": [],
   "source": [
    "rng = np.random.default_rng(seed=123)"
   ]
  },
  {
   "cell_type": "code",
   "execution_count": 36,
   "id": "f033f58a-d97a-42a4-bb13-8c09a11dea00",
   "metadata": {},
   "outputs": [],
   "source": [
    "N = 1000\n",
    "y_data, d_data, x_data = get_data(N, rng)\n",
    "poly_features = PolynomialFeatures(degree=2, include_bias=False)\n",
    "x_quad_data = poly_features.fit_transform(x_data)\n",
    "y_train, y_test, d_train, d_test, x_train, x_test, x_quad_train, x_quad_test = train_test_split(y_data, d_data, x_data, x_quad_data, test_size=0.2, random_state=42)"
   ]
  },
  {
   "cell_type": "code",
   "execution_count": 29,
   "id": "f8206bfd-82cf-45e6-9d86-281d6868e4a4",
   "metadata": {},
   "outputs": [
    {
     "data": {
      "text/plain": [
       "(1000, 65)"
      ]
     },
     "execution_count": 29,
     "metadata": {},
     "output_type": "execute_result"
    }
   ],
   "source": [
    "x_quad_data.shape"
   ]
  },
  {
   "cell_type": "code",
   "execution_count": 5,
   "id": "796cf5ba-58bc-4dc3-b1f4-475253869728",
   "metadata": {},
   "outputs": [],
   "source": [
    "l1_ratio = [0.1, 0.5, 0.7, 0.9, 0.95, 0.99, 1]\n",
    "alphas = [0.01, 0.1, 1, 10]"
   ]
  },
  {
   "cell_type": "code",
   "execution_count": 34,
   "id": "24575e62-de15-49d3-9cef-887f5e177eef",
   "metadata": {},
   "outputs": [],
   "source": [
    "model_g0, model_g1 = ElasticNetCV(l1_ratio=l1_ratio, n_alphas=10, max_iter=5000, n_jobs=-1), ElasticNetCV(l1_ratio=l1_ratio, n_alphas=10, max_iter=5000, n_jobs=-1)\n",
    "model_m = LogisticRegressionCV(Cs=10, \n",
    "                               l1_ratios=[0, 0.1, 0.2, 0.4, 0.6, 0.8, 0.9, 1], \n",
    "                               penalty='elasticnet',\n",
    "                               solver='saga',\n",
    "                               max_iter=1000,\n",
    "                               random_state=42,\n",
    "                               scoring='neg_brier_score',\n",
    "                               n_jobs=-1\n",
    "                              )"
   ]
  },
  {
   "cell_type": "code",
   "execution_count": 40,
   "id": "94b3c714-dd31-47c8-9411-0771a1e51e4c",
   "metadata": {},
   "outputs": [
    {
     "name": "stdout",
     "output_type": "stream",
     "text": [
      "[0.35938137] [0.4]\n",
      "[0.65530287 0.34426363 0.78521342 0.42528583 0.61254706 0.16327408\n",
      " 0.11498294 0.7869402  0.09314605 0.12055676 0.24243482 0.55597915\n",
      " 0.346746   0.16667187 0.79156349 0.10929253 0.65779104 0.1372743\n",
      " 0.29954441 0.12651258]\n",
      "[0.67398685 0.27666477 0.79479683 0.47609634 0.59113221 0.13442404\n",
      " 0.07547721 0.75637009 0.07581332 0.10944503 0.21667395 0.4856324\n",
      " 0.24384477 0.15223573 0.81350598 0.07733635 0.59520922 0.14626221\n",
      " 0.28698479 0.10549508]\n",
      "CPU times: total: 2.56 s\n",
      "Wall time: 899 ms\n"
     ]
    }
   ],
   "source": [
    "%%time\n",
    "model_m.fit(x_train, d_train)\n",
    "print(model_m.C_, model_m.l1_ratio_)\n",
    "print(model_m.predict_proba(x_test)[:20,1])\n",
    "print(m_0(x_test[:20]))"
   ]
  },
  {
   "cell_type": "code",
   "execution_count": 114,
   "id": "e862bd45-f92b-422f-9bc3-916631554197",
   "metadata": {
    "collapsed": true,
    "jupyter": {
     "outputs_hidden": true
    }
   },
   "outputs": [
    {
     "name": "stderr",
     "output_type": "stream",
     "text": [
      "C:\\Users\\henry\\MA_CausalML\\dml\\Lib\\site-packages\\sklearn\\linear_model\\_sag.py:350: ConvergenceWarning: The max_iter was reached which means the coef_ did not converge\n",
      "  warnings.warn(\n",
      "C:\\Users\\henry\\MA_CausalML\\dml\\Lib\\site-packages\\sklearn\\linear_model\\_sag.py:350: ConvergenceWarning: The max_iter was reached which means the coef_ did not converge\n",
      "  warnings.warn(\n",
      "C:\\Users\\henry\\MA_CausalML\\dml\\Lib\\site-packages\\sklearn\\linear_model\\_sag.py:350: ConvergenceWarning: The max_iter was reached which means the coef_ did not converge\n",
      "  warnings.warn(\n",
      "C:\\Users\\henry\\MA_CausalML\\dml\\Lib\\site-packages\\sklearn\\linear_model\\_sag.py:350: ConvergenceWarning: The max_iter was reached which means the coef_ did not converge\n",
      "  warnings.warn(\n",
      "C:\\Users\\henry\\MA_CausalML\\dml\\Lib\\site-packages\\sklearn\\linear_model\\_sag.py:350: ConvergenceWarning: The max_iter was reached which means the coef_ did not converge\n",
      "  warnings.warn(\n",
      "C:\\Users\\henry\\MA_CausalML\\dml\\Lib\\site-packages\\sklearn\\linear_model\\_sag.py:350: ConvergenceWarning: The max_iter was reached which means the coef_ did not converge\n",
      "  warnings.warn(\n",
      "C:\\Users\\henry\\MA_CausalML\\dml\\Lib\\site-packages\\sklearn\\linear_model\\_sag.py:350: ConvergenceWarning: The max_iter was reached which means the coef_ did not converge\n",
      "  warnings.warn(\n",
      "C:\\Users\\henry\\MA_CausalML\\dml\\Lib\\site-packages\\sklearn\\linear_model\\_sag.py:350: ConvergenceWarning: The max_iter was reached which means the coef_ did not converge\n",
      "  warnings.warn(\n",
      "C:\\Users\\henry\\MA_CausalML\\dml\\Lib\\site-packages\\sklearn\\linear_model\\_sag.py:350: ConvergenceWarning: The max_iter was reached which means the coef_ did not converge\n",
      "  warnings.warn(\n",
      "C:\\Users\\henry\\MA_CausalML\\dml\\Lib\\site-packages\\sklearn\\linear_model\\_sag.py:350: ConvergenceWarning: The max_iter was reached which means the coef_ did not converge\n",
      "  warnings.warn(\n",
      "C:\\Users\\henry\\MA_CausalML\\dml\\Lib\\site-packages\\sklearn\\linear_model\\_sag.py:350: ConvergenceWarning: The max_iter was reached which means the coef_ did not converge\n",
      "  warnings.warn(\n",
      "C:\\Users\\henry\\MA_CausalML\\dml\\Lib\\site-packages\\sklearn\\linear_model\\_sag.py:350: ConvergenceWarning: The max_iter was reached which means the coef_ did not converge\n",
      "  warnings.warn(\n",
      "C:\\Users\\henry\\MA_CausalML\\dml\\Lib\\site-packages\\sklearn\\linear_model\\_sag.py:350: ConvergenceWarning: The max_iter was reached which means the coef_ did not converge\n",
      "  warnings.warn(\n",
      "C:\\Users\\henry\\MA_CausalML\\dml\\Lib\\site-packages\\sklearn\\linear_model\\_sag.py:350: ConvergenceWarning: The max_iter was reached which means the coef_ did not converge\n",
      "  warnings.warn(\n",
      "C:\\Users\\henry\\MA_CausalML\\dml\\Lib\\site-packages\\sklearn\\linear_model\\_sag.py:350: ConvergenceWarning: The max_iter was reached which means the coef_ did not converge\n",
      "  warnings.warn(\n",
      "C:\\Users\\henry\\MA_CausalML\\dml\\Lib\\site-packages\\sklearn\\linear_model\\_sag.py:350: ConvergenceWarning: The max_iter was reached which means the coef_ did not converge\n",
      "  warnings.warn(\n",
      "C:\\Users\\henry\\MA_CausalML\\dml\\Lib\\site-packages\\sklearn\\linear_model\\_sag.py:350: ConvergenceWarning: The max_iter was reached which means the coef_ did not converge\n",
      "  warnings.warn(\n",
      "C:\\Users\\henry\\MA_CausalML\\dml\\Lib\\site-packages\\sklearn\\linear_model\\_sag.py:350: ConvergenceWarning: The max_iter was reached which means the coef_ did not converge\n",
      "  warnings.warn(\n",
      "C:\\Users\\henry\\MA_CausalML\\dml\\Lib\\site-packages\\sklearn\\linear_model\\_sag.py:350: ConvergenceWarning: The max_iter was reached which means the coef_ did not converge\n",
      "  warnings.warn(\n",
      "C:\\Users\\henry\\MA_CausalML\\dml\\Lib\\site-packages\\sklearn\\linear_model\\_sag.py:350: ConvergenceWarning: The max_iter was reached which means the coef_ did not converge\n",
      "  warnings.warn(\n",
      "C:\\Users\\henry\\MA_CausalML\\dml\\Lib\\site-packages\\sklearn\\linear_model\\_sag.py:350: ConvergenceWarning: The max_iter was reached which means the coef_ did not converge\n",
      "  warnings.warn(\n",
      "C:\\Users\\henry\\MA_CausalML\\dml\\Lib\\site-packages\\sklearn\\linear_model\\_sag.py:350: ConvergenceWarning: The max_iter was reached which means the coef_ did not converge\n",
      "  warnings.warn(\n",
      "C:\\Users\\henry\\MA_CausalML\\dml\\Lib\\site-packages\\sklearn\\linear_model\\_sag.py:350: ConvergenceWarning: The max_iter was reached which means the coef_ did not converge\n",
      "  warnings.warn(\n",
      "C:\\Users\\henry\\MA_CausalML\\dml\\Lib\\site-packages\\sklearn\\linear_model\\_sag.py:350: ConvergenceWarning: The max_iter was reached which means the coef_ did not converge\n",
      "  warnings.warn(\n",
      "C:\\Users\\henry\\MA_CausalML\\dml\\Lib\\site-packages\\sklearn\\linear_model\\_sag.py:350: ConvergenceWarning: The max_iter was reached which means the coef_ did not converge\n",
      "  warnings.warn(\n",
      "C:\\Users\\henry\\MA_CausalML\\dml\\Lib\\site-packages\\sklearn\\linear_model\\_sag.py:350: ConvergenceWarning: The max_iter was reached which means the coef_ did not converge\n",
      "  warnings.warn(\n",
      "C:\\Users\\henry\\MA_CausalML\\dml\\Lib\\site-packages\\sklearn\\linear_model\\_sag.py:350: ConvergenceWarning: The max_iter was reached which means the coef_ did not converge\n",
      "  warnings.warn(\n",
      "C:\\Users\\henry\\MA_CausalML\\dml\\Lib\\site-packages\\sklearn\\linear_model\\_sag.py:350: ConvergenceWarning: The max_iter was reached which means the coef_ did not converge\n",
      "  warnings.warn(\n",
      "C:\\Users\\henry\\MA_CausalML\\dml\\Lib\\site-packages\\sklearn\\linear_model\\_sag.py:350: ConvergenceWarning: The max_iter was reached which means the coef_ did not converge\n",
      "  warnings.warn(\n",
      "C:\\Users\\henry\\MA_CausalML\\dml\\Lib\\site-packages\\sklearn\\linear_model\\_sag.py:350: ConvergenceWarning: The max_iter was reached which means the coef_ did not converge\n",
      "  warnings.warn(\n"
     ]
    },
    {
     "name": "stdout",
     "output_type": "stream",
     "text": [
      "[0.1] [0.7]\n",
      "[0.03693531 0.18404655 0.69069903 0.41196625 0.69500165 0.33635643\n",
      " 0.56763541 0.40901834 0.23107324 0.76968027 0.60815894 0.08349949\n",
      " 0.24164982 0.89614622 0.35362007 0.40155253 0.43111714 0.18631722\n",
      " 0.32110142 0.02323991]\n",
      "[0.02989884 0.18599423 0.77968065 0.31913693 0.70306652 0.32809337\n",
      " 0.59935589 0.58673348 0.24429792 0.67730265 0.64347342 0.06659785\n",
      " 0.33693052 0.90120211 0.24828482 0.53668259 0.53383136 0.15935715\n",
      " 0.79567006 0.02883646]\n",
      "CPU times: total: 4min 32s\n",
      "Wall time: 1min 15s\n"
     ]
    }
   ],
   "source": [
    "\"\"\"\n",
    "%%time\n",
    "model_m.fit(x_quad_train, d_train)\n",
    "print(model_m.C_, model_m.l1_ratio_)\n",
    "print(model_m.predict_proba(x_quad_test)[:20,1])\n",
    "print(m_0(x_test[:20]))\n",
    "\"\"\""
   ]
  },
  {
   "cell_type": "markdown",
   "id": "d9b1d4d5-c6c3-4bb4-af9c-af26d08643ba",
   "metadata": {},
   "source": [
    "In logistic regression, we do not include second-order interaction terms due to true model and since convergence issues and not-converged model was still very bad and model without interaction terms was much better!"
   ]
  },
  {
   "cell_type": "code",
   "execution_count": 8,
   "id": "148a22d3-691c-429e-b6c3-59f30b8ae2e2",
   "metadata": {},
   "outputs": [
    {
     "name": "stdout",
     "output_type": "stream",
     "text": [
      "0.025849035195606464 1.0\n",
      "[ 1.03364465  8.01197109  5.65525088  5.01021965  9.30271151  5.25332556\n",
      " -0.29075156  9.0914986   4.67652837  5.97021037  7.43185531  1.59118454\n",
      "  3.84284257  4.76637962  4.37386203  5.55270384 11.2162964   4.65450948\n",
      "  8.0948331   4.03303047]\n",
      "[ 1.96422327  9.38049098  4.81121536  4.13197859  9.07879928  5.48112904\n",
      "  1.64736247  9.0274919   3.77133351  6.56564005  8.27090455 -0.11310208\n",
      "  2.83579848  3.93886505  3.37506486  4.75874102 10.68547325  4.37337197\n",
      "  8.47965583  2.97486236]\n",
      "CPU times: total: 234 ms\n",
      "Wall time: 272 ms\n"
     ]
    }
   ],
   "source": [
    "%%time\n",
    "model_g0.fit(x_train[d_train==0], y_train[d_train==0])\n",
    "print(model_g0.alpha_, model_g0.l1_ratio_)\n",
    "print(model_g0.predict(x_test[:20]))\n",
    "print(g_0(0, x_test[:20]))"
   ]
  },
  {
   "cell_type": "code",
   "execution_count": 37,
   "id": "83e54c2f-7e33-42fe-87c4-8aa60e8e9642",
   "metadata": {},
   "outputs": [
    {
     "name": "stdout",
     "output_type": "stream",
     "text": [
      "0.011058396761094985 1.0\n",
      "[ 2.85169028  7.55173744 -1.30857376  3.58920301  0.09110727 10.97848495\n",
      "  4.90955892  3.94447434  8.55901768  8.63218063  6.8549028   7.02917165\n",
      "  2.20027856  5.82673646  0.51688255 10.18889384  4.41675355  6.16231684\n",
      "  7.20989856  0.80145022]\n",
      "[ 2.9069639   7.76035032 -1.12517216  3.65768366 -1.2483757  10.88963269\n",
      "  4.44757963  3.74039443  8.49520391  8.45428855  7.07058588  7.12166139\n",
      "  2.41714607  5.752593    0.94168628 10.4485586   4.77793121  5.90215175\n",
      "  6.91013412  1.34034997]\n",
      "CPU times: total: 453 ms\n",
      "Wall time: 273 ms\n"
     ]
    }
   ],
   "source": [
    "%%time\n",
    "model_g0.fit(x_quad_train[d_train==0], y_train[d_train==0])\n",
    "print(model_g0.alpha_, model_g0.l1_ratio_)\n",
    "print(model_g0.predict(x_quad_test[:20]))\n",
    "print(g_0(0, x_test[:20]))"
   ]
  },
  {
   "cell_type": "code",
   "execution_count": 23,
   "id": "770a8b8d-f9c2-4abb-8cd7-e69007ac4136",
   "metadata": {},
   "outputs": [
    {
     "name": "stdout",
     "output_type": "stream",
     "text": [
      "0.01 0.1\n",
      "[ 5.16540176  7.78540839  3.79566213  4.06821275  4.4594141   8.05288531\n",
      "  1.79014551  5.86656702  8.64134184  8.14282038  3.78477313 -0.57869564\n",
      "  0.39006149  2.2482847   5.91850482  5.75824314  4.1980805   9.57597934\n",
      " 11.24850319  3.74846144]\n",
      "[ 6.24751738  5.98585963  4.83808863  3.04843426  4.21928007 10.01507928\n",
      "  1.04538262  4.55878404  7.12833787  6.87695721  1.94768289 -2.0836684\n",
      " -0.59349964  1.4324121   4.4307337   6.38487366  3.44725359 10.02198399\n",
      " 11.5393095   3.08063252]\n",
      "CPU times: total: 125 ms\n",
      "Wall time: 267 ms\n"
     ]
    }
   ],
   "source": [
    "%%time\n",
    "model_g1.fit(x_train[d_train==1], y_train[d_train==1])\n",
    "print(model_g1.alpha_, model_g1.l1_ratio_)\n",
    "print(model_g1.predict(x_test[:20]))\n",
    "print(g_0(1, x_test[:20]))"
   ]
  },
  {
   "cell_type": "code",
   "execution_count": 38,
   "id": "6556f91d-2585-44c1-aec8-d098c7dd49b1",
   "metadata": {},
   "outputs": [
    {
     "name": "stdout",
     "output_type": "stream",
     "text": [
      "0.01978755694136917 1.0\n",
      "[1.12354448 8.91932664 1.33544538 4.23823897 3.38980467 8.80389061\n",
      " 3.71949256 3.41790846 9.48183047 8.25795606 7.81233819 7.18241624\n",
      " 1.35377837 6.94168989 2.50659482 9.82551106 6.10591686 7.10986202\n",
      " 5.71284254 2.02107083]\n",
      "[ 1.10463491  9.3327495   0.68046758  4.65615573  1.4740322   9.51278878\n",
      "  3.42169578  3.34434293  9.16902013  8.10162345  8.21442261  7.20844959\n",
      "  1.16212478  6.93920743  2.83287328 11.00949914  6.24141967  7.1067113\n",
      "  5.81822982  1.84928451]\n",
      "CPU times: total: 344 ms\n",
      "Wall time: 263 ms\n"
     ]
    }
   ],
   "source": [
    "%%time\n",
    "model_g1.fit(x_quad_train[d_train==1], y_train[d_train==1])\n",
    "print(model_g1.alpha_, model_g1.l1_ratio_)\n",
    "print(model_g1.predict(x_quad_test[:20]))\n",
    "print(g_0(1, x_test[:20]))"
   ]
  },
  {
   "cell_type": "code",
   "execution_count": 25,
   "id": "a5c2a909-8100-4783-af08-668e2385b0f8",
   "metadata": {},
   "outputs": [],
   "source": [
    "def dml_ate(y_data, d_data, x_data, x_quad_data, model_g, model_m, K=5, classical=True, inference=True, alpha=0.05):\n",
    "    # Generate random partition of data for cross-fitting\n",
    "    N = len(y_data)\n",
    "    skf = StratifiedKFold(n_splits=K, shuffle=True, random_state=42)\n",
    "\n",
    "    # Compute respective ML estimators and thereupon auxiliary estimators\n",
    "    theta_0_check_list = []\n",
    "    if classical:\n",
    "        reg_check_list, ipw_check_list = [], []\n",
    "    if inference:\n",
    "        scores_list = []\n",
    "    \n",
    "    for (train_indices, eval_indices) in skf.split(X=x_data, y=d_data):\n",
    "        y_train, d_train, x_train, x_quad_train = y_data[train_indices], d_data[train_indices], x_data[train_indices], x_quad_data[train_indices] \n",
    "        y_eval, d_eval, x_eval, x_quad_eval = y_data[eval_indices], d_data[eval_indices], x_data[eval_indices], x_quad_data[eval_indices] \n",
    "\n",
    "        # Estimate outcome regression functions g_0(d)\n",
    "        g_0_hat = []\n",
    "        for d in [0, 1]:\n",
    "            model_g[d].fit(X=x_quad_train[d_train==d], y=y_train[d_train==d])\n",
    "            g_0_hat.append(model_g[d].predict(x_quad_eval))\n",
    "\n",
    "        # Estimate propensity score m_0\n",
    "        model_m.fit(X=x_train, y=d_train)\n",
    "        m_0_hat = model_m.predict_proba(x_eval)[:,1]\n",
    "            \n",
    "        # Compute auxiliary estimator\n",
    "        scores = g_0_hat[1] - g_0_hat[0] + d_eval*(y_eval-g_0_hat[1])/m_0_hat - (1-d_eval)*(y_eval-g_0_hat[0])/(1-m_0_hat)\n",
    "        theta_0_check_list.append(np.mean(scores))\n",
    "\n",
    "        # For variance estimation\n",
    "        if inference:\n",
    "            scores_list.append(scores)\n",
    "\n",
    "        # For regression & IPW estimators\n",
    "        if classical:\n",
    "            reg_check_list.append(np.mean(g_0_hat[1] - g_0_hat[0])) \n",
    "            ipw_check_list.append(np.mean(d_eval*y_eval/m_0_hat - (1-d_eval)*y_eval/(1-m_0_hat)))     \n",
    "\n",
    "    # Compute final estimator\n",
    "    theta_0_hat = np.mean(theta_0_check_list)\n",
    "    if classical:\n",
    "        reg_hat, ipw_hat = np.mean(reg_check_list), np.mean(ipw_check_list)\n",
    "\n",
    "    # Inference: estimate variance and construct confidence interval\n",
    "    if inference:\n",
    "        sigma_hat = np.sqrt(np.mean((np.array(scores_list)-theta_0_hat)**2))\n",
    "        quantile = norm.ppf(1-alpha/2)\n",
    "        CI = np.array([theta_0_hat-quantile*sigma_hat/np.sqrt(N), theta_0_hat+quantile*sigma_hat/np.sqrt(N)])\n",
    "\n",
    "    # Return results\n",
    "    if classical:\n",
    "        if inference:\n",
    "            return np.array([theta_0_hat, reg_hat, ipw_hat]), sigma_hat, CI\n",
    "        else:\n",
    "            return np.array([theta_0_hat, reg_hat, ipw_hat])\n",
    "    else:\n",
    "        if inference:\n",
    "            return theta_0_hat, sigma_hat, CI\n",
    "        else:\n",
    "            return theta_0_hat"
   ]
  },
  {
   "cell_type": "code",
   "execution_count": 53,
   "id": "d3eaaa8a-d795-4cc7-bca3-0e6b698b9e72",
   "metadata": {},
   "outputs": [
    {
     "name": "stdout",
     "output_type": "stream",
     "text": [
      "CPU times: total: 8.69 s\n",
      "Wall time: 3.6 s\n"
     ]
    },
    {
     "data": {
      "text/plain": [
       "(array([0.62729263, 0.56263539, 0.25905684]),\n",
       " 2.760932977028119,\n",
       " array([0.45617138, 0.79841388]))"
      ]
     },
     "execution_count": 53,
     "metadata": {},
     "output_type": "execute_result"
    }
   ],
   "source": [
    "%%time\n",
    "model_g = [model_g0, model_g1]\n",
    "dml_ate(y_data, d_data, x_data, x_quad_data, model_g, model_m)"
   ]
  }
 ],
 "metadata": {
  "kernelspec": {
   "display_name": "Python 3 (ipykernel)",
   "language": "python",
   "name": "python3"
  },
  "language_info": {
   "codemirror_mode": {
    "name": "ipython",
    "version": 3
   },
   "file_extension": ".py",
   "mimetype": "text/x-python",
   "name": "python",
   "nbconvert_exporter": "python",
   "pygments_lexer": "ipython3",
   "version": "3.11.5"
  }
 },
 "nbformat": 4,
 "nbformat_minor": 5
}
