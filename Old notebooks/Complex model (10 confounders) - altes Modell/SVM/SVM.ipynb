{
 "cells": [
  {
   "cell_type": "code",
   "execution_count": 1,
   "id": "1cd9387f-c220-44d3-addb-cef628676048",
   "metadata": {},
   "outputs": [],
   "source": [
    "import numpy as np\n",
    "from sklearn.svm import SVR, SVC, LinearSVR, LinearSVC\n",
    "from sklearn.model_selection import GridSearchCV, train_test_split\n",
    "from sklearn.calibration import CalibratedClassifierCV\n",
    "from data_generation import get_data, g_0, m_0\n",
    "from ml_models import get_model_m, get_model_g\n",
    "from dml_algorithm import dml_ate"
   ]
  },
  {
   "cell_type": "code",
   "execution_count": 2,
   "id": "c6ae2418-42d2-4d6b-bc3c-b2d649ef0f25",
   "metadata": {},
   "outputs": [],
   "source": [
    "rng = np.random.default_rng(seed=42)"
   ]
  },
  {
   "cell_type": "code",
   "execution_count": 65,
   "id": "8b1d26c2-9d4c-4c18-9130-aacb3fd36c05",
   "metadata": {},
   "outputs": [],
   "source": [
    "N = 2000\n",
    "y_data, d_data, x_data = get_data(N, rng)\n",
    "y_train, y_test, d_train, d_test, x_train, x_test = train_test_split(y_data, d_data, x_data, test_size=0.2, random_state=42)"
   ]
  },
  {
   "cell_type": "code",
   "execution_count": 66,
   "id": "dffd0366-48fa-49b2-9eb8-e0d6c8b960ae",
   "metadata": {},
   "outputs": [],
   "source": [
    "model_g0, model_g1 = LinearSVR(dual='auto', max_iter=2500), LinearSVR(dual='auto', max_iter=2500)\n",
    "model_m = CalibratedClassifierCV(estimator=LinearSVC(dual='auto', max_iter=2500)) #, n_jobs=-1\n",
    "model_m_nonlinear = SVC(probability=True, random_state=42)"
   ]
  },
  {
   "cell_type": "code",
   "execution_count": 67,
   "id": "2e9fb0a9-2010-4a04-95c5-a1dafaf9bcc9",
   "metadata": {},
   "outputs": [
    {
     "name": "stdout",
     "output_type": "stream",
     "text": [
      "[0.60485627 0.29968854 0.52736136 0.25401708 0.64742263 0.3694982\n",
      " 0.14884836 0.4843868  0.67344888 0.26837934 0.53853743 0.10862596\n",
      " 0.44890228 0.4467778  0.30750706 0.76262885 0.42810266 0.36593837\n",
      " 0.1634676  0.46501755]\n"
     ]
    }
   ],
   "source": [
    "model_m_nonlinear.fit(x_train, d_train)\n",
    "print(model_m_nonlinear.predict_proba(x_test)[:20,1])"
   ]
  },
  {
   "cell_type": "code",
   "execution_count": 68,
   "id": "90e7efc4-f568-4255-811a-c6c09ec8650b",
   "metadata": {},
   "outputs": [
    {
     "name": "stdout",
     "output_type": "stream",
     "text": [
      "[0.77865401 0.28529552 0.52399473 0.21187097 0.71483329 0.36747679\n",
      " 0.21275911 0.44823947 0.84845244 0.31918226 0.61958862 0.09412965\n",
      " 0.56548691 0.6232501  0.40453398 0.704828   0.32395574 0.38388663\n",
      " 0.16141041 0.5626135 ]\n",
      "[0.83187818 0.25823867 0.58951401 0.20381279 0.72388698 0.39303329\n",
      " 0.20888606 0.5086755  0.8978375  0.39509225 0.6086003  0.0954005\n",
      " 0.58603231 0.61484161 0.38291112 0.76633555 0.34977621 0.45467357\n",
      " 0.21964476 0.57454044]\n",
      "CPU times: total: 62.5 ms\n",
      "Wall time: 73.7 ms\n"
     ]
    }
   ],
   "source": [
    "%%time\n",
    "model_m.fit(x_train, d_train)\n",
    "print(model_m.predict_proba(x_test)[:20,1])\n",
    "print(m_0(x_test[:20]))"
   ]
  },
  {
   "cell_type": "code",
   "execution_count": 7,
   "id": "f9a1ed32-393c-4ba8-8153-d8837a55798c",
   "metadata": {},
   "outputs": [
    {
     "name": "stdout",
     "output_type": "stream",
     "text": [
      "[-0.78173141  0.30313703  2.90054586  1.13767755  1.98670908  4.22057655\n",
      "  6.83429797  8.70135277  3.63499673  7.47601521  4.52370501  2.10789304\n",
      "  3.61239182  5.06141432  2.59417429  1.48209818  5.92067223  2.56904601\n",
      "  1.43833343  3.16899719]\n",
      "[-0.37587051  2.69627016  2.02086517  2.79051761  1.99831557  3.49612863\n",
      "  6.32549494 10.61562091  3.37291078  9.15138507  3.96434201  2.03191128\n",
      "  3.09661065  4.74037632  2.30164594  2.38750621  5.86916474  1.98684077\n",
      "  1.18209388  4.99912948]\n",
      "CPU times: total: 62.5 ms\n",
      "Wall time: 115 ms\n"
     ]
    }
   ],
   "source": [
    "%%time\n",
    "model_g0.fit(x_train[d_train==0], y_train[d_train==0])\n",
    "print(model_g0.predict(x_test[:20]))\n",
    "print(g_0(0, x_test[:20]))"
   ]
  },
  {
   "cell_type": "code",
   "execution_count": 8,
   "id": "0784959e-5a3a-4420-984d-47e3245fa48c",
   "metadata": {},
   "outputs": [
    {
     "name": "stdout",
     "output_type": "stream",
     "text": [
      "[0.79131711 0.32978026 2.04131291 2.19077042 2.52778668 3.53044148\n",
      " 7.11595151 8.50334853 5.89062787 7.10953625 4.64543103 3.23967675\n",
      " 3.83653026 5.85732953 3.27153862 3.7852954  3.99316109 2.1443544\n",
      " 1.12828251 3.48715826]\n",
      "[0.90193897 2.91504961 1.19098654 3.69058595 2.74056392 2.60898902\n",
      " 6.4891349  9.80995146 6.44321947 8.38270697 4.04521336 3.08347733\n",
      " 3.11994487 5.42606548 2.82474951 5.08378817 4.5084311  1.92677582\n",
      " 1.02831776 5.68516164]\n",
      "CPU times: total: 78.1 ms\n",
      "Wall time: 92.9 ms\n"
     ]
    }
   ],
   "source": [
    "%%time\n",
    "model_g1.fit(x_train[d_train==1], y_train[d_train==1])\n",
    "print(model_g1.predict(x_test[:20]))\n",
    "print(g_0(1, x_test[:20]))"
   ]
  },
  {
   "cell_type": "code",
   "execution_count": null,
   "id": "bac72398-487d-4bec-9bc2-aa9bcd0d663d",
   "metadata": {},
   "outputs": [],
   "source": [
    "C, max_iter"
   ]
  },
  {
   "cell_type": "code",
   "execution_count": null,
   "id": "bdcbc626-62f6-4018-95e5-26ce6aaf00ec",
   "metadata": {},
   "outputs": [],
   "source": [
    "param_grid = {\n",
    "    'C': [0.1, 1, 10, 100]\n",
    "}"
   ]
  },
  {
   "cell_type": "code",
   "execution_count": 255,
   "id": "2ab65ea6-94c7-415f-8cd3-52fc12d6c1c0",
   "metadata": {},
   "outputs": [
    {
     "name": "stdout",
     "output_type": "stream",
     "text": [
      "CPU times: total: 3.02 s\n",
      "Wall time: 3 s\n"
     ]
    },
    {
     "data": {
      "text/plain": [
       "(array([0.51908536, 0.55552273, 0.45258778]),\n",
       " 5.451014995427961,\n",
       " array([0.43462256, 0.60354816]))"
      ]
     },
     "execution_count": 255,
     "metadata": {},
     "output_type": "execute_result"
    }
   ],
   "source": [
    "%%time\n",
    "N = 16000\n",
    "y_data, d_data, x_data = get_data(N, rng)\n",
    "model_g0, model_g1 = LinearSVR(C=5, dual='auto', max_iter=5000, random_state=42), LinearSVR(C=5, dual='auto', max_iter=5000, random_state=42)\n",
    "model_g = [model_g0, model_g1]\n",
    "model_m = CalibratedClassifierCV(estimator=LinearSVC(C=5, dual='auto', max_iter=5000, random_state=42)) #, n_jobs=-1\n",
    "dml_ate(y_data, d_data, x_data, model_g, model_m, K=5, classical=True, inference=True, alpha=0.05)"
   ]
  },
  {
   "cell_type": "code",
   "execution_count": 46,
   "id": "e12a5a18-2800-4a07-a994-a1ecddcf631d",
   "metadata": {},
   "outputs": [
    {
     "name": "stdout",
     "output_type": "stream",
     "text": [
      "CPU times: total: 984 ms\n",
      "Wall time: 986 ms\n"
     ]
    },
    {
     "data": {
      "text/plain": [
       "(array([0.5423967 , 0.64183653, 0.10269771]),\n",
       " 4.224612415082437,\n",
       " array([0.28055733, 0.80423608]))"
      ]
     },
     "execution_count": 46,
     "metadata": {},
     "output_type": "execute_result"
    }
   ],
   "source": [
    "%%time\n",
    "model_g0, model_g1 = LinearSVR(dual='auto', max_iter=2500, random_state=42), LinearSVR(dual='auto', max_iter=2500, random_state=42)\n",
    "model_g = [model_g0, model_g1]\n",
    "model_m = SVC(probability=True, random_state=42)\n",
    "dml_ate(y_data, d_data, x_data, model_g, model_m, K=5, classical=True, inference=True, alpha=0.05)"
   ]
  },
  {
   "cell_type": "code",
   "execution_count": null,
   "id": "728c6bee-0e30-4237-92cc-3b3ec94c429b",
   "metadata": {},
   "outputs": [],
   "source": []
  },
  {
   "cell_type": "code",
   "execution_count": null,
   "id": "d1886ad1-9209-4c83-b625-14d90f399580",
   "metadata": {},
   "outputs": [],
   "source": []
  },
  {
   "cell_type": "code",
   "execution_count": null,
   "id": "e6e59ebe-6fa5-403d-8201-e8b0dcaaaab5",
   "metadata": {},
   "outputs": [],
   "source": []
  },
  {
   "cell_type": "code",
   "execution_count": 193,
   "id": "4f4737b0-32bf-4f85-aa04-bdf71ace0470",
   "metadata": {},
   "outputs": [],
   "source": [
    "def svm_cv(y_data, d_data, x_data, cv=5):\n",
    "    model_g = LinearSVR(dual='auto', max_iter=5000, random_state=42)\n",
    "    #model_m = CalibratedClassifierCV(estimator=LinearSVC(dual='auto', max_iter=5000, random_state=42))\n",
    "    model_m = SVC(kernel='linear', probability=True, random_state=42)\n",
    "    \n",
    "    param_grid = {\n",
    "        'C': [0.1, 1, 3, 10, 5]\n",
    "    }\n",
    "\n",
    "    grid_search_g = GridSearchCV(estimator=model_g, param_grid=param_grid, cv=cv, n_jobs=-1,\n",
    "                                 scoring='neg_mean_squared_error')\n",
    "    grid_search_m = GridSearchCV(estimator=model_m, param_grid=param_grid, cv=cv, n_jobs=-1,\n",
    "                                 scoring='neg_brier_score')\n",
    "\n",
    "    svm_params_dict = {}\n",
    "    for d in [0, 1]:\n",
    "        grid_search_g.fit(X=x_data[d_data == d], y=y_data[d_data == d])\n",
    "        svm_params_dict[f'g{d}'] = grid_search_g.best_params_\n",
    "    grid_search_m.fit(X=x_data, y=d_data)\n",
    "    svm_params_dict['m'] = grid_search_m.best_params_\n",
    "\n",
    "    return svm_params_dict"
   ]
  },
  {
   "cell_type": "code",
   "execution_count": 198,
   "id": "fe1cdf8d-b771-44a3-83da-13b5beb5e510",
   "metadata": {},
   "outputs": [
    {
     "name": "stdout",
     "output_type": "stream",
     "text": [
      "{'g0': {'C': 10}, 'g1': {'C': 5}, 'm': {'C': 10}}\n",
      "{'g0': {'C': 5}, 'g1': {'C': 3}, 'm': {'C': 10}}\n"
     ]
    },
    {
     "name": "stderr",
     "output_type": "stream",
     "text": [
      "C:\\Users\\henry\\MA_CausalML\\dml\\Lib\\site-packages\\sklearn\\svm\\_base.py:1237: ConvergenceWarning: Liblinear failed to converge, increase the number of iterations.\n",
      "  warnings.warn(\n"
     ]
    },
    {
     "name": "stdout",
     "output_type": "stream",
     "text": [
      "{'g0': {'C': 10}, 'g1': {'C': 10}, 'm': {'C': 1}}\n"
     ]
    }
   ],
   "source": [
    "for N in [250, 500, 1000]:#, 2000, 4000, 8000, 16000]:\n",
    "    y_data, d_data, x_data = get_data(N, rng)\n",
    "    svm_params_dict = svm_cv(y_data, d_data, x_data)\n",
    "    print(svm_params_dict)"
   ]
  },
  {
   "cell_type": "code",
   "execution_count": null,
   "id": "8e284fdf-be10-4ef1-9469-7f6f73bc8891",
   "metadata": {},
   "outputs": [],
   "source": [
    "choose C=5!"
   ]
  }
 ],
 "metadata": {
  "kernelspec": {
   "display_name": "Python 3 (ipykernel)",
   "language": "python",
   "name": "python3"
  },
  "language_info": {
   "codemirror_mode": {
    "name": "ipython",
    "version": 3
   },
   "file_extension": ".py",
   "mimetype": "text/x-python",
   "name": "python",
   "nbconvert_exporter": "python",
   "pygments_lexer": "ipython3",
   "version": "3.11.5"
  }
 },
 "nbformat": 4,
 "nbformat_minor": 5
}
