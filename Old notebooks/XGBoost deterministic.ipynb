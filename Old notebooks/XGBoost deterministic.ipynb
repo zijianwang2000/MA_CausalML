{
 "cells": [
  {
   "cell_type": "code",
   "execution_count": 1,
   "id": "ae5e87c1-8b0a-419a-8403-369b71d86585",
   "metadata": {},
   "outputs": [],
   "source": [
    "import numpy as np\n",
    "import sklearn\n",
    "import xgboost as xgb\n",
    "\n",
    "from sklearn.model_selection import GridSearchCV \n",
    "from data_generation import get_data"
   ]
  },
  {
   "cell_type": "code",
   "execution_count": 90,
   "id": "c98c30d0-709a-4a3d-86ba-a263c8ce3d41",
   "metadata": {},
   "outputs": [],
   "source": [
    "#np.random.seed(seed=123)\n",
    "N = 10000\n",
    "y_data, d_data, x_data = get_data(N)"
   ]
  },
  {
   "cell_type": "markdown",
   "id": "b280928c-80db-4bb2-a21f-062241716ca0",
   "metadata": {},
   "source": [
    "XGBRegressor(objective='reg:logistic') and XGBClassifier(objective='binary:logistic') are the same algorithms under the hood. "
   ]
  },
  {
   "cell_type": "code",
   "execution_count": 99,
   "id": "12a4a126-21e0-4e04-9c32-698149e0c66d",
   "metadata": {},
   "outputs": [
    {
     "data": {
      "text/plain": [
       "array([0.86036175, 0.80998915, 0.63795793, 0.197225  , 0.6864021 ,\n",
       "       0.68612653, 0.25093997, 0.88650364, 0.72481173, 0.66614354,\n",
       "       0.96310997, 0.25210655, 0.21577947, 0.5704212 , 0.2631983 ],\n",
       "      dtype=float32)"
      ]
     },
     "execution_count": 99,
     "metadata": {},
     "output_type": "execute_result"
    }
   ],
   "source": [
    "xgb_model_m = xgb.XGBRegressor(objective='reg:logistic', n_estimators=25, max_depth=3, subsample=0.7)\n",
    "xgb_model_m.fit(X=x_data, y=d_data)\n",
    "xgb_model_m.predict(x_data[-15:])"
   ]
  },
  {
   "cell_type": "code",
   "execution_count": 100,
   "id": "918522a1-d1bc-4843-809a-2a0c3a176356",
   "metadata": {},
   "outputs": [
    {
     "data": {
      "text/plain": [
       "array([0.86036175, 0.80998915, 0.63795793, 0.197225  , 0.6864021 ,\n",
       "       0.68612653, 0.25093997, 0.88650364, 0.72481173, 0.66614354,\n",
       "       0.96310997, 0.25210655, 0.21577947, 0.5704212 , 0.2631983 ],\n",
       "      dtype=float32)"
      ]
     },
     "execution_count": 100,
     "metadata": {},
     "output_type": "execute_result"
    }
   ],
   "source": [
    "#xgb_model_m = xgb.XGBRegressor(objective='reg:logistic', n_estimators=25, max_depth=3, seed=3, subsample=0.7)\n",
    "xgb_model_m.fit(X=x_data, y=d_data)\n",
    "xgb_model_m.predict(x_data[-15:])"
   ]
  },
  {
   "cell_type": "code",
   "execution_count": 101,
   "id": "d60e22b3-bd3b-426b-9ecc-104e3c145bb0",
   "metadata": {},
   "outputs": [
    {
     "data": {
      "text/plain": [
       "array([0.86036175, 0.80998915, 0.63795793, 0.197225  , 0.6864021 ,\n",
       "       0.68612653, 0.25093997, 0.88650364, 0.72481173, 0.66614354,\n",
       "       0.96310997, 0.25210655, 0.21577947, 0.5704212 , 0.2631983 ],\n",
       "      dtype=float32)"
      ]
     },
     "execution_count": 101,
     "metadata": {},
     "output_type": "execute_result"
    }
   ],
   "source": [
    "xgb_model_m = xgb.XGBClassifier(objective='binary:logistic', n_estimators=25, max_depth=3, seed=0, subsample=0.7)\n",
    "xgb_model_m.fit(X=x_data, y=d_data)\n",
    "xgb_model_m.predict_proba(x_data[-15:])[:,1]"
   ]
  },
  {
   "cell_type": "code",
   "execution_count": 41,
   "id": "70e4d9ee-19d0-4c7e-9cc7-e7ca51425d6b",
   "metadata": {},
   "outputs": [
    {
     "data": {
      "text/plain": [
       "1.430021543509957"
      ]
     },
     "execution_count": 41,
     "metadata": {},
     "output_type": "execute_result"
    }
   ],
   "source": [
    "np.random.uniform(1,2)"
   ]
  }
 ],
 "metadata": {
  "kernelspec": {
   "display_name": "Python 3 (ipykernel)",
   "language": "python",
   "name": "python3"
  },
  "language_info": {
   "codemirror_mode": {
    "name": "ipython",
    "version": 3
   },
   "file_extension": ".py",
   "mimetype": "text/x-python",
   "name": "python",
   "nbconvert_exporter": "python",
   "pygments_lexer": "ipython3",
   "version": "3.11.5"
  }
 },
 "nbformat": 4,
 "nbformat_minor": 5
}
