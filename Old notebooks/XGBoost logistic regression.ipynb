{
 "cells": [
  {
   "cell_type": "code",
   "execution_count": 1,
   "id": "ae5e87c1-8b0a-419a-8403-369b71d86585",
   "metadata": {},
   "outputs": [],
   "source": [
    "import numpy as np\n",
    "import sklearn\n",
    "import xgboost as xgb\n",
    "\n",
    "from sklearn.model_selection import GridSearchCV \n",
    "from data_generation import get_data"
   ]
  },
  {
   "cell_type": "code",
   "execution_count": 2,
   "id": "c98c30d0-709a-4a3d-86ba-a263c8ce3d41",
   "metadata": {},
   "outputs": [],
   "source": [
    "np.random.seed(seed=123)\n",
    "N = 1000\n",
    "y_data, d_data, x_data = get_data(N)"
   ]
  },
  {
   "cell_type": "markdown",
   "id": "b280928c-80db-4bb2-a21f-062241716ca0",
   "metadata": {},
   "source": [
    "XGBRegressor(objective='reg:logistic') and XGBClassifier(objective='binary:logistic') are the same algorithms under the hood. "
   ]
  },
  {
   "cell_type": "code",
   "execution_count": 3,
   "id": "12a4a126-21e0-4e04-9c32-698149e0c66d",
   "metadata": {},
   "outputs": [
    {
     "data": {
      "text/plain": [
       "array([0.89653105, 0.53149956, 0.9260376 , 0.73061   , 0.57376504,\n",
       "       0.79329354, 0.8108675 , 0.93139756, 0.58864594, 0.7045877 ,\n",
       "       0.85751104, 0.8302279 , 0.6523029 , 0.4519204 , 0.5249612 ],\n",
       "      dtype=float32)"
      ]
     },
     "execution_count": 3,
     "metadata": {},
     "output_type": "execute_result"
    }
   ],
   "source": [
    "xgb_model_m = xgb.XGBRegressor(objective='reg:logistic', n_estimators=25, max_depth=3)\n",
    "xgb_model_m.fit(X=x_data, y=d_data)\n",
    "xgb_model_m.predict(x_data[-15:])"
   ]
  },
  {
   "cell_type": "code",
   "execution_count": 4,
   "id": "d60e22b3-bd3b-426b-9ecc-104e3c145bb0",
   "metadata": {},
   "outputs": [
    {
     "data": {
      "text/plain": [
       "array([0.89653105, 0.53149956, 0.9260376 , 0.73061   , 0.57376504,\n",
       "       0.79329354, 0.8108675 , 0.93139756, 0.58864594, 0.7045877 ,\n",
       "       0.85751104, 0.8302279 , 0.6523029 , 0.4519204 , 0.5249612 ],\n",
       "      dtype=float32)"
      ]
     },
     "execution_count": 4,
     "metadata": {},
     "output_type": "execute_result"
    }
   ],
   "source": [
    "xgb_model_m = xgb.XGBClassifier(objective='binary:logistic', n_estimators=25, max_depth=3)\n",
    "xgb_model_m.fit(X=x_data, y=d_data)\n",
    "xgb_model_m.predict_proba(x_data[-15:])[:,1]"
   ]
  },
  {
   "cell_type": "markdown",
   "id": "0255f558-836c-4f3c-8082-35f4f7845778",
   "metadata": {},
   "source": [
    "For our purposes, eval_metric does not change anything."
   ]
  },
  {
   "cell_type": "code",
   "execution_count": 6,
   "id": "ec737afc-577c-4c56-8e05-826af3dea46d",
   "metadata": {},
   "outputs": [
    {
     "name": "stdout",
     "output_type": "stream",
     "text": [
      "[0]\tvalidation_0-rmse:1.25899\n",
      "[1]\tvalidation_0-rmse:1.24150\n",
      "[2]\tvalidation_0-rmse:1.22811\n",
      "[3]\tvalidation_0-rmse:1.21620\n",
      "[4]\tvalidation_0-rmse:1.20903\n",
      "[5]\tvalidation_0-rmse:1.19743\n",
      "[6]\tvalidation_0-rmse:1.19167\n",
      "[7]\tvalidation_0-rmse:1.18830\n",
      "[8]\tvalidation_0-rmse:1.18273\n",
      "[9]\tvalidation_0-rmse:1.17783\n",
      "[10]\tvalidation_0-rmse:1.17502\n",
      "[11]\tvalidation_0-rmse:1.17247\n",
      "[12]\tvalidation_0-rmse:1.17180\n",
      "[13]\tvalidation_0-rmse:1.17059\n",
      "[14]\tvalidation_0-rmse:1.16843\n",
      "[15]\tvalidation_0-rmse:1.16665\n",
      "[16]\tvalidation_0-rmse:1.16583\n",
      "[17]\tvalidation_0-rmse:1.16557\n",
      "[18]\tvalidation_0-rmse:1.16343\n",
      "[19]\tvalidation_0-rmse:1.16276\n",
      "[20]\tvalidation_0-rmse:1.16255\n",
      "[21]\tvalidation_0-rmse:1.16152\n",
      "[22]\tvalidation_0-rmse:1.16199\n",
      "[23]\tvalidation_0-rmse:1.16124\n",
      "[24]\tvalidation_0-rmse:1.16055\n"
     ]
    },
    {
     "data": {
      "text/plain": [
       "array([0.89653105, 0.53149956, 0.9260376 , 0.73061   , 0.57376504,\n",
       "       0.79329354, 0.8108675 , 0.93139756, 0.58864594, 0.7045877 ,\n",
       "       0.85751104, 0.8302279 , 0.6523029 , 0.4519204 , 0.5249612 ],\n",
       "      dtype=float32)"
      ]
     },
     "execution_count": 6,
     "metadata": {},
     "output_type": "execute_result"
    }
   ],
   "source": [
    "xgb_model_m = xgb.XGBRegressor(objective='reg:logistic', n_estimators=25, max_depth=3, early_stopping_rounds=10)\n",
    "xgb_model_m.fit(X=x_data, y=d_data, eval_set=[(x_data, y_data)], verbose=True)\n",
    "xgb_model_m.predict(x_data[-15:])"
   ]
  },
  {
   "cell_type": "code",
   "execution_count": 7,
   "id": "b58faeeb-629e-4c22-a450-369c2feff637",
   "metadata": {},
   "outputs": [
    {
     "name": "stdout",
     "output_type": "stream",
     "text": [
      "[0]\tvalidation_0-logloss:0.53838\n",
      "[1]\tvalidation_0-logloss:0.44264\n",
      "[2]\tvalidation_0-logloss:0.36141\n",
      "[3]\tvalidation_0-logloss:0.28300\n",
      "[4]\tvalidation_0-logloss:0.23498\n",
      "[5]\tvalidation_0-logloss:0.15838\n",
      "[6]\tvalidation_0-logloss:0.12010\n",
      "[7]\tvalidation_0-logloss:0.09572\n",
      "[8]\tvalidation_0-logloss:0.05021\n",
      "[9]\tvalidation_0-logloss:0.00682\n",
      "[10]\tvalidation_0-logloss:-0.01535\n",
      "[11]\tvalidation_0-logloss:-0.03301\n",
      "[12]\tvalidation_0-logloss:-0.04292\n",
      "[13]\tvalidation_0-logloss:-0.05150\n",
      "[14]\tvalidation_0-logloss:-0.06602\n",
      "[15]\tvalidation_0-logloss:-0.08914\n",
      "[16]\tvalidation_0-logloss:-0.09661\n",
      "[17]\tvalidation_0-logloss:-0.09632\n",
      "[18]\tvalidation_0-logloss:-0.12322\n",
      "[19]\tvalidation_0-logloss:-0.12919\n",
      "[20]\tvalidation_0-logloss:-0.13275\n",
      "[21]\tvalidation_0-logloss:-0.14188\n",
      "[22]\tvalidation_0-logloss:-0.14079\n",
      "[23]\tvalidation_0-logloss:-0.14776\n",
      "[24]\tvalidation_0-logloss:-0.15560\n"
     ]
    },
    {
     "data": {
      "text/plain": [
       "array([0.89653105, 0.53149956, 0.9260376 , 0.73061   , 0.57376504,\n",
       "       0.79329354, 0.8108675 , 0.93139756, 0.58864594, 0.7045877 ,\n",
       "       0.85751104, 0.8302279 , 0.6523029 , 0.4519204 , 0.5249612 ],\n",
       "      dtype=float32)"
      ]
     },
     "execution_count": 7,
     "metadata": {},
     "output_type": "execute_result"
    }
   ],
   "source": [
    "xgb_model_m = xgb.XGBClassifier(objective='binary:logistic', n_estimators=25, max_depth=3, early_stopping_rounds=10)\n",
    "xgb_model_m.fit(X=x_data, y=d_data, eval_set=[(x_data, y_data)], verbose=True)\n",
    "xgb_model_m.predict_proba(x_data[-15:])[:,1]"
   ]
  },
  {
   "cell_type": "code",
   "execution_count": 8,
   "id": "de2f69fe-075e-42d6-a79a-b5c0a8b09750",
   "metadata": {},
   "outputs": [
    {
     "name": "stdout",
     "output_type": "stream",
     "text": [
      "[0]\tvalidation_0-rmse:1.25899\n",
      "[1]\tvalidation_0-rmse:1.24150\n",
      "[2]\tvalidation_0-rmse:1.22811\n",
      "[3]\tvalidation_0-rmse:1.21620\n",
      "[4]\tvalidation_0-rmse:1.20903\n",
      "[5]\tvalidation_0-rmse:1.19743\n",
      "[6]\tvalidation_0-rmse:1.19167\n",
      "[7]\tvalidation_0-rmse:1.18830\n",
      "[8]\tvalidation_0-rmse:1.18273\n",
      "[9]\tvalidation_0-rmse:1.17783\n",
      "[10]\tvalidation_0-rmse:1.17502\n",
      "[11]\tvalidation_0-rmse:1.17247\n",
      "[12]\tvalidation_0-rmse:1.17180\n",
      "[13]\tvalidation_0-rmse:1.17059\n",
      "[14]\tvalidation_0-rmse:1.16843\n",
      "[15]\tvalidation_0-rmse:1.16665\n",
      "[16]\tvalidation_0-rmse:1.16583\n",
      "[17]\tvalidation_0-rmse:1.16557\n",
      "[18]\tvalidation_0-rmse:1.16343\n",
      "[19]\tvalidation_0-rmse:1.16276\n",
      "[20]\tvalidation_0-rmse:1.16255\n",
      "[21]\tvalidation_0-rmse:1.16152\n",
      "[22]\tvalidation_0-rmse:1.16199\n",
      "[23]\tvalidation_0-rmse:1.16124\n",
      "[24]\tvalidation_0-rmse:1.16055\n"
     ]
    },
    {
     "data": {
      "text/plain": [
       "array([0.89653105, 0.53149956, 0.9260376 , 0.73061   , 0.57376504,\n",
       "       0.79329354, 0.8108675 , 0.93139756, 0.58864594, 0.7045877 ,\n",
       "       0.85751104, 0.8302279 , 0.6523029 , 0.4519204 , 0.5249612 ],\n",
       "      dtype=float32)"
      ]
     },
     "execution_count": 8,
     "metadata": {},
     "output_type": "execute_result"
    }
   ],
   "source": [
    "xgb_model_m = xgb.XGBClassifier(objective='binary:logistic', eval_metric='rmse', n_estimators=25, max_depth=3, early_stopping_rounds=10)\n",
    "xgb_model_m.fit(X=x_data, y=d_data, eval_set=[(x_data, y_data)], verbose=True)\n",
    "xgb_model_m.predict_proba(x_data[-15:])[:,1]"
   ]
  },
  {
   "cell_type": "markdown",
   "id": "5720a9f4-4adc-4a61-b020-1b29f6a8645d",
   "metadata": {},
   "source": [
    "In GridSearchCV, StratifiedKFold is used for classifiers, usual KFold for regressors."
   ]
  },
  {
   "cell_type": "code",
   "execution_count": 9,
   "id": "c1d0fa60-f6e0-48aa-9d71-2691adcf525a",
   "metadata": {},
   "outputs": [],
   "source": [
    "param_grid = {\n",
    "    'n_estimators': [5, 10, 25, 50],\n",
    "    'max_depth': [2, 3, 4, 5]\n",
    "}"
   ]
  },
  {
   "cell_type": "code",
   "execution_count": 10,
   "id": "efb8f0c2-6a58-4115-96d4-aa5c37869b3f",
   "metadata": {},
   "outputs": [
    {
     "name": "stderr",
     "output_type": "stream",
     "text": [
      "C:\\Users\\henry\\MA_CausalML\\dml\\Lib\\site-packages\\sklearn\\model_selection\\_validation.py:993: UserWarning: Scoring failed. The score on this train-test partition for these parameters will be set to nan. Details: \n",
      "Traceback (most recent call last):\n",
      "  File \"C:\\Users\\henry\\MA_CausalML\\dml\\Lib\\site-packages\\sklearn\\model_selection\\_validation.py\", line 982, in _score\n",
      "    scores = scorer(estimator, X_test, y_test, **score_params)\n",
      "             ^^^^^^^^^^^^^^^^^^^^^^^^^^^^^^^^^^^^^^^^^^^^^^^^^\n",
      "  File \"C:\\Users\\henry\\MA_CausalML\\dml\\Lib\\site-packages\\sklearn\\metrics\\_scorer.py\", line 253, in __call__\n",
      "    return self._score(partial(_cached_call, None), estimator, X, y_true, **_kwargs)\n",
      "           ^^^^^^^^^^^^^^^^^^^^^^^^^^^^^^^^^^^^^^^^^^^^^^^^^^^^^^^^^^^^^^^^^^^^^^^^^\n",
      "  File \"C:\\Users\\henry\\MA_CausalML\\dml\\Lib\\site-packages\\sklearn\\metrics\\_scorer.py\", line 344, in _score\n",
      "    response_method = _check_response_method(estimator, self._response_method)\n",
      "                      ^^^^^^^^^^^^^^^^^^^^^^^^^^^^^^^^^^^^^^^^^^^^^^^^^^^^^^^^\n",
      "  File \"C:\\Users\\henry\\MA_CausalML\\dml\\Lib\\site-packages\\sklearn\\utils\\validation.py\", line 2106, in _check_response_method\n",
      "    raise AttributeError(\n",
      "AttributeError: XGBRegressor has none of the following attributes: predict_proba.\n",
      "\n",
      "  warnings.warn(\n"
     ]
    },
    {
     "name": "stdout",
     "output_type": "stream",
     "text": [
      "{'max_depth': 2, 'n_estimators': 5}\n",
      "nan\n"
     ]
    },
    {
     "name": "stderr",
     "output_type": "stream",
     "text": [
      "C:\\Users\\henry\\MA_CausalML\\dml\\Lib\\site-packages\\sklearn\\model_selection\\_search.py:1051: UserWarning: One or more of the test scores are non-finite: [nan nan nan nan nan nan nan nan nan nan nan nan nan nan nan nan]\n",
      "  warnings.warn(\n"
     ]
    }
   ],
   "source": [
    "xgb_model_m = xgb.XGBRegressor(objective='reg:logistic')\n",
    "grid_search_m = GridSearchCV(estimator=xgb_model_m, param_grid=param_grid, cv=5, \n",
    "                             scoring='neg_brier_score')\n",
    "grid_search_m.fit(X=x_data, y=d_data)\n",
    "print(grid_search_m.best_params_)\n",
    "print(grid_search_m.best_score_)"
   ]
  },
  {
   "cell_type": "code",
   "execution_count": 11,
   "id": "7ca7e65e-dfa3-4d4e-ba46-2ad1e0ef2168",
   "metadata": {},
   "outputs": [
    {
     "name": "stdout",
     "output_type": "stream",
     "text": [
      "{'max_depth': 3, 'n_estimators': 10}\n",
      "-0.19262917532502372\n"
     ]
    }
   ],
   "source": [
    "xgb_model_m = xgb.XGBRegressor(objective='reg:logistic')\n",
    "grid_search_m = GridSearchCV(estimator=xgb_model_m, param_grid=param_grid, cv=5, \n",
    "                             scoring='neg_mean_squared_error')\n",
    "grid_search_m.fit(X=x_data, y=d_data)\n",
    "print(grid_search_m.best_params_)\n",
    "print(grid_search_m.best_score_)"
   ]
  },
  {
   "cell_type": "code",
   "execution_count": 14,
   "id": "7916002f-3869-478d-9521-5c79eda31a55",
   "metadata": {},
   "outputs": [
    {
     "name": "stdout",
     "output_type": "stream",
     "text": [
      "{'max_depth': 2, 'n_estimators': 25}\n",
      "-0.5672723602064291\n"
     ]
    }
   ],
   "source": [
    "xgb_model_m = xgb.XGBClassifier(objective='binary:logistic')\n",
    "grid_search_m = GridSearchCV(estimator=xgb_model_m, param_grid=param_grid, cv=5, \n",
    "                             scoring='neg_log_loss')\n",
    "grid_search_m.fit(X=x_data, y=d_data)\n",
    "print(grid_search_m.best_params_)\n",
    "print(grid_search_m.best_score_)"
   ]
  },
  {
   "cell_type": "code",
   "execution_count": 18,
   "id": "01d8551a-36d9-4246-9674-2ac1c2ceefe1",
   "metadata": {},
   "outputs": [
    {
     "name": "stdout",
     "output_type": "stream",
     "text": [
      "{'max_depth': 2, 'n_estimators': 25}\n",
      "-0.1925595245332532\n"
     ]
    }
   ],
   "source": [
    "xgb_model_m = xgb.XGBClassifier(objective='binary:logistic')\n",
    "grid_search_m = GridSearchCV(estimator=xgb_model_m, param_grid=param_grid, cv=5, \n",
    "                             scoring='neg_brier_score')\n",
    "grid_search_m.fit(X=x_data, y=d_data)\n",
    "print(grid_search_m.best_params_)\n",
    "print(grid_search_m.best_score_)"
   ]
  }
 ],
 "metadata": {
  "kernelspec": {
   "display_name": "Python 3 (ipykernel)",
   "language": "python",
   "name": "python3"
  },
  "language_info": {
   "codemirror_mode": {
    "name": "ipython",
    "version": 3
   },
   "file_extension": ".py",
   "mimetype": "text/x-python",
   "name": "python",
   "nbconvert_exporter": "python",
   "pygments_lexer": "ipython3",
   "version": "3.11.5"
  }
 },
 "nbformat": 4,
 "nbformat_minor": 5
}
