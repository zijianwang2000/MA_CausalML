{
 "cells": [
  {
   "cell_type": "code",
   "execution_count": 1,
   "id": "ae5e87c1-8b0a-419a-8403-369b71d86585",
   "metadata": {},
   "outputs": [],
   "source": [
    "import numpy as np\n",
    "import matplotlib.pyplot as plt\n",
    "import seaborn as sns\n",
    "import sklearn\n",
    "import xgboost as xgb\n",
    "import lightgbm as lgb\n",
    "\n",
    "from sklearn.model_selection import train_test_split, GridSearchCV, KFold  \n",
    "from data_generation import m_0, g_0, get_data"
   ]
  },
  {
   "cell_type": "markdown",
   "id": "10b60b16-a7e2-4b7c-b80f-46047a1c5755",
   "metadata": {},
   "source": [
    "## Fix one dataset"
   ]
  },
  {
   "cell_type": "code",
   "execution_count": 2,
   "id": "c52825e0-1e41-451e-8b95-b8c7d44c278b",
   "metadata": {},
   "outputs": [
    {
     "name": "stdout",
     "output_type": "stream",
     "text": [
      "Percentage of treated units: 0.5633333333333334\n"
     ]
    }
   ],
   "source": [
    "np.random.seed(seed=123)\n",
    "N = 300\n",
    "y_data, d_data, x_data = get_data(N)\n",
    "print(f'Percentage of treated units: {np.mean(d_data)}')"
   ]
  },
  {
   "cell_type": "code",
   "execution_count": 3,
   "id": "3c45a40e-6704-4506-898a-93fc8f19554e",
   "metadata": {},
   "outputs": [],
   "source": [
    "y_train, y_eval, d_train, d_eval, x_train, x_eval = train_test_split(y_data, d_data, x_data, test_size=0.2, random_state=42)"
   ]
  },
  {
   "cell_type": "markdown",
   "id": "40f624a6-9ca4-48e0-9a3c-320ae1cc0690",
   "metadata": {},
   "source": [
    "## Tune ML estimators for this dataset / sample size"
   ]
  },
  {
   "cell_type": "code",
   "execution_count": 4,
   "id": "a6ea5644-bc1a-4c51-aefe-3232f975248d",
   "metadata": {},
   "outputs": [],
   "source": [
    "model_g0 = lgb.LGBMRegressor(colsample_bytree=1.0, learning_rate=0.3, reg_lambda=10, max_depth=3, n_estimators=10, subsample=0.7, verbosity=0)\n",
    "model_g1 = lgb.LGBMRegressor(colsample_bytree=1.0, learning_rate=0.1, reg_lambda=1, max_depth=3, n_estimators=50, subsample=0.7, verbosity=0)\n",
    "model_g = [model_g0, model_g1]\n",
    "model_m = lgb.LGBMClassifier(colsample_bytree=0.7, learning_rate=0.1, reg_lambda=1, max_depth=3, n_estimators=50, subsample=0.85, verbosity=0)"
   ]
  },
  {
   "cell_type": "code",
   "execution_count": 5,
   "id": "82987bf9-6424-4680-882c-ea9b806b7e86",
   "metadata": {},
   "outputs": [],
   "source": [
    "xgb_model = xgb.XGBRegressor(objective='reg:squarederror', tree_method='hist')\n",
    "\n",
    "param_grid = {\n",
    "    'n_estimators': [5, 10, 25, 50, 100],\n",
    "    'max_depth': [3, 5, 7],\n",
    "    #'subsample': [0.7, 0.85, 1.0],\n",
    "    #'colsample_bytree': [0.7, 0.85, 1.0],\n",
    "    #'eta': [0.1, 0.2, 0.3],\n",
    "    #'lambda': [0.1, 1, 10] \n",
    "}\n",
    "\n",
    "grid_search = GridSearchCV(estimator=xgb_model, param_grid=param_grid, cv=5)"
   ]
  },
  {
   "cell_type": "markdown",
   "id": "8e8f09a3-f131-4b9c-b8c3-14804ed4577d",
   "metadata": {},
   "source": [
    "### For $g_0(1,X)=E[Y|D=1,X]$:"
   ]
  },
  {
   "cell_type": "code",
   "execution_count": 6,
   "id": "e6ef03aa-1856-4cdc-aaab-fbfd5d13a195",
   "metadata": {},
   "outputs": [
    {
     "name": "stdout",
     "output_type": "stream",
     "text": [
      "Best Hyperparameters: {'max_depth': 5, 'n_estimators': 10}\n",
      "Best Score: 0.6576660056712572\n"
     ]
    }
   ],
   "source": [
    "grid_search.fit(x_data[d_data==1], y_data[d_data==1])\n",
    "print(\"Best Hyperparameters:\", grid_search.best_params_)\n",
    "print(\"Best Score:\", grid_search.best_score_)\n",
    "model_g1 = grid_search.best_estimator_"
   ]
  },
  {
   "cell_type": "code",
   "execution_count": 7,
   "id": "5ac5b7be-a2b2-443a-a9aa-8ee21b4fff21",
   "metadata": {},
   "outputs": [
    {
     "name": "stdout",
     "output_type": "stream",
     "text": [
      "Training error: 0.30215775968137104\n",
      "Evaluation error: 0.24724897330573997\n"
     ]
    }
   ],
   "source": [
    "model_g1.fit(X=x_train[d_train==1], y=y_train[d_train==1])\n",
    "print(f'Training error: {np.mean(np.abs(model_g1.predict(x_train) - g_0(1, x_train)))}')\n",
    "print(f'Evaluation error: {np.mean(np.abs(model_g1.predict(x_eval) - g_0(1, x_eval)))}')"
   ]
  },
  {
   "cell_type": "markdown",
   "id": "5fc4ad48-a7bd-4bb9-8fa5-aebbcc406810",
   "metadata": {},
   "source": [
    "### For $g_0(0,\\cdot)=E[Y|D=0,X]$:"
   ]
  },
  {
   "cell_type": "code",
   "execution_count": 8,
   "id": "f9258adb-fae1-4536-b04c-abbc2c2f8542",
   "metadata": {},
   "outputs": [
    {
     "name": "stdout",
     "output_type": "stream",
     "text": [
      "Best Hyperparameters: {'max_depth': 3, 'n_estimators': 5}\n",
      "Best Score: 0.36223290222009413\n"
     ]
    }
   ],
   "source": [
    "grid_search.fit(x_data[d_data==0], y_data[d_data==0])\n",
    "print(\"Best Hyperparameters:\", grid_search.best_params_)\n",
    "print(\"Best Score:\", grid_search.best_score_)\n",
    "model_g0 = grid_search.best_estimator_"
   ]
  },
  {
   "cell_type": "code",
   "execution_count": 9,
   "id": "92f012c4-cca5-4f60-983e-2399d88b00f1",
   "metadata": {},
   "outputs": [
    {
     "name": "stdout",
     "output_type": "stream",
     "text": [
      "Training error: 0.20458733583781902\n",
      "Evaluation error: 0.20852080849859578\n"
     ]
    }
   ],
   "source": [
    "model_g0.fit(X=x_train[d_train==0], y=y_train[d_train==0])\n",
    "print(f'Training error: {np.mean(np.abs(model_g0.predict(x_train) - g_0(0, x_train)))}')\n",
    "print(f'Evaluation error: {np.mean(np.abs(model_g0.predict(x_eval) - g_0(0, x_eval)))}')"
   ]
  },
  {
   "cell_type": "code",
   "execution_count": 10,
   "id": "b622fcfb-201d-470a-8c59-b9ce3c4ede6d",
   "metadata": {},
   "outputs": [],
   "source": [
    "model_g = [model_g0, model_g1]"
   ]
  },
  {
   "cell_type": "markdown",
   "id": "2c526add-1fed-4e48-9e2a-896d2eea1f58",
   "metadata": {},
   "source": [
    "### For $m_0(X)=E[D|X]$:"
   ]
  },
  {
   "cell_type": "code",
   "execution_count": 23,
   "id": "da97cb75-c903-4237-b6db-ca15e02fd9af",
   "metadata": {},
   "outputs": [
    {
     "name": "stdout",
     "output_type": "stream",
     "text": [
      "Best Hyperparameters: {'max_depth': 3, 'n_estimators': 10}\n",
      "Best Score: 0.15563932277400058\n"
     ]
    }
   ],
   "source": [
    "xgb_model = xgb.XGBRegressor(objective='reg:logistic', tree_method='hist')\n",
    "grid_search = GridSearchCV(estimator=xgb_model, param_grid=param_grid, cv=5)\n",
    "grid_search.fit(x_data, d_data)\n",
    "print(\"Best Hyperparameters:\", grid_search.best_params_)\n",
    "print(\"Best Score:\", grid_search.best_score_)\n",
    "model_m = grid_search.best_estimator_"
   ]
  },
  {
   "cell_type": "code",
   "execution_count": 24,
   "id": "05b4a6b3-bd2e-4666-9410-05b943830be5",
   "metadata": {},
   "outputs": [
    {
     "name": "stdout",
     "output_type": "stream",
     "text": [
      "Training error: 0.10345861513710236\n",
      "Evaluation error: 0.10104889683828129\n"
     ]
    }
   ],
   "source": [
    "model_m.fit(X=x_train, y=d_train)\n",
    "print(f'Training error: {np.mean(np.abs(model_m.predict(x_train) - m_0(x_train)))}')\n",
    "print(f'Evaluation error: {np.mean(np.abs(model_m.predict(x_eval) - m_0(x_eval)))}')"
   ]
  },
  {
   "cell_type": "code",
   "execution_count": 13,
   "id": "e817bdaf-5e02-46ec-97d5-1af5a8a902e8",
   "metadata": {},
   "outputs": [
    {
     "name": "stdout",
     "output_type": "stream",
     "text": [
      "Best Hyperparameters: {'max_depth': 3, 'n_estimators': 25}\n",
      "Best Score: 0.7166666666666667\n"
     ]
    }
   ],
   "source": [
    "xgb_model = xgb.XGBClassifier(tree_method='hist')\n",
    "grid_search = GridSearchCV(estimator=xgb_model, param_grid=param_grid, cv=5)\n",
    "grid_search.fit(x_data, d_data)\n",
    "print(\"Best Hyperparameters:\", grid_search.best_params_)\n",
    "print(\"Best Score:\", grid_search.best_score_)\n",
    "model_m = grid_search.best_estimator_"
   ]
  },
  {
   "cell_type": "code",
   "execution_count": 14,
   "id": "c96c0179-08aa-4f36-a186-ba1c2f0d30d5",
   "metadata": {},
   "outputs": [
    {
     "name": "stdout",
     "output_type": "stream",
     "text": [
      "Training error: 0.14023465839849722\n",
      "Evaluation error: 0.11925821744734082\n"
     ]
    }
   ],
   "source": [
    "model_m.fit(X=x_train, y=d_train)\n",
    "print(f'Training error: {np.mean(np.abs(model_m.predict_proba(x_train)[:,1] - m_0(x_train)))}')\n",
    "print(f'Evaluation error: {np.mean(np.abs(model_m.predict_proba(x_eval)[:,1] - m_0(x_eval)))}')"
   ]
  },
  {
   "cell_type": "code",
   "execution_count": 26,
   "id": "df585277-a494-489d-8ff0-088da41ed952",
   "metadata": {},
   "outputs": [
    {
     "data": {
      "text/plain": [
       "array([0.21992083, 0.4369014 , 0.8576841 , 0.69002193, 0.8342965 ,\n",
       "       0.6545499 , 0.6247167 , 0.6866734 , 0.6866734 , 0.65070325,\n",
       "       0.45014584, 0.8342965 , 0.43947023, 0.2467503 , 0.6866734 ,\n",
       "       0.6247167 , 0.5948308 , 0.1305712 , 0.6622545 , 0.84729296],\n",
       "      dtype=float32)"
      ]
     },
     "execution_count": 26,
     "metadata": {},
     "output_type": "execute_result"
    }
   ],
   "source": [
    "model_m.predict(x_eval)[:20]"
   ]
  },
  {
   "cell_type": "code",
   "execution_count": 21,
   "id": "1177ffcf-cd59-466b-ae25-6a55903806bc",
   "metadata": {},
   "outputs": [
    {
     "data": {
      "text/plain": [
       "array([0.54765592, 0.58564028, 0.90331341, 0.57284588, 0.73066247,\n",
       "       0.53868859, 0.65386739, 0.59997598, 0.55592707, 0.60882562,\n",
       "       0.52234801, 0.66285442, 0.15811359, 0.18410725, 0.63477156,\n",
       "       0.77899483, 0.60085283, 0.30443804, 0.68782526, 0.963082  ])"
      ]
     },
     "execution_count": 21,
     "metadata": {},
     "output_type": "execute_result"
    }
   ],
   "source": [
    "m_0(x_eval)[:20]"
   ]
  },
  {
   "cell_type": "markdown",
   "id": "79c4fd3d-08b6-4003-9aa7-fb3ec45215f3",
   "metadata": {},
   "source": [
    "## Hard-code best ML models to avoid running CV everytime"
   ]
  },
  {
   "cell_type": "code",
   "execution_count": 13,
   "id": "8b217879-4f12-4778-9ae9-95838f095bab",
   "metadata": {},
   "outputs": [],
   "source": [
    "model_g0 = xgb.XGBRegressor(objective='reg:squarederror', tree_method='hist', colsample_bytree=1.0, \n",
    "                            eta=0.3, reg_lambda=10, max_depth=3, n_estimators=10, subsample=0.7)\n",
    "model_g1 = xgb.XGBRegressor(objective='reg:squarederror', tree_method='hist', colsample_bytree=1.0, \n",
    "                            eta=0.1, reg_lambda=1, max_depth=3, n_estimators=50, subsample=0.7)\n",
    "model_g = [model_g0, model_g1]\n",
    "model_m = xgb.XGBClassifier(tree_method='hist', colsample_bytree=1.0, \n",
    "                           eta=0.1, reg_lambda=1, max_depth=3, n_estimators=50, subsample=0.85)"
   ]
  },
  {
   "cell_type": "markdown",
   "id": "750421b0-808a-4610-a16f-ee02c37dc11f",
   "metadata": {},
   "source": [
    "## DML algorithm"
   ]
  },
  {
   "cell_type": "code",
   "execution_count": null,
   "id": "e9f2bfcc-bc3c-47c3-800b-fb3fb10eb4b5",
   "metadata": {},
   "outputs": [],
   "source": [
    "# Neyman orthogonal score\n",
    "def psi_ate(h_0, h_1, h_2, y, d, x, theta):\n",
    "    return h_1(x) - h_0(x) + d*(y-h_1(x))/h_2(x) - (1-d)*(y-h_0(x))/(1-h_2(x)) - theta"
   ]
  },
  {
   "cell_type": "code",
   "execution_count": 14,
   "id": "83f05438-66a6-40ee-9a97-848550ef83df",
   "metadata": {},
   "outputs": [],
   "source": [
    "def dml_reg_ipw_ate(K, y_data, d_data, x_data, model_g, model_m):\n",
    "    # Generate random partition of data for cross-fitting\n",
    "    indices = np.arange(N)\n",
    "    kf = KFold(n_splits=K, shuffle=True)#, random_state=42)\n",
    "\n",
    "    # Compute respective ML estimators and thereupon auxiliary estimators\n",
    "    theta_0_check = []\n",
    "    reg_check, ipw_check = [], []\n",
    "    for (train_indices, eval_indices) in kf.split(x_data):\n",
    "        y_train, d_train, x_train = y_data[train_indices], d_data[train_indices], x_data[train_indices]\n",
    "        y_eval, d_eval, x_eval = y_data[eval_indices], d_data[eval_indices], x_data[eval_indices]\n",
    "\n",
    "        # Estimate outcome regression functions g_0(d)\n",
    "        g_0_hat = []\n",
    "        for d in [0,1]:\n",
    "            model_g[d].fit(X=x_train[d_train==d], y=y_train[d_train==d])\n",
    "            g_0_hat.append(model_g[d].predict(x_eval))\n",
    "\n",
    "        # Estimate propensity score m_0\n",
    "        model_m.fit(X=x_train, y=d_train)\n",
    "        m_0_hat = model_m.predict_proba(x_eval)[:,-1]\n",
    "            \n",
    "        # Compute auxiliary estimator\n",
    "        theta_0_check.append(np.mean(g_0_hat[1] - g_0_hat[0] + d_eval*(y_eval-g_0_hat[1])/m_0_hat\n",
    "                                     - (1-d_eval)*(y_eval-g_0_hat[0])/(1-m_0_hat)))\n",
    "\n",
    "        # Regression estimator \n",
    "        reg_check.append(np.mean(g_0_hat[1] - g_0_hat[0]))\n",
    "        # IPW estimator\n",
    "        ipw_check.append(np.mean(d_eval*y_eval/m_0_hat - (1-d_eval)*y_eval/(1-m_0_hat)))\n",
    "\n",
    "    # Compute final estimators\n",
    "    theta_0_hat = np.mean(theta_0_check)\n",
    "    reg_hat, ipw_hat = np.mean(reg_check), np.mean(ipw_check)\n",
    "\n",
    "    return np.array([theta_0_hat, reg_hat, ipw_hat])"
   ]
  },
  {
   "cell_type": "code",
   "execution_count": 15,
   "id": "38177b28-6644-4083-84b4-76994bf2ce32",
   "metadata": {},
   "outputs": [
    {
     "name": "stdout",
     "output_type": "stream",
     "text": [
      "CPU times: total: 1.61 s\n",
      "Wall time: 489 ms\n"
     ]
    },
    {
     "data": {
      "text/plain": [
       "array([1.00973097, 1.03546429, 1.16381188])"
      ]
     },
     "execution_count": 15,
     "metadata": {},
     "output_type": "execute_result"
    }
   ],
   "source": [
    "%%time\n",
    "K = 5\n",
    "dml_reg_ipw_ate(K, y_data, d_data, x_data, model_g, model_m)"
   ]
  },
  {
   "cell_type": "markdown",
   "id": "f50d4c6d-71aa-4038-8b7d-29304b4c30b8",
   "metadata": {},
   "source": [
    "## MC simulation of DML"
   ]
  },
  {
   "cell_type": "code",
   "execution_count": null,
   "id": "c82b834a-461b-434d-b9d2-412e3c2543d2",
   "metadata": {},
   "outputs": [],
   "source": [
    "theta_0 = 1   # true ATE"
   ]
  },
  {
   "cell_type": "code",
   "execution_count": 48,
   "id": "74eae62f-83ef-43e8-b0af-b34cbb25c127",
   "metadata": {},
   "outputs": [
    {
     "name": "stdout",
     "output_type": "stream",
     "text": [
      "CPU times: total: 1min 15s\n",
      "Wall time: 22.7 s\n"
     ]
    }
   ],
   "source": [
    "%%time\n",
    "N = 250\n",
    "n_MC = 50\n",
    "K = 5\n",
    "estimates_list = np.empty((n_MC, 3))\n",
    "\n",
    "for j in range(n_MC):\n",
    "    y_data, d_data, x_data = get_data(N)\n",
    "    estimates_list[j] = dml_reg_ipw_ate(K, y_data, d_data, x_data, model_g, model_m)"
   ]
  },
  {
   "cell_type": "code",
   "execution_count": 49,
   "id": "8c650f73-1bed-429b-bd06-6ac059124559",
   "metadata": {},
   "outputs": [
    {
     "data": {
      "image/png": "[encoded data removed]",
      "text/plain": [
       "<Figure size 640x480 with 1 Axes>"
      ]
     },
     "metadata": {},
     "output_type": "display_data"
    }
   ],
   "source": [
    "#sns.kdeplot(infeasible_estimates_list, label='infeasible')\n",
    "sns.kdeplot(estimates_list[:,0], label='DML')\n",
    "sns.kdeplot(estimates_list[:,1], label='reg')\n",
    "sns.kdeplot(estimates_list[:,2], label='ipw')\n",
    "plt.legend()\n",
    "plt.show()"
   ]
  },
  {
   "cell_type": "code",
   "execution_count": 50,
   "id": "8028e89b-4abf-42e7-b8cd-332d9e337539",
   "metadata": {},
   "outputs": [
    {
     "name": "stdout",
     "output_type": "stream",
     "text": [
      "Mean of estimates: [1.0039349  1.08317362 1.20260827]\n",
      "Standard deviation of estimates: [0.15973506 0.11883237 0.20900396]\n",
      "MSE estimates: [0.02553077 0.02103898 0.08473277]\n"
     ]
    }
   ],
   "source": [
    "print(f'Mean of estimates: {np.mean(estimates_list, axis=0)}')\n",
    "print(f'Standard deviation of estimates: {np.std(estimates_list, axis=0)}')\n",
    "print(f'MSE estimates: {np.mean((estimates_list-1)**2, axis=0)}')"
   ]
  }
 ],
 "metadata": {
  "kernelspec": {
   "display_name": "Python 3 (ipykernel)",
   "language": "python",
   "name": "python3"
  },
  "language_info": {
   "codemirror_mode": {
    "name": "ipython",
    "version": 3
   },
   "file_extension": ".py",
   "mimetype": "text/x-python",
   "name": "python",
   "nbconvert_exporter": "python",
   "pygments_lexer": "ipython3",
   "version": "3.11.8"
  }
 },
 "nbformat": 4,
 "nbformat_minor": 5
}
