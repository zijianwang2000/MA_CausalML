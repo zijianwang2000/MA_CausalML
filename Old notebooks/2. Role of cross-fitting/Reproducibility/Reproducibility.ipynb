{
 "cells": [
  {
   "cell_type": "code",
   "execution_count": 1,
   "id": "5c4ef86c-84aa-437c-9551-08928ca3b8a8",
   "metadata": {},
   "outputs": [],
   "source": [
    "import numpy as np\n",
    "import pickle"
   ]
  },
  {
   "cell_type": "code",
   "execution_count": 2,
   "id": "0f763603-5b1d-493d-884d-0ef5d8f30e59",
   "metadata": {},
   "outputs": [],
   "source": [
    "with open('results_dict.pkl', 'rb') as pickle_file:\n",
    "    results_dict = pickle.load(pickle_file)"
   ]
  },
  {
   "cell_type": "code",
   "execution_count": 3,
   "id": "bfe7876a-2a56-4000-ac81-10051802da89",
   "metadata": {},
   "outputs": [],
   "source": [
    "with open('results_dict_1.pkl', 'rb') as pickle_file:\n",
    "    results_dict_1 = pickle.load(pickle_file)"
   ]
  },
  {
   "cell_type": "code",
   "execution_count": 4,
   "id": "9f891852-9402-451f-ac6e-28405e519bf1",
   "metadata": {},
   "outputs": [
    {
     "name": "stdout",
     "output_type": "stream",
     "text": [
      "250\n",
      "500\n",
      "1000\n",
      "2000\n",
      "4000\n",
      "8000\n",
      "16000\n"
     ]
    }
   ],
   "source": [
    "for N in results_dict:\n",
    "    a, b, c = results_dict[N]\n",
    "    d, e, f = results_dict_1[N]\n",
    "    if np.all(a[:,0]==d[:,0]) and np.all(a[:,3]==d[:,1]) and np.all(b[:,1]==e) and np.all(c[:,2:]==f):\n",
    "        print(f'{N}')"
   ]
  }
 ],
 "metadata": {
  "kernelspec": {
   "display_name": "Python 3 (ipykernel)",
   "language": "python",
   "name": "python3"
  },
  "language_info": {
   "codemirror_mode": {
    "name": "ipython",
    "version": 3
   },
   "file_extension": ".py",
   "mimetype": "text/x-python",
   "name": "python",
   "nbconvert_exporter": "python",
   "pygments_lexer": "ipython3",
   "version": "3.11.5"
  }
 },
 "nbformat": 4,
 "nbformat_minor": 5
}
