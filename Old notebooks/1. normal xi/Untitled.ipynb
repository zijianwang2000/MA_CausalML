{
 "cells": [
  {
   "cell_type": "code",
   "execution_count": 1,
   "id": "48c2218f-50ad-488d-ba67-f390984dde6a",
   "metadata": {},
   "outputs": [],
   "source": [
    "import pickle\n",
    "import numpy as np"
   ]
  },
  {
   "cell_type": "code",
   "execution_count": 2,
   "id": "4e0d2a74-e312-4e83-a9c6-f6aeee998411",
   "metadata": {},
   "outputs": [],
   "source": [
    "with open('opt_params_xgboost.pkl', 'rb') as pickle_file:\n",
    "    xgb_params_dict_dict = pickle.load(pickle_file)"
   ]
  },
  {
   "cell_type": "code",
   "execution_count": 3,
   "id": "42a7063e-be4e-414b-9846-dd9dacfb8d7c",
   "metadata": {},
   "outputs": [
    {
     "name": "stdout",
     "output_type": "stream",
     "text": [
      "250: g0\n",
      "{'learning_rate': 0.2, 'max_depth': 2, 'n_estimators': 10, 'reg_lambda': 0.03, 'subsample': 0.6}\n",
      "250: g1\n",
      "{'learning_rate': 0.06, 'max_depth': 4, 'n_estimators': 75, 'reg_lambda': 0.1, 'subsample': 0.6}\n",
      "250: m\n",
      "{'learning_rate': 0.3, 'max_depth': 2, 'n_estimators': 50, 'reg_lambda': 30, 'subsample': 0.6}\n",
      "500: g0\n",
      "{'learning_rate': 0.2, 'max_depth': 2, 'n_estimators': 10, 'reg_lambda': 1, 'subsample': 0.6}\n",
      "500: g1\n",
      "{'learning_rate': 0.2, 'max_depth': 2, 'n_estimators': 25, 'reg_lambda': 3, 'subsample': 0.6}\n",
      "500: m\n",
      "{'learning_rate': 0.06, 'max_depth': 6, 'n_estimators': 200, 'reg_lambda': 30, 'subsample': 0.6}\n",
      "1000: g0\n",
      "{'learning_rate': 0.06, 'max_depth': 2, 'n_estimators': 50, 'reg_lambda': 3, 'subsample': 0.6}\n",
      "1000: g1\n",
      "{'learning_rate': 0.06, 'max_depth': 2, 'n_estimators': 200, 'reg_lambda': 10, 'subsample': 0.8}\n",
      "1000: m\n",
      "{'learning_rate': 0.06, 'max_depth': 2, 'n_estimators': 100, 'reg_lambda': 0.01, 'subsample': 0.6}\n",
      "2000: g0\n",
      "{'learning_rate': 0.06, 'max_depth': 2, 'n_estimators': 75, 'reg_lambda': 3, 'subsample': 0.6}\n",
      "2000: g1\n",
      "{'learning_rate': 0.1, 'max_depth': 2, 'n_estimators': 100, 'reg_lambda': 0.1, 'subsample': 0.6}\n",
      "2000: m\n",
      "{'learning_rate': 0.06, 'max_depth': 2, 'n_estimators': 100, 'reg_lambda': 0.03, 'subsample': 0.6}\n",
      "4000: g0\n",
      "{'learning_rate': 0.03, 'max_depth': 2, 'n_estimators': 200, 'reg_lambda': 100, 'subsample': 0.8}\n",
      "4000: g1\n",
      "{'learning_rate': 0.1, 'max_depth': 2, 'n_estimators': 100, 'reg_lambda': 10, 'subsample': 0.6}\n",
      "4000: m\n",
      "{'learning_rate': 0.1, 'max_depth': 2, 'n_estimators': 100, 'reg_lambda': 0.3, 'subsample': 1.0}\n",
      "8000: g0\n",
      "{'learning_rate': 0.06, 'max_depth': 2, 'n_estimators': 100, 'reg_lambda': 30, 'subsample': 0.6}\n",
      "8000: g1\n",
      "{'learning_rate': 0.1, 'max_depth': 2, 'n_estimators': 200, 'reg_lambda': 1, 'subsample': 0.6}\n",
      "8000: m\n",
      "{'learning_rate': 0.1, 'max_depth': 2, 'n_estimators': 100, 'reg_lambda': 0.01, 'subsample': 0.6}\n",
      "16000: g0\n",
      "{'learning_rate': 0.1, 'max_depth': 2, 'n_estimators': 75, 'reg_lambda': 100, 'subsample': 0.8}\n",
      "16000: g1\n",
      "{'learning_rate': 0.06, 'max_depth': 2, 'n_estimators': 200, 'reg_lambda': 10, 'subsample': 0.8}\n",
      "16000: m\n",
      "{'learning_rate': 0.06, 'max_depth': 2, 'n_estimators': 200, 'reg_lambda': 0.03, 'subsample': 0.6}\n"
     ]
    }
   ],
   "source": [
    "for N, xgb_params_dict in xgb_params_dict_dict.items():\n",
    "    for name, xgb_params in xgb_params_dict.items():\n",
    "        print(f'{N}: ' + name)\n",
    "        print(xgb_params)"
   ]
  }
 ],
 "metadata": {
  "kernelspec": {
   "display_name": "Python 3 (ipykernel)",
   "language": "python",
   "name": "python3"
  },
  "language_info": {
   "codemirror_mode": {
    "name": "ipython",
    "version": 3
   },
   "file_extension": ".py",
   "mimetype": "text/x-python",
   "name": "python",
   "nbconvert_exporter": "python",
   "pygments_lexer": "ipython3",
   "version": "3.11.5"
  }
 },
 "nbformat": 4,
 "nbformat_minor": 5
}
