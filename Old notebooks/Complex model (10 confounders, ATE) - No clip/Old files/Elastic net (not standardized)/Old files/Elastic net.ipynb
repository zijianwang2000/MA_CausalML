{
 "cells": [
  {
   "cell_type": "code",
   "execution_count": 1,
   "id": "9d8b9520-76fe-4a6a-8d04-820193c1e154",
   "metadata": {},
   "outputs": [],
   "source": [
    "import numpy as np\n",
    "import pickle\n",
    "from sklearn.linear_model import ElasticNetCV, LogisticRegressionCV\n",
    "from sklearn.preprocessing import PolynomialFeatures\n",
    "from sklearn.model_selection import train_test_split, StratifiedKFold\n",
    "from scipy.stats import norm\n",
    "from data_generation import m_0, g_0, get_data\n",
    "from dml_algorithm import mm_ate, dml_ate"
   ]
  },
  {
   "cell_type": "code",
   "execution_count": 2,
   "id": "2873daf8-5eb6-4bdd-9c03-1f456da24fba",
   "metadata": {},
   "outputs": [],
   "source": [
    "rng = np.random.default_rng(seed=57)"
   ]
  },
  {
   "cell_type": "code",
   "execution_count": 3,
   "id": "f033f58a-d97a-42a4-bb13-8c09a11dea00",
   "metadata": {},
   "outputs": [
    {
     "data": {
      "text/plain": [
       "(250, 65)"
      ]
     },
     "execution_count": 3,
     "metadata": {},
     "output_type": "execute_result"
    }
   ],
   "source": [
    "N = 250\n",
    "y_data, d_data, x_data = get_data(N, rng)\n",
    "poly_features = PolynomialFeatures(degree=2, include_bias=False)\n",
    "x_quad_data = poly_features.fit_transform(x_data)\n",
    "y_train, y_test, d_train, d_test, x_train, x_test, x_quad_train, x_quad_test = train_test_split(y_data, d_data, x_data, x_quad_data, test_size=0.2, random_state=42)\n",
    "x_quad_data.shape"
   ]
  },
  {
   "cell_type": "code",
   "execution_count": 4,
   "id": "24575e62-de15-49d3-9cef-887f5e177eef",
   "metadata": {},
   "outputs": [],
   "source": [
    "l1_ratio = [0.1, 0.5, 0.7, 0.9, 0.95, 0.99, 1]\n",
    "#alphas = [0.01, 0.1, 1, 10]\n",
    "model_g0, model_g1 = ElasticNetCV(l1_ratio=l1_ratio, n_alphas=50, max_iter=10000, n_jobs=-1), ElasticNetCV(l1_ratio=l1_ratio, n_alphas=50, max_iter=10000, n_jobs=-1)\n",
    "model_m = LogisticRegressionCV(Cs=10, \n",
    "                               l1_ratios=[0, 0.1, 0.2, 0.4, 0.6, 0.8, 0.9, 1], \n",
    "                               penalty='elasticnet',\n",
    "                               solver='saga',\n",
    "                               max_iter=1000,\n",
    "                               random_state=42,\n",
    "                               scoring='neg_brier_score',\n",
    "                               n_jobs=-1\n",
    "                              )\n",
    "model_m_quad = LogisticRegressionCV(Cs=10, \n",
    "                               l1_ratios=[1], \n",
    "                               penalty='elasticnet',\n",
    "                               solver='saga',\n",
    "                               max_iter=10000,\n",
    "                               random_state=42,\n",
    "                               scoring='neg_brier_score',\n",
    "                               n_jobs=-1\n",
    "                              )"
   ]
  },
  {
   "cell_type": "code",
   "execution_count": 5,
   "id": "94b3c714-dd31-47c8-9411-0771a1e51e4c",
   "metadata": {},
   "outputs": [
    {
     "name": "stdout",
     "output_type": "stream",
     "text": [
      "0.3593813663804626 1\n",
      "[0.19574359 0.54034075 0.33744524 0.47989154 0.70808248 0.19638012\n",
      " 0.18013099 0.76661517 0.20473032 0.21258443 0.09609844 0.56465364\n",
      " 0.3828776  0.35195612 0.31742039 0.40492419 0.30285038 0.62991276\n",
      " 0.60463028 0.40884351]\n",
      "[0.15132306 0.74901171 0.50626301 0.3209899  0.37019757 0.17441277\n",
      " 0.11173217 0.55695414 0.30432288 0.25391687 0.10304543 0.61951328\n",
      " 0.30753256 0.63686157 0.4655652  0.4713355  0.4998131  0.53410245\n",
      " 0.67962409 0.68040758]\n",
      "CPU times: total: 18 s\n",
      "Wall time: 6.35 s\n"
     ]
    }
   ],
   "source": [
    "%%time\n",
    "#model_m.fit(x_train, d_train)\n",
    "#print(model_m.C_, model_m.l1_ratio_)\n",
    "#print(model_m.predict_proba(x_test)[:20,1])\n",
    "model_m_quad.fit(x_quad_train, d_train)\n",
    "print(model_m_quad.C_[0], model_m_quad.l1_ratio_[0])\n",
    "print(model_m_quad.predict_proba(x_quad_test)[:20,1])\n",
    "print(m_0(x_test[:20]))"
   ]
  },
  {
   "cell_type": "code",
   "execution_count": 6,
   "id": "cc75ded8-aa9a-4420-8488-77982926aaeb",
   "metadata": {},
   "outputs": [
    {
     "data": {
      "text/plain": [
       "array([-0.04492515])"
      ]
     },
     "execution_count": 6,
     "metadata": {},
     "output_type": "execute_result"
    }
   ],
   "source": [
    "model_m_quad.intercept_"
   ]
  },
  {
   "cell_type": "code",
   "execution_count": 20,
   "id": "148a22d3-691c-429e-b6c3-59f30b8ae2e2",
   "metadata": {
    "collapsed": true,
    "jupyter": {
     "outputs_hidden": true
    }
   },
   "outputs": [
    {
     "name": "stdout",
     "output_type": "stream",
     "text": [
      "0.002023169961802633 1.0\n",
      "[ 9.11913773  1.86267306  3.38823435  3.92009905  3.71135644  8.01888979\n",
      "  6.47477631  3.35071711 -2.48495728  3.26023665  4.01562794  2.40326794\n",
      "  5.08584477  7.09953179  0.24808764 10.10317209  4.97710924  6.61279589\n",
      "  4.84095057  8.4415757 ]\n",
      "[ 9.67089239  2.52296456  2.95237173  3.3036634   3.46981129  7.25168064\n",
      "  5.95556265  4.4787683  -2.17647036  2.9592268   3.37120465  2.49881907\n",
      "  6.21870476  6.53252436 -0.14063823  9.19354424  4.95250245  6.55058744\n",
      "  4.15508761  7.76348105]\n",
      "CPU times: total: 391 ms\n",
      "Wall time: 397 ms\n"
     ]
    }
   ],
   "source": [
    "\"\"\"\n",
    "%%time\n",
    "model_g0.fit(x_train[d_train==0], y_train[d_train==0])\n",
    "print(model_g0.alpha_, model_g0.l1_ratio_)\n",
    "print(model_g0.predict(x_test[:20]))\n",
    "print(g_0(0, x_test[:20]))\n",
    "\"\"\""
   ]
  },
  {
   "cell_type": "code",
   "execution_count": 7,
   "id": "83e54c2f-7e33-42fe-87c4-8aa60e8e9642",
   "metadata": {},
   "outputs": [
    {
     "name": "stdout",
     "output_type": "stream",
     "text": [
      "0.02187294180905264 1.0\n",
      "[ 5.2366389   4.42103247  2.65501032  1.09158128  3.08132517  5.68571463\n",
      "  1.8744845   5.70053816  0.78835418 -1.95519293  7.7522891   3.71266605\n",
      "  1.46732323  3.85241095  5.88412716  2.17879501  6.44474519  6.54582153\n",
      "  6.94813473  5.90336384]\n",
      "[ 5.43539668  4.63960997  2.86123934  1.2903609   2.38694195  6.55957317\n",
      "  1.5254314   5.47361822  0.53288856 -1.23166293  8.04359852  3.06181596\n",
      "  0.63574394  2.86751766  6.28581004  2.12573501  6.87827026  6.8938472\n",
      "  6.44457398  6.32056436]\n",
      "CPU times: total: 1.89 s\n",
      "Wall time: 775 ms\n"
     ]
    }
   ],
   "source": [
    "%%time\n",
    "model_g0.fit(x_quad_train[d_train==0], y_train[d_train==0])\n",
    "print(model_g0.alpha_, model_g0.l1_ratio_)\n",
    "print(model_g0.predict(x_quad_test[:20]))\n",
    "print(g_0(0, x_test[:20]))"
   ]
  },
  {
   "cell_type": "code",
   "execution_count": 8,
   "id": "2ce19d85-958c-4691-8263-ade45fc6604c",
   "metadata": {},
   "outputs": [
    {
     "data": {
      "text/plain": [
       "array([ 0.44642041,  1.41112897,  1.88154013,  2.67229138,  0.78923947,\n",
       "        0.09819284, -0.10155162, -0.        , -0.0356418 , -0.        ,\n",
       "        0.2235204 ,  0.41034453,  0.05326671,  0.0147464 ,  0.13809821,\n",
       "       -0.        , -0.17796699,  0.05022517, -0.07640268,  0.09657925,\n",
       "        0.17851411,  0.        ,  0.        ,  0.        ,  0.04231927,\n",
       "        0.        , -0.07673944,  0.        , -0.        , -0.10123373,\n",
       "        0.        ,  0.37617951,  0.        , -0.23014066,  0.        ,\n",
       "       -0.        ,  0.        , -0.02929725,  0.08134201, -0.        ,\n",
       "       -0.        ,  0.        ,  0.32960906, -0.        ,  0.02195003,\n",
       "        0.17823327, -0.00498887, -0.        , -0.21123816,  0.11021318,\n",
       "        0.13456728,  0.        , -0.        ,  0.        ,  0.        ,\n",
       "        0.3644809 , -0.        , -1.49671314, -0.        ,  0.12438415,\n",
       "        0.14548096, -0.        , -0.        , -0.87326478, -0.        ])"
      ]
     },
     "execution_count": 8,
     "metadata": {},
     "output_type": "execute_result"
    }
   ],
   "source": [
    "model_g0.coef_"
   ]
  },
  {
   "cell_type": "code",
   "execution_count": 22,
   "id": "770a8b8d-f9c2-4abb-8cd7-e69007ac4136",
   "metadata": {
    "collapsed": true,
    "jupyter": {
     "outputs_hidden": true
    }
   },
   "outputs": [
    {
     "name": "stdout",
     "output_type": "stream",
     "text": [
      "0.0016604646032669184 0.95\n",
      "[ 8.53598317  4.02933957  5.30445082  5.87899583  3.18154968  9.43416427\n",
      "  5.66363481  5.57276874 -1.60926805  2.97616642  3.14048025  4.77194485\n",
      "  5.46062975  7.30029159  1.50686742  9.49802442  6.33179126  6.76632479\n",
      "  3.56087634  7.92841459]\n",
      "[ 8.44765297  4.82355923  4.62288453  5.72266669  2.47828193  8.59848846\n",
      "  4.87169894  7.07646335 -1.75255434  2.34590245  2.36804108  5.45466763\n",
      "  6.86649874  6.80355745  1.014024    8.8125616   6.12793833  6.2625267\n",
      "  2.89036964  6.58935663]\n",
      "CPU times: total: 250 ms\n",
      "Wall time: 198 ms\n"
     ]
    }
   ],
   "source": [
    "\"\"\"\n",
    "%%time\n",
    "model_g1.fit(x_train[d_train==1], y_train[d_train==1])\n",
    "print(model_g1.alpha_, model_g1.l1_ratio_)\n",
    "print(model_g1.predict(x_test[:20]))\n",
    "print(g_0(1, x_test[:20]))\n",
    "\"\"\""
   ]
  },
  {
   "cell_type": "code",
   "execution_count": 9,
   "id": "6556f91d-2585-44c1-aec8-d098c7dd49b1",
   "metadata": {},
   "outputs": [
    {
     "name": "stdout",
     "output_type": "stream",
     "text": [
      "0.035550417344207476 1.0\n",
      "[5.11957623 4.59509361 2.41527092 1.38020099 4.36185196 6.00980268\n",
      " 3.08612023 5.80915018 3.93014547 2.99325677 6.76504822 3.96022368\n",
      " 3.27737313 4.50278141 4.63490809 2.8432264  8.17178788 6.74628689\n",
      " 7.14342205 6.48646862]\n",
      "[ 5.9612774   5.02699634  2.29420618  0.75801322  3.66617622  5.12795927\n",
      "  2.89765683  7.04159289  2.83702293 -1.4817367   7.39102966  2.88846975\n",
      "  3.52346933  3.40335304  5.69011325  2.47692171  9.11107849  7.18952703\n",
      "  8.30582078  7.10256767]\n",
      "CPU times: total: 1.88 s\n",
      "Wall time: 743 ms\n"
     ]
    }
   ],
   "source": [
    "%%time\n",
    "model_g1.fit(x_quad_train[d_train==1], y_train[d_train==1])\n",
    "print(model_g1.alpha_, model_g1.l1_ratio_)\n",
    "print(model_g1.predict(x_quad_test[:20]))\n",
    "print(g_0(1, x_test[:20]))"
   ]
  },
  {
   "cell_type": "code",
   "execution_count": 10,
   "id": "1c64fa19-bba3-42ea-b6d6-0d9f43098785",
   "metadata": {},
   "outputs": [
    {
     "data": {
      "text/plain": [
       "array([ 0.69195362,  0.89149201,  1.59609141,  2.46455314,  1.29095874,\n",
       "       -0.        , -0.7615018 , -0.22761059, -0.        , -0.        ,\n",
       "       -0.08802115,  0.11455706,  0.        ,  0.        ,  0.        ,\n",
       "       -0.        , -0.04012475, -0.04255939,  0.        ,  0.        ,\n",
       "        0.29196648,  0.19716197,  0.1207351 ,  0.44826184,  0.12097799,\n",
       "       -0.        ,  0.        , -0.1743234 ,  0.        ,  0.        ,\n",
       "        0.        ,  0.19326609, -0.10678429, -0.        , -0.        ,\n",
       "        0.57669953,  0.        ,  0.01363198,  0.02142319,  0.        ,\n",
       "       -0.        ,  0.23438096, -0.        ,  0.        ,  0.        ,\n",
       "       -0.        , -0.        ,  0.13933789,  0.        ,  0.        ,\n",
       "        0.09810267, -0.20628876,  0.        , -0.        , -0.        ,\n",
       "        0.58634947, -0.        , -0.22454259,  0.        , -0.        ,\n",
       "       -0.        , -0.        , -0.        , -0.        , -0.        ])"
      ]
     },
     "execution_count": 10,
     "metadata": {},
     "output_type": "execute_result"
    }
   ],
   "source": [
    "model_g1.coef_"
   ]
  },
  {
   "cell_type": "code",
   "execution_count": 11,
   "id": "d3eaaa8a-d795-4cc7-bca3-0e6b698b9e72",
   "metadata": {},
   "outputs": [
    {
     "name": "stdout",
     "output_type": "stream",
     "text": [
      "CPU times: total: 2min 2s\n",
      "Wall time: 43.3 s\n"
     ]
    },
    {
     "data": {
      "text/plain": [
       "(array([-1.74947511,  0.2421966 ,  7.43272594]),\n",
       " 24.961624140095907,\n",
       " array([-4.84369324,  1.34474302]))"
      ]
     },
     "execution_count": 11,
     "metadata": {},
     "output_type": "execute_result"
    }
   ],
   "source": [
    "%%time\n",
    "model_g = [model_g0, model_g1]\n",
    "dml_ate(y_data, d_data, x_quad_data, model_g, model_m_quad)"
   ]
  }
 ],
 "metadata": {
  "kernelspec": {
   "display_name": "Python 3 (ipykernel)",
   "language": "python",
   "name": "python3"
  },
  "language_info": {
   "codemirror_mode": {
    "name": "ipython",
    "version": 3
   },
   "file_extension": ".py",
   "mimetype": "text/x-python",
   "name": "python",
   "nbconvert_exporter": "python",
   "pygments_lexer": "ipython3",
   "version": "3.11.5"
  }
 },
 "nbformat": 4,
 "nbformat_minor": 5
}
