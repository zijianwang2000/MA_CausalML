{
 "cells": [
  {
   "cell_type": "code",
   "execution_count": 1,
   "id": "4f84af64-b550-48bd-a384-3d2cfceb042f",
   "metadata": {},
   "outputs": [],
   "source": [
    "import pickle"
   ]
  },
  {
   "cell_type": "code",
   "execution_count": 2,
   "id": "3ac64a03-82c7-4509-95fb-9a6f99d727c0",
   "metadata": {},
   "outputs": [],
   "source": [
    "with open('opt_params_xgboost_1.pkl', 'rb') as pickle_file:\n",
    "    xgb_params_dict_dict_1 = pickle.load(pickle_file)\n",
    "\n",
    "with open('opt_params_xgboost_2.pkl', 'rb') as pickle_file:\n",
    "    xgb_params_dict_dict_2 = pickle.load(pickle_file)\n",
    "\n",
    "xgb_params_dict_dict = xgb_params_dict_dict_1 | xgb_params_dict_dict_2"
   ]
  },
  {
   "cell_type": "code",
   "execution_count": 3,
   "id": "67b1f992-a7d7-47ca-b916-cd73905491de",
   "metadata": {},
   "outputs": [],
   "source": [
    "with open('opt_params_xgboost.pkl', 'wb') as pickle_file:\n",
    "    pickle.dump(xgb_params_dict_dict, pickle_file)"
   ]
  },
  {
   "cell_type": "code",
   "execution_count": 55,
   "id": "72225eb8-6998-46e6-8ed6-a8b58e527218",
   "metadata": {},
   "outputs": [
    {
     "name": "stdout",
     "output_type": "stream",
     "text": [
      "g0 0.01\n",
      "g1 0.1\n",
      "m 0.01\n",
      "g0 1\n",
      "g1 0.01\n",
      "m 1\n",
      "g0 1\n",
      "g1 0.01\n",
      "m 0.01\n",
      "g0 0.01\n",
      "g1 0\n",
      "m 0.1\n",
      "g0 0\n",
      "g1 0\n",
      "m 0.01\n",
      "g0 0.1\n",
      "g1 1\n",
      "m 1\n",
      "g0 1\n",
      "g1 1\n",
      "m 0.01\n"
     ]
    }
   ],
   "source": [
    "for xgb_params_dict in xgb_params_dict_dict.values():\n",
    "    for name, params in xgb_params_dict[0].items():\n",
    "        print(name, params['reg_alpha'])"
   ]
  },
  {
   "cell_type": "code",
   "execution_count": 38,
   "id": "5dce9cce-31c8-4fb6-aecc-257e0672a456",
   "metadata": {},
   "outputs": [],
   "source": [
    "param_grid_g = {\n",
    "        'n_estimators': [750, 1000],\n",
    "        'max_depth': [2],\n",
    "        'subsample': [0.6, 0.8],\n",
    "        'colsample_bytree': [0.6, 0.8, 1.0],\n",
    "        'learning_rate': [0.01, 0.03, 0.06, 0.1, 0.2],\n",
    "        'reg_lambda': [0.01, 0.1, 1, 10],\n",
    "        'reg_alpha': [0, 0.01, 0.1, 1]\n",
    "    }\n",
    "\n",
    "param_grid_m = param_grid_g.copy()\n",
    "param_grid_m['n_estimators'] = [250, 500, 750, 1000]"
   ]
  },
  {
   "cell_type": "code",
   "execution_count": 39,
   "id": "a09524bc-14cf-4176-998e-397a43d12a4a",
   "metadata": {},
   "outputs": [
    {
     "data": {
      "text/plain": [
       "{'n_estimators': [750, 1000],\n",
       " 'max_depth': [2],\n",
       " 'subsample': [0.6, 0.8],\n",
       " 'colsample_bytree': [0.6, 0.8, 1.0],\n",
       " 'learning_rate': [0.01, 0.03, 0.06, 0.1, 0.2],\n",
       " 'reg_lambda': [0.01, 0.1, 1, 10],\n",
       " 'reg_alpha': [0, 0.01, 0.1, 1]}"
      ]
     },
     "execution_count": 39,
     "metadata": {},
     "output_type": "execute_result"
    }
   ],
   "source": [
    "param_grid_g"
   ]
  }
 ],
 "metadata": {
  "kernelspec": {
   "display_name": "Python 3 (ipykernel)",
   "language": "python",
   "name": "python3"
  },
  "language_info": {
   "codemirror_mode": {
    "name": "ipython",
    "version": 3
   },
   "file_extension": ".py",
   "mimetype": "text/x-python",
   "name": "python",
   "nbconvert_exporter": "python",
   "pygments_lexer": "ipython3",
   "version": "3.11.5"
  }
 },
 "nbformat": 4,
 "nbformat_minor": 5
}
