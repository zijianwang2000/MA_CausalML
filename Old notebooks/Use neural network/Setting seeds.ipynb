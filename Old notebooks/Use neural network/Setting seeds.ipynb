{
 "cells": [
  {
   "cell_type": "code",
   "execution_count": 1,
   "id": "f73756c5-907d-4fce-b467-85993382b8f9",
   "metadata": {},
   "outputs": [],
   "source": [
    "import numpy as np"
   ]
  },
  {
   "cell_type": "code",
   "execution_count": 13,
   "id": "64e7c552-9c4c-41eb-bb9d-00c38b53e141",
   "metadata": {},
   "outputs": [],
   "source": [
    "np.random.seed(42)"
   ]
  },
  {
   "cell_type": "code",
   "execution_count": 22,
   "id": "4ec6cc73-cc5a-4ae5-87a3-3486b62f5792",
   "metadata": {},
   "outputs": [],
   "source": [
    "rng = np.random.default_rng(42)"
   ]
  },
  {
   "cell_type": "code",
   "execution_count": 23,
   "id": "b0de353a-0432-41d6-84ff-0c18f4aeb2be",
   "metadata": {},
   "outputs": [
    {
     "data": {
      "text/plain": [
       "array([0.77395605, 0.43887844])"
      ]
     },
     "execution_count": 23,
     "metadata": {},
     "output_type": "execute_result"
    }
   ],
   "source": [
    "rng.uniform(size=2)"
   ]
  },
  {
   "cell_type": "code",
   "execution_count": 14,
   "id": "84eea46c-870e-47f6-b8b2-9220e4d48660",
   "metadata": {},
   "outputs": [
    {
     "data": {
      "text/plain": [
       "array([0.37454012, 0.95071431])"
      ]
     },
     "execution_count": 14,
     "metadata": {},
     "output_type": "execute_result"
    }
   ],
   "source": [
    "np.random.uniform(size=2)"
   ]
  },
  {
   "cell_type": "code",
   "execution_count": 44,
   "id": "621b1e45-18ac-4a3a-b244-4970a77fc822",
   "metadata": {},
   "outputs": [
    {
     "name": "stdout",
     "output_type": "stream",
     "text": [
      "[0.37454012 0.95071431 0.73199394]\n",
      "[0.77395605 0.43887844 0.85859792]\n"
     ]
    }
   ],
   "source": [
    "import numpy as np\n",
    "\n",
    "# Using np.random.seed()\n",
    "np.random.seed(42)\n",
    "print(np.random.rand(3))  # [0.37454012 0.95071431 0.73199394]\n",
    "\n",
    "# Using np.random.default_rng()\n",
    "rng = np.random.default_rng(42)\n",
    "print(rng.random(3))"
   ]
  }
 ],
 "metadata": {
  "kernelspec": {
   "display_name": "Python 3 (ipykernel)",
   "language": "python",
   "name": "python3"
  },
  "language_info": {
   "codemirror_mode": {
    "name": "ipython",
    "version": 3
   },
   "file_extension": ".py",
   "mimetype": "text/x-python",
   "name": "python",
   "nbconvert_exporter": "python",
   "pygments_lexer": "ipython3",
   "version": "3.11.5"
  }
 },
 "nbformat": 4,
 "nbformat_minor": 5
}
