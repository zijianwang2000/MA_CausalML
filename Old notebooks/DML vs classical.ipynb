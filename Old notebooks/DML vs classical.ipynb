{
 "cells": [
  {
   "cell_type": "code",
   "execution_count": 1,
   "id": "ae5e87c1-8b0a-419a-8403-369b71d86585",
   "metadata": {},
   "outputs": [],
   "source": [
    "import numpy as np\n",
    "import matplotlib.pyplot as plt\n",
    "import seaborn as sns\n",
    "import xgboost as xgb\n",
    "import sklearn\n",
    "from sklearn.model_selection import GridSearchCV, KFold "
   ]
  },
  {
   "cell_type": "markdown",
   "id": "cb393e66-9c1c-426c-8765-9c8e5c23738e",
   "metadata": {},
   "source": [
    "## Data-generating process"
   ]
  },
  {
   "cell_type": "code",
   "execution_count": 2,
   "id": "66837164-d3d2-4bfa-b0f7-8e30dad07f36",
   "metadata": {},
   "outputs": [],
   "source": [
    "theta_0 = 1   # true ATE\n",
    "mean = np.array([1, 0])\n",
    "cov = np.array([[1, -0.2], [-0.2, 0.5]])\n",
    "beta = np.array([1, 2, -1])\n",
    "F = lambda z: 1 / (1 + np.exp(-z))   # standard logistic function\n",
    "\n",
    "# Propensity score\n",
    "m_0 = lambda x: F(x @ beta)\n",
    "\n",
    "# Outcome regression function\n",
    "def g_0(d, x):\n",
    "    if x.ndim == 1:\n",
    "        x = x.reshape(1,-1)\n",
    "    return d*x[:,0] + F(x[:,1]) - 2*x[:,2]**2"
   ]
  },
  {
   "cell_type": "code",
   "execution_count": 3,
   "id": "e194b46c-f775-45b7-91c1-d8de4d91f44f",
   "metadata": {},
   "outputs": [],
   "source": [
    "# Generate a dataset of size N in a vectorized fashion\n",
    "def get_data(N):\n",
    "    x_12 = np.random.multivariate_normal(mean=mean, cov=cov, size=N)\n",
    "    x_3 = np.random.uniform(size=N)\n",
    "    x_data = np.concatenate((x_12, x_3.reshape(N,1)), axis=1)\n",
    "\n",
    "    xi = np.random.logistic(size=N)\n",
    "    d_data = (x_data @ beta + xi >= 0)\n",
    "        \n",
    "    u = np.random.normal(scale=x_3)\n",
    "    y_data = g_0(d_data, x_data) + u \n",
    "\n",
    "    return y_data, d_data, x_data"
   ]
  },
  {
   "cell_type": "markdown",
   "id": "c7b5ef23-0555-4d32-a5d6-085595a7154a",
   "metadata": {},
   "source": [
    "## MC simulation of infeasible method-of-moments estimator"
   ]
  },
  {
   "cell_type": "code",
   "execution_count": 4,
   "id": "4362c4fd-1974-4d2b-bd5f-7374b48d52f2",
   "metadata": {},
   "outputs": [
    {
     "data": {
      "image/png": "[encoded data removed]",
      "text/plain": [
       "<Figure size 640x480 with 1 Axes>"
      ]
     },
     "metadata": {},
     "output_type": "display_data"
    },
    {
     "name": "stdout",
     "output_type": "stream",
     "text": [
      "CPU times: total: 5.97 s\n",
      "Wall time: 6.14 s\n"
     ]
    }
   ],
   "source": [
    "%%time\n",
    "n_MC = 5000\n",
    "N = 2000\n",
    "infeasible_estimates_list = []\n",
    "\n",
    "for j in range(n_MC):\n",
    "    y_data, d_data, x_data = get_data(N)\n",
    "    estimate = np.mean(g_0(1, x_data) - g_0(0, x_data) + d_data*(y_data-g_0(1, x_data))/m_0(x_data)\n",
    "                       - (1-d_data)*(y_data-g_0(0, x_data))/(1-m_0(x_data)))\n",
    "    infeasible_estimates_list.append(estimate)\n",
    "    \n",
    "plt.hist(infeasible_estimates_list, density=True, alpha=0.7, bins=25)\n",
    "sns.kdeplot(infeasible_estimates_list)\n",
    "plt.show()"
   ]
  },
  {
   "cell_type": "code",
   "execution_count": 5,
   "id": "d00105ec-7439-428a-a5bb-6bc9d0f54ed1",
   "metadata": {},
   "outputs": [
    {
     "data": {
      "text/plain": [
       "0.9996384767879853"
      ]
     },
     "execution_count": 5,
     "metadata": {},
     "output_type": "execute_result"
    }
   ],
   "source": [
    "np.mean(infeasible_estimates_list)"
   ]
  },
  {
   "cell_type": "code",
   "execution_count": 6,
   "id": "c03e4012-0297-445b-acdd-05ce981bd528",
   "metadata": {},
   "outputs": [
    {
     "data": {
      "text/plain": [
       "0.04346303903083411"
      ]
     },
     "execution_count": 6,
     "metadata": {},
     "output_type": "execute_result"
    }
   ],
   "source": [
    "np.std(infeasible_estimates_list)"
   ]
  },
  {
   "cell_type": "markdown",
   "id": "10b60b16-a7e2-4b7c-b80f-46047a1c5755",
   "metadata": {},
   "source": [
    "## Fix one dataset"
   ]
  },
  {
   "cell_type": "code",
   "execution_count": 7,
   "id": "c52825e0-1e41-451e-8b95-b8c7d44c278b",
   "metadata": {},
   "outputs": [
    {
     "name": "stdout",
     "output_type": "stream",
     "text": [
      "Percentage of treated units: 0.586\n"
     ]
    },
    {
     "data": {
      "text/plain": [
       "0.4244602905789002"
      ]
     },
     "execution_count": 7,
     "metadata": {},
     "output_type": "execute_result"
    }
   ],
   "source": [
    "np.random.seed(seed=123)\n",
    "N = 2000\n",
    "y_data, d_data, x_data = get_data(N)\n",
    "print(f'Percentage of treated units: {np.mean(d_data)}')\n",
    "np.mean(np.abs(y_data - g_0(d_data, x_data)))"
   ]
  },
  {
   "cell_type": "code",
   "execution_count": 8,
   "id": "31699576-0e37-420a-97c5-70db159b418d",
   "metadata": {},
   "outputs": [],
   "source": [
    "N_train = int(0.8 * N)\n",
    "y_train, d_train, x_train = y_data[:N_train], d_data[:N_train], x_data[:N_train]\n",
    "y_eval, d_eval, x_eval = y_data[N_train:], d_data[N_train:], x_data[N_train:]"
   ]
  },
  {
   "cell_type": "markdown",
   "id": "40f624a6-9ca4-48e0-9a3c-320ae1cc0690",
   "metadata": {},
   "source": [
    "## Tune ML estimators for this dataset / sample size"
   ]
  },
  {
   "cell_type": "code",
   "execution_count": 8,
   "id": "82987bf9-6424-4680-882c-ea9b806b7e86",
   "metadata": {},
   "outputs": [],
   "source": [
    "xgb_model = xgb.XGBRegressor(objective='reg:squarederror', tree_method='hist')\n",
    "\n",
    "param_grid = {\n",
    "    'n_estimators': [5, 10, 25, 50, 100],\n",
    "    'max_depth': [3, 5, 7],\n",
    "    'subsample': [0.7, 0.85, 1.0],\n",
    "    'colsample_bytree': [0.7, 0.85, 1.0],\n",
    "    'eta': [0.1, 0.2, 0.3],\n",
    "    'lambda': [0.1, 1, 10] \n",
    "}\n",
    "\n",
    "grid_search = GridSearchCV(estimator=xgb_model, param_grid=param_grid, cv=5)"
   ]
  },
  {
   "cell_type": "markdown",
   "id": "8e8f09a3-f131-4b9c-b8c3-14804ed4577d",
   "metadata": {},
   "source": [
    "### For $g_0(1,X)=E[Y|D=1,X]$:"
   ]
  },
  {
   "cell_type": "code",
   "execution_count": 9,
   "id": "e6ef03aa-1856-4cdc-aaab-fbfd5d13a195",
   "metadata": {},
   "outputs": [
    {
     "name": "stdout",
     "output_type": "stream",
     "text": [
      "Best Hyperparameters: {'colsample_bytree': 1.0, 'eta': 0.1, 'lambda': 1, 'max_depth': 3, 'n_estimators': 50, 'subsample': 0.7}\n",
      "Best Score: 0.7355894556825143\n"
     ]
    }
   ],
   "source": [
    "grid_search.fit(x_data[d_data==1], y_data[d_data==1])\n",
    "print(\"Best Hyperparameters:\", grid_search.best_params_)\n",
    "print(\"Best Score:\", grid_search.best_score_)\n",
    "model_g1 = grid_search.best_estimator_"
   ]
  },
  {
   "cell_type": "code",
   "execution_count": 10,
   "id": "5ac5b7be-a2b2-443a-a9aa-8ee21b4fff21",
   "metadata": {},
   "outputs": [
    {
     "name": "stdout",
     "output_type": "stream",
     "text": [
      "Training error: 0.14669584980910355\n",
      "Evaluation error: 0.16228104697099321\n"
     ]
    }
   ],
   "source": [
    "model_g1.fit(X=x_train[d_train==1], y=y_train[d_train==1])\n",
    "print(f'Training error: {np.mean(np.abs(model_g1.predict(x_train) - g_0(1, x_train)))}')\n",
    "print(f'Evaluation error: {np.mean(np.abs(model_g1.predict(x_eval) - g_0(1, x_eval)))}')"
   ]
  },
  {
   "cell_type": "markdown",
   "id": "5fc4ad48-a7bd-4bb9-8fa5-aebbcc406810",
   "metadata": {},
   "source": [
    "### For $g_0(0,\\cdot)=E[Y|D=0,X]$:"
   ]
  },
  {
   "cell_type": "code",
   "execution_count": 11,
   "id": "f9258adb-fae1-4536-b04c-abbc2c2f8542",
   "metadata": {},
   "outputs": [
    {
     "name": "stdout",
     "output_type": "stream",
     "text": [
      "Best Hyperparameters: {'colsample_bytree': 1.0, 'eta': 0.3, 'lambda': 10, 'max_depth': 3, 'n_estimators': 10, 'subsample': 0.7}\n",
      "Best Score: 0.45789230324499075\n"
     ]
    }
   ],
   "source": [
    "grid_search.fit(x_data[d_data==0], y_data[d_data==0])\n",
    "print(\"Best Hyperparameters:\", grid_search.best_params_)\n",
    "print(\"Best Score:\", grid_search.best_score_)\n",
    "model_g0 = grid_search.best_estimator_"
   ]
  },
  {
   "cell_type": "code",
   "execution_count": 12,
   "id": "92f012c4-cca5-4f60-983e-2399d88b00f1",
   "metadata": {},
   "outputs": [
    {
     "name": "stdout",
     "output_type": "stream",
     "text": [
      "Training error: 0.13804172838135095\n",
      "Evaluation error: 0.15110516743733496\n"
     ]
    }
   ],
   "source": [
    "model_g0.fit(X=x_train[d_train==0], y=y_train[d_train==0])\n",
    "print(f'Training error: {np.mean(np.abs(model_g0.predict(x_train) - g_0(0, x_train)))}')\n",
    "print(f'Evaluation error: {np.mean(np.abs(model_g0.predict(x_eval) - g_0(0, x_eval)))}')"
   ]
  },
  {
   "cell_type": "code",
   "execution_count": 13,
   "id": "b622fcfb-201d-470a-8c59-b9ce3c4ede6d",
   "metadata": {},
   "outputs": [],
   "source": [
    "model_g = [model_g0, model_g1]"
   ]
  },
  {
   "cell_type": "markdown",
   "id": "2c526add-1fed-4e48-9e2a-896d2eea1f58",
   "metadata": {},
   "source": [
    "### For $m_0(X)=E[D|X]$:"
   ]
  },
  {
   "cell_type": "code",
   "execution_count": 14,
   "id": "da97cb75-c903-4237-b6db-ca15e02fd9af",
   "metadata": {},
   "outputs": [],
   "source": [
    "xgb_model = xgb.XGBRegressor(objective='reg:logistic', tree_method='hist')\n",
    "grid_search = GridSearchCV(estimator=xgb_model, param_grid=param_grid, cv=5)"
   ]
  },
  {
   "cell_type": "code",
   "execution_count": 15,
   "id": "773b45f9-d447-4b7e-b5ba-1263c13dc115",
   "metadata": {},
   "outputs": [
    {
     "name": "stdout",
     "output_type": "stream",
     "text": [
      "Best Hyperparameters: {'colsample_bytree': 0.7, 'eta': 0.1, 'lambda': 1, 'max_depth': 3, 'n_estimators': 50, 'subsample': 0.85}\n",
      "Best Score: 0.23690283384232616\n"
     ]
    }
   ],
   "source": [
    "grid_search.fit(x_data, d_data)\n",
    "print(\"Best Hyperparameters:\", grid_search.best_params_)\n",
    "print(\"Best Score:\", grid_search.best_score_)\n",
    "model_m = grid_search.best_estimator_"
   ]
  },
  {
   "cell_type": "code",
   "execution_count": 10,
   "id": "05b4a6b3-bd2e-4666-9410-05b943830be5",
   "metadata": {},
   "outputs": [
    {
     "name": "stdout",
     "output_type": "stream",
     "text": [
      "Training error: 0.057148393881640065\n",
      "Evaluation error: 0.05642867471770378\n"
     ]
    }
   ],
   "source": [
    "model_m.fit(X=x_train, y=d_train)\n",
    "print(f'Training error: {np.mean(np.abs(model_m.predict(x_train) - m_0(x_train)))}')\n",
    "print(f'Evaluation error: {np.mean(np.abs(model_m.predict(x_eval) - m_0(x_eval)))}')"
   ]
  },
  {
   "cell_type": "markdown",
   "id": "79c4fd3d-08b6-4003-9aa7-fb3ec45215f3",
   "metadata": {},
   "source": [
    "## Hard-code best ML models to avoid running CV everytime"
   ]
  },
  {
   "cell_type": "code",
   "execution_count": 9,
   "id": "8b217879-4f12-4778-9ae9-95838f095bab",
   "metadata": {},
   "outputs": [],
   "source": [
    "model_g0 = xgb.XGBRegressor(objective='reg:squarederror', tree_method='hist', colsample_bytree=1.0, \n",
    "                            eta=0.3, reg_lambda=10, max_depth=3, n_estimators=10, subsample=0.7)\n",
    "model_g1 = xgb.XGBRegressor(objective='reg:squarederror', tree_method='hist', colsample_bytree=1.0, \n",
    "                            eta=0.1, reg_lambda=1, max_depth=3, n_estimators=50, subsample=0.7)\n",
    "model_g = [model_g0, model_g1]\n",
    "model_m = xgb.XGBRegressor(objective='reg:logistic', tree_method='hist', colsample_bytree=0.7, \n",
    "                           eta=0.1, reg_lambda=1, max_depth=3, n_estimators=50, subsample=0.85)"
   ]
  },
  {
   "cell_type": "code",
   "execution_count": 12,
   "id": "3518a679-6df2-4fa4-a951-ff812d35a055",
   "metadata": {},
   "outputs": [
    {
     "name": "stdout",
     "output_type": "stream",
     "text": [
      "Training error: 0.057148393881640065\n",
      "Evaluation error: 0.05642867471770378\n"
     ]
    }
   ],
   "source": [
    "model_m = xgb.XGBClassifier(tree_method='hist', colsample_bytree=0.7, \n",
    "                           eta=0.1, reg_lambda=1, max_depth=3, n_estimators=50, subsample=0.85)\n",
    "model_m.fit(X=x_train, y=d_train)\n",
    "print(f'Training error: {np.mean(np.abs(model_m.predict_proba(x_train)[:,1] - m_0(x_train)))}')\n",
    "print(f'Evaluation error: {np.mean(np.abs(model_m.predict_proba(x_eval)[:,1] - m_0(x_eval)))}')"
   ]
  },
  {
   "cell_type": "markdown",
   "id": "750421b0-808a-4610-a16f-ee02c37dc11f",
   "metadata": {},
   "source": [
    "## DML algorithm"
   ]
  },
  {
   "cell_type": "code",
   "execution_count": 17,
   "id": "e9f2bfcc-bc3c-47c3-800b-fb3fb10eb4b5",
   "metadata": {},
   "outputs": [],
   "source": [
    "# Neyman orthogonal score\n",
    "def psi_ate(h_0, h_1, h_2, y, d, x, theta):\n",
    "    return h_1(x) - h_0(x) + d*(y-h_1(x))/h_2(x) - (1-d)*(y-h_0(x))/(1-h_2(x)) - theta"
   ]
  },
  {
   "cell_type": "code",
   "execution_count": 62,
   "id": "83f05438-66a6-40ee-9a97-848550ef83df",
   "metadata": {},
   "outputs": [],
   "source": [
    "def dml_reg_ipw_ate(K, y_data, d_data, x_data, model_g, model_m):\n",
    "    # Generate random partition of data for cross-fitting\n",
    "    indices = np.arange(N)\n",
    "    kf = KFold(n_splits=K, shuffle=True)#, random_state=42)\n",
    "\n",
    "    # Compute respective ML estimators and thereupon auxiliary estimators\n",
    "    theta_0_check = []\n",
    "    reg_check, ipw_check = [], []\n",
    "    for (train_indices, eval_indices) in kf.split(x_data):\n",
    "        y_train, d_train, x_train = y_data[train_indices], d_data[train_indices], x_data[train_indices]\n",
    "        y_eval, d_eval, x_eval = y_data[eval_indices], d_data[eval_indices], x_data[eval_indices]\n",
    "\n",
    "        # Estimate outcome regression functions g_0(d)\n",
    "        g_0_hat = []\n",
    "        for d in [0,1]:\n",
    "            model_g[d].fit(X=x_train[d_train==d], y=y_train[d_train==d])\n",
    "            g_0_hat.append(model_g[d].predict(x_eval))\n",
    "\n",
    "        # Estimate propensity score m_0\n",
    "        model_m.fit(X=x_train, y=d_train)\n",
    "        m_0_hat = model_m.predict(x_eval)\n",
    "            \n",
    "        # Compute auxiliary estimator\n",
    "        theta_0_check.append(np.mean(g_0_hat[1] - g_0_hat[0] + d_eval*(y_eval-g_0_hat[1])/m_0_hat\n",
    "                                     - (1-d_eval)*(y_eval-g_0_hat[0])/(1-m_0_hat)))\n",
    "\n",
    "        # Regression estimator \n",
    "        reg_check.append(np.mean(g_0_hat[1] - g_0_hat[0]))\n",
    "        # IPW estimator\n",
    "        ipw_check.append(np.mean(d_eval*y_eval/m_0_hat - (1-d_eval)*y_eval/(1-m_0_hat)))\n",
    "\n",
    "    # Compute final estimators\n",
    "    theta_0_hat = np.mean(theta_0_check)\n",
    "    reg_hat, ipw_hat = np.mean(reg_check), np.mean(ipw_check)\n",
    "\n",
    "    return np.array([theta_0_hat, reg_hat, ipw_hat])"
   ]
  },
  {
   "cell_type": "code",
   "execution_count": 63,
   "id": "38177b28-6644-4083-84b4-76994bf2ce32",
   "metadata": {},
   "outputs": [
    {
     "name": "stdout",
     "output_type": "stream",
     "text": [
      "CPU times: total: 1.91 s\n",
      "Wall time: 561 ms\n"
     ]
    },
    {
     "data": {
      "text/plain": [
       "array([1.03201225, 1.06738555, 1.07529085])"
      ]
     },
     "execution_count": 63,
     "metadata": {},
     "output_type": "execute_result"
    }
   ],
   "source": [
    "%%time\n",
    "K = 5\n",
    "dml_reg_ipw_ate(K, y_data, d_data, x_data, model_g, model_m)"
   ]
  },
  {
   "cell_type": "markdown",
   "id": "f50d4c6d-71aa-4038-8b7d-29304b4c30b8",
   "metadata": {},
   "source": [
    "## MC simulation of DML"
   ]
  },
  {
   "cell_type": "code",
   "execution_count": 65,
   "id": "34b71c75-63b6-4e9b-9bf8-2bec53b10289",
   "metadata": {},
   "outputs": [
    {
     "name": "stdout",
     "output_type": "stream",
     "text": [
      "CPU times: total: 32min 31s\n",
      "Wall time: 9min 12s\n"
     ]
    }
   ],
   "source": [
    "%%time\n",
    "N = 2000\n",
    "n_MC = 1000\n",
    "K = 5\n",
    "estimates_list = np.empty((n_MC, 3))\n",
    "\n",
    "for j in range(n_MC):\n",
    "    y_data, d_data, x_data = get_data(N)\n",
    "    estimates_list[j] = dml_reg_ipw_ate(K, y_data, d_data, x_data, model_g, model_m)"
   ]
  },
  {
   "cell_type": "code",
   "execution_count": 67,
   "id": "8c650f73-1bed-429b-bd06-6ac059124559",
   "metadata": {},
   "outputs": [
    {
     "data": {
      "image/png": "[encoded data removed]",
      "text/plain": [
       "<Figure size 640x480 with 1 Axes>"
      ]
     },
     "metadata": {},
     "output_type": "display_data"
    }
   ],
   "source": [
    "sns.kdeplot(infeasible_estimates_list, label='infeasible')\n",
    "sns.kdeplot(estimates_list[:,0], label='DML')\n",
    "sns.kdeplot(estimates_list[:,1], label='reg')\n",
    "sns.kdeplot(estimates_list[:,2], label='ipw')\n",
    "plt.legend()\n",
    "plt.show()"
   ]
  },
  {
   "cell_type": "code",
   "execution_count": 69,
   "id": "8028e89b-4abf-42e7-b8cd-332d9e337539",
   "metadata": {},
   "outputs": [
    {
     "name": "stdout",
     "output_type": "stream",
     "text": [
      "Mean of estimates: [1.01499534 1.05003732 1.0770717 ]\n",
      "Standard deviation of estimates: [0.0408117  0.03637304 0.04142819]\n",
      "MSE estimates: [0.00189046 0.00382673 0.00765634]\n"
     ]
    }
   ],
   "source": [
    "print(f'Mean of estimates: {np.mean(estimates_list, axis=0)}')\n",
    "print(f'Standard deviation of estimates: {np.std(estimates_list, axis=0)}')\n",
    "print(f'MSE estimates: {np.mean((estimates_list-theta_0)**2, axis=0)}')"
   ]
  }
 ],
 "metadata": {
  "kernelspec": {
   "display_name": "Python 3 (ipykernel)",
   "language": "python",
   "name": "python3"
  },
  "language_info": {
   "codemirror_mode": {
    "name": "ipython",
    "version": 3
   },
   "file_extension": ".py",
   "mimetype": "text/x-python",
   "name": "python",
   "nbconvert_exporter": "python",
   "pygments_lexer": "ipython3",
   "version": "3.11.8"
  }
 },
 "nbformat": 4,
 "nbformat_minor": 5
}
