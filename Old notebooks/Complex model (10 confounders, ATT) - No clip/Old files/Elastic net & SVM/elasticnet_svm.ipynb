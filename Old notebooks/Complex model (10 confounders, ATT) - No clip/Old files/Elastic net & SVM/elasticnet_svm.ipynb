{
 "cells": [
  {
   "cell_type": "code",
   "execution_count": 1,
   "id": "4a613aa6-3fbf-4120-a74f-e81d32d6ab56",
   "metadata": {},
   "outputs": [],
   "source": [
    "import numpy as np\n",
    "import pickle\n",
    "from sklearn.linear_model import ElasticNetCV\n",
    "from sklearn.preprocessing import PolynomialFeatures\n",
    "from sklearn.svm import LinearSVC\n",
    "from sklearn.calibration import CalibratedClassifierCV\n",
    "from data_generation import m_0, g_0, get_data\n",
    "from dml_algorithm import mm_ate, dml_ate"
   ]
  },
  {
   "cell_type": "markdown",
   "id": "ebebbedb-f336-4d58-8e74-c2ac5edd1246",
   "metadata": {},
   "source": [
    "For g: Elastic net (with quadratic interaction)\n",
    "For m: Linear SVC"
   ]
  },
  {
   "cell_type": "code",
   "execution_count": null,
   "id": "039fdbcc-d80c-4958-a375-1ce14b18eaad",
   "metadata": {},
   "outputs": [],
   "source": []
  },
  {
   "cell_type": "code",
   "execution_count": null,
   "id": "d6c1f3fe-9025-4a3b-a7dc-0f66265ee938",
   "metadata": {},
   "outputs": [],
   "source": []
  },
  {
   "cell_type": "code",
   "execution_count": null,
   "id": "e306c352-e11a-4f1e-80f0-54850914f8d7",
   "metadata": {},
   "outputs": [],
   "source": []
  }
 ],
 "metadata": {
  "kernelspec": {
   "display_name": "Python 3 (ipykernel)",
   "language": "python",
   "name": "python3"
  },
  "language_info": {
   "codemirror_mode": {
    "name": "ipython",
    "version": 3
   },
   "file_extension": ".py",
   "mimetype": "text/x-python",
   "name": "python",
   "nbconvert_exporter": "python",
   "pygments_lexer": "ipython3",
   "version": "3.11.5"
  }
 },
 "nbformat": 4,
 "nbformat_minor": 5
}
