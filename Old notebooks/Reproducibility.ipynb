{
 "cells": [
  {
   "cell_type": "code",
   "execution_count": 1,
   "id": "ef7be05f-d4cb-4534-a9ac-51673fe8e61b",
   "metadata": {},
   "outputs": [],
   "source": [
    "import numpy as np\n",
    "import pickle"
   ]
  },
  {
   "cell_type": "code",
   "execution_count": 2,
   "id": "599a1689-17ad-4686-a92d-4cbbd8ec8f09",
   "metadata": {},
   "outputs": [],
   "source": [
    "with open('results_dict_5.pkl', 'rb') as pickle_file:\n",
    "    results_5 = pickle.load(pickle_file)"
   ]
  },
  {
   "cell_type": "code",
   "execution_count": 3,
   "id": "3e376434-dc69-4ab4-9264-07eedf5e46c3",
   "metadata": {},
   "outputs": [],
   "source": [
    "with open('results_dict_6.pkl', 'rb') as pickle_file:\n",
    "    results_6 = pickle.load(pickle_file)"
   ]
  },
  {
   "cell_type": "code",
   "execution_count": 4,
   "id": "0656abd2-4644-4792-9fe3-48b9b34b85e5",
   "metadata": {},
   "outputs": [
    {
     "name": "stdout",
     "output_type": "stream",
     "text": [
      "gleich! 500\n",
      "gleich! 1000\n",
      "gleich! 2000\n",
      "gleich! 4000\n",
      "gleich! 8000\n"
     ]
    }
   ],
   "source": [
    "for N, result_5 in results_5.items():\n",
    "    result_6 = results_6[N]\n",
    "    a, b, c = result_5\n",
    "    d, e, f = result_6\n",
    "    if np.sum(np.abs(a-d)) + np.sum(np.abs(e-b)) + np.sum(np.abs(c-f)) == 0:\n",
    "        print(f'gleich! {N}')"
   ]
  },
  {
   "cell_type": "code",
   "execution_count": 5,
   "id": "4b297e6d-fb47-437d-b515-0702e48ba8b1",
   "metadata": {},
   "outputs": [],
   "source": [
    "with open('results_dict_66.pkl', 'rb') as pickle_file:\n",
    "    results_66 = pickle.load(pickle_file)"
   ]
  },
  {
   "cell_type": "code",
   "execution_count": 6,
   "id": "416e3434-5bd5-49b9-b278-17b619762f0a",
   "metadata": {},
   "outputs": [],
   "source": [
    "with open('results_dict_7.pkl', 'rb') as pickle_file:\n",
    "    results_7 = pickle.load(pickle_file)"
   ]
  },
  {
   "cell_type": "code",
   "execution_count": 7,
   "id": "1539838b-3ef5-484f-bd6c-f651b8ec2a22",
   "metadata": {},
   "outputs": [
    {
     "name": "stdout",
     "output_type": "stream",
     "text": [
      "gleich! 250\n",
      "gleich! 500\n",
      "gleich! 1000\n",
      "gleich! 2000\n",
      "gleich! 4000\n",
      "gleich! 8000\n",
      "gleich! 16000\n"
     ]
    }
   ],
   "source": [
    "for N, result_7 in results_7.items():\n",
    "    result_66 = results_66[N]\n",
    "    a, b, c = result_66\n",
    "    d, e, f = result_7\n",
    "    if np.sum(np.abs(a-d)) + np.sum(np.abs(e-b)) + np.sum(np.abs(c-f)) == 0:\n",
    "        print(f'gleich! {N}')"
   ]
  },
  {
   "cell_type": "code",
   "execution_count": 8,
   "id": "07608ae0-b556-435d-ba0e-1f2848e8c72c",
   "metadata": {},
   "outputs": [],
   "source": [
    "with open('results_dict_444.pkl', 'rb') as pickle_file:\n",
    "    results_444 = pickle.load(pickle_file)"
   ]
  },
  {
   "cell_type": "code",
   "execution_count": 3,
   "id": "f2d456f1-b94c-4107-b9ef-f065e6f35a2b",
   "metadata": {},
   "outputs": [],
   "source": [
    "with open('results_dict_555.pkl', 'rb') as pickle_file:\n",
    "    results_555 = pickle.load(pickle_file)"
   ]
  },
  {
   "cell_type": "code",
   "execution_count": 10,
   "id": "80adaf08-0b6e-4e09-935d-780f7f72a613",
   "metadata": {},
   "outputs": [
    {
     "name": "stdout",
     "output_type": "stream",
     "text": [
      "gleich! 250\n",
      "gleich! 500\n",
      "gleich! 1000\n",
      "gleich! 2000\n",
      "gleich! 4000\n",
      "gleich! 8000\n",
      "gleich! 16000\n"
     ]
    }
   ],
   "source": [
    "for N, result_444 in results_444.items():\n",
    "    result_555 = results_555[N]\n",
    "    a, b, c = result_444\n",
    "    d, e, f = result_555\n",
    "    if np.sum(np.abs(a-d)) + np.sum(np.abs(e-b)) + np.sum(np.abs(c-f)) == 0:\n",
    "        print(f'gleich! {N}')"
   ]
  },
  {
   "cell_type": "code",
   "execution_count": 2,
   "id": "484925a2-833d-4380-a916-d0d5d7e56d35",
   "metadata": {},
   "outputs": [],
   "source": [
    "with open('results_dict_gpu.pkl', 'rb') as pickle_file:\n",
    "    results_gpu = pickle.load(pickle_file)"
   ]
  },
  {
   "cell_type": "code",
   "execution_count": 4,
   "id": "0063e65b-0a6e-4088-9a5a-417802548fe4",
   "metadata": {},
   "outputs": [
    {
     "name": "stdout",
     "output_type": "stream",
     "text": [
      "gleich! 250\n",
      "gleich! 500\n",
      "gleich! 1000\n",
      "gleich! 2000\n",
      "gleich! 4000\n",
      "gleich! 8000\n",
      "gleich! 16000\n"
     ]
    }
   ],
   "source": [
    "for N, result_gpu in results_gpu.items():\n",
    "    result_555 = results_555[N]\n",
    "    a, b, c = result_gpu\n",
    "    d, e, f = result_555\n",
    "    if np.sum(np.abs(a-d)) + np.sum(np.abs(e-b)) + np.sum(np.abs(c-f)) == 0:\n",
    "        print(f'gleich! {N}')"
   ]
  }
 ],
 "metadata": {
  "kernelspec": {
   "display_name": "Python 3 (ipykernel)",
   "language": "python",
   "name": "python3"
  },
  "language_info": {
   "codemirror_mode": {
    "name": "ipython",
    "version": 3
   },
   "file_extension": ".py",
   "mimetype": "text/x-python",
   "name": "python",
   "nbconvert_exporter": "python",
   "pygments_lexer": "ipython3",
   "version": "3.11.5"
  }
 },
 "nbformat": 4,
 "nbformat_minor": 5
}
