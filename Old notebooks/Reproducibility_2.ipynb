{
 "cells": [
  {
   "cell_type": "code",
   "execution_count": 1,
   "id": "2c1f18e7-80bc-4414-8edd-3c582998f32b",
   "metadata": {},
   "outputs": [],
   "source": [
    "import numpy as np\n",
    "import pickle"
   ]
  },
  {
   "cell_type": "code",
   "execution_count": 2,
   "id": "eb39b00d-e28d-4dea-a4c2-4b164181a54a",
   "metadata": {},
   "outputs": [],
   "source": [
    "with open('results_dict_old.pkl', 'rb') as pickle_file:\n",
    "    results_old = pickle.load(pickle_file)"
   ]
  },
  {
   "cell_type": "code",
   "execution_count": 3,
   "id": "d798e76f-41dc-4c77-a13e-2807ac9206f5",
   "metadata": {},
   "outputs": [],
   "source": [
    "with open('results_dict.pkl', 'rb') as pickle_file:\n",
    "    results = pickle.load(pickle_file)"
   ]
  },
  {
   "cell_type": "code",
   "execution_count": 4,
   "id": "6684e6d0-3957-49d8-b04e-98b6b53c88c1",
   "metadata": {},
   "outputs": [
    {
     "name": "stdout",
     "output_type": "stream",
     "text": [
      "gleich! 250\n",
      "gleich! 500\n",
      "gleich! 1000\n",
      "gleich! 2000\n",
      "gleich! 4000\n",
      "gleich! 8000\n",
      "gleich! 16000\n"
     ]
    }
   ],
   "source": [
    "for N, result in results.items():\n",
    "    result_old = results_old[N]\n",
    "    a, b, c = result\n",
    "    d, e, f = result_old\n",
    "    if np.sum(np.abs(a-d)) + np.sum(np.abs(e-b)) + np.sum(np.abs(c-f)) == 0:\n",
    "        print(f'gleich! {N}')"
   ]
  },
  {
   "cell_type": "code",
   "execution_count": 5,
   "id": "0408fc5e-832b-4ff5-ad54-b6c70a66f16c",
   "metadata": {},
   "outputs": [
    {
     "name": "stdout",
     "output_type": "stream",
     "text": [
      "{250: {'g0': {'learning_rate': 0.3, 'max_depth': 2, 'n_estimators': 100, 'reg_lambda': 100, 'subsample': 0.6}, 'g1': {'learning_rate': 0.06, 'max_depth': 2, 'n_estimators': 100, 'reg_lambda': 3, 'subsample': 0.6}, 'm': {'learning_rate': 0.06, 'max_depth': 2, 'n_estimators': 75, 'reg_lambda': 3, 'subsample': 1.0}}, 500: {'g0': {'learning_rate': 0.2, 'max_depth': 3, 'n_estimators': 10, 'reg_lambda': 1, 'subsample': 0.6}, 'g1': {'learning_rate': 0.1, 'max_depth': 2, 'n_estimators': 75, 'reg_lambda': 3, 'subsample': 0.8}, 'm': {'learning_rate': 0.03, 'max_depth': 2, 'n_estimators': 150, 'reg_lambda': 0.03, 'subsample': 0.6}}, 1000: {'g0': {'learning_rate': 0.06, 'max_depth': 2, 'n_estimators': 50, 'reg_lambda': 10, 'subsample': 1.0}, 'g1': {'learning_rate': 0.06, 'max_depth': 2, 'n_estimators': 100, 'reg_lambda': 3, 'subsample': 0.6}, 'm': {'learning_rate': 0.1, 'max_depth': 2, 'n_estimators': 50, 'reg_lambda': 0.3, 'subsample': 0.6}}, 2000: {'g0': {'learning_rate': 0.1, 'max_depth': 2, 'n_estimators': 50, 'reg_lambda': 0.01, 'subsample': 0.6}, 'g1': {'learning_rate': 0.1, 'max_depth': 2, 'n_estimators': 75, 'reg_lambda': 1, 'subsample': 0.6}, 'm': {'learning_rate': 0.06, 'max_depth': 2, 'n_estimators': 150, 'reg_lambda': 0.03, 'subsample': 0.6}}, 4000: {'g0': {'learning_rate': 0.06, 'max_depth': 2, 'n_estimators': 100, 'reg_lambda': 100, 'subsample': 0.6}, 'g1': {'learning_rate': 0.06, 'max_depth': 2, 'n_estimators': 200, 'reg_lambda': 10, 'subsample': 1.0}, 'm': {'learning_rate': 0.1, 'max_depth': 2, 'n_estimators': 75, 'reg_lambda': 3, 'subsample': 0.6}}, 8000: {'g0': {'learning_rate': 0.03, 'max_depth': 2, 'n_estimators': 150, 'reg_lambda': 10, 'subsample': 0.6}, 'g1': {'learning_rate': 0.06, 'max_depth': 2, 'n_estimators': 200, 'reg_lambda': 30, 'subsample': 0.8}, 'm': {'learning_rate': 0.06, 'max_depth': 2, 'n_estimators': 150, 'reg_lambda': 0.01, 'subsample': 0.6}}, 16000: {'g0': {'learning_rate': 0.03, 'max_depth': 2, 'n_estimators': 200, 'reg_lambda': 30, 'subsample': 0.6}, 'g1': {'learning_rate': 0.1, 'max_depth': 2, 'n_estimators': 200, 'reg_lambda': 100, 'subsample': 1.0}, 'm': {'learning_rate': 0.06, 'max_depth': 2, 'n_estimators': 200, 'reg_lambda': 0.01, 'subsample': 0.6}}}\n"
     ]
    }
   ],
   "source": [
    "with open('opt_params_xgboost.pkl', 'rb') as pickle_file:\n",
    "    xgb_params_dict_dict = pickle.load(pickle_file)\n",
    "\n",
    "print(xgb_params_dict_dict)"
   ]
  },
  {
   "cell_type": "code",
   "execution_count": 7,
   "id": "c1e17264-0233-4482-b53b-523830d2daf3",
   "metadata": {},
   "outputs": [],
   "source": [
    "import json\n",
    "\n",
    "with open('opt_params_xgboost.json', 'r') as json_file:\n",
    "    opt_params_dict_dict_old = json.load(json_file)"
   ]
  },
  {
   "cell_type": "code",
   "execution_count": 9,
   "id": "fc210411-2b1d-4693-b98d-c8cc73c6fe95",
   "metadata": {},
   "outputs": [
    {
     "data": {
      "text/plain": [
       "True"
      ]
     },
     "execution_count": 9,
     "metadata": {},
     "output_type": "execute_result"
    }
   ],
   "source": [
    "hi = True\n",
    "\n",
    "for N, xgb_params_dict in xgb_params_dict_dict.items():\n",
    "    for model_name, xgb_params in xgb_params_dict.items():\n",
    "        for param_name, param in xgb_params.items():\n",
    "            if opt_params_dict_dict_old[str(N)][model_name][param_name] != param:\n",
    "                hi = False\n",
    "\n",
    "hi"
   ]
  },
  {
   "cell_type": "code",
   "execution_count": null,
   "id": "4a0ddfb9-ce46-4901-bf64-975ee8c88e07",
   "metadata": {},
   "outputs": [],
   "source": []
  }
 ],
 "metadata": {
  "kernelspec": {
   "display_name": "Python 3 (ipykernel)",
   "language": "python",
   "name": "python3"
  },
  "language_info": {
   "codemirror_mode": {
    "name": "ipython",
    "version": 3
   },
   "file_extension": ".py",
   "mimetype": "text/x-python",
   "name": "python",
   "nbconvert_exporter": "python",
   "pygments_lexer": "ipython3",
   "version": "3.11.5"
  }
 },
 "nbformat": 4,
 "nbformat_minor": 5
}
