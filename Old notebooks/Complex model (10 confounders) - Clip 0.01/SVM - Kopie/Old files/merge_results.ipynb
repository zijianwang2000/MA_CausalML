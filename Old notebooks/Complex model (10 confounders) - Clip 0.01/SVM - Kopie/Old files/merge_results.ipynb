{
 "cells": [
  {
   "cell_type": "code",
   "execution_count": 1,
   "id": "4f84af64-b550-48bd-a384-3d2cfceb042f",
   "metadata": {},
   "outputs": [],
   "source": [
    "import pickle"
   ]
  },
  {
   "cell_type": "code",
   "execution_count": 2,
   "id": "3ac64a03-82c7-4509-95fb-9a6f99d727c0",
   "metadata": {},
   "outputs": [],
   "source": [
    "with open('results_dict_svm_1.pkl', 'rb') as pickle_file:\n",
    "    dict_1 = pickle.load(pickle_file)\n",
    "\n",
    "with open('results_dict_svm_2.pkl', 'rb') as pickle_file:\n",
    "    dict_2 = pickle.load(pickle_file)\n",
    "\n",
    "results = dict_1 | dict_2"
   ]
  },
  {
   "cell_type": "code",
   "execution_count": 3,
   "id": "67b1f992-a7d7-47ca-b916-cd73905491de",
   "metadata": {},
   "outputs": [],
   "source": [
    "with open('results_dict_svm.pkl', 'wb') as pickle_file:\n",
    "    pickle.dump(results, pickle_file)"
   ]
  }
 ],
 "metadata": {
  "kernelspec": {
   "display_name": "Python 3 (ipykernel)",
   "language": "python",
   "name": "python3"
  },
  "language_info": {
   "codemirror_mode": {
    "name": "ipython",
    "version": 3
   },
   "file_extension": ".py",
   "mimetype": "text/x-python",
   "name": "python",
   "nbconvert_exporter": "python",
   "pygments_lexer": "ipython3",
   "version": "3.11.5"
  }
 },
 "nbformat": 4,
 "nbformat_minor": 5
}
