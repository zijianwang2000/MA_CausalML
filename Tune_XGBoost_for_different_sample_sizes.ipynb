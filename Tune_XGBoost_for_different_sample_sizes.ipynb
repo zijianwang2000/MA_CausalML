{
 "cells": [
  {
   "cell_type": "code",
   "execution_count": 1,
   "id": "ae5e87c1-8b0a-419a-8403-369b71d86585",
   "metadata": {},
   "outputs": [],
   "source": [
    "import numpy as np\n",
    "import sklearn\n",
    "import xgboost as xgb\n",
    "import json\n",
    "\n",
    "from sklearn.model_selection import GridSearchCV \n",
    "from data_generation import get_data"
   ]
  },
  {
   "cell_type": "markdown",
   "id": "10b60b16-a7e2-4b7c-b80f-46047a1c5755",
   "metadata": {},
   "source": [
    "## Define list of sample sizes"
   ]
  },
  {
   "cell_type": "code",
   "execution_count": 2,
   "id": "32278099-7623-4595-bd80-c7106b51f7e4",
   "metadata": {},
   "outputs": [],
   "source": [
    "sample_sizes = [250, 500, 1000, 2500, 5000, 10000]\n",
    "opt_params_dict_dict = {}"
   ]
  },
  {
   "cell_type": "markdown",
   "id": "cacd8856-ba79-43fb-bd37-06d4e39802bf",
   "metadata": {},
   "source": [
    "## Use cross-validation to find optimal hyperparameters of XGBoost for each sample size"
   ]
  },
  {
   "cell_type": "code",
   "execution_count": 3,
   "id": "3f57b2f0-4895-49b4-9566-9586383b25cb",
   "metadata": {},
   "outputs": [],
   "source": [
    "xgb_model_g = xgb.XGBRegressor(objective='reg:squarederror', tree_method='hist')\n",
    "xgb_model_m = xgb.XGBRegressor(objective='reg:logistic', tree_method='hist')\n",
    "xgb_model_m = xgb.XGBClassifier(objective='binary:logistic', tree_method='hist')\n",
    "\n",
    "param_grid = {\n",
    "    'n_estimators': [5, 10, 25, 50, 75, 100],\n",
    "    'max_depth': [2, 3, 4, 5, 6],\n",
    "    'subsample': [0.6, 0.8, 1.0],\n",
    "    'learning_rate': [0.1, 0.2, 0.3],\n",
    "    'reg_lambda': [0.1, 1, 10] \n",
    "}\n",
    "\n",
    "grid_search_g = GridSearchCV(estimator=xgb_model_g, param_grid=param_grid, cv=5, scoring='neg_root_mean_squared_error')\n",
    "grid_search_m = GridSearchCV(estimator=xgb_model_m, param_grid=param_grid, cv=5, scoring='neg_brier_score')\n",
    "grid_search_m = GridSearchCV(estimator=xgb_model_m, param_grid=param_grid, cv=5, scoring='neg_log_loss')"
   ]
  },
  {
   "cell_type": "code",
   "execution_count": 4,
   "id": "7826ae23-6259-4691-85b3-3f4f6269d958",
   "metadata": {},
   "outputs": [
    {
     "name": "stdout",
     "output_type": "stream",
     "text": [
      "Cross-validation done for N=250\n",
      "Cross-validation done for N=500\n",
      "Cross-validation done for N=1000\n",
      "Cross-validation done for N=2500\n",
      "Cross-validation done for N=5000\n",
      "Cross-validation done for N=10000\n",
      "CPU times: total: 4h 19min 36s\n",
      "Wall time: 1h 7min 9s\n"
     ]
    }
   ],
   "source": [
    "%%time\n",
    "for N in sample_sizes:\n",
    "    np.random.seed(seed=123)\n",
    "    y_data, d_data, x_data = get_data(N)\n",
    "    opt_params_dict = {}\n",
    "    \n",
    "    for d in [0, 1]:\n",
    "        grid_search_g.fit(X=x_data[d_data==d], y=y_data[d_data==d])\n",
    "        opt_params_dict[f'g{d}'] = grid_search_g.best_params_\n",
    "   \n",
    "    grid_search_m.fit(X=x_data, y=d_data)\n",
    "    opt_params_dict['m'] = grid_search_m.best_params_\n",
    "    \n",
    "    opt_params_dict_dict[N] = opt_params_dict  \n",
    "    print(f'Cross-validation done for N={N}')"
   ]
  },
  {
   "cell_type": "code",
   "execution_count": 5,
   "id": "940ab90e-e921-43c0-8cf2-53cd005fc026",
   "metadata": {},
   "outputs": [],
   "source": [
    "with open('opt_params_xgboost.json', 'w') as json_file:\n",
    "    json.dump(opt_params_dict_dict, json_file)"
   ]
  }
 ],
 "metadata": {
  "kernelspec": {
   "display_name": "Python 3 (ipykernel)",
   "language": "python",
   "name": "python3"
  },
  "language_info": {
   "codemirror_mode": {
    "name": "ipython",
    "version": 3
   },
   "file_extension": ".py",
   "mimetype": "text/x-python",
   "name": "python",
   "nbconvert_exporter": "python",
   "pygments_lexer": "ipython3",
   "version": "3.11.8"
  }
 },
 "nbformat": 4,
 "nbformat_minor": 5
}
