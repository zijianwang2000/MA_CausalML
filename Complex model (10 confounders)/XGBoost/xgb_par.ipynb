{
 "cells": [
  {
   "cell_type": "code",
   "execution_count": 1,
   "id": "4f84af64-b550-48bd-a384-3d2cfceb042f",
   "metadata": {},
   "outputs": [],
   "source": [
    "import pickle"
   ]
  },
  {
   "cell_type": "code",
   "execution_count": 2,
   "id": "3ac64a03-82c7-4509-95fb-9a6f99d727c0",
   "metadata": {},
   "outputs": [],
   "source": [
    "with open('opt_params_xgboost.pkl', 'rb') as pickle_file:\n",
    "    xgb_params_dict_dict = pickle.load(pickle_file)"
   ]
  },
  {
   "cell_type": "code",
   "execution_count": 4,
   "id": "72225eb8-6998-46e6-8ed6-a8b58e527218",
   "metadata": {},
   "outputs": [
    {
     "name": "stdout",
     "output_type": "stream",
     "text": [
      "{'g0': {'colsample_bytree': 1.0, 'learning_rate': 0.2, 'max_depth': 2, 'n_estimators': 300, 'reg_alpha': 0, 'reg_lambda': 3, 'subsample': 0.6}, 'g1': {'colsample_bytree': 0.8, 'learning_rate': 0.06, 'max_depth': 2, 'n_estimators': 500, 'reg_alpha': 0.01, 'reg_lambda': 3, 'subsample': 0.6}, 'm': {'colsample_bytree': 1.0, 'learning_rate': 0.2, 'max_depth': 2, 'n_estimators': 75, 'reg_alpha': 0.1, 'reg_lambda': 30, 'subsample': 0.8}}\n"
     ]
    }
   ],
   "source": [
    "print(xgb_params_dict_dict[500])"
   ]
  }
 ],
 "metadata": {
  "kernelspec": {
   "display_name": "Python 3 (ipykernel)",
   "language": "python",
   "name": "python3"
  },
  "language_info": {
   "codemirror_mode": {
    "name": "ipython",
    "version": 3
   },
   "file_extension": ".py",
   "mimetype": "text/x-python",
   "name": "python",
   "nbconvert_exporter": "python",
   "pygments_lexer": "ipython3",
   "version": "3.11.5"
  }
 },
 "nbformat": 4,
 "nbformat_minor": 5
}
