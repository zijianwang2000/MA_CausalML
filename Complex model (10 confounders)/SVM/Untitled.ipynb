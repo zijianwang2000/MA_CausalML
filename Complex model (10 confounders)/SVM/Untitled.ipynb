{
 "cells": [
  {
   "cell_type": "code",
   "execution_count": 1,
   "id": "1486d9e2-560a-487b-a03c-f2ff2b0edc43",
   "metadata": {},
   "outputs": [],
   "source": [
    "import numpy as np\n",
    "import pickle\n",
    "from sklearn.svm import SVR, SVC\n",
    "from sklearn.preprocessing import StandardScaler\n",
    "from data_generation import get_data\n",
    "from dml_algorithm import mm_ate, dml_ate"
   ]
  },
  {
   "cell_type": "code",
   "execution_count": 2,
   "id": "916f3378-e103-4edf-b257-a629bf4cf0ff",
   "metadata": {},
   "outputs": [],
   "source": [
    "def get_models(svm_params_dict):\n",
    "    model_g = []\n",
    "    for d in [0, 1]:\n",
    "        model = SVR()\n",
    "        model.set_params(**svm_params_dict[f'g{d}'])\n",
    "        model_g.append(model)\n",
    "    model_m = SVC(probability=True, random_state=42)\n",
    "    model_m.set_params(**svm_params_dict['m'])\n",
    "    return model_g, model_m"
   ]
  },
  {
   "cell_type": "code",
   "execution_count": 3,
   "id": "2303373a-2e14-4324-9b9e-01ca59a69a34",
   "metadata": {},
   "outputs": [],
   "source": [
    "with open('results_dict.pkl', 'rb') as pickle_file:\n",
    "    results_dict = pickle.load(pickle_file)"
   ]
  },
  {
   "cell_type": "code",
   "execution_count": 4,
   "id": "9341d0ea-ffc8-45fc-8c03-e4d30c453d64",
   "metadata": {},
   "outputs": [
    {
     "data": {
      "text/plain": [
       "array([1388], dtype=int64)"
      ]
     },
     "execution_count": 4,
     "metadata": {},
     "output_type": "execute_result"
    }
   ],
   "source": [
    "hi = results_dict[4000][0][:,1]\n",
    "np.where(hi==hi.min())[0]"
   ]
  },
  {
   "cell_type": "code",
   "execution_count": 5,
   "id": "08191980-b61d-4c66-a2cf-f8258c532a0c",
   "metadata": {},
   "outputs": [],
   "source": [
    "with open('opt_params_svm.pkl', 'rb') as pickle_file:\n",
    "    opt_params_svm = pickle.load(pickle_file)"
   ]
  },
  {
   "cell_type": "code",
   "execution_count": 9,
   "id": "5243fd0c-c9a4-4d3a-afc7-6f304c3d2fc6",
   "metadata": {},
   "outputs": [
    {
     "data": {
      "text/plain": [
       "array([ 3.06703872e-01, -1.35229445e+03,  4.62589515e-01, -5.77611376e+03])"
      ]
     },
     "execution_count": 9,
     "metadata": {},
     "output_type": "execute_result"
    }
   ],
   "source": [
    "results_dict[4000][0][1388,:]"
   ]
  },
  {
   "cell_type": "code",
   "execution_count": 39,
   "id": "d84914ca-117d-4249-b5ad-1deb55959a38",
   "metadata": {},
   "outputs": [],
   "source": [
    "rng = np.random.default_rng(seed=123)\n",
    "for j in range(1389):\n",
    "    y_data, d_data, x_data = get_data(4000, rng)\n",
    "    if j == 1388:\n",
    "        scaler = StandardScaler()\n",
    "        x_data_stand = scaler.fit_transform(x_data)"
   ]
  },
  {
   "cell_type": "code",
   "execution_count": 40,
   "id": "1d85489d-a141-4295-88d5-7390c7086da2",
   "metadata": {},
   "outputs": [
    {
     "name": "stdout",
     "output_type": "stream",
     "text": [
      "0.3067038720230787\n"
     ]
    }
   ],
   "source": [
    "print(mm_ate(y_data, d_data, x_data))"
   ]
  },
  {
   "cell_type": "code",
   "execution_count": 50,
   "id": "28e877e5-c7a2-4de2-a9cc-3c55d625e868",
   "metadata": {},
   "outputs": [],
   "source": [
    "x_data_all=[x_data, x_data_stand]\n",
    "K=5\n",
    "model_g, model_m = get_models(opt_params_svm[4000][1388])\n",
    "alpha=0.05\n",
    "classical=True\n",
    "errors=True"
   ]
  },
  {
   "cell_type": "code",
   "execution_count": 51,
   "id": "c09257ee-4518-48e8-a86f-b4b27fdca1f4",
   "metadata": {},
   "outputs": [],
   "source": [
    "if True:\n",
    "    if isinstance(x_data_all, list):\n",
    "        x_data_orig, x_data = x_data_all[0], x_data_all[1]\n",
    "    else:\n",
    "        x_data_orig, x_data = x_data_all, x_data_all\n",
    "\n",
    "    # Partition the data for cross-fitting\n",
    "    skf = StratifiedKFold(n_splits=K, shuffle=False)\n",
    "\n",
    "    # Compute respective ML estimators and thereupon auxiliary estimators\n",
    "    theta_0_check_list = []\n",
    "    scores_list = []\n",
    "    if classical:\n",
    "        reg_check_list, ipw_check_list = [], []\n",
    "    if errors:\n",
    "        rmse_list = []\n",
    "    \n",
    "    for (train_indices, eval_indices) in skf.split(X=x_data, y=d_data):\n",
    "        y_train, d_train, x_train = y_data[train_indices], d_data[train_indices], x_data[train_indices]\n",
    "        y_eval, d_eval, x_eval, x_eval_orig = y_data[eval_indices], d_data[eval_indices], x_data[eval_indices], x_data_orig[eval_indices]\n",
    "\n",
    "        # Estimate outcome regression functions g_0(d)\n",
    "        g_0_hat = []\n",
    "        for d in [0, 1]:\n",
    "            model_g[d].fit(X=x_train[d_train==d], y=y_train[d_train==d])\n",
    "            g_0_hat.append(model_g[d].predict(x_eval))\n",
    "\n",
    "        # Estimate propensity score m_0\n",
    "        model_m.fit(X=x_train, y=d_train)\n",
    "        m_0_hat = model_m.predict_proba(x_eval)[:,1]\n",
    "            \n",
    "        # Compute auxiliary estimator\n",
    "        scores = g_0_hat[1] - g_0_hat[0] + d_eval*(y_eval-g_0_hat[1])/m_0_hat - (1-d_eval)*(y_eval-g_0_hat[0])/(1-m_0_hat)\n",
    "        theta_0_check_list.append(np.mean(scores))\n",
    "\n",
    "        # For variance estimation\n",
    "        scores_list.append(scores)\n",
    "\n",
    "        # For regression & IPW estimators\n",
    "        if classical:\n",
    "            reg_check_list.append(np.mean(g_0_hat[1] - g_0_hat[0])) \n",
    "            ipw_check_list.append(np.mean(d_eval*y_eval/m_0_hat - (1-d_eval)*y_eval/(1-m_0_hat)))\n",
    "\n",
    "        # Assess RMSE of ML models on evaluation set\n",
    "        if errors:\n",
    "            rmse_g0 = root_mean_squared_error(g_0(0, x_eval_orig), g_0_hat[0])\n",
    "            rmse_g1 = root_mean_squared_error(g_0(1, x_eval_orig), g_0_hat[1])\n",
    "            rmse_m = root_mean_squared_error(m_0(x_eval_orig), m_0_hat)\n",
    "            rmse_list.append([rmse_g0, rmse_g1, rmse_m])\n",
    "\n",
    "    # Compute final estimator\n",
    "    theta_0_hat = np.mean(theta_0_check_list)\n",
    "    if classical:\n",
    "        reg_hat, ipw_hat = np.mean(reg_check_list), np.mean(ipw_check_list)\n",
    "\n",
    "    # Inference: estimate standard deviation and construct confidence interval\n",
    "    sigma_hat = np.sqrt(np.mean((np.array(scores_list)-theta_0_hat)**2))\n",
    "    N = len(y_data)\n",
    "    quantile = norm.ppf(1-alpha/2)\n",
    "    CI = np.array([theta_0_hat-quantile*sigma_hat/np.sqrt(N), theta_0_hat+quantile*sigma_hat/np.sqrt(N)])\n",
    "\n",
    "    # Average RMSEs across folds\n",
    "    if errors:\n",
    "        rmse = np.mean(rmse_list, axis=0)"
   ]
  },
  {
   "cell_type": "code",
   "execution_count": 55,
   "id": "bbbed492-0493-4f8b-9591-cc9bb432c189",
   "metadata": {},
   "outputs": [
    {
     "data": {
      "text/plain": [
       "-28882.0305850478"
      ]
     },
     "execution_count": 55,
     "metadata": {},
     "output_type": "execute_result"
    }
   ],
   "source": [
    "np.mean(d_eval*y_eval/m_0_hat - (1-d_eval)*y_eval/(1-m_0_hat))"
   ]
  },
  {
   "cell_type": "code",
   "execution_count": 57,
   "id": "22ccb40d-c31d-494b-9ba5-a16058cd30a9",
   "metadata": {},
   "outputs": [],
   "source": [
    "hi = d_eval*y_eval/m_0_hat - (1-d_eval)*y_eval/(1-m_0_hat)"
   ]
  },
  {
   "cell_type": "code",
   "execution_count": 65,
   "id": "e450f586-1bab-4472-88f9-a443686a8fc0",
   "metadata": {},
   "outputs": [
    {
     "data": {
      "text/plain": [
       "0.0"
      ]
     },
     "execution_count": 65,
     "metadata": {},
     "output_type": "execute_result"
    }
   ],
   "source": [
    "d_eval[498]"
   ]
  },
  {
   "cell_type": "code",
   "execution_count": 68,
   "id": "12a0b1b3-d9fb-436f-a9a6-bebb7efec7df",
   "metadata": {},
   "outputs": [
    {
     "data": {
      "text/plain": [
       "array([0.99954653])"
      ]
     },
     "execution_count": 68,
     "metadata": {},
     "output_type": "execute_result"
    }
   ],
   "source": [
    "m_0(x_eval[498])"
   ]
  },
  {
   "cell_type": "code",
   "execution_count": 64,
   "id": "972924a2-ef2c-4855-bf98-35f1edbb3c1f",
   "metadata": {},
   "outputs": [
    {
     "data": {
      "text/plain": [
       "0.9999987293794964"
      ]
     },
     "execution_count": 64,
     "metadata": {},
     "output_type": "execute_result"
    }
   ],
   "source": [
    "m_0_hat[498]"
   ]
  },
  {
   "cell_type": "code",
   "execution_count": 70,
   "id": "8bec06a9-f001-4859-b89c-654b81343af6",
   "metadata": {},
   "outputs": [],
   "source": [
    "mean = np.linspace(0.7, 0.0, 8)\n",
    "cov = np.array([[round(0.6**abs(i-j)*((-1.01)**(i+j)), 3) for j in range(8)] for i in range(8)])\n",
    "beta = np.linspace(-0.8, 1.0, 10)\n",
    "df = 10\n",
    "gamma = np.array([1.0, 2.0, 2.0, 3.0])\n",
    "F = lambda z: 1.0 / (1.0 + np.exp(-z))   # standard logistic function\n",
    "\n",
    "# Propensity score\n",
    "def m_0(x):\n",
    "    if x.ndim == 1:\n",
    "        x = x.reshape(1,-1)\n",
    "    return t.cdf(x @ beta + 0.25*x[:,7]**2 - x[:,8]*x[:,9], df)\n",
    "\n",
    "# Outcome regression function\n",
    "def g_0(d, x):\n",
    "    if x.ndim == 1:\n",
    "        x = x.reshape(1,-1)\n",
    "    linear_part = x[:,:4] @ gamma + x[:,4]*(d+1)\n",
    "    nonlinear_part = F(x[:,5])*x[:,6]**2 - x[:,8]*(np.sqrt(x[:,9])+2*x[:,6]) + d*x[:,2]*x[:,8]**(3/2)\n",
    "    return linear_part + nonlinear_part"
   ]
  },
  {
   "cell_type": "code",
   "execution_count": 71,
   "id": "663a1bf1-d65d-4b0b-a1cb-a0001d4930bc",
   "metadata": {},
   "outputs": [],
   "source": [
    "x_normal = rng.multivariate_normal(mean=mean, cov=cov, size=N)\n",
    "x_uniform = rng.uniform(size=(N,2))\n",
    "x_data = np.concatenate((x_normal, x_uniform), axis=1)\n",
    "\n",
    "xi = rng.standard_t(df=df, size=N)\n",
    "d_data = (x_data @ beta + 0.25*x_data[:,7]**2 - x_data[:,8]*x_data[:,9] + xi >= 0).astype(float)\n",
    "        \n",
    "u = rng.normal(scale=np.mean(np.abs(x_data), axis=-1))\n",
    "y_data = g_0(d_data, x_data) + u"
   ]
  },
  {
   "cell_type": "code",
   "execution_count": 83,
   "id": "aa9938d5-9917-46e1-9496-ec63676bd893",
   "metadata": {},
   "outputs": [
    {
     "data": {
      "text/plain": [
       "-7.010832816932092"
      ]
     },
     "execution_count": 83,
     "metadata": {},
     "output_type": "execute_result"
    }
   ],
   "source": [
    "np.random.logistic(size=1000).min()"
   ]
  },
  {
   "cell_type": "code",
   "execution_count": 80,
   "id": "b5f74d21-b3fd-46fd-bfd4-9e36d458c255",
   "metadata": {},
   "outputs": [
    {
     "data": {
      "text/plain": [
       "array([0.99845833])"
      ]
     },
     "execution_count": 80,
     "metadata": {},
     "output_type": "execute_result"
    }
   ],
   "source": [
    "from scipy.stats import t\n",
    "x = x_data[eval_indices][498]\n",
    "if x.ndim == 1:\n",
    "    x = x.reshape(1,-1)\n",
    "x @ beta + 0.25*x[:,7]**2 - x[:,8]*x[:,9]\n",
    "t.cdf(x @ beta + 0.25*x[:,7]**2 - x[:,8]*x[:,9], df)"
   ]
  },
  {
   "cell_type": "code",
   "execution_count": 81,
   "id": "d66d8a4f-9ec2-4a2d-adea-34b947279f07",
   "metadata": {},
   "outputs": [
    {
     "data": {
      "text/plain": [
       "-6.279944554525133"
      ]
     },
     "execution_count": 81,
     "metadata": {},
     "output_type": "execute_result"
    }
   ],
   "source": [
    "xi.min()"
   ]
  },
  {
   "cell_type": "code",
   "execution_count": 69,
   "id": "ed614595-2776-4382-a1be-eb505f4e5756",
   "metadata": {},
   "outputs": [],
   "source": [
    "rng = np.random.default_rng(seed=123)\n",
    "for j in range(1388):\n",
    "    y_data, d_data, x_data = get_data(4000, rng)\n",
    "    if j == 1388:\n",
    "        scaler = StandardScaler()\n",
    "        x_data_stand = scaler.fit_transform(x_data)\n",
    "        print(mm_ate(y_data, d_data, x_data))\n",
    "        model_g, model_m = get_models(opt_params_svm[4000][j])\n",
    "        print(dml_ate(y_data, d_data, [x_data, x_data_stand], model_g, model_m))"
   ]
  },
  {
   "cell_type": "code",
   "execution_count": 35,
   "id": "42c9d74b-fe8a-4134-bb6e-b9897aead7e8",
   "metadata": {},
   "outputs": [],
   "source": [
    "y_data, d_data, x_data = get_data(4000, rng)\n",
    "x_data_stand = scaler.fit_transform(x_data)"
   ]
  },
  {
   "cell_type": "code",
   "execution_count": 45,
   "id": "538b429c-d6a0-47dc-8b96-d17043aff69f",
   "metadata": {},
   "outputs": [],
   "source": [
    "import numpy as np\n",
    "from joblib import Parallel, delayed\n",
    "from sklearn.model_selection import StratifiedKFold\n",
    "from sklearn.metrics import root_mean_squared_error\n",
    "from sklearn.base import is_regressor\n",
    "from scipy.stats import norm\n",
    "from data_generation import g_0, m_0"
   ]
  },
  {
   "cell_type": "code",
   "execution_count": 36,
   "id": "01923566-705b-4e07-8b73-448268938a98",
   "metadata": {},
   "outputs": [
    {
     "data": {
      "text/plain": [
       "0.9999851166539763"
      ]
     },
     "execution_count": 36,
     "metadata": {},
     "output_type": "execute_result"
    }
   ],
   "source": [
    "m_0(x_data_stand).max()"
   ]
  }
 ],
 "metadata": {
  "kernelspec": {
   "display_name": "Python 3 (ipykernel)",
   "language": "python",
   "name": "python3"
  },
  "language_info": {
   "codemirror_mode": {
    "name": "ipython",
    "version": 3
   },
   "file_extension": ".py",
   "mimetype": "text/x-python",
   "name": "python",
   "nbconvert_exporter": "python",
   "pygments_lexer": "ipython3",
   "version": "3.11.5"
  }
 },
 "nbformat": 4,
 "nbformat_minor": 5
}
