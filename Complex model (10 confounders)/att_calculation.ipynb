{
 "cells": [
  {
   "cell_type": "code",
   "execution_count": 1,
   "id": "96aa03ba-6411-40a3-b515-8fd26f0fb5a8",
   "metadata": {},
   "outputs": [],
   "source": [
    "import numpy as np\n",
    "import pickle\n",
    "from data_generation import get_data, g_0"
   ]
  },
  {
   "cell_type": "code",
   "execution_count": 2,
   "id": "06d60caf-4bd0-4e1a-ace7-731ff8f09dcb",
   "metadata": {},
   "outputs": [
    {
     "name": "stdout",
     "output_type": "stream",
     "text": [
      "CPU times: total: 15min 49s\n",
      "Wall time: 14min 44s\n"
     ]
    },
    {
     "data": {
      "text/plain": [
       "0.3775536681221555"
      ]
     },
     "execution_count": 2,
     "metadata": {},
     "output_type": "execute_result"
    }
   ],
   "source": [
    "%%time\n",
    "N = 10**6\n",
    "rng = np.random.default_rng(seed=123)\n",
    "list_1, list_2 = [], []\n",
    "\n",
    "for l in range(1000):\n",
    "    y, d, x = get_data(N, rng)\n",
    "    list_1.append(np.sum(g_0(1, x[d==1]) - g_0(0, x[d==1])))\n",
    "    list_2.append(np.sum(d))\n",
    "\n",
    "att = np.sum(list_1) / np.sum(list_2)\n",
    "att   # true ATT"
   ]
  }
 ],
 "metadata": {
  "kernelspec": {
   "display_name": "Python 3 (ipykernel)",
   "language": "python",
   "name": "python3"
  },
  "language_info": {
   "codemirror_mode": {
    "name": "ipython",
    "version": 3
   },
   "file_extension": ".py",
   "mimetype": "text/x-python",
   "name": "python",
   "nbconvert_exporter": "python",
   "pygments_lexer": "ipython3",
   "version": "3.11.5"
  }
 },
 "nbformat": 4,
 "nbformat_minor": 5
}
