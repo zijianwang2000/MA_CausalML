{
 "cells": [
  {
   "cell_type": "code",
   "execution_count": 1,
   "id": "9d8b9520-76fe-4a6a-8d04-820193c1e154",
   "metadata": {},
   "outputs": [],
   "source": [
    "import numpy as np\n",
    "import pickle\n",
    "from sklearn.linear_model import ElasticNetCV, LogisticRegressionCV\n",
    "from sklearn.preprocessing import PolynomialFeatures, StandardScaler, MaxAbsScaler\n",
    "from sklearn.model_selection import train_test_split, StratifiedKFold\n",
    "from scipy.stats import norm\n",
    "from data_generation import m_0, g_0, get_data\n",
    "from dml_algorithm import mm_ate, dml_ate"
   ]
  },
  {
   "cell_type": "code",
   "execution_count": 2,
   "id": "2873daf8-5eb6-4bdd-9c03-1f456da24fba",
   "metadata": {},
   "outputs": [],
   "source": [
    "rng = np.random.default_rng(seed=57)"
   ]
  },
  {
   "cell_type": "code",
   "execution_count": 20,
   "id": "f033f58a-d97a-42a4-bb13-8c09a11dea00",
   "metadata": {},
   "outputs": [
    {
     "data": {
      "text/plain": [
       "(1000, 65)"
      ]
     },
     "execution_count": 20,
     "metadata": {},
     "output_type": "execute_result"
    }
   ],
   "source": [
    "N = 1000\n",
    "y_data, d_data, x_data = get_data(N, rng)\n",
    "poly_features = PolynomialFeatures(degree=2, include_bias=False)\n",
    "x_quad_data = poly_features.fit_transform(x_data)\n",
    "scaler = StandardScaler()\n",
    "x_quad_norm_data = scaler.fit_transform(x_quad_data)\n",
    "y_train, y_test, d_train, d_test, x_train, x_test, x_quad_train, x_quad_test, x_quad_norm_train, x_quad_norm_test = train_test_split(y_data, d_data, x_data, x_quad_data, x_quad_norm_data, test_size=0.2, random_state=42)\n",
    "x_quad_norm_data.shape"
   ]
  },
  {
   "cell_type": "code",
   "execution_count": 16,
   "id": "8a58025f-c03f-4179-9c0e-1283242f5ffe",
   "metadata": {},
   "outputs": [
    {
     "data": {
      "text/plain": [
       "(array([0.50433979, 0.08947964, 0.04338407, 0.02440354, 0.        ,\n",
       "        0.00542301, 0.0027115 , 0.        , 0.0027115 , 0.00542301]),\n",
       " array([6.66507250e-06, 1.47520258e+00, 2.95039849e+00, 4.42559441e+00,\n",
       "        5.90079032e+00, 7.37598624e+00, 8.85118215e+00, 1.03263781e+01,\n",
       "        1.18015740e+01, 1.32767699e+01, 1.47519658e+01]),\n",
       " <BarContainer object of 10 artists>)"
      ]
     },
     "execution_count": 16,
     "metadata": {},
     "output_type": "execute_result"
    },
    {
     "data": {
      "image/png": "[encoded data removed]",
      "text/plain": [
       "<Figure size 640x480 with 1 Axes>"
      ]
     },
     "metadata": {},
     "output_type": "display_data"
    }
   ],
   "source": [
    "c=44\n",
    "plt.hist(x_quad_norm_data[:,c], alpha=0.3, density=True, color='orange')\n",
    "plt.hist(x_quad_data[:,c], alpha=0.3, density=True, color='blue')"
   ]
  },
  {
   "cell_type": "code",
   "execution_count": 5,
   "id": "2a2703cf-ea6e-46de-909c-814fabee6e62",
   "metadata": {},
   "outputs": [],
   "source": [
    "import matplotlib.pyplot as plt"
   ]
  },
  {
   "cell_type": "code",
   "execution_count": 41,
   "id": "7fc446cc-6dc4-484b-b20c-c5ea5170f5b1",
   "metadata": {},
   "outputs": [
    {
     "data": {
      "text/plain": [
       "(array([ 996., 1008., 1038., 1025.,  984.,  992.,  934., 1032.,  989.,\n",
       "        1002.]),\n",
       " array([-1.72394424, -1.37801215, -1.03208006, -0.68614796, -0.34021587,\n",
       "         0.00571622,  0.35164831,  0.6975804 ,  1.04351249,  1.38944458,\n",
       "         1.73537668]),\n",
       " <BarContainer object of 10 artists>)"
      ]
     },
     "execution_count": 41,
     "metadata": {},
     "output_type": "execute_result"
    },
    {
     "data": {
      "image/png": "[encoded data removed]",
      "text/plain": [
       "<Figure size 640x480 with 1 Axes>"
      ]
     },
     "metadata": {},
     "output_type": "display_data"
    }
   ],
   "source": [
    "hi = np.random.uniform(size=10000).reshape(-1, 1)\n",
    "hi = scaler.fit_transform(hi)\n",
    "plt.hist(hi)"
   ]
  },
  {
   "cell_type": "code",
   "execution_count": 7,
   "id": "24575e62-de15-49d3-9cef-887f5e177eef",
   "metadata": {},
   "outputs": [],
   "source": [
    "l1_ratio = [0.1, 0.5, 0.7, 0.9, 0.95, 0.99, 1]\n",
    "#alphas = [0.01, 0.1, 1, 10]\n",
    "model_g0, model_g1 = ElasticNetCV(l1_ratio=l1_ratio, n_alphas=50, max_iter=10000, n_jobs=-1), ElasticNetCV(l1_ratio=l1_ratio, n_alphas=50, max_iter=10000, n_jobs=-1)\n",
    "model_m = LogisticRegressionCV(Cs=10, \n",
    "                               l1_ratios=[0, 0.1, 0.2, 0.4, 0.6, 0.8, 0.9, 1], \n",
    "                               penalty='elasticnet',\n",
    "                               solver='saga',\n",
    "                               max_iter=1000,\n",
    "                               random_state=42,\n",
    "                               scoring='neg_brier_score',\n",
    "                               n_jobs=-1\n",
    "                              )\n",
    "model_m_quad = LogisticRegressionCV(Cs=5, \n",
    "                               l1_ratios=[1], \n",
    "                               penalty='elasticnet',\n",
    "                               solver='saga',\n",
    "                               max_iter=10000,\n",
    "                               random_state=42,\n",
    "                               scoring='neg_brier_score',\n",
    "                               n_jobs=-1\n",
    "                              )"
   ]
  },
  {
   "cell_type": "code",
   "execution_count": 21,
   "id": "94b3c714-dd31-47c8-9411-0771a1e51e4c",
   "metadata": {},
   "outputs": [
    {
     "name": "stdout",
     "output_type": "stream",
     "text": [
      "1.0 1\n",
      "[0.05084957 0.10260508 0.03517436 0.81343231 0.13241551 0.252025\n",
      " 0.74323231 0.38403591 0.9923609  0.29694553 0.24158396 0.71922351\n",
      " 0.63115145 0.38079454 0.02632214 0.23736442 0.36172675 0.60705095\n",
      " 0.01169828 0.06464592]\n",
      "1.0 1\n",
      "[0.05647298 0.10251929 0.03965126 0.8371295  0.13297792 0.2471399\n",
      " 0.74784344 0.41606975 0.99511313 0.28180038 0.15699713 0.7334446\n",
      " 0.68606163 0.40538523 0.01898632 0.26047041 0.36500778 0.62946085\n",
      " 0.01436068 0.0747097 ]\n",
      "[0.19094121 0.05562018 0.17772441 0.84106411 0.14211471 0.27611265\n",
      " 0.87589488 0.39017919 0.995138   0.27166083 0.15173436 0.6846341\n",
      " 0.50743254 0.43833049 0.02719837 0.25025573 0.27843499 0.56488132\n",
      " 0.03720034 0.08065253]\n",
      "CPU times: total: 1min 3s\n",
      "Wall time: 20.5 s\n"
     ]
    }
   ],
   "source": [
    "%%time\n",
    "#model_m.fit(x_train, d_train)\n",
    "#print(model_m.C_, model_m.l1_ratio_)\n",
    "#print(model_m.predict_proba(x_test)[:20,1])\n",
    "model_m_quad.fit(x_quad_train, d_train)\n",
    "print(model_m_quad.C_[0], model_m_quad.l1_ratio_[0])\n",
    "print(model_m_quad.predict_proba(x_quad_test)[:20,1])\n",
    "model_m_quad.fit(x_quad_norm_train, d_train)\n",
    "print(model_m_quad.C_[0], model_m_quad.l1_ratio_[0])\n",
    "print(model_m_quad.predict_proba(x_quad_norm_test)[:20,1])\n",
    "print(m_0(x_test[:20]))"
   ]
  },
  {
   "cell_type": "code",
   "execution_count": 6,
   "id": "cc75ded8-aa9a-4420-8488-77982926aaeb",
   "metadata": {},
   "outputs": [
    {
     "data": {
      "text/plain": [
       "array([-0.04492515])"
      ]
     },
     "execution_count": 6,
     "metadata": {},
     "output_type": "execute_result"
    }
   ],
   "source": [
    "model_m_quad.intercept_"
   ]
  },
  {
   "cell_type": "code",
   "execution_count": 20,
   "id": "148a22d3-691c-429e-b6c3-59f30b8ae2e2",
   "metadata": {
    "collapsed": true,
    "jupyter": {
     "outputs_hidden": true
    }
   },
   "outputs": [
    {
     "name": "stdout",
     "output_type": "stream",
     "text": [
      "0.002023169961802633 1.0\n",
      "[ 9.11913773  1.86267306  3.38823435  3.92009905  3.71135644  8.01888979\n",
      "  6.47477631  3.35071711 -2.48495728  3.26023665  4.01562794  2.40326794\n",
      "  5.08584477  7.09953179  0.24808764 10.10317209  4.97710924  6.61279589\n",
      "  4.84095057  8.4415757 ]\n",
      "[ 9.67089239  2.52296456  2.95237173  3.3036634   3.46981129  7.25168064\n",
      "  5.95556265  4.4787683  -2.17647036  2.9592268   3.37120465  2.49881907\n",
      "  6.21870476  6.53252436 -0.14063823  9.19354424  4.95250245  6.55058744\n",
      "  4.15508761  7.76348105]\n",
      "CPU times: total: 391 ms\n",
      "Wall time: 397 ms\n"
     ]
    }
   ],
   "source": [
    "\"\"\"\n",
    "%%time\n",
    "model_g0.fit(x_train[d_train==0], y_train[d_train==0])\n",
    "print(model_g0.alpha_, model_g0.l1_ratio_)\n",
    "print(model_g0.predict(x_test[:20]))\n",
    "print(g_0(0, x_test[:20]))\n",
    "\"\"\""
   ]
  },
  {
   "cell_type": "code",
   "execution_count": 22,
   "id": "83e54c2f-7e33-42fe-87c4-8aa60e8e9642",
   "metadata": {},
   "outputs": [
    {
     "name": "stdout",
     "output_type": "stream",
     "text": [
      "0.011779313039867682 1.0\n",
      "[ 3.47665551  6.29318741  3.56972469  3.6112195  10.6233733   5.35372476\n",
      "  3.00987209  4.57567698  2.82164391  7.42159576  9.53434301  2.9593491\n",
      "  4.07140498  5.21927574 12.53541727  0.33290212  1.34669563  5.09332469\n",
      "  7.09237089  6.72058213]\n",
      "0.01718052691302336 1.0\n",
      "[ 3.26986945  6.20808013  3.65731404  3.62399645 10.33460097  5.49698057\n",
      "  2.77969468  4.61255943  2.85420606  7.68405321  9.2357822   3.04524166\n",
      "  4.0413235   5.27682768 12.12907725  0.34417476  1.38196497  5.22292717\n",
      "  7.11395566  6.68175934]\n",
      "[2.87050247e+00 6.04771112e+00 3.50838461e+00 3.48298499e+00\n",
      " 1.11742814e+01 5.37675153e+00 2.10206141e+00 4.32373641e+00\n",
      " 2.51530392e+00 7.96785436e+00 9.04121830e+00 2.68711064e+00\n",
      " 3.42109102e+00 5.00569728e+00 1.19191216e+01 1.18416561e-02\n",
      " 1.42574611e+00 5.35639294e+00 6.96143118e+00 6.51819962e+00]\n",
      "CPU times: total: 2.42 s\n",
      "Wall time: 1.26 s\n"
     ]
    }
   ],
   "source": [
    "%%time\n",
    "model_g0.fit(x_quad_train[d_train==0], y_train[d_train==0])\n",
    "print(model_g0.alpha_, model_g0.l1_ratio_)\n",
    "print(model_g0.predict(x_quad_test[:20]))\n",
    "model_g0.fit(x_quad_norm_train[d_train==0], y_train[d_train==0])\n",
    "print(model_g0.alpha_, model_g0.l1_ratio_)\n",
    "print(model_g0.predict(x_quad_norm_test[:20]))\n",
    "print(g_0(0, x_test[:20]))"
   ]
  },
  {
   "cell_type": "code",
   "execution_count": 8,
   "id": "2ce19d85-958c-4691-8263-ade45fc6604c",
   "metadata": {},
   "outputs": [
    {
     "data": {
      "text/plain": [
       "array([ 0.44642041,  1.41112897,  1.88154013,  2.67229138,  0.78923947,\n",
       "        0.09819284, -0.10155162, -0.        , -0.0356418 , -0.        ,\n",
       "        0.2235204 ,  0.41034453,  0.05326671,  0.0147464 ,  0.13809821,\n",
       "       -0.        , -0.17796699,  0.05022517, -0.07640268,  0.09657925,\n",
       "        0.17851411,  0.        ,  0.        ,  0.        ,  0.04231927,\n",
       "        0.        , -0.07673944,  0.        , -0.        , -0.10123373,\n",
       "        0.        ,  0.37617951,  0.        , -0.23014066,  0.        ,\n",
       "       -0.        ,  0.        , -0.02929725,  0.08134201, -0.        ,\n",
       "       -0.        ,  0.        ,  0.32960906, -0.        ,  0.02195003,\n",
       "        0.17823327, -0.00498887, -0.        , -0.21123816,  0.11021318,\n",
       "        0.13456728,  0.        , -0.        ,  0.        ,  0.        ,\n",
       "        0.3644809 , -0.        , -1.49671314, -0.        ,  0.12438415,\n",
       "        0.14548096, -0.        , -0.        , -0.87326478, -0.        ])"
      ]
     },
     "execution_count": 8,
     "metadata": {},
     "output_type": "execute_result"
    }
   ],
   "source": [
    "model_g0.coef_"
   ]
  },
  {
   "cell_type": "code",
   "execution_count": 22,
   "id": "770a8b8d-f9c2-4abb-8cd7-e69007ac4136",
   "metadata": {
    "collapsed": true,
    "jupyter": {
     "outputs_hidden": true
    }
   },
   "outputs": [
    {
     "name": "stdout",
     "output_type": "stream",
     "text": [
      "0.0016604646032669184 0.95\n",
      "[ 8.53598317  4.02933957  5.30445082  5.87899583  3.18154968  9.43416427\n",
      "  5.66363481  5.57276874 -1.60926805  2.97616642  3.14048025  4.77194485\n",
      "  5.46062975  7.30029159  1.50686742  9.49802442  6.33179126  6.76632479\n",
      "  3.56087634  7.92841459]\n",
      "[ 8.44765297  4.82355923  4.62288453  5.72266669  2.47828193  8.59848846\n",
      "  4.87169894  7.07646335 -1.75255434  2.34590245  2.36804108  5.45466763\n",
      "  6.86649874  6.80355745  1.014024    8.8125616   6.12793833  6.2625267\n",
      "  2.89036964  6.58935663]\n",
      "CPU times: total: 250 ms\n",
      "Wall time: 198 ms\n"
     ]
    }
   ],
   "source": [
    "\"\"\"\n",
    "%%time\n",
    "model_g1.fit(x_train[d_train==1], y_train[d_train==1])\n",
    "print(model_g1.alpha_, model_g1.l1_ratio_)\n",
    "print(model_g1.predict(x_test[:20]))\n",
    "print(g_0(1, x_test[:20]))\n",
    "\"\"\""
   ]
  },
  {
   "cell_type": "code",
   "execution_count": 19,
   "id": "6556f91d-2585-44c1-aec8-d098c7dd49b1",
   "metadata": {},
   "outputs": [
    {
     "name": "stdout",
     "output_type": "stream",
     "text": [
      "0.004345599182166798 1.0\n",
      "[1.95079584 5.58147395 2.97474435 0.84281802 4.28659415 2.75940815\n",
      " 5.63444456 6.23062068 9.85456786 5.5282271  2.54035897 6.26332402\n",
      " 7.10082874 5.33435966 2.57879044 5.41830249 8.85923586 4.73546462\n",
      " 6.48697261 8.01757435]\n",
      "0.004345599182166798 1.0\n",
      "[1.95079584 5.58147395 2.97474435 0.84281802 4.28659415 2.75940815\n",
      " 5.63444456 6.23062068 9.85456786 5.5282271  2.54035897 6.26332402\n",
      " 7.10082874 5.33435966 2.57879044 5.41830249 8.85923586 4.73546462\n",
      " 6.48697261 8.01757435]\n",
      "[7.19417313 4.97860043 2.08824457 0.20158346 5.71089704 2.20078685\n",
      " 3.11779261 5.51287535 8.31304354 5.77109731 1.93485943 6.77717785\n",
      " 5.07458207 5.28121456 3.76765962 5.52879989 8.31068995 4.55261125\n",
      " 7.69581306 9.2279881 ]\n",
      "CPU times: total: 7.44 s\n",
      "Wall time: 2.41 s\n"
     ]
    }
   ],
   "source": [
    "%%time\n",
    "model_g1.fit(x_quad_train[d_train==1], y_train[d_train==1])\n",
    "print(model_g1.alpha_, model_g1.l1_ratio_)\n",
    "print(model_g1.predict(x_quad_test[:20]))\n",
    "model_g1.fit(x_quad_norm_train[d_train==1], y_train[d_train==1])\n",
    "print(model_g1.alpha_, model_g1.l1_ratio_)\n",
    "print(model_g1.predict(x_quad_norm_test[:20]))\n",
    "print(g_0(1, x_test[:20]))"
   ]
  },
  {
   "cell_type": "code",
   "execution_count": 10,
   "id": "1c64fa19-bba3-42ea-b6d6-0d9f43098785",
   "metadata": {},
   "outputs": [
    {
     "data": {
      "text/plain": [
       "array([ 0.69195362,  0.89149201,  1.59609141,  2.46455314,  1.29095874,\n",
       "       -0.        , -0.7615018 , -0.22761059, -0.        , -0.        ,\n",
       "       -0.08802115,  0.11455706,  0.        ,  0.        ,  0.        ,\n",
       "       -0.        , -0.04012475, -0.04255939,  0.        ,  0.        ,\n",
       "        0.29196648,  0.19716197,  0.1207351 ,  0.44826184,  0.12097799,\n",
       "       -0.        ,  0.        , -0.1743234 ,  0.        ,  0.        ,\n",
       "        0.        ,  0.19326609, -0.10678429, -0.        , -0.        ,\n",
       "        0.57669953,  0.        ,  0.01363198,  0.02142319,  0.        ,\n",
       "       -0.        ,  0.23438096, -0.        ,  0.        ,  0.        ,\n",
       "       -0.        , -0.        ,  0.13933789,  0.        ,  0.        ,\n",
       "        0.09810267, -0.20628876,  0.        , -0.        , -0.        ,\n",
       "        0.58634947, -0.        , -0.22454259,  0.        , -0.        ,\n",
       "       -0.        , -0.        , -0.        , -0.        , -0.        ])"
      ]
     },
     "execution_count": 10,
     "metadata": {},
     "output_type": "execute_result"
    }
   ],
   "source": [
    "model_g1.coef_"
   ]
  },
  {
   "cell_type": "code",
   "execution_count": 11,
   "id": "d3eaaa8a-d795-4cc7-bca3-0e6b698b9e72",
   "metadata": {},
   "outputs": [
    {
     "name": "stdout",
     "output_type": "stream",
     "text": [
      "CPU times: total: 2min 2s\n",
      "Wall time: 43.3 s\n"
     ]
    },
    {
     "data": {
      "text/plain": [
       "(array([-1.74947511,  0.2421966 ,  7.43272594]),\n",
       " 24.961624140095907,\n",
       " array([-4.84369324,  1.34474302]))"
      ]
     },
     "execution_count": 11,
     "metadata": {},
     "output_type": "execute_result"
    }
   ],
   "source": [
    "%%time\n",
    "model_g = [model_g0, model_g1]\n",
    "dml_ate(y_data, d_data, x_quad_data, model_g, model_m_quad)"
   ]
  }
 ],
 "metadata": {
  "kernelspec": {
   "display_name": "Python 3 (ipykernel)",
   "language": "python",
   "name": "python3"
  },
  "language_info": {
   "codemirror_mode": {
    "name": "ipython",
    "version": 3
   },
   "file_extension": ".py",
   "mimetype": "text/x-python",
   "name": "python",
   "nbconvert_exporter": "python",
   "pygments_lexer": "ipython3",
   "version": "3.11.5"
  }
 },
 "nbformat": 4,
 "nbformat_minor": 5
}
