{
 "cells": [
  {
   "cell_type": "code",
   "execution_count": 1,
   "id": "275faf42-a822-4dd0-94c5-809c45517218",
   "metadata": {},
   "outputs": [],
   "source": [
    "import numpy as np\n",
    "from scipy.stats import t"
   ]
  },
  {
   "cell_type": "code",
   "execution_count": 165,
   "id": "9d51e2e1-7aab-4e7a-9674-42db5185a14c",
   "metadata": {},
   "outputs": [],
   "source": [
    "mean = np.linspace(0.7, 0, 8)\n",
    "cov = np.array([[round(0.6**abs(i-j)*((-1.01)**(i+j)), 3) for j in range(8)] for i in range(8)])\n",
    "beta = np.linspace(-0.8, 1.0, 10)\n",
    "df = 10"
   ]
  },
  {
   "cell_type": "code",
   "execution_count": 166,
   "id": "2dbbe3ef-91a2-4aae-9686-de1a28c90d86",
   "metadata": {},
   "outputs": [],
   "source": [
    "F = lambda z: 1.0 / (1.0 + np.exp(-z))   # standard logistic function"
   ]
  },
  {
   "cell_type": "code",
   "execution_count": 167,
   "id": "4c7e9ad9-1ca7-4385-9ac0-8273559d3cf1",
   "metadata": {},
   "outputs": [],
   "source": [
    "# Propensity score\n",
    "m_0 = lambda x: t.cdf(x @ beta, df)"
   ]
  },
  {
   "cell_type": "code",
   "execution_count": 255,
   "id": "05684e52-323d-40be-a3c7-9297b96f5ec5",
   "metadata": {},
   "outputs": [
    {
     "data": {
      "text/plain": [
       "array([0.72380733, 0.79558171, 1.00426477, 0.54673853, 0.75593629])"
      ]
     },
     "execution_count": 255,
     "metadata": {},
     "output_type": "execute_result"
    }
   ],
   "source": [
    "N=5\n",
    "x_normal = np.random.multivariate_normal(mean=mean, cov=cov, size=N)\n",
    "x_uniform = np.random.uniform(size=(N,2))\n",
    "x_data = np.concatenate((x_normal, x_uniform), axis=1)\n",
    "np.mean(np.abs(x_data), axis=-1)"
   ]
  },
  {
   "cell_type": "code",
   "execution_count": null,
   "id": "2e2b7c82-2ad2-49c1-ae86-e54da3ac28ff",
   "metadata": {},
   "outputs": [],
   "source": [
    "gamma = "
   ]
  },
  {
   "cell_type": "code",
   "execution_count": null,
   "id": "5225dd95-95af-4eaf-abed-20304c13d723",
   "metadata": {},
   "outputs": [],
   "source": [
    "# Outcome regression function\n",
    "def g_0(d, x):\n",
    "    if x.ndim == 1:\n",
    "        x = x.reshape(1,-1)\n",
    "    return d*x[:,0] + F(x[:,1]) - 2*x[:,2]**2"
   ]
  },
  {
   "cell_type": "code",
   "execution_count": null,
   "id": "00eea6d2-bc21-4de9-bee8-a854d5726047",
   "metadata": {},
   "outputs": [],
   "source": [
    "# Generate a data set of size N in vectorized fashion\n",
    "def get_data(N):\n",
    "    x_normal = np.random.multivariate_normal(mean=mean, cov=cov, size=N)\n",
    "    x_uniform = np.random.uniform(size=(N,2))\n",
    "    x_data = np.concatenate((x_normal, x_uniform), axis=1)\n",
    "\n",
    "    xi = np.random.standard_t(df=df, size=N)\n",
    "    d_data = (x_data @ beta + xi >= 0).astype(float)\n",
    "        \n",
    "    u = np.random.normal(scale=np.mean(np.abs(x_data), axis=-1))\n",
    "    y_data = g_0(d_data, x_data) + u \n",
    "\n",
    "    return y_data, d_data, x_data"
   ]
  },
  {
   "cell_type": "code",
   "execution_count": null,
   "id": "751e7281-caa4-4e73-837c-a2d857e314cc",
   "metadata": {},
   "outputs": [],
   "source": []
  },
  {
   "cell_type": "code",
   "execution_count": 213,
   "id": "9b07247a-11df-4261-b173-dcd396f8610d",
   "metadata": {},
   "outputs": [
    {
     "data": {
      "text/plain": [
       "array([[ 1.   , -0.606,  0.367, -0.223,  0.135, -0.082,  0.05 , -0.03 ],\n",
       "       [-0.606,  1.02 , -0.618,  0.375, -0.227,  0.138, -0.083,  0.051],\n",
       "       [ 0.367, -0.618,  1.041, -0.631,  0.382, -0.232,  0.14 , -0.085],\n",
       "       [-0.223,  0.375, -0.631,  1.062, -0.643,  0.39 , -0.236,  0.143],\n",
       "       [ 0.135, -0.227,  0.382, -0.643,  1.083, -0.656,  0.398, -0.241],\n",
       "       [-0.082,  0.138, -0.232,  0.39 , -0.656,  1.105, -0.669,  0.406],\n",
       "       [ 0.05 , -0.083,  0.14 , -0.236,  0.398, -0.669,  1.127, -0.683],\n",
       "       [-0.03 ,  0.051, -0.085,  0.143, -0.241,  0.406, -0.683,  1.149]])"
      ]
     },
     "execution_count": 213,
     "metadata": {},
     "output_type": "execute_result"
    }
   ],
   "source": [
    "cov"
   ]
  },
  {
   "cell_type": "code",
   "execution_count": 79,
   "id": "ed0b13cb-53ba-4ad8-9cf1-a410d9ecc7a7",
   "metadata": {},
   "outputs": [
    {
     "name": "stdout",
     "output_type": "stream",
     "text": [
      "Matrix is symmetric positive definite\n"
     ]
    }
   ],
   "source": [
    "def is_symmetric_positive_definite(matrix):\n",
    "    # Check if matrix is square\n",
    "    if matrix.shape[0] != matrix.shape[1]:\n",
    "        return False\n",
    "    \n",
    "    # Check if matrix is symmetric\n",
    "    if not np.allclose(matrix, matrix.T):\n",
    "        return False\n",
    "    \n",
    "    # Check if all eigenvalues are positive\n",
    "    eigenvalues, _ = np.linalg.eig(matrix)\n",
    "    if np.all(eigenvalues > 0):\n",
    "        return True\n",
    "    else:\n",
    "        return False\n",
    "\n",
    "\n",
    "if is_symmetric_positive_definite(cov):\n",
    "    print(\"Matrix is symmetric positive definite\")\n",
    "else:\n",
    "    print(\"Matrix is not symmetric positive definite\")"
   ]
  },
  {
   "cell_type": "code",
   "execution_count": null,
   "id": "6f29f196-859f-41f8-b34b-c85b31eb700f",
   "metadata": {},
   "outputs": [],
   "source": []
  },
  {
   "cell_type": "code",
   "execution_count": null,
   "id": "fe05851c-243e-4ff9-ac76-e3081756aea1",
   "metadata": {},
   "outputs": [],
   "source": []
  },
  {
   "cell_type": "code",
   "execution_count": null,
   "id": "edf17e9e-605a-49e4-a997-2cbe0386f1f9",
   "metadata": {},
   "outputs": [],
   "source": []
  }
 ],
 "metadata": {
  "kernelspec": {
   "display_name": "Python 3 (ipykernel)",
   "language": "python",
   "name": "python3"
  },
  "language_info": {
   "codemirror_mode": {
    "name": "ipython",
    "version": 3
   },
   "file_extension": ".py",
   "mimetype": "text/x-python",
   "name": "python",
   "nbconvert_exporter": "python",
   "pygments_lexer": "ipython3",
   "version": "3.11.5"
  }
 },
 "nbformat": 4,
 "nbformat_minor": 5
}
