{
 "cells": [
  {
   "cell_type": "code",
   "execution_count": 1,
   "id": "aa1f24c2-ec9b-49cd-b164-8622013995f2",
   "metadata": {},
   "outputs": [],
   "source": [
    "import pickle"
   ]
  },
  {
   "cell_type": "code",
   "execution_count": 7,
   "id": "47fb1728-3945-484b-9fcc-43924e612ba1",
   "metadata": {},
   "outputs": [],
   "source": [
    "with open('opt_params_xgboost.pkl', 'rb') as pickle_file:\n",
    "    xgb_params_dict_dict = pickle.load(pickle_file)"
   ]
  },
  {
   "cell_type": "code",
   "execution_count": 8,
   "id": "c9e62aa6-4ab7-4a74-abf4-0d1c88d53f2b",
   "metadata": {},
   "outputs": [
    {
     "name": "stdout",
     "output_type": "stream",
     "text": [
      "250 g0 {'learning_rate': 0.1, 'max_depth': 2, 'n_estimators': 50, 'reg_lambda': 10, 'subsample': 0.6}\n",
      "250 g1 {'learning_rate': 0.1, 'max_depth': 2, 'n_estimators': 50, 'reg_lambda': 0.1, 'subsample': 0.8}\n",
      "250 m {'learning_rate': 0.06, 'max_depth': 2, 'n_estimators': 50, 'reg_lambda': 1, 'subsample': 0.8}\n",
      "500 g0 {'learning_rate': 0.06, 'max_depth': 2, 'n_estimators': 50, 'reg_lambda': 0.01, 'subsample': 0.8}\n",
      "500 g1 {'learning_rate': 0.03, 'max_depth': 2, 'n_estimators': 200, 'reg_lambda': 1, 'subsample': 0.6}\n",
      "500 m {'learning_rate': 0.03, 'max_depth': 2, 'n_estimators': 150, 'reg_lambda': 0.01, 'subsample': 0.6}\n",
      "1000 g0 {'learning_rate': 0.1, 'max_depth': 2, 'n_estimators': 75, 'reg_lambda': 100, 'subsample': 0.6}\n",
      "1000 g1 {'learning_rate': 0.1, 'max_depth': 2, 'n_estimators': 100, 'reg_lambda': 10, 'subsample': 0.6}\n",
      "1000 m {'learning_rate': 0.06, 'max_depth': 2, 'n_estimators': 75, 'reg_lambda': 1, 'subsample': 0.6}\n",
      "2000 g0 {'learning_rate': 0.1, 'max_depth': 2, 'n_estimators': 50, 'reg_lambda': 0.01, 'subsample': 0.6}\n",
      "2000 g1 {'learning_rate': 0.1, 'max_depth': 2, 'n_estimators': 75, 'reg_lambda': 1, 'subsample': 0.6}\n",
      "2000 m {'learning_rate': 0.06, 'max_depth': 2, 'n_estimators': 150, 'reg_lambda': 0.01, 'subsample': 0.8}\n",
      "4000 g0 {'learning_rate': 0.06, 'max_depth': 2, 'n_estimators': 100, 'reg_lambda': 100, 'subsample': 0.6}\n",
      "4000 g1 {'learning_rate': 0.06, 'max_depth': 2, 'n_estimators': 200, 'reg_lambda': 10, 'subsample': 0.8}\n",
      "4000 m {'learning_rate': 0.1, 'max_depth': 2, 'n_estimators': 75, 'reg_lambda': 1, 'subsample': 0.6}\n",
      "8000 g0 {'learning_rate': 0.03, 'max_depth': 2, 'n_estimators': 150, 'reg_lambda': 10, 'subsample': 0.6}\n",
      "8000 g1 {'learning_rate': 0.06, 'max_depth': 2, 'n_estimators': 200, 'reg_lambda': 10, 'subsample': 0.6}\n",
      "8000 m {'learning_rate': 0.06, 'max_depth': 2, 'n_estimators': 150, 'reg_lambda': 0.01, 'subsample': 0.6}\n",
      "16000 g0 {'learning_rate': 0.03, 'max_depth': 2, 'n_estimators': 200, 'reg_lambda': 10, 'subsample': 0.6}\n",
      "16000 g1 {'learning_rate': 0.06, 'max_depth': 2, 'n_estimators': 200, 'reg_lambda': 10, 'subsample': 0.8}\n",
      "16000 m {'learning_rate': 0.06, 'max_depth': 2, 'n_estimators': 200, 'reg_lambda': 0.01, 'subsample': 0.6}\n"
     ]
    }
   ],
   "source": [
    "for N, xgb_params_dict in xgb_params_dict_dict.items():\n",
    "    for model_name, xgb_params in xgb_params_dict.items():\n",
    "        print(N, model_name, xgb_params)"
   ]
  }
 ],
 "metadata": {
  "kernelspec": {
   "display_name": "Python 3 (ipykernel)",
   "language": "python",
   "name": "python3"
  },
  "language_info": {
   "codemirror_mode": {
    "name": "ipython",
    "version": 3
   },
   "file_extension": ".py",
   "mimetype": "text/x-python",
   "name": "python",
   "nbconvert_exporter": "python",
   "pygments_lexer": "ipython3",
   "version": "3.11.5"
  }
 },
 "nbformat": 4,
 "nbformat_minor": 5
}
