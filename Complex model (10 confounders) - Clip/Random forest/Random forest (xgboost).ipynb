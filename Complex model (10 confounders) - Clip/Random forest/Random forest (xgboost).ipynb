{
 "cells": [
  {
   "cell_type": "code",
   "execution_count": 1,
   "id": "9d8b9520-76fe-4a6a-8d04-820193c1e154",
   "metadata": {},
   "outputs": [],
   "source": [
    "import numpy as np\n",
    "import pickle\n",
    "import xgboost as xgb\n",
    "from sklearn.preprocessing import PolynomialFeatures\n",
    "from sklearn.model_selection import train_test_split, StratifiedKFold\n",
    "from sklearn.calibration import CalibratedClassifierCV\n",
    "from scipy.stats import norm\n",
    "from data_generation import m_0, g_0, get_data\n",
    "from dml_algorithm import mm_ate, dml_ate"
   ]
  },
  {
   "cell_type": "code",
   "execution_count": 2,
   "id": "2873daf8-5eb6-4bdd-9c03-1f456da24fba",
   "metadata": {},
   "outputs": [],
   "source": [
    "rng = np.random.default_rng(seed=78)"
   ]
  },
  {
   "cell_type": "code",
   "execution_count": 25,
   "id": "f033f58a-d97a-42a4-bb13-8c09a11dea00",
   "metadata": {},
   "outputs": [],
   "source": [
    "N = 16000\n",
    "y_data, d_data, x_data = get_data(N, rng)\n",
    "poly_features = PolynomialFeatures(degree=2, include_bias=False)\n",
    "x_quad_data = poly_features.fit_transform(x_data)\n",
    "y_train, y_test, d_train, d_test, x_train, x_test, x_quad_train, x_quad_test = train_test_split(y_data, d_data, x_data, x_quad_data, test_size=0.2, random_state=42)"
   ]
  },
  {
   "cell_type": "code",
   "execution_count": 26,
   "id": "8f42da65-d9d7-487e-a11b-fa144758ddb9",
   "metadata": {},
   "outputs": [],
   "source": [
    "model_g0 = xgb.XGBRFRegressor(max_depth=6, subsample=0.8, colsample_bynode=0.7, n_estimators=1000, reg_lambda=1, reg_alpha=0.01, objective='reg:squarederror', seed=0)\n",
    "model_g1 = xgb.XGBRFRegressor(max_depth=6, subsample=0.8, colsample_bynode=0.7, n_estimators=1000, reg_lambda=1, reg_alpha=0.01, objective='reg:squarederror', seed=0)\n",
    "model_m = xgb.XGBRFClassifier(max_depth=6, subsample=0.8, colsample_bynode=0.7, n_estimators=1000, reg_lambda=1, reg_alpha=0.01, objective='binary:logistic', seed=0)\n",
    "model_m_cal = CalibratedClassifierCV(estimator=model_m)"
   ]
  },
  {
   "cell_type": "code",
   "execution_count": 27,
   "id": "94b3c714-dd31-47c8-9411-0771a1e51e4c",
   "metadata": {},
   "outputs": [
    {
     "name": "stdout",
     "output_type": "stream",
     "text": [
      "[0.6566465  0.807134   0.2769158  0.373093   0.8089837  0.4922978\n",
      " 0.40978426 0.32919958 0.7093497  0.36903524 0.32982656 0.63408315\n",
      " 0.22529715 0.17325783 0.2903441  0.3003086  0.23247832 0.48005807\n",
      " 0.63094133 0.7413213 ]\n",
      "[0.73149452 0.9054747  0.11005632 0.43683751 0.97059911 0.26402973\n",
      " 0.54020435 0.34799277 0.79084278 0.49491993 0.25195059 0.6823857\n",
      " 0.08928813 0.07509516 0.11885165 0.27592196 0.04746392 0.46054575\n",
      " 0.7226271  0.73064065]\n",
      "CPU times: total: 16.5 s\n",
      "Wall time: 6.28 s\n"
     ]
    }
   ],
   "source": [
    "%%time\n",
    "model_m.fit(x_train, d_train)\n",
    "print(model_m.predict_proba(x_test)[:20,1])\n",
    "#model_m_cal.fit(x_train, d_train)\n",
    "#print(model_m_cal.predict_proba(x_test)[:20,1])\n",
    "#model_m.fit(x_quad_train, d_train)\n",
    "#print(model_m.predict_proba(x_quad_test)[:20,1])\n",
    "print(m_0(x_test[:20]))"
   ]
  },
  {
   "cell_type": "code",
   "execution_count": 28,
   "id": "148a22d3-691c-429e-b6c3-59f30b8ae2e2",
   "metadata": {},
   "outputs": [
    {
     "name": "stdout",
     "output_type": "stream",
     "text": [
      "[ 6.559175   8.591359   3.3236167  3.3709116 10.527134   8.588054\n",
      "  7.0843935  5.160612   7.4970536  7.830377   3.084512   3.2302258\n",
      "  2.2744155  5.286232   3.505466   1.9165751  8.355016   4.2793565\n",
      "  9.306521   0.8866389]\n",
      "[ 4.3589141   6.43442523  5.87816428  4.59430456 12.03883368  9.18358536\n",
      "  6.5379819   5.5638805   8.50248119  5.0546025   3.49583151  2.33095542\n",
      "  3.77047377  6.4102437   4.50997687  2.67670973 11.62362354  3.74797071\n",
      "  9.53968513 -0.50503129]\n",
      "CPU times: total: 15 s\n",
      "Wall time: 4.9 s\n"
     ]
    }
   ],
   "source": [
    "%%time\n",
    "model_g0.fit(x_train[d_train==0], y_train[d_train==0])\n",
    "print(model_g0.predict(x_test[:20]))\n",
    "#model_g0.fit(x_quad_train[d_train==0], y_train[d_train==0])\n",
    "#print(model_g0.predict(x_quad_test[:20]))\n",
    "print(g_0(0, x_test[:20]))"
   ]
  },
  {
   "cell_type": "code",
   "execution_count": 29,
   "id": "770a8b8d-f9c2-4abb-8cd7-e69007ac4136",
   "metadata": {},
   "outputs": [
    {
     "name": "stdout",
     "output_type": "stream",
     "text": [
      "[ 4.8402057  7.228008   5.49326    4.388094  11.018394   5.48511\n",
      "  4.886592   6.282353   8.044767   4.487993   2.001659   3.8317893\n",
      "  3.2955058  4.632959   2.9888992  3.6181827  5.7510757  2.7553613\n",
      "  6.5679703  3.058676 ]\n",
      "[ 5.43651305  6.59414325 10.34204766  5.88382421 11.98983307  8.18305605\n",
      "  5.9179107   6.36856577  9.95417768  2.01753647  3.35019767  3.42894201\n",
      "  5.64900032  6.20620451  4.35357938  5.39095046 10.61935613  3.65919755\n",
      "  8.38697261  2.35270802]\n",
      "CPU times: total: 14.8 s\n",
      "Wall time: 4.22 s\n"
     ]
    }
   ],
   "source": [
    "%%time\n",
    "model_g1.fit(x_train[d_train==1], y_train[d_train==1])\n",
    "print(model_g1.predict(x_test[:20]))\n",
    "#model_g1.fit(x_quad_train[d_train==1], y_train[d_train==1])\n",
    "#print(model_g1.predict(x_quad_test[:20]))\n",
    "print(g_0(1, x_test[:20]))"
   ]
  },
  {
   "cell_type": "code",
   "execution_count": 59,
   "id": "d3eaaa8a-d795-4cc7-bca3-0e6b698b9e72",
   "metadata": {},
   "outputs": [
    {
     "name": "stdout",
     "output_type": "stream",
     "text": [
      "CPU times: total: 2min 37s\n",
      "Wall time: 43.8 s\n"
     ]
    },
    {
     "data": {
      "text/plain": [
       "(array([-0.27403875, -0.4516584 , -0.59899353]),\n",
       " 4.783035130337566,\n",
       " array([-0.48366066, -0.06441685]))"
      ]
     },
     "execution_count": 59,
     "metadata": {},
     "output_type": "execute_result"
    }
   ],
   "source": [
    "%%time\n",
    "model_g = [model_g0, model_g1]\n",
    "dml_ate(y_data, d_data, x_data, model_g, model_m)"
   ]
  }
 ],
 "metadata": {
  "kernelspec": {
   "display_name": "Python 3 (ipykernel)",
   "language": "python",
   "name": "python3"
  },
  "language_info": {
   "codemirror_mode": {
    "name": "ipython",
    "version": 3
   },
   "file_extension": ".py",
   "mimetype": "text/x-python",
   "name": "python",
   "nbconvert_exporter": "python",
   "pygments_lexer": "ipython3",
   "version": "3.11.5"
  }
 },
 "nbformat": 4,
 "nbformat_minor": 5
}
