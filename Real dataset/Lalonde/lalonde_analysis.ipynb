{
 "cells": [
  {
   "cell_type": "code",
   "execution_count": 1,
   "id": "ba926313-1d4c-49f0-89d3-35758b39ebc0",
   "metadata": {},
   "outputs": [],
   "source": [
    "import numpy as np\n",
    "import pandas as pd\n",
    "import xgboost as xgb\n",
    "import pickle\n",
    "import matplotlib.pyplot as plt\n",
    "\n",
    "from sklearn.preprocessing import PolynomialFeatures, StandardScaler\n",
    "from sklearn.model_selection import GridSearchCV\n",
    "from sklearn.linear_model import ElasticNet, LogisticRegression\n",
    "from sklearn.neural_network import MLPRegressor, MLPClassifier\n",
    "from sklearn.svm import SVR, SVC"
   ]
  },
  {
   "cell_type": "markdown",
   "id": "c287a563-a985-4029-bc9b-40efdb806874",
   "metadata": {},
   "source": [
    "https://www.tandfonline.com/doi/abs/10.1080/01621459.1999.10473858\n",
    "\n",
    "https://www.kaggle.com/datasets/samuelzakouri/lalonde?resource=download\n",
    "\n",
    "https://www.kaggle.com/code/taiyoutsuhara/eda-and-ps-ipw-example-with-lalonde"
   ]
  },
  {
   "cell_type": "markdown",
   "id": "26ad654f-a17a-499a-a954-3eb210b28c37",
   "metadata": {},
   "source": [
    "https://paperswithcode.com/dataset/ihdp"
   ]
  },
  {
   "cell_type": "markdown",
   "id": "57321812-3461-4964-97e6-3a6f76fcd79a",
   "metadata": {},
   "source": [
    "https://arxiv.org/pdf/1606.03976"
   ]
  },
  {
   "cell_type": "markdown",
   "id": "de1dc482-82c3-4350-a112-4d6bb3183ece",
   "metadata": {},
   "source": [
    "# Import Lalonde dataset and first exploration"
   ]
  },
  {
   "cell_type": "code",
   "execution_count": 2,
   "id": "ab06a30f-8950-4849-9b14-15316bde74c2",
   "metadata": {},
   "outputs": [
    {
     "data": {
      "text/html": [
       "<div>\n",
       "<style scoped>\n",
       "    .dataframe tbody tr th:only-of-type {\n",
       "        vertical-align: middle;\n",
       "    }\n",
       "\n",
       "    .dataframe tbody tr th {\n",
       "        vertical-align: top;\n",
       "    }\n",
       "\n",
       "    .dataframe thead th {\n",
       "        text-align: right;\n",
       "    }\n",
       "</style>\n",
       "<table border=\"1\" class=\"dataframe\">\n",
       "  <thead>\n",
       "    <tr style=\"text-align: right;\">\n",
       "      <th></th>\n",
       "      <th>Unnamed: 0</th>\n",
       "      <th>treat</th>\n",
       "      <th>age</th>\n",
       "      <th>educ</th>\n",
       "      <th>black</th>\n",
       "      <th>hispan</th>\n",
       "      <th>married</th>\n",
       "      <th>nodegree</th>\n",
       "      <th>re74</th>\n",
       "      <th>re75</th>\n",
       "      <th>re78</th>\n",
       "    </tr>\n",
       "  </thead>\n",
       "  <tbody>\n",
       "    <tr>\n",
       "      <th>0</th>\n",
       "      <td>1</td>\n",
       "      <td>1</td>\n",
       "      <td>37</td>\n",
       "      <td>11</td>\n",
       "      <td>1</td>\n",
       "      <td>0</td>\n",
       "      <td>1</td>\n",
       "      <td>1</td>\n",
       "      <td>0.0</td>\n",
       "      <td>0.0</td>\n",
       "      <td>9930.0460</td>\n",
       "    </tr>\n",
       "    <tr>\n",
       "      <th>1</th>\n",
       "      <td>2</td>\n",
       "      <td>1</td>\n",
       "      <td>22</td>\n",
       "      <td>9</td>\n",
       "      <td>0</td>\n",
       "      <td>1</td>\n",
       "      <td>0</td>\n",
       "      <td>1</td>\n",
       "      <td>0.0</td>\n",
       "      <td>0.0</td>\n",
       "      <td>3595.8940</td>\n",
       "    </tr>\n",
       "    <tr>\n",
       "      <th>2</th>\n",
       "      <td>3</td>\n",
       "      <td>1</td>\n",
       "      <td>30</td>\n",
       "      <td>12</td>\n",
       "      <td>1</td>\n",
       "      <td>0</td>\n",
       "      <td>0</td>\n",
       "      <td>0</td>\n",
       "      <td>0.0</td>\n",
       "      <td>0.0</td>\n",
       "      <td>24909.4500</td>\n",
       "    </tr>\n",
       "    <tr>\n",
       "      <th>3</th>\n",
       "      <td>4</td>\n",
       "      <td>1</td>\n",
       "      <td>27</td>\n",
       "      <td>11</td>\n",
       "      <td>1</td>\n",
       "      <td>0</td>\n",
       "      <td>0</td>\n",
       "      <td>1</td>\n",
       "      <td>0.0</td>\n",
       "      <td>0.0</td>\n",
       "      <td>7506.1460</td>\n",
       "    </tr>\n",
       "    <tr>\n",
       "      <th>4</th>\n",
       "      <td>5</td>\n",
       "      <td>1</td>\n",
       "      <td>33</td>\n",
       "      <td>8</td>\n",
       "      <td>1</td>\n",
       "      <td>0</td>\n",
       "      <td>0</td>\n",
       "      <td>1</td>\n",
       "      <td>0.0</td>\n",
       "      <td>0.0</td>\n",
       "      <td>289.7899</td>\n",
       "    </tr>\n",
       "  </tbody>\n",
       "</table>\n",
       "</div>"
      ],
      "text/plain": [
       "   Unnamed: 0  treat  age  educ  black  hispan  married  nodegree  re74  re75  \\\n",
       "0           1      1   37    11      1       0        1         1   0.0   0.0   \n",
       "1           2      1   22     9      0       1        0         1   0.0   0.0   \n",
       "2           3      1   30    12      1       0        0         0   0.0   0.0   \n",
       "3           4      1   27    11      1       0        0         1   0.0   0.0   \n",
       "4           5      1   33     8      1       0        0         1   0.0   0.0   \n",
       "\n",
       "         re78  \n",
       "0   9930.0460  \n",
       "1   3595.8940  \n",
       "2  24909.4500  \n",
       "3   7506.1460  \n",
       "4    289.7899  "
      ]
     },
     "execution_count": 2,
     "metadata": {},
     "output_type": "execute_result"
    }
   ],
   "source": [
    "df = pd.read_csv('lalonde.csv')\n",
    "df.head()"
   ]
  },
  {
   "cell_type": "code",
   "execution_count": 3,
   "id": "f23d535f-cfc4-4656-a543-9fc847e8e921",
   "metadata": {},
   "outputs": [
    {
     "data": {
      "text/html": [
       "<div>\n",
       "<style scoped>\n",
       "    .dataframe tbody tr th:only-of-type {\n",
       "        vertical-align: middle;\n",
       "    }\n",
       "\n",
       "    .dataframe tbody tr th {\n",
       "        vertical-align: top;\n",
       "    }\n",
       "\n",
       "    .dataframe thead th {\n",
       "        text-align: right;\n",
       "    }\n",
       "</style>\n",
       "<table border=\"1\" class=\"dataframe\">\n",
       "  <thead>\n",
       "    <tr style=\"text-align: right;\">\n",
       "      <th></th>\n",
       "      <th>Unnamed: 0</th>\n",
       "      <th>treat</th>\n",
       "      <th>age</th>\n",
       "      <th>educ</th>\n",
       "      <th>black</th>\n",
       "      <th>hispan</th>\n",
       "      <th>married</th>\n",
       "      <th>nodegree</th>\n",
       "      <th>re74</th>\n",
       "      <th>re75</th>\n",
       "      <th>re78</th>\n",
       "    </tr>\n",
       "  </thead>\n",
       "  <tbody>\n",
       "    <tr>\n",
       "      <th>0</th>\n",
       "      <td>1</td>\n",
       "      <td>1</td>\n",
       "      <td>37</td>\n",
       "      <td>11</td>\n",
       "      <td>1</td>\n",
       "      <td>0</td>\n",
       "      <td>1</td>\n",
       "      <td>1</td>\n",
       "      <td>0.0</td>\n",
       "      <td>0.0</td>\n",
       "      <td>9930.0460</td>\n",
       "    </tr>\n",
       "    <tr>\n",
       "      <th>1</th>\n",
       "      <td>2</td>\n",
       "      <td>1</td>\n",
       "      <td>22</td>\n",
       "      <td>9</td>\n",
       "      <td>0</td>\n",
       "      <td>1</td>\n",
       "      <td>0</td>\n",
       "      <td>1</td>\n",
       "      <td>0.0</td>\n",
       "      <td>0.0</td>\n",
       "      <td>3595.8940</td>\n",
       "    </tr>\n",
       "    <tr>\n",
       "      <th>2</th>\n",
       "      <td>3</td>\n",
       "      <td>1</td>\n",
       "      <td>30</td>\n",
       "      <td>12</td>\n",
       "      <td>1</td>\n",
       "      <td>0</td>\n",
       "      <td>0</td>\n",
       "      <td>0</td>\n",
       "      <td>0.0</td>\n",
       "      <td>0.0</td>\n",
       "      <td>24909.4500</td>\n",
       "    </tr>\n",
       "    <tr>\n",
       "      <th>3</th>\n",
       "      <td>4</td>\n",
       "      <td>1</td>\n",
       "      <td>27</td>\n",
       "      <td>11</td>\n",
       "      <td>1</td>\n",
       "      <td>0</td>\n",
       "      <td>0</td>\n",
       "      <td>1</td>\n",
       "      <td>0.0</td>\n",
       "      <td>0.0</td>\n",
       "      <td>7506.1460</td>\n",
       "    </tr>\n",
       "    <tr>\n",
       "      <th>4</th>\n",
       "      <td>5</td>\n",
       "      <td>1</td>\n",
       "      <td>33</td>\n",
       "      <td>8</td>\n",
       "      <td>1</td>\n",
       "      <td>0</td>\n",
       "      <td>0</td>\n",
       "      <td>1</td>\n",
       "      <td>0.0</td>\n",
       "      <td>0.0</td>\n",
       "      <td>289.7899</td>\n",
       "    </tr>\n",
       "  </tbody>\n",
       "</table>\n",
       "</div>"
      ],
      "text/plain": [
       "   Unnamed: 0  treat  age  educ  black  hispan  married  nodegree  re74  re75  \\\n",
       "0           1      1   37    11      1       0        1         1   0.0   0.0   \n",
       "1           2      1   22     9      0       1        0         1   0.0   0.0   \n",
       "2           3      1   30    12      1       0        0         0   0.0   0.0   \n",
       "3           4      1   27    11      1       0        0         1   0.0   0.0   \n",
       "4           5      1   33     8      1       0        0         1   0.0   0.0   \n",
       "\n",
       "         re78  \n",
       "0   9930.0460  \n",
       "1   3595.8940  \n",
       "2  24909.4500  \n",
       "3   7506.1460  \n",
       "4    289.7899  "
      ]
     },
     "execution_count": 3,
     "metadata": {},
     "output_type": "execute_result"
    }
   ],
   "source": [
    "#df = df.sample(frac=1, random_state=42).reset_index(drop=True)\n",
    "df.head()"
   ]
  },
  {
   "cell_type": "code",
   "execution_count": 4,
   "id": "ee8cb7f0-507a-4c42-bcdd-46b0051de4b5",
   "metadata": {},
   "outputs": [
    {
     "data": {
      "text/html": [
       "<div>\n",
       "<style scoped>\n",
       "    .dataframe tbody tr th:only-of-type {\n",
       "        vertical-align: middle;\n",
       "    }\n",
       "\n",
       "    .dataframe tbody tr th {\n",
       "        vertical-align: top;\n",
       "    }\n",
       "\n",
       "    .dataframe thead th {\n",
       "        text-align: right;\n",
       "    }\n",
       "</style>\n",
       "<table border=\"1\" class=\"dataframe\">\n",
       "  <thead>\n",
       "    <tr style=\"text-align: right;\">\n",
       "      <th></th>\n",
       "      <th>age</th>\n",
       "      <th>educ</th>\n",
       "      <th>black</th>\n",
       "      <th>hispan</th>\n",
       "      <th>married</th>\n",
       "      <th>nodegree</th>\n",
       "    </tr>\n",
       "  </thead>\n",
       "  <tbody>\n",
       "    <tr>\n",
       "      <th>0</th>\n",
       "      <td>37</td>\n",
       "      <td>11</td>\n",
       "      <td>1</td>\n",
       "      <td>0</td>\n",
       "      <td>1</td>\n",
       "      <td>1</td>\n",
       "    </tr>\n",
       "    <tr>\n",
       "      <th>1</th>\n",
       "      <td>22</td>\n",
       "      <td>9</td>\n",
       "      <td>0</td>\n",
       "      <td>1</td>\n",
       "      <td>0</td>\n",
       "      <td>1</td>\n",
       "    </tr>\n",
       "    <tr>\n",
       "      <th>2</th>\n",
       "      <td>30</td>\n",
       "      <td>12</td>\n",
       "      <td>1</td>\n",
       "      <td>0</td>\n",
       "      <td>0</td>\n",
       "      <td>0</td>\n",
       "    </tr>\n",
       "    <tr>\n",
       "      <th>3</th>\n",
       "      <td>27</td>\n",
       "      <td>11</td>\n",
       "      <td>1</td>\n",
       "      <td>0</td>\n",
       "      <td>0</td>\n",
       "      <td>1</td>\n",
       "    </tr>\n",
       "    <tr>\n",
       "      <th>4</th>\n",
       "      <td>33</td>\n",
       "      <td>8</td>\n",
       "      <td>1</td>\n",
       "      <td>0</td>\n",
       "      <td>0</td>\n",
       "      <td>1</td>\n",
       "    </tr>\n",
       "  </tbody>\n",
       "</table>\n",
       "</div>"
      ],
      "text/plain": [
       "   age  educ  black  hispan  married  nodegree\n",
       "0   37    11      1       0        1         1\n",
       "1   22     9      0       1        0         1\n",
       "2   30    12      1       0        0         0\n",
       "3   27    11      1       0        0         1\n",
       "4   33     8      1       0        0         1"
      ]
     },
     "execution_count": 4,
     "metadata": {},
     "output_type": "execute_result"
    }
   ],
   "source": [
    "y_data = df['re78']\n",
    "d_data = df['treat']\n",
    "x_data = df.iloc[:, 2:8]\n",
    "x_data.head()"
   ]
  },
  {
   "cell_type": "markdown",
   "id": "4f4c44a6-bb5b-44f2-9250-791c39583985",
   "metadata": {},
   "source": [
    "Difference-in-means estimator is misleading, since we have observational data (non-randomized treatment):"
   ]
  },
  {
   "cell_type": "code",
   "execution_count": 5,
   "id": "15e5a2ad-f9c7-45c8-82dc-270d3e2da2e0",
   "metadata": {},
   "outputs": [
    {
     "data": {
      "text/html": [
       "<div>\n",
       "<style scoped>\n",
       "    .dataframe tbody tr th:only-of-type {\n",
       "        vertical-align: middle;\n",
       "    }\n",
       "\n",
       "    .dataframe tbody tr th {\n",
       "        vertical-align: top;\n",
       "    }\n",
       "\n",
       "    .dataframe thead th {\n",
       "        text-align: right;\n",
       "    }\n",
       "</style>\n",
       "<table border=\"1\" class=\"dataframe\">\n",
       "  <thead>\n",
       "    <tr style=\"text-align: right;\">\n",
       "      <th>treat</th>\n",
       "      <th>0</th>\n",
       "      <th>1</th>\n",
       "    </tr>\n",
       "    <tr>\n",
       "      <th>black</th>\n",
       "      <th></th>\n",
       "      <th></th>\n",
       "    </tr>\n",
       "  </thead>\n",
       "  <tbody>\n",
       "    <tr>\n",
       "      <th>0</th>\n",
       "      <td>342</td>\n",
       "      <td>29</td>\n",
       "    </tr>\n",
       "    <tr>\n",
       "      <th>1</th>\n",
       "      <td>87</td>\n",
       "      <td>156</td>\n",
       "    </tr>\n",
       "  </tbody>\n",
       "</table>\n",
       "</div>"
      ],
      "text/plain": [
       "treat    0    1\n",
       "black          \n",
       "0      342   29\n",
       "1       87  156"
      ]
     },
     "execution_count": 5,
     "metadata": {},
     "output_type": "execute_result"
    }
   ],
   "source": [
    "contingency_table = pd.crosstab(df['black'], df['treat'])\n",
    "contingency_table"
   ]
  },
  {
   "cell_type": "code",
   "execution_count": 6,
   "id": "2d3abdf0-2f38-457e-9b9d-b8ea124ab2eb",
   "metadata": {},
   "outputs": [
    {
     "data": {
      "text/plain": [
       "-635.0262120374209"
      ]
     },
     "execution_count": 6,
     "metadata": {},
     "output_type": "execute_result"
    }
   ],
   "source": [
    "# Difference-in-means estimator\n",
    "np.mean(y_data[d_data==1]) - np.mean(y_data[d_data==0])"
   ]
  },
  {
   "cell_type": "markdown",
   "id": "492ed4d1-187a-4ec1-a5a9-bc5bebdcfebd",
   "metadata": {},
   "source": [
    "# Prepare data for DML estimation"
   ]
  },
  {
   "cell_type": "code",
   "execution_count": 7,
   "id": "b4466e16-0e39-4fbf-a582-390145848a8b",
   "metadata": {},
   "outputs": [],
   "source": [
    "x_data = x_data.values\n",
    "\n",
    "scaler = StandardScaler()\n",
    "x_data_stand = scaler.fit_transform(x_data)\n",
    "\n",
    "poly_features = PolynomialFeatures(degree=2, include_bias=False)\n",
    "x_data_quad = poly_features.fit_transform(x_data)\n",
    "scaler = StandardScaler()\n",
    "x_data_quad_stand = scaler.fit_transform(x_data_quad)"
   ]
  },
  {
   "cell_type": "code",
   "execution_count": 8,
   "id": "d1cbc59d-cf07-4449-92ba-930950367d82",
   "metadata": {},
   "outputs": [
    {
     "data": {
      "text/plain": [
       "<module 'dml_algorithm' from 'C:\\\\Users\\\\henry\\\\MA_CausalML\\\\Real dataset\\\\dml_algorithm.py'>"
      ]
     },
     "execution_count": 8,
     "metadata": {},
     "output_type": "execute_result"
    }
   ],
   "source": [
    "import importlib\n",
    "import dml_algorithm  \n",
    "importlib.reload(dml_algorithm)"
   ]
  },
  {
   "cell_type": "markdown",
   "id": "cc3019b8-0451-4bd5-b2d4-b01491237c61",
   "metadata": {},
   "source": [
    "## Elastic net"
   ]
  },
  {
   "cell_type": "code",
   "execution_count": 9,
   "id": "9e28641d-5b2e-40dc-9ab3-88cc95b15e90",
   "metadata": {},
   "outputs": [
    {
     "data": {
      "text/plain": [
       "{'eln': {'g0': {'alpha': 6.382750873587745, 'l1_ratio': 0.9},\n",
       "  'g1': {'alpha': 181.25818744352998, 'l1_ratio': 0.99},\n",
       "  'm': {'C': 4.641588833612772, 'l1_ratio': 0.9}},\n",
       " 'mlp': {'g0': {'alpha': 0.3,\n",
       "   'batch_size': 2,\n",
       "   'hidden_layer_sizes': (16, 8),\n",
       "   'max_iter': 150},\n",
       "  'g1': {'alpha': 1,\n",
       "   'batch_size': 2,\n",
       "   'hidden_layer_sizes': (24, 16),\n",
       "   'max_iter': 150},\n",
       "  'm': {'alpha': 0.03,\n",
       "   'batch_size': 4,\n",
       "   'hidden_layer_sizes': (16, 8),\n",
       "   'max_iter': 50}},\n",
       " 'svm': {'g0': {'C': 300, 'epsilon': 0.01, 'gamma': 0.01, 'kernel': 'linear'},\n",
       "  'g1': {'C': 300, 'epsilon': 0.01, 'gamma': 1, 'kernel': 'rbf'},\n",
       "  'm': {'C': 300, 'gamma': 0.01, 'kernel': 'rbf'}},\n",
       " 'xgb': {'g0': {'colsample_bytree': 0.625,\n",
       "   'learning_rate': 0.3,\n",
       "   'max_depth': 1,\n",
       "   'n_estimators': 25,\n",
       "   'reg_alpha': 0.01,\n",
       "   'reg_lambda': 100,\n",
       "   'subsample': 0.6},\n",
       "  'g1': {'colsample_bytree': 0.625,\n",
       "   'learning_rate': 0.02,\n",
       "   'max_depth': 1,\n",
       "   'n_estimators': 100,\n",
       "   'reg_alpha': 1,\n",
       "   'reg_lambda': 1,\n",
       "   'subsample': 0.6},\n",
       "  'm': {'colsample_bytree': 1.0,\n",
       "   'learning_rate': 0.3,\n",
       "   'max_depth': 1,\n",
       "   'n_estimators': 100,\n",
       "   'reg_alpha': 0.1,\n",
       "   'reg_lambda': 0.01,\n",
       "   'subsample': 1.0}}}"
      ]
     },
     "execution_count": 9,
     "metadata": {},
     "output_type": "execute_result"
    }
   ],
   "source": [
    "with open('opt_params.pkl', 'rb') as pickle_file:\n",
    "    opt_params = pickle.load(pickle_file)\n",
    "\n",
    "opt_params"
   ]
  },
  {
   "cell_type": "code",
   "execution_count": 10,
   "id": "c884de34-66b0-4696-98ad-6f80b9cabc8a",
   "metadata": {},
   "outputs": [],
   "source": [
    "def get_eln_models(eln_params_dict):\n",
    "    model_g = []\n",
    "    for d in [0, 1]:\n",
    "        model = ElasticNet(max_iter=10000)\n",
    "        model.set_params(**eln_params_dict[f'g{d}'])\n",
    "        model_g.append(model)\n",
    "    model_m = LogisticRegression(penalty='elasticnet', solver='saga', max_iter=50000, random_state=42)\n",
    "    model_m.set_params(**eln_params_dict['m'])\n",
    "    return model_g, model_m"
   ]
  },
  {
   "cell_type": "code",
   "execution_count": 12,
   "id": "f1694628-5a95-41e9-9b85-60a1f3f773a0",
   "metadata": {},
   "outputs": [
    {
     "data": {
      "text/plain": [
       "([-83.42479754212309,\n",
       "  42682.65474769145,\n",
       "  array([-3459.52500797,  3292.67541288])],\n",
       " [2095.053572467804,\n",
       "  29657.299146299207,\n",
       "  array([-250.77084919, 4440.87799413])])"
      ]
     },
     "execution_count": 12,
     "metadata": {},
     "output_type": "execute_result"
    }
   ],
   "source": [
    "eln_model_g, eln_model_m = get_eln_models(opt_params['eln'])\n",
    "dml_algorithm.dml_ate_att(y_data, d_data, x_data_quad_stand, eln_model_g, eln_model_m, m_bounds=(0.01, 0.99))"
   ]
  },
  {
   "cell_type": "markdown",
   "id": "5a504cc8-e2d8-4824-a265-7303e645efa5",
   "metadata": {},
   "source": [
    "## Support vector machine"
   ]
  },
  {
   "cell_type": "code",
   "execution_count": 13,
   "id": "8c4b9ad5-0580-4783-8980-d1d2b0503008",
   "metadata": {},
   "outputs": [],
   "source": [
    "def get_svm_models(svm_params_dict):\n",
    "    model_g = []\n",
    "    for d in [0, 1]:\n",
    "        model = SVR()\n",
    "        model.set_params(**svm_params_dict[f'g{d}'])\n",
    "        model_g.append(model)\n",
    "    model_m = SVC(probability=True, random_state=42)\n",
    "    model_m.set_params(**svm_params_dict['m'])\n",
    "    return model_g, model_m"
   ]
  },
  {
   "cell_type": "code",
   "execution_count": 15,
   "id": "868d362b-f3e5-4aba-8d07-01340884e808",
   "metadata": {},
   "outputs": [
    {
     "data": {
      "text/plain": [
       "([1104.0040593055337,\n",
       "  26635.367869832735,\n",
       "  array([-1002.79252122,  3210.80063983])],\n",
       " [1317.8333917941186,\n",
       "  21744.050327307876,\n",
       "  array([-402.07117645, 3037.73796004])])"
      ]
     },
     "execution_count": 15,
     "metadata": {},
     "output_type": "execute_result"
    }
   ],
   "source": [
    "svm_model_g, svm_model_m = get_svm_models(opt_params['svm'])\n",
    "dml_algorithm.dml_ate_att(y_data, d_data, x_data_stand, svm_model_g, svm_model_m, m_bounds=(0.01, 0.99))"
   ]
  },
  {
   "cell_type": "markdown",
   "id": "ccdab2c0-9405-48d5-960f-28e5950ef741",
   "metadata": {},
   "source": [
    "## Random forest"
   ]
  },
  {
   "cell_type": "code",
   "execution_count": null,
   "id": "a2702ae1-8b0d-46ce-9dd3-809134f366ea",
   "metadata": {},
   "outputs": [],
   "source": []
  },
  {
   "cell_type": "markdown",
   "id": "1a1edf03-ab19-4358-a3ae-737a14e0bc3c",
   "metadata": {},
   "source": [
    "## XGBoost"
   ]
  },
  {
   "cell_type": "code",
   "execution_count": 16,
   "id": "a4d06273-ef23-4bf9-a763-fa85caa118cf",
   "metadata": {},
   "outputs": [],
   "source": [
    "def get_xgb_models(xgb_params_dict):\n",
    "    model_g = []\n",
    "    for d in [0, 1]:\n",
    "        model = xgb.XGBRegressor(objective='reg:squarederror', seed=0)\n",
    "        model.set_params(**xgb_params_dict[f'g{d}'])\n",
    "        model_g.append(model)\n",
    "    model_m = xgb.XGBClassifier(objective='binary:logistic', seed=0)\n",
    "    model_m.set_params(**xgb_params_dict['m'])\n",
    "    return model_g, model_m"
   ]
  },
  {
   "cell_type": "code",
   "execution_count": 17,
   "id": "f2291fb1-ddb3-40b2-b894-5ab0637d1f4b",
   "metadata": {},
   "outputs": [
    {
     "data": {
      "text/plain": [
       "([323.7256148991961,\n",
       "  22119.953497675593,\n",
       "  array([-1425.91203298,  2073.36326278])],\n",
       " [1449.4539078180278,\n",
       "  22230.95313207064,\n",
       "  array([-308.96355686, 3207.87137249])])"
      ]
     },
     "execution_count": 17,
     "metadata": {},
     "output_type": "execute_result"
    }
   ],
   "source": [
    "xgb_model_g, xgb_model_m = get_xgb_models(opt_params['xgb'])\n",
    "dml_algorithm.dml_ate_att(y_data, d_data, x_data, xgb_model_g, xgb_model_m, m_bounds=(0.01, 0.99))"
   ]
  },
  {
   "cell_type": "markdown",
   "id": "65f2c33f-4505-408e-a974-c753ab8d074e",
   "metadata": {},
   "source": [
    "## Multilayer perceptron"
   ]
  },
  {
   "cell_type": "code",
   "execution_count": 18,
   "id": "a00a6c34-b7e6-4729-bf66-3b5d6fb2f720",
   "metadata": {},
   "outputs": [],
   "source": [
    "def get_mlp_models(mlp_params_dict):\n",
    "    model_g = []\n",
    "    for d in [0, 1]:\n",
    "        model = MLPRegressor(random_state=42)\n",
    "        model.set_params(**mlp_params_dict[f'g{d}'])\n",
    "        model_g.append(model)\n",
    "    model_m = MLPClassifier(random_state=42)\n",
    "    model_m.set_params(**mlp_params_dict['m'])\n",
    "    return model_g, model_m"
   ]
  },
  {
   "cell_type": "code",
   "execution_count": 19,
   "id": "7cc189aa-b8e2-49c6-83af-3d3a25412ed3",
   "metadata": {},
   "outputs": [
    {
     "data": {
      "text/plain": [
       "([349.111310856916,\n",
       "  24249.436605917683,\n",
       "  array([-1568.96357253,  2267.18619425])],\n",
       " [1225.7843988711334,\n",
       "  20144.181087585115,\n",
       "  array([-367.5741776 , 2819.14297534])])"
      ]
     },
     "execution_count": 19,
     "metadata": {},
     "output_type": "execute_result"
    }
   ],
   "source": [
    "mlp_model_g, mlp_model_m = get_mlp_models(opt_params['mlp'])\n",
    "dml_algorithm.dml_ate_att(y_data, d_data, x_data_stand, mlp_model_g, mlp_model_m, m_bounds=(0.01, 0.99))"
   ]
  },
  {
   "cell_type": "markdown",
   "id": "27b676f1-c60f-4b57-8d4a-7fc8ccef4e8b",
   "metadata": {},
   "source": [
    "## Hybrid"
   ]
  },
  {
   "cell_type": "code",
   "execution_count": null,
   "id": "f2ae0809-482c-4025-b565-153ca2aa35d4",
   "metadata": {},
   "outputs": [],
   "source": []
  },
  {
   "cell_type": "code",
   "execution_count": null,
   "id": "c9645361-dd15-445b-b645-8b2b2c052be0",
   "metadata": {},
   "outputs": [],
   "source": []
  },
  {
   "cell_type": "code",
   "execution_count": null,
   "id": "4396cf53-2bc0-4c13-b384-2aba39c4f8a5",
   "metadata": {},
   "outputs": [],
   "source": []
  },
  {
   "cell_type": "markdown",
   "id": "f4819bad-8ae2-44f2-9042-cb5a045bda0f",
   "metadata": {},
   "source": []
  }
 ],
 "metadata": {
  "kernelspec": {
   "display_name": "Python 3 (ipykernel)",
   "language": "python",
   "name": "python3"
  },
  "language_info": {
   "codemirror_mode": {
    "name": "ipython",
    "version": 3
   },
   "file_extension": ".py",
   "mimetype": "text/x-python",
   "name": "python",
   "nbconvert_exporter": "python",
   "pygments_lexer": "ipython3",
   "version": "3.11.5"
  }
 },
 "nbformat": 4,
 "nbformat_minor": 5
}
