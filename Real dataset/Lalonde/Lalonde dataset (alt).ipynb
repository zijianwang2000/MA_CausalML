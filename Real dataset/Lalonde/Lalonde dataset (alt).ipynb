{
 "cells": [
  {
   "cell_type": "code",
   "execution_count": 1,
   "id": "ba926313-1d4c-49f0-89d3-35758b39ebc0",
   "metadata": {},
   "outputs": [],
   "source": [
    "import numpy as np\n",
    "import pandas as pd\n",
    "import matplotlib.pyplot as plt"
   ]
  },
  {
   "cell_type": "markdown",
   "id": "c287a563-a985-4029-bc9b-40efdb806874",
   "metadata": {},
   "source": [
    "https://www.tandfonline.com/doi/abs/10.1080/01621459.1999.10473858\n",
    "\n",
    "https://www.kaggle.com/datasets/samuelzakouri/lalonde?resource=download\n",
    "\n",
    "https://www.kaggle.com/code/taiyoutsuhara/eda-and-ps-ipw-example-with-lalonde"
   ]
  },
  {
   "cell_type": "markdown",
   "id": "26ad654f-a17a-499a-a954-3eb210b28c37",
   "metadata": {},
   "source": [
    "https://paperswithcode.com/dataset/ihdp"
   ]
  },
  {
   "cell_type": "markdown",
   "id": "57321812-3461-4964-97e6-3a6f76fcd79a",
   "metadata": {},
   "source": [
    "https://arxiv.org/pdf/1606.03976"
   ]
  },
  {
   "cell_type": "markdown",
   "id": "de1dc482-82c3-4350-a112-4d6bb3183ece",
   "metadata": {},
   "source": [
    "# Import Lalonde dataset and first exploration"
   ]
  },
  {
   "cell_type": "code",
   "execution_count": 2,
   "id": "ab06a30f-8950-4849-9b14-15316bde74c2",
   "metadata": {},
   "outputs": [
    {
     "data": {
      "text/html": [
       "<div>\n",
       "<style scoped>\n",
       "    .dataframe tbody tr th:only-of-type {\n",
       "        vertical-align: middle;\n",
       "    }\n",
       "\n",
       "    .dataframe tbody tr th {\n",
       "        vertical-align: top;\n",
       "    }\n",
       "\n",
       "    .dataframe thead th {\n",
       "        text-align: right;\n",
       "    }\n",
       "</style>\n",
       "<table border=\"1\" class=\"dataframe\">\n",
       "  <thead>\n",
       "    <tr style=\"text-align: right;\">\n",
       "      <th></th>\n",
       "      <th>Unnamed: 0</th>\n",
       "      <th>treat</th>\n",
       "      <th>age</th>\n",
       "      <th>educ</th>\n",
       "      <th>black</th>\n",
       "      <th>hispan</th>\n",
       "      <th>married</th>\n",
       "      <th>nodegree</th>\n",
       "      <th>re74</th>\n",
       "      <th>re75</th>\n",
       "      <th>re78</th>\n",
       "    </tr>\n",
       "  </thead>\n",
       "  <tbody>\n",
       "    <tr>\n",
       "      <th>0</th>\n",
       "      <td>1</td>\n",
       "      <td>1</td>\n",
       "      <td>37</td>\n",
       "      <td>11</td>\n",
       "      <td>1</td>\n",
       "      <td>0</td>\n",
       "      <td>1</td>\n",
       "      <td>1</td>\n",
       "      <td>0.0</td>\n",
       "      <td>0.0</td>\n",
       "      <td>9930.0460</td>\n",
       "    </tr>\n",
       "    <tr>\n",
       "      <th>1</th>\n",
       "      <td>2</td>\n",
       "      <td>1</td>\n",
       "      <td>22</td>\n",
       "      <td>9</td>\n",
       "      <td>0</td>\n",
       "      <td>1</td>\n",
       "      <td>0</td>\n",
       "      <td>1</td>\n",
       "      <td>0.0</td>\n",
       "      <td>0.0</td>\n",
       "      <td>3595.8940</td>\n",
       "    </tr>\n",
       "    <tr>\n",
       "      <th>2</th>\n",
       "      <td>3</td>\n",
       "      <td>1</td>\n",
       "      <td>30</td>\n",
       "      <td>12</td>\n",
       "      <td>1</td>\n",
       "      <td>0</td>\n",
       "      <td>0</td>\n",
       "      <td>0</td>\n",
       "      <td>0.0</td>\n",
       "      <td>0.0</td>\n",
       "      <td>24909.4500</td>\n",
       "    </tr>\n",
       "    <tr>\n",
       "      <th>3</th>\n",
       "      <td>4</td>\n",
       "      <td>1</td>\n",
       "      <td>27</td>\n",
       "      <td>11</td>\n",
       "      <td>1</td>\n",
       "      <td>0</td>\n",
       "      <td>0</td>\n",
       "      <td>1</td>\n",
       "      <td>0.0</td>\n",
       "      <td>0.0</td>\n",
       "      <td>7506.1460</td>\n",
       "    </tr>\n",
       "    <tr>\n",
       "      <th>4</th>\n",
       "      <td>5</td>\n",
       "      <td>1</td>\n",
       "      <td>33</td>\n",
       "      <td>8</td>\n",
       "      <td>1</td>\n",
       "      <td>0</td>\n",
       "      <td>0</td>\n",
       "      <td>1</td>\n",
       "      <td>0.0</td>\n",
       "      <td>0.0</td>\n",
       "      <td>289.7899</td>\n",
       "    </tr>\n",
       "  </tbody>\n",
       "</table>\n",
       "</div>"
      ],
      "text/plain": [
       "   Unnamed: 0  treat  age  educ  black  hispan  married  nodegree  re74  re75  \\\n",
       "0           1      1   37    11      1       0        1         1   0.0   0.0   \n",
       "1           2      1   22     9      0       1        0         1   0.0   0.0   \n",
       "2           3      1   30    12      1       0        0         0   0.0   0.0   \n",
       "3           4      1   27    11      1       0        0         1   0.0   0.0   \n",
       "4           5      1   33     8      1       0        0         1   0.0   0.0   \n",
       "\n",
       "         re78  \n",
       "0   9930.0460  \n",
       "1   3595.8940  \n",
       "2  24909.4500  \n",
       "3   7506.1460  \n",
       "4    289.7899  "
      ]
     },
     "execution_count": 2,
     "metadata": {},
     "output_type": "execute_result"
    }
   ],
   "source": [
    "df = pd.read_csv('lalonde.csv')\n",
    "df.head()"
   ]
  },
  {
   "cell_type": "code",
   "execution_count": 3,
   "id": "ee8cb7f0-507a-4c42-bcdd-46b0051de4b5",
   "metadata": {},
   "outputs": [
    {
     "data": {
      "text/html": [
       "<div>\n",
       "<style scoped>\n",
       "    .dataframe tbody tr th:only-of-type {\n",
       "        vertical-align: middle;\n",
       "    }\n",
       "\n",
       "    .dataframe tbody tr th {\n",
       "        vertical-align: top;\n",
       "    }\n",
       "\n",
       "    .dataframe thead th {\n",
       "        text-align: right;\n",
       "    }\n",
       "</style>\n",
       "<table border=\"1\" class=\"dataframe\">\n",
       "  <thead>\n",
       "    <tr style=\"text-align: right;\">\n",
       "      <th></th>\n",
       "      <th>age</th>\n",
       "      <th>educ</th>\n",
       "      <th>black</th>\n",
       "      <th>hispan</th>\n",
       "      <th>married</th>\n",
       "      <th>nodegree</th>\n",
       "      <th>re74</th>\n",
       "      <th>re75</th>\n",
       "    </tr>\n",
       "  </thead>\n",
       "  <tbody>\n",
       "    <tr>\n",
       "      <th>0</th>\n",
       "      <td>37</td>\n",
       "      <td>11</td>\n",
       "      <td>1</td>\n",
       "      <td>0</td>\n",
       "      <td>1</td>\n",
       "      <td>1</td>\n",
       "      <td>0.0</td>\n",
       "      <td>0.0</td>\n",
       "    </tr>\n",
       "    <tr>\n",
       "      <th>1</th>\n",
       "      <td>22</td>\n",
       "      <td>9</td>\n",
       "      <td>0</td>\n",
       "      <td>1</td>\n",
       "      <td>0</td>\n",
       "      <td>1</td>\n",
       "      <td>0.0</td>\n",
       "      <td>0.0</td>\n",
       "    </tr>\n",
       "    <tr>\n",
       "      <th>2</th>\n",
       "      <td>30</td>\n",
       "      <td>12</td>\n",
       "      <td>1</td>\n",
       "      <td>0</td>\n",
       "      <td>0</td>\n",
       "      <td>0</td>\n",
       "      <td>0.0</td>\n",
       "      <td>0.0</td>\n",
       "    </tr>\n",
       "    <tr>\n",
       "      <th>3</th>\n",
       "      <td>27</td>\n",
       "      <td>11</td>\n",
       "      <td>1</td>\n",
       "      <td>0</td>\n",
       "      <td>0</td>\n",
       "      <td>1</td>\n",
       "      <td>0.0</td>\n",
       "      <td>0.0</td>\n",
       "    </tr>\n",
       "    <tr>\n",
       "      <th>4</th>\n",
       "      <td>33</td>\n",
       "      <td>8</td>\n",
       "      <td>1</td>\n",
       "      <td>0</td>\n",
       "      <td>0</td>\n",
       "      <td>1</td>\n",
       "      <td>0.0</td>\n",
       "      <td>0.0</td>\n",
       "    </tr>\n",
       "  </tbody>\n",
       "</table>\n",
       "</div>"
      ],
      "text/plain": [
       "   age  educ  black  hispan  married  nodegree  re74  re75\n",
       "0   37    11      1       0        1         1   0.0   0.0\n",
       "1   22     9      0       1        0         1   0.0   0.0\n",
       "2   30    12      1       0        0         0   0.0   0.0\n",
       "3   27    11      1       0        0         1   0.0   0.0\n",
       "4   33     8      1       0        0         1   0.0   0.0"
      ]
     },
     "execution_count": 3,
     "metadata": {},
     "output_type": "execute_result"
    }
   ],
   "source": [
    "y_data = df['re78']\n",
    "d_data = df['treat']\n",
    "x_data = df.iloc[:, 2:10]\n",
    "x_data.head()"
   ]
  },
  {
   "cell_type": "markdown",
   "id": "4f4c44a6-bb5b-44f2-9250-791c39583985",
   "metadata": {},
   "source": [
    "Difference-in-means estimator is misleading, since we have observational data (non-randomized treatment):"
   ]
  },
  {
   "cell_type": "code",
   "execution_count": 4,
   "id": "15e5a2ad-f9c7-45c8-82dc-270d3e2da2e0",
   "metadata": {},
   "outputs": [
    {
     "data": {
      "text/html": [
       "<div>\n",
       "<style scoped>\n",
       "    .dataframe tbody tr th:only-of-type {\n",
       "        vertical-align: middle;\n",
       "    }\n",
       "\n",
       "    .dataframe tbody tr th {\n",
       "        vertical-align: top;\n",
       "    }\n",
       "\n",
       "    .dataframe thead th {\n",
       "        text-align: right;\n",
       "    }\n",
       "</style>\n",
       "<table border=\"1\" class=\"dataframe\">\n",
       "  <thead>\n",
       "    <tr style=\"text-align: right;\">\n",
       "      <th>treat</th>\n",
       "      <th>0</th>\n",
       "      <th>1</th>\n",
       "    </tr>\n",
       "    <tr>\n",
       "      <th>black</th>\n",
       "      <th></th>\n",
       "      <th></th>\n",
       "    </tr>\n",
       "  </thead>\n",
       "  <tbody>\n",
       "    <tr>\n",
       "      <th>0</th>\n",
       "      <td>342</td>\n",
       "      <td>29</td>\n",
       "    </tr>\n",
       "    <tr>\n",
       "      <th>1</th>\n",
       "      <td>87</td>\n",
       "      <td>156</td>\n",
       "    </tr>\n",
       "  </tbody>\n",
       "</table>\n",
       "</div>"
      ],
      "text/plain": [
       "treat    0    1\n",
       "black          \n",
       "0      342   29\n",
       "1       87  156"
      ]
     },
     "execution_count": 4,
     "metadata": {},
     "output_type": "execute_result"
    }
   ],
   "source": [
    "contingency_table = pd.crosstab(df['black'], df['treat'])\n",
    "contingency_table"
   ]
  },
  {
   "cell_type": "code",
   "execution_count": 5,
   "id": "2d3abdf0-2f38-457e-9b9d-b8ea124ab2eb",
   "metadata": {},
   "outputs": [
    {
     "data": {
      "text/plain": [
       "-635.0262120374209"
      ]
     },
     "execution_count": 5,
     "metadata": {},
     "output_type": "execute_result"
    }
   ],
   "source": [
    "# Difference-in-means estimator\n",
    "np.mean(y_data[d_data==1]) - np.mean(y_data[d_data==0])"
   ]
  },
  {
   "cell_type": "markdown",
   "id": "492ed4d1-187a-4ec1-a5a9-bc5bebdcfebd",
   "metadata": {},
   "source": [
    "# Prepare data for DML estimation"
   ]
  },
  {
   "cell_type": "code",
   "execution_count": 6,
   "id": "641cf1f6-aae6-481f-b363-92c967da0e88",
   "metadata": {},
   "outputs": [],
   "source": [
    "from sklearn.preprocessing import PolynomialFeatures, StandardScaler"
   ]
  },
  {
   "cell_type": "code",
   "execution_count": 7,
   "id": "b4466e16-0e39-4fbf-a582-390145848a8b",
   "metadata": {},
   "outputs": [],
   "source": [
    "x_data = x_data.values\n",
    "\n",
    "scaler = StandardScaler()\n",
    "x_data_stand = scaler.fit_transform(x_data)\n",
    "\n",
    "poly_features = PolynomialFeatures(degree=2, include_bias=False)\n",
    "x_data_quad = poly_features.fit_transform(x_data)\n",
    "scaler = StandardScaler()\n",
    "x_data_quad_stand = scaler.fit_transform(x_data_quad)"
   ]
  },
  {
   "cell_type": "code",
   "execution_count": null,
   "id": "0bd0265d-2fb1-46ca-bd85-4599defd0adb",
   "metadata": {},
   "outputs": [],
   "source": []
  },
  {
   "cell_type": "code",
   "execution_count": null,
   "id": "fb7c5682-e39e-460f-b917-5b0b2c110800",
   "metadata": {},
   "outputs": [],
   "source": []
  },
  {
   "cell_type": "code",
   "execution_count": null,
   "id": "17ee81f4-2cdf-4fb1-bd17-a72d0565ea2d",
   "metadata": {},
   "outputs": [],
   "source": []
  },
  {
   "cell_type": "code",
   "execution_count": null,
   "id": "ea08747c-8e1e-4e2b-bb72-44461d4102b0",
   "metadata": {},
   "outputs": [],
   "source": []
  },
  {
   "cell_type": "code",
   "execution_count": null,
   "id": "92179a05-e81e-4e77-9360-455d94d80937",
   "metadata": {},
   "outputs": [],
   "source": []
  },
  {
   "cell_type": "code",
   "execution_count": 8,
   "id": "d1cbc59d-cf07-4449-92ba-930950367d82",
   "metadata": {},
   "outputs": [
    {
     "data": {
      "text/plain": [
       "<module 'dml_algorithm' from 'C:\\\\Users\\\\henry\\\\MA_CausalML\\\\Real dataset\\\\dml_algorithm.py'>"
      ]
     },
     "execution_count": 8,
     "metadata": {},
     "output_type": "execute_result"
    }
   ],
   "source": [
    "import importlib\n",
    "import dml_algorithm  \n",
    "importlib.reload(dml_algorithm)"
   ]
  },
  {
   "cell_type": "code",
   "execution_count": 9,
   "id": "51ce1255-154c-49fc-981f-27d3f71b294b",
   "metadata": {},
   "outputs": [],
   "source": [
    "import xgboost as xgb\n",
    "from sklearn.linear_model import ElasticNet, ElasticNetCV, LogisticRegression, LogisticRegressionCV\n",
    "from sklearn.neural_network import MLPRegressor, MLPClassifier\n",
    "from sklearn.svm import SVR, SVC\n",
    "from sklearn.model_selection import GridSearchCV"
   ]
  },
  {
   "cell_type": "markdown",
   "id": "cc3019b8-0451-4bd5-b2d4-b01491237c61",
   "metadata": {},
   "source": [
    "## Elastic net"
   ]
  },
  {
   "cell_type": "code",
   "execution_count": 10,
   "id": "4e937c5b-903d-435c-addf-dfdaef37f82a",
   "metadata": {},
   "outputs": [],
   "source": [
    "def eln_cv(y_data, d_data, x_data):\n",
    "    eln_model_g = ElasticNetCV(l1_ratio=[.1, .5, .7, .9, .95, .99, 1], n_alphas=100, max_iter=10000, n_jobs=-1)\n",
    "    eln_model_m = LogisticRegressionCV(Cs=25, l1_ratios=[0, .1, .3, .5, .7, .9, .95, .99, 1],\n",
    "                                       penalty='elasticnet', solver='saga', max_iter=50000,\n",
    "                                       random_state=42, scoring='neg_brier_score', n_jobs=-1)\n",
    "\n",
    "    eln_params_dict = {}\n",
    "    for d in [0, 1]:\n",
    "        eln_model_g.fit(X=x_data[d_data == d], y=y_data[d_data == d])\n",
    "        eln_params_dict[f'g{d}'] = {'alpha': eln_model_g.alpha_, 'l1_ratio': eln_model_g.l1_ratio_}\n",
    "    eln_model_m.fit(X=x_data, y=d_data)\n",
    "    eln_params_dict['m'] = {'C': eln_model_m.C_[0], 'l1_ratio': eln_model_m.l1_ratio_[0]}\n",
    "\n",
    "    return eln_params_dict"
   ]
  },
  {
   "cell_type": "code",
   "execution_count": 11,
   "id": "4c2f14bd-15d0-4ea8-b387-4bd1f5f439d4",
   "metadata": {},
   "outputs": [
    {
     "name": "stderr",
     "output_type": "stream",
     "text": [
      "C:\\Users\\henry\\MA_CausalML\\dml\\Lib\\site-packages\\sklearn\\linear_model\\_coordinate_descent.py:664: ConvergenceWarning: Objective did not converge. You might want to increase the number of iterations. Duality gap: 1032831.2827548981, tolerance: 930899.6566579218\n",
      "  model = cd_fast.enet_coordinate_descent_gram(\n",
      "C:\\Users\\henry\\MA_CausalML\\dml\\Lib\\site-packages\\sklearn\\linear_model\\_coordinate_descent.py:664: ConvergenceWarning: Objective did not converge. You might want to increase the number of iterations. Duality gap: 2926572.3033237457, tolerance: 930899.6566579218\n",
      "  model = cd_fast.enet_coordinate_descent_gram(\n",
      "C:\\Users\\henry\\MA_CausalML\\dml\\Lib\\site-packages\\sklearn\\linear_model\\_coordinate_descent.py:664: ConvergenceWarning: Objective did not converge. You might want to increase the number of iterations. Duality gap: 28835531.2416811, tolerance: 930899.6566579218\n",
      "  model = cd_fast.enet_coordinate_descent_gram(\n",
      "C:\\Users\\henry\\MA_CausalML\\dml\\Lib\\site-packages\\sklearn\\linear_model\\_coordinate_descent.py:664: ConvergenceWarning: Objective did not converge. You might want to increase the number of iterations. Duality gap: 40140919.83012295, tolerance: 930899.6566579218\n",
      "  model = cd_fast.enet_coordinate_descent_gram(\n",
      "C:\\Users\\henry\\MA_CausalML\\dml\\Lib\\site-packages\\sklearn\\linear_model\\_coordinate_descent.py:664: ConvergenceWarning: Objective did not converge. You might want to increase the number of iterations. Duality gap: 43705363.99043274, tolerance: 930899.6566579218\n",
      "  model = cd_fast.enet_coordinate_descent_gram(\n",
      "C:\\Users\\henry\\MA_CausalML\\dml\\Lib\\site-packages\\sklearn\\linear_model\\_coordinate_descent.py:664: ConvergenceWarning: Objective did not converge. You might want to increase the number of iterations. Duality gap: 44273431.17128754, tolerance: 930899.6566579218\n",
      "  model = cd_fast.enet_coordinate_descent_gram(\n",
      "C:\\Users\\henry\\MA_CausalML\\dml\\Lib\\site-packages\\sklearn\\linear_model\\_coordinate_descent.py:664: ConvergenceWarning: Objective did not converge. You might want to increase the number of iterations. Duality gap: 43843403.73393726, tolerance: 930899.6566579218\n",
      "  model = cd_fast.enet_coordinate_descent_gram(\n",
      "C:\\Users\\henry\\MA_CausalML\\dml\\Lib\\site-packages\\sklearn\\linear_model\\_coordinate_descent.py:664: ConvergenceWarning: Objective did not converge. You might want to increase the number of iterations. Duality gap: 43093307.09371567, tolerance: 930899.6566579218\n",
      "  model = cd_fast.enet_coordinate_descent_gram(\n"
     ]
    },
    {
     "data": {
      "text/plain": [
       "{'g0': {'alpha': 22.70517410136869, 'l1_ratio': 0.95},\n",
       " 'g1': {'alpha': 1673.5157233722396, 'l1_ratio': 0.1},\n",
       " 'm': {'C': 0.021544346900318822, 'l1_ratio': 1}}"
      ]
     },
     "execution_count": 11,
     "metadata": {},
     "output_type": "execute_result"
    }
   ],
   "source": [
    "eln_params_dict = eln_cv(y_data, d_data, x_data_quad_stand)\n",
    "eln_params_dict"
   ]
  },
  {
   "cell_type": "code",
   "execution_count": 12,
   "id": "c884de34-66b0-4696-98ad-6f80b9cabc8a",
   "metadata": {},
   "outputs": [],
   "source": [
    "def get_eln_models(eln_params_dict):\n",
    "    model_g = []\n",
    "    for d in [0, 1]:\n",
    "        model = ElasticNet(max_iter=10000)\n",
    "        model.set_params(**eln_params_dict[f'g{d}'])\n",
    "        model_g.append(model)\n",
    "    model_m = LogisticRegression(penalty='elasticnet', solver='saga', max_iter=50000, random_state=42)\n",
    "    model_m.set_params(**eln_params_dict['m'])\n",
    "    return model_g, model_m"
   ]
  },
  {
   "cell_type": "code",
   "execution_count": 13,
   "id": "f1694628-5a95-41e9-9b85-60a1f3f773a0",
   "metadata": {},
   "outputs": [
    {
     "data": {
      "text/plain": [
       "(217.98461640830845, 15019.355493782421, array([-970.01199586, 1405.98122868]))"
      ]
     },
     "execution_count": 13,
     "metadata": {},
     "output_type": "execute_result"
    }
   ],
   "source": [
    "eln_model_g, eln_model_m = get_eln_models(eln_params_dict)\n",
    "dml_algorithm.dml_parallel_ate(y_data, d_data, x_data_quad_stand, eln_model_g, eln_model_m)"
   ]
  },
  {
   "cell_type": "markdown",
   "id": "5a504cc8-e2d8-4824-a265-7303e645efa5",
   "metadata": {},
   "source": [
    "## Support vector machine"
   ]
  },
  {
   "cell_type": "code",
   "execution_count": 36,
   "id": "af92cf45-9c54-4afc-9a04-abc78da3e907",
   "metadata": {},
   "outputs": [],
   "source": [
    "def svm_cv(y_data, d_data, x_data, cv=5):\n",
    "    svm_model_g = SVR()\n",
    "    svm_model_m = SVC(probability=True, random_state=42)\n",
    "\n",
    "    param_grid_m = {\n",
    "        'kernel': ['rbf'],\n",
    "        'C': [0.1, 0.3, 1, 3, 10, 30, 100],\n",
    "        'gamma': [0.01, 0.03, 0.1, 0.3, 1]\n",
    "    }\n",
    "    param_grid_g = param_grid_m.copy()\n",
    "    param_grid_g['epsilon'] = [0.001, 0.003, 0.01, 0.03, 0.1]  \n",
    "\n",
    "    grid_search_g = GridSearchCV(estimator=svm_model_g, param_grid=param_grid_g, cv=cv, n_jobs=-1,\n",
    "                                 scoring='neg_mean_squared_error')\n",
    "    grid_search_m = GridSearchCV(estimator=svm_model_m, param_grid=param_grid_m, cv=cv, n_jobs=-1,\n",
    "                                 scoring='neg_brier_score')\n",
    "\n",
    "    svm_params_dict = {}\n",
    "    for d in [0, 1]:\n",
    "        grid_search_g.fit(X=x_data[d_data == d], y=y_data[d_data == d])\n",
    "        svm_params_dict[f'g{d}'] = grid_search_g.best_params_\n",
    "    grid_search_m.fit(X=x_data, y=d_data)\n",
    "    svm_params_dict['m'] = grid_search_m.best_params_\n",
    "\n",
    "    return svm_params_dict"
   ]
  },
  {
   "cell_type": "code",
   "execution_count": 37,
   "id": "68dd5da1-ac1e-463b-adb6-6b4f99def91f",
   "metadata": {},
   "outputs": [
    {
     "data": {
      "text/plain": [
       "{'g0': {'C': 100, 'epsilon': 0.1, 'gamma': 0.03, 'kernel': 'rbf'},\n",
       " 'g1': {'C': 100, 'epsilon': 0.1, 'gamma': 1, 'kernel': 'rbf'},\n",
       " 'm': {'C': 0.1, 'gamma': 0.1, 'kernel': 'rbf'}}"
      ]
     },
     "execution_count": 37,
     "metadata": {},
     "output_type": "execute_result"
    }
   ],
   "source": [
    "svm_params_dict = svm_cv(y_data, d_data, x_data_stand)\n",
    "svm_params_dict"
   ]
  },
  {
   "cell_type": "code",
   "execution_count": 38,
   "id": "8c4b9ad5-0580-4783-8980-d1d2b0503008",
   "metadata": {},
   "outputs": [],
   "source": [
    "def get_svm_models(svm_params_dict):\n",
    "    model_g = []\n",
    "    for d in [0, 1]:\n",
    "        model = SVR()\n",
    "        model.set_params(**svm_params_dict[f'g{d}'])\n",
    "        model_g.append(model)\n",
    "    model_m = SVC(probability=True, random_state=42)\n",
    "    model_m.set_params(**svm_params_dict['m'])\n",
    "    return model_g, model_m"
   ]
  },
  {
   "cell_type": "code",
   "execution_count": 39,
   "id": "868d362b-f3e5-4aba-8d07-01340884e808",
   "metadata": {},
   "outputs": [
    {
     "data": {
      "text/plain": [
       "(1496.9218657886418, 28979.39828924096, array([-795.28215106, 3789.12588263]))"
      ]
     },
     "execution_count": 39,
     "metadata": {},
     "output_type": "execute_result"
    }
   ],
   "source": [
    "svm_model_g, svm_model_m = get_svm_models(svm_params_dict)\n",
    "dml_algorithm.dml_parallel_ate(y_data, d_data, x_data_stand, svm_model_g, svm_model_m)"
   ]
  },
  {
   "cell_type": "markdown",
   "id": "ccdab2c0-9405-48d5-960f-28e5950ef741",
   "metadata": {},
   "source": [
    "## Random forest"
   ]
  },
  {
   "cell_type": "code",
   "execution_count": null,
   "id": "a2702ae1-8b0d-46ce-9dd3-809134f366ea",
   "metadata": {},
   "outputs": [],
   "source": []
  },
  {
   "cell_type": "markdown",
   "id": "1a1edf03-ab19-4358-a3ae-737a14e0bc3c",
   "metadata": {},
   "source": [
    "## XGBoost"
   ]
  },
  {
   "cell_type": "code",
   "execution_count": 17,
   "id": "1c092259-6ccd-4997-8dd9-7c9b6af2397c",
   "metadata": {},
   "outputs": [],
   "source": [
    "def xgb_cv(y_data, d_data, x_data, cv=5):\n",
    "    xgb_model_g = xgb.XGBRegressor(objective='reg:squarederror', seed=0)\n",
    "    xgb_model_m = xgb.XGBClassifier(objective='binary:logistic', seed=0)\n",
    "\n",
    "    param_grid = {\n",
    "        'n_estimators': [50, 100],\n",
    "        'max_depth': [1, 2],\n",
    "        'subsample': [0.6, 0.8, 1.0],\n",
    "        'colsample_bytree': [0.7, 1.0],\n",
    "        'learning_rate': [0.05, 0.1, 0.2],\n",
    "        'reg_lambda': [0.1, 1, 10, 100],\n",
    "        'reg_alpha': [0.1, 1, 10]\n",
    "    }\n",
    "\n",
    "    grid_search_g = GridSearchCV(estimator=xgb_model_g, param_grid=param_grid, cv=cv, n_jobs=-1,\n",
    "                                 scoring='neg_mean_squared_error')\n",
    "    grid_search_m = GridSearchCV(estimator=xgb_model_m, param_grid=param_grid, cv=cv, n_jobs=-1,\n",
    "                                 scoring='neg_brier_score')\n",
    "\n",
    "    xgb_params_dict = {}\n",
    "    for d in [0, 1]:\n",
    "        grid_search_g.fit(X=x_data[d_data == d], y=y_data[d_data == d])\n",
    "        xgb_params_dict[f'g{d}'] = grid_search_g.best_params_\n",
    "    grid_search_m.fit(X=x_data, y=d_data)\n",
    "    xgb_params_dict['m'] = grid_search_m.best_params_\n",
    "\n",
    "    return xgb_params_dict"
   ]
  },
  {
   "cell_type": "code",
   "execution_count": 18,
   "id": "4d68d517-e52c-4a0d-bee8-1f8abc10d59d",
   "metadata": {},
   "outputs": [
    {
     "data": {
      "text/plain": [
       "{'g0': {'colsample_bytree': 0.7,\n",
       "  'learning_rate': 0.05,\n",
       "  'max_depth': 2,\n",
       "  'n_estimators': 50,\n",
       "  'reg_alpha': 0.1,\n",
       "  'reg_lambda': 100,\n",
       "  'subsample': 1.0},\n",
       " 'g1': {'colsample_bytree': 1.0,\n",
       "  'learning_rate': 0.05,\n",
       "  'max_depth': 2,\n",
       "  'n_estimators': 100,\n",
       "  'reg_alpha': 10,\n",
       "  'reg_lambda': 100,\n",
       "  'subsample': 0.6},\n",
       " 'm': {'colsample_bytree': 0.7,\n",
       "  'learning_rate': 0.2,\n",
       "  'max_depth': 1,\n",
       "  'n_estimators': 100,\n",
       "  'reg_alpha': 0.1,\n",
       "  'reg_lambda': 0.1,\n",
       "  'subsample': 1.0}}"
      ]
     },
     "execution_count": 18,
     "metadata": {},
     "output_type": "execute_result"
    }
   ],
   "source": [
    "xgb_params_dict = xgb_cv(y_data, d_data, x_data)\n",
    "xgb_params_dict"
   ]
  },
  {
   "cell_type": "code",
   "execution_count": 19,
   "id": "a4d06273-ef23-4bf9-a763-fa85caa118cf",
   "metadata": {},
   "outputs": [],
   "source": [
    "def get_xgb_models(xgb_params_dict):\n",
    "    model_g = []\n",
    "    for d in [0, 1]:\n",
    "        model = xgb.XGBRegressor(objective='reg:squarederror', seed=0)\n",
    "        model.set_params(**xgb_params_dict[f'g{d}'])\n",
    "        model_g.append(model)\n",
    "    model_m = xgb.XGBClassifier(objective='binary:logistic', seed=0)\n",
    "    model_m.set_params(**xgb_params_dict['m'])\n",
    "    return model_g, model_m"
   ]
  },
  {
   "cell_type": "code",
   "execution_count": 20,
   "id": "f2291fb1-ddb3-40b2-b894-5ab0637d1f4b",
   "metadata": {},
   "outputs": [
    {
     "data": {
      "text/plain": [
       "(257.7791161890276,\n",
       " 19291.598808727198,\n",
       " array([-1268.14215517,  1783.70038755]))"
      ]
     },
     "execution_count": 20,
     "metadata": {},
     "output_type": "execute_result"
    }
   ],
   "source": [
    "xgb_model_g, xgb_model_m = get_xgb_models(xgb_params_dict)\n",
    "dml_algorithm.dml_parallel_ate(y_data, d_data, x_data, xgb_model_g, xgb_model_m)"
   ]
  },
  {
   "cell_type": "markdown",
   "id": "65f2c33f-4505-408e-a974-c753ab8d074e",
   "metadata": {},
   "source": [
    "## Multilayer perceptron"
   ]
  },
  {
   "cell_type": "code",
   "execution_count": 23,
   "id": "e181e6e7-6556-4632-9dcc-061e86b48e3c",
   "metadata": {},
   "outputs": [],
   "source": [
    "def mlp_cv(y_data, d_data, x_data, cv=5):\n",
    "    mlp_model_g = MLPRegressor(hidden_layer_sizes=(8,4), tol=0.0005, n_iter_no_change=5, random_state=42)\n",
    "    mlp_model_m = MLPClassifier(hidden_layer_sizes=(8,4), tol=0.0005, n_iter_no_change=5, random_state=42)\n",
    "\n",
    "    param_grid_g = {\n",
    "        'alpha': [0.05, 0.1, 0.25],\n",
    "        'batch_size': [2, 4],\n",
    "        'max_iter': [50, 75, 100]\n",
    "    }\n",
    "    param_grid_m = {\n",
    "        'alpha': [0.05, 0.1, 0.25],\n",
    "        'batch_size': [4, 8, 16],\n",
    "        'max_iter': [25, 50]\n",
    "    }\n",
    "\n",
    "    grid_search_g = GridSearchCV(estimator=mlp_model_g, param_grid=param_grid_g, cv=cv, n_jobs=-1, scoring='neg_mean_squared_error')\n",
    "    grid_search_m = GridSearchCV(estimator=mlp_model_m, param_grid=param_grid_m, cv=cv, n_jobs=-1, scoring='neg_brier_score')\n",
    "\n",
    "    mlp_params_dict = {}\n",
    "    for d in [0, 1]:\n",
    "        grid_search_g.fit(X=x_data[d_data == d], y=y_data[d_data == d])\n",
    "        mlp_params_dict[f'g{d}'] = grid_search_g.best_params_\n",
    "    grid_search_m.fit(X=x_data, y=d_data)\n",
    "    mlp_params_dict['m'] = grid_search_m.best_params_\n",
    "\n",
    "    return mlp_params_dict"
   ]
  },
  {
   "cell_type": "code",
   "execution_count": 24,
   "id": "db189c32-ec5a-4b95-a9c8-4af629636fce",
   "metadata": {},
   "outputs": [
    {
     "name": "stderr",
     "output_type": "stream",
     "text": [
      "C:\\Users\\henry\\MA_CausalML\\dml\\Lib\\site-packages\\sklearn\\neural_network\\_multilayer_perceptron.py:691: ConvergenceWarning: Stochastic Optimizer: Maximum iterations (100) reached and the optimization hasn't converged yet.\n",
      "  warnings.warn(\n",
      "C:\\Users\\henry\\MA_CausalML\\dml\\Lib\\site-packages\\sklearn\\neural_network\\_multilayer_perceptron.py:691: ConvergenceWarning: Stochastic Optimizer: Maximum iterations (100) reached and the optimization hasn't converged yet.\n",
      "  warnings.warn(\n",
      "C:\\Users\\henry\\MA_CausalML\\dml\\Lib\\site-packages\\sklearn\\neural_network\\_multilayer_perceptron.py:691: ConvergenceWarning: Stochastic Optimizer: Maximum iterations (50) reached and the optimization hasn't converged yet.\n",
      "  warnings.warn(\n"
     ]
    },
    {
     "data": {
      "text/plain": [
       "{'g0': {'alpha': 0.25, 'batch_size': 2, 'max_iter': 100},\n",
       " 'g1': {'alpha': 0.1, 'batch_size': 2, 'max_iter': 100},\n",
       " 'm': {'alpha': 0.05, 'batch_size': 8, 'max_iter': 50}}"
      ]
     },
     "execution_count": 24,
     "metadata": {},
     "output_type": "execute_result"
    }
   ],
   "source": [
    "mlp_params_dict = mlp_cv(y_data, d_data, x_data_stand)\n",
    "mlp_params_dict"
   ]
  },
  {
   "cell_type": "code",
   "execution_count": 25,
   "id": "a00a6c34-b7e6-4729-bf66-3b5d6fb2f720",
   "metadata": {},
   "outputs": [],
   "source": [
    "def get_mlp_models(mlp_params_dict):\n",
    "    model_g = []\n",
    "    for d in [0, 1]:\n",
    "        model = MLPRegressor(hidden_layer_sizes=(8,4), tol=0.0005, n_iter_no_change=5, random_state=42)\n",
    "        model.set_params(**mlp_params_dict[f'g{d}'])\n",
    "        model_g.append(model)\n",
    "    model_m = MLPClassifier(hidden_layer_sizes=(8,4), tol=0.0005, n_iter_no_change=5, random_state=42)\n",
    "    model_m.set_params(**mlp_params_dict['m'])\n",
    "    return model_g, model_m"
   ]
  },
  {
   "cell_type": "code",
   "execution_count": 26,
   "id": "7cc189aa-b8e2-49c6-83af-3d3a25412ed3",
   "metadata": {},
   "outputs": [
    {
     "data": {
      "text/plain": [
       "(-93.11604019540655,\n",
       " 24024.352038916786,\n",
       " array([-1993.38724997,  1807.15516958]))"
      ]
     },
     "execution_count": 26,
     "metadata": {},
     "output_type": "execute_result"
    }
   ],
   "source": [
    "mlp_model_g, mlp_model_m = get_mlp_models(mlp_params_dict)\n",
    "dml_algorithm.dml_parallel_ate(y_data, d_data, x_data_stand, mlp_model_g, mlp_model_m)"
   ]
  },
  {
   "cell_type": "markdown",
   "id": "27b676f1-c60f-4b57-8d4a-7fc8ccef4e8b",
   "metadata": {},
   "source": [
    "## Hybrid"
   ]
  },
  {
   "cell_type": "code",
   "execution_count": null,
   "id": "f2ae0809-482c-4025-b565-153ca2aa35d4",
   "metadata": {},
   "outputs": [],
   "source": []
  },
  {
   "cell_type": "code",
   "execution_count": null,
   "id": "c9645361-dd15-445b-b645-8b2b2c052be0",
   "metadata": {},
   "outputs": [],
   "source": []
  },
  {
   "cell_type": "code",
   "execution_count": null,
   "id": "4396cf53-2bc0-4c13-b384-2aba39c4f8a5",
   "metadata": {},
   "outputs": [],
   "source": []
  },
  {
   "cell_type": "markdown",
   "id": "f4819bad-8ae2-44f2-9042-cb5a045bda0f",
   "metadata": {},
   "source": []
  }
 ],
 "metadata": {
  "kernelspec": {
   "display_name": "Python 3 (ipykernel)",
   "language": "python",
   "name": "python3"
  },
  "language_info": {
   "codemirror_mode": {
    "name": "ipython",
    "version": 3
   },
   "file_extension": ".py",
   "mimetype": "text/x-python",
   "name": "python",
   "nbconvert_exporter": "python",
   "pygments_lexer": "ipython3",
   "version": "3.11.5"
  }
 },
 "nbformat": 4,
 "nbformat_minor": 5
}
